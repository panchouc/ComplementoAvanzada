{
 "cells": [
  {
   "cell_type": "markdown",
   "id": "152bde69",
   "metadata": {},
   "source": [
    "## Usando decoradores para mejorar el código"
   ]
  },
  {
   "cell_type": "markdown",
   "id": "492ac051",
   "metadata": {},
   "source": [
    "## Tabla de contenidos\n",
    "***\n",
    "\n",
    "\n",
    "\n",
    "***"
   ]
  },
  {
   "cell_type": "markdown",
   "id": "8cbf533e",
   "metadata": {},
   "source": [
    "## ¿Qué son los decoradores en Python?"
   ]
  },
  {
   "cell_type": "markdown",
   "id": "627023e8",
   "metadata": {},
   "source": [
    "Son un mecanismo para simplificar la manera en la que funciones y métodos son definidos cuando tienen que ser modificados luego de su definición original.\n",
    "\n",
    "Cada vez que tenemos que aplicar una transformación a una función, tenemos que llamarla con la función que la modifica, y luego reasignarle el mismo nombre con el que la función originalmente fue definido.\n",
    "\n",
    "Por ejemplo, si tenemos una función llamada `original` y luego tenemos otra función que cambia su comportamiento sobre esta, llamada `modifier`, tendríamos que escribir algo como lo siguiente:"
   ]
  },
  {
   "cell_type": "code",
   "execution_count": 4,
   "id": "6e086889",
   "metadata": {},
   "outputs": [],
   "source": [
    "def original():\n",
    "    #Cuerpo de la función\n",
    "    pass\n",
    "\n",
    "def modifier(funcion):\n",
    "    return funcion\n",
    "\n",
    "original = modifier(original)"
   ]
  },
  {
   "cell_type": "markdown",
   "id": "40ef44b6",
   "metadata": {},
   "source": [
    "Note como cambiamos la función y luego le reasignamos el mismo nombre. El ejemplo anterior podría ser escrito como"
   ]
  },
  {
   "cell_type": "code",
   "execution_count": 5,
   "id": "2f3d3a02",
   "metadata": {},
   "outputs": [],
   "source": [
    "@modifier\n",
    "def original():\n",
    "    #Cuerpo de la función\n",
    "    pass"
   ]
  },
  {
   "cell_type": "markdown",
   "id": "1489773a",
   "metadata": {},
   "source": [
    "Esto significa que los decoradores son solo una forma de llamar lo que sea que está despues del decorador como un primer parámetro del decorador en si mismo, y el resultado va a ser lo que sea que retorne el decorador.\n",
    "\n",
    "La syntaxis para los decoradores mejora la legibilidad de forma significativa, dado que ahora quien lee el código puede encontrar toda la definición de la función en un solo lugar.\n",
    "\n",
    "En general, intente evitar reasignar valores a función que fue diseñada sin usar el syntax de los decoradores.\n",
    "\n",
    "En cuanto a la terminología en Python, `modifier` es lo que se llama el **decorator** y `original` es la función decorada, llamada de vez en cuando **wraped** *object*"
   ]
  },
  {
   "cell_type": "markdown",
   "id": "115a5a1f",
   "metadata": {},
   "source": [
    "## Decoradores de funciones"
   ]
  },
  {
   "cell_type": "markdown",
   "id": "b72cfcbd",
   "metadata": {},
   "source": [
    "Las funciones son probablemente la representación más simple de Python de un objeto que puede ser decorado. Podemos usar decoradores en funciones para aplicar todo tipo de lógicas en ellos - validar parámetros, chequear pre-condiciones, cambiar completamente su funcionamiento, modificar su huella, dejar en el caché resultados y más.\n",
    "\n",
    "Como ejemplo, se creará un decorador que implementa un mecanismo `retry`, controlando un nivel particular de dominio de excepciones y reintentandolo un cierto número de veces."
   ]
  },
  {
   "cell_type": "code",
   "execution_count": 16,
   "id": "58bf436e",
   "metadata": {},
   "outputs": [],
   "source": [
    "from functools import wraps\n",
    "import logging\n",
    "\n",
    "class ControlledException(Exception):\n",
    "    \"\"\"A generic exception on the program's domain\"\"\"\n",
    "    \n",
    "    \n",
    "def retry(operation):\n",
    "    @wraps(operation)\n",
    "    def wrapped(*args, **kwargs):\n",
    "        last_raised = None\n",
    "        RETRIES_LIMIT = 3\n",
    "        for _ in range(RETRIES_LIMIT):\n",
    "            try:\n",
    "                return operation(*args, **kwargs)\n",
    "            except ControlledException as e:\n",
    "                logger.info(\"retrying %s\", operation.__qualname__)\n",
    "                last_raised = e\n",
    "            \n",
    "            raise last_raised\n",
    "        \n",
    "        return wrapped"
   ]
  },
  {
   "cell_type": "markdown",
   "id": "d7dc45f4",
   "metadata": {},
   "source": [
    "El uso de _ en el `for loop` significa que el número es asignado a una variable que no nos interesa de momento, porque no es usada dentro del loop."
   ]
  },
  {
   "cell_type": "code",
   "execution_count": null,
   "id": "c33740d7",
   "metadata": {},
   "outputs": [],
   "source": [
    "@retry\n",
    "def run_operation(task):\n",
    "    \"\"\"Run a particular task, simulating some failures on its execution\"\"\"\n",
    "    \n",
    "    return task.run()"
   ]
  },
  {
   "cell_type": "markdown",
   "id": "8d55f9ae",
   "metadata": {},
   "source": [
    "## Decoradores para classes"
   ]
  },
  {
   "cell_type": "markdown",
   "id": "8d5dbcc7",
   "metadata": {},
   "source": [
    "Los decoradores de classes tienen consideraciones similares a los decoradores de funciones que ya se vieron. La única diferencia es que cuando se escribe código para este tipo de deceorador, hay que tener en consideración que se está recibiendo una clase como parámetro para el método *wrapped*, no otra función.\n",
    "\n",
    "Algunos beneficios de decoradores que se utilizan en classes:\n",
    "- Todos los beneficios de reusar código y el principio DRY. Un caso válido de un decorador podría ser el forzar que múltiples classes conformen una cierta interface o criterio.\n",
    "- Podríamos crear classes más pequeñas o simples que luego pueden ser mejoradas por los decoradores.\n",
    "- La lógica de transformación que necesitamos aplicar a una classe específica va a ser mucho más fácil de mantener si usamos un decorador, lo opuesto a lo más complicados acercamientos como meta-classes."
   ]
  },
  {
   "cell_type": "markdown",
   "id": "64a7cc30",
   "metadata": {},
   "source": [
    "Recordando nuestro sistema de eventos para monitorear la plataforma, ahora necesitamos transformar los datos para cada evento y enviarlos a un sistema externo. Sin embargo, cada tipo de evento puede tener sus propias particularidades cuando se selecciona como enviar su información. En particular, el evento para un login puede contener información sensible como credenciales que queremos esconder. Otros campos como *timestamp* pueden requerir algunas transformaciones si es que queremos mostrar cierta información en un formato en específico. Un primer intento podría ser una classe que mapea cada evento particular y conoce como serializarlo."
   ]
  },
  {
   "cell_type": "code",
   "execution_count": 11,
   "id": "9494b1c2",
   "metadata": {},
   "outputs": [],
   "source": [
    "from dataclasses import dataclass\n",
    "from datetime import datetime\n",
    "\n",
    "class LoginEventSerializer:\n",
    "    def __init__(self, event):\n",
    "        self.event = event\n",
    "        \n",
    "    def serialize(self):\n",
    "        return {\n",
    "            \"username\": self.event.username,\n",
    "            \"password\": \"**redacted**\",\n",
    "            \"ip\": self.event.ip,\n",
    "            \"timestamp\" : self.event.timestamp.strftime(\"%Y-%m-%d%H:%M\"),\n",
    "        }\n",
    "    \n",
    "@dataclass\n",
    "class LoginEvent:\n",
    "    SERIALIZER = LoginEventSerializer\n",
    "    \n",
    "    username: str\n",
    "    password: str\n",
    "    ip: str\n",
    "    timestamp: datetime\n",
    "        \n",
    "    def serialize(self):\n",
    "        return self.SERIALIZER(self).serialize()"
   ]
  },
  {
   "cell_type": "markdown",
   "id": "b8a75173",
   "metadata": {},
   "source": [
    "Si bien es una opción, existen algunos \"peros\":\n",
    "- **Muchas classes**: A medida que aumenta el número de eventos, el número de serialización de classes va a crecer en la misma magnitud.\n",
    "- **La solución no es lo suficientemente flexible**: Si queremos reusar partes de los componentes, tendríamos que extraerlo en una función, pero también llamar de forma repetida de múltiples classes.\n",
    "- **Boilerplate**: El método `serialize()` va a tener que estar presente en todos los event classes, llamando el mismo código."
   ]
  },
  {
   "cell_type": "markdown",
   "id": "277a3c8b",
   "metadata": {},
   "source": []
  }
 ],
 "metadata": {
  "kernelspec": {
   "display_name": "Python 3 (ipykernel)",
   "language": "python",
   "name": "python3"
  },
  "language_info": {
   "codemirror_mode": {
    "name": "ipython",
    "version": 3
   },
   "file_extension": ".py",
   "mimetype": "text/x-python",
   "name": "python",
   "nbconvert_exporter": "python",
   "pygments_lexer": "ipython3",
   "version": "3.9.10"
  }
 },
 "nbformat": 4,
 "nbformat_minor": 5
}
