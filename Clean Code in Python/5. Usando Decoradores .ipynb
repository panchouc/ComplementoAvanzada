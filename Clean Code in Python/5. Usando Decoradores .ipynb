{
 "cells": [
  {
   "cell_type": "markdown",
   "id": "152bde69",
   "metadata": {},
   "source": [
    "## Usando decoradores para mejorar el código"
   ]
  },
  {
   "cell_type": "markdown",
   "id": "492ac051",
   "metadata": {},
   "source": [
    "## Tabla de contenidos\n",
    "***\n",
    "\n",
    "\n",
    "\n",
    "***"
   ]
  },
  {
   "cell_type": "markdown",
   "id": "8cbf533e",
   "metadata": {},
   "source": [
    "## ¿Qué son los decoradores en Python?"
   ]
  },
  {
   "cell_type": "markdown",
   "id": "627023e8",
   "metadata": {},
   "source": [
    "Son un mecanismo para simplificar la manera en la que funciones y métodos son definidos cuando tienen que ser modificados luego de su definición original.\n",
    "\n",
    "Cada vez que tenemos que aplicar una transformación a una función, tenemos que llamarla con la función que la modifica, y luego reasignarle el mismo nombre con el que la función originalmente fue definido.\n",
    "\n",
    "Por ejemplo, si tenemos una función llamada `original` y luego tenemos otra función que cambia su comportamiento sobre esta, llamada `modifier`, tendríamos que escribir algo como lo siguiente:"
   ]
  },
  {
   "cell_type": "code",
   "execution_count": 4,
   "id": "6e086889",
   "metadata": {},
   "outputs": [],
   "source": [
    "def original():\n",
    "    #Cuerpo de la función\n",
    "    pass\n",
    "\n",
    "def modifier(funcion):\n",
    "    return funcion\n",
    "\n",
    "original = modifier(original)"
   ]
  },
  {
   "cell_type": "markdown",
   "id": "40ef44b6",
   "metadata": {},
   "source": [
    "Note como cambiamos la función y luego le reasignamos el mismo nombre. El ejemplo anterior podría ser escrito como"
   ]
  },
  {
   "cell_type": "code",
   "execution_count": 5,
   "id": "2f3d3a02",
   "metadata": {},
   "outputs": [],
   "source": [
    "@modifier\n",
    "def original():\n",
    "    #Cuerpo de la función\n",
    "    pass"
   ]
  },
  {
   "cell_type": "markdown",
   "id": "1489773a",
   "metadata": {},
   "source": [
    "Esto significa que los decoradores son solo una forma de llamar lo que sea que está despues del decorador como un primer parámetro del decorador en si mismo, y el resultado va a ser lo que sea que retorne el decorador.\n",
    "\n",
    "La syntaxis para los decoradores mejora la legibilidad de forma significativa, dado que ahora quien lee el código puede encontrar toda la definición de la función en un solo lugar.\n",
    "\n",
    "En general, intente evitar reasignar valores a función que fue diseñada sin usar el syntax de los decoradores.\n",
    "\n",
    "En cuanto a la terminología en Python, `modifier` es lo que se llama el **decorator** y `original` es la función decorada, llamada de vez en cuando **wraped** *object*"
   ]
  },
  {
   "cell_type": "markdown",
   "id": "115a5a1f",
   "metadata": {},
   "source": [
    "## Decoradores de funciones"
   ]
  },
  {
   "cell_type": "markdown",
   "id": "b72cfcbd",
   "metadata": {},
   "source": [
    "Las funciones son probablemente la representación más simple de Python de un objeto que puede ser decorado. Podemos usar decoradores en funciones para aplicar todo tipo de lógicas en ellos - validar parámetros, chequear pre-condiciones, cambiar completamente su funcionamiento, modificar su huella, dejar en el caché resultados y más.\n",
    "\n",
    "Como ejemplo, se creará un decorador que implementa un mecanismo `retry`, controlando un nivel particular de dominio de excepciones y reintentandolo un cierto número de veces."
   ]
  },
  {
   "cell_type": "code",
   "execution_count": 16,
   "id": "58bf436e",
   "metadata": {},
   "outputs": [],
   "source": [
    "from functools import wraps\n",
    "import logging\n",
    "\n",
    "class ControlledException(Exception):\n",
    "    \"\"\"A generic exception on the program's domain\"\"\"\n",
    "    \n",
    "    \n",
    "def retry(operation):\n",
    "    @wraps(operation)\n",
    "    def wrapped(*args, **kwargs):\n",
    "        last_raised = None\n",
    "        RETRIES_LIMIT = 3\n",
    "        for _ in range(RETRIES_LIMIT):\n",
    "            try:\n",
    "                return operation(*args, **kwargs)\n",
    "            except ControlledException as e:\n",
    "                logger.info(\"retrying %s\", operation.__qualname__)\n",
    "                last_raised = e\n",
    "            \n",
    "            raise last_raised\n",
    "        \n",
    "        return wrapped"
   ]
  },
  {
   "cell_type": "markdown",
   "id": "d7dc45f4",
   "metadata": {},
   "source": [
    "El uso de _ en el `for loop` significa que el número es asignado a una variable que no nos interesa de momento, porque no es usada dentro del loop."
   ]
  },
  {
   "cell_type": "code",
   "execution_count": null,
   "id": "c33740d7",
   "metadata": {},
   "outputs": [],
   "source": [
    "@retry\n",
    "def run_operation(task):\n",
    "    \"\"\"Run a particular task, simulating some failures on its execution\"\"\"\n",
    "    \n",
    "    return task.run()"
   ]
  },
  {
   "cell_type": "markdown",
   "id": "8d55f9ae",
   "metadata": {},
   "source": [
    "## Decoradores para classes"
   ]
  },
  {
   "cell_type": "markdown",
   "id": "8d5dbcc7",
   "metadata": {},
   "source": [
    "Los decoradores de classes tienen consideraciones similares a los decoradores de funciones que ya se vieron. La única diferencia es que cuando se escribe código para este tipo de deceorador, hay que tener en consideración que se está recibiendo una clase como parámetro para el método *wrapped*, no otra función.\n",
    "\n",
    "Algunos beneficios de decoradores que se utilizan en classes:\n",
    "- Todos los beneficios de reusar código y el principio DRY. Un caso válido de un decorador podría ser el forzar que múltiples classes conformen una cierta interface o criterio.\n",
    "- Podríamos crear classes más pequeñas o simples que luego pueden ser mejoradas por los decoradores.\n",
    "- La lógica de transformación que necesitamos aplicar a una classe específica va a ser mucho más fácil de mantener si usamos un decorador, lo opuesto a lo más complicados acercamientos como meta-classes."
   ]
  },
  {
   "cell_type": "markdown",
   "id": "64a7cc30",
   "metadata": {},
   "source": [
    "Recordando nuestro sistema de eventos para monitorear la plataforma, ahora necesitamos transformar los datos para cada evento y enviarlos a un sistema externo. Sin embargo, cada tipo de evento puede tener sus propias particularidades cuando se selecciona como enviar su información. En particular, el evento para un login puede contener información sensible como credenciales que queremos esconder. Otros campos como *timestamp* pueden requerir algunas transformaciones si es que queremos mostrar cierta información en un formato en específico. Un primer intento podría ser una classe que mapea cada evento particular y conoce como serializarlo."
   ]
  },
  {
   "cell_type": "code",
   "execution_count": 11,
   "id": "9494b1c2",
   "metadata": {},
   "outputs": [],
   "source": [
    "from dataclasses import dataclass\n",
    "from datetime import datetime\n",
    "\n",
    "class LoginEventSerializer:\n",
    "    def __init__(self, event):\n",
    "        self.event = event\n",
    "        \n",
    "    def serialize(self):\n",
    "        return {\n",
    "            \"username\": self.event.username,\n",
    "            \"password\": \"**redacted**\",\n",
    "            \"ip\": self.event.ip,\n",
    "            \"timestamp\" : self.event.timestamp.strftime(\"%Y-%m-%d%H:%M\"),\n",
    "        }\n",
    "    \n",
    "@dataclass\n",
    "class LoginEvent:\n",
    "    SERIALIZER = LoginEventSerializer\n",
    "    \n",
    "    username: str\n",
    "    password: str\n",
    "    ip: str\n",
    "    timestamp: datetime\n",
    "        \n",
    "    def serialize(self):\n",
    "        return self.SERIALIZER(self).serialize()"
   ]
  },
  {
   "cell_type": "markdown",
   "id": "b8a75173",
   "metadata": {},
   "source": [
    "Si bien es una opción, existen algunos \"peros\":\n",
    "- **Muchas classes**: A medida que aumenta el número de eventos, el número de serialización de classes va a crecer en la misma magnitud.\n",
    "- **La solución no es lo suficientemente flexible**: Si queremos reusar partes de los componentes, tendríamos que extraerlo en una función, pero también llamar de forma repetida de múltiples classes.\n",
    "- **Boilerplate**: El método `serialize()` va a tener que estar presente en todos los event classes, llamando el mismo código."
   ]
  },
  {
   "cell_type": "markdown",
   "id": "277a3c8b",
   "metadata": {},
   "source": [
    "## Pasar argumentos a decoradores"
   ]
  },
  {
   "cell_type": "markdown",
   "id": "13391160",
   "metadata": {},
   "source": [
    "Hay diversas maneras de implementar decoradores que toman argumentos. Una de ellas es crear decoradores como funciones anidadas con un nuevo nivel de *indirección*, haciendo caer todo en el decorador un nivel más profundo.\n",
    "\n",
    "Otra opción es usar una clase para el decorador (esto es, implementar un objeto calleable que sigue actuando como decorador). En general, esta opción favorece la legibilidad, porque es más fácil pensar en términos de un objeto que en 3 o más funciones anidadas."
   ]
  },
  {
   "cell_type": "markdown",
   "id": "869aa869",
   "metadata": {},
   "source": [
    "## Decoradores con funciones anidadas"
   ]
  },
  {
   "cell_type": "code",
   "execution_count": null,
   "id": "4755f3a2",
   "metadata": {},
   "outputs": [],
   "source": []
  },
  {
   "cell_type": "markdown",
   "id": "2ca40b38",
   "metadata": {},
   "source": [
    "## Buenos usos para los decoradores"
   ]
  },
  {
   "cell_type": "markdown",
   "id": "6bc64fdb",
   "metadata": {},
   "source": [
    "- **Transformar parámetros**: Cambiar la signature de la función para exponer una API más bonita, mientras encapsulamos los detalles de como los parámetros son tratamos y transformados por debajo.\n",
    "- **Rastreo de código:** Loggear la ejecución de una función con sus parámetros.\n",
    "- **Validar parámetros:** Los decoradores pueden ser utilizados para validar los *type* de los parámetros. Con el uso de decoradores, podríamos hacer cumplir las precondiciones para nuestras abstracciones.\n",
    "- **Implementar operaciones de retry**\n",
    "- **Simplificar las clases moviendo lógica (repetitiva) a decoradores**"
   ]
  },
  {
   "cell_type": "markdown",
   "id": "8b7b6e26",
   "metadata": {},
   "source": [
    "## Decoradores efectivos - evitando errores comunes\n",
    "\n",
    "### Preservando data acerca del original wrapped object\n",
    "Uno de los problemas más comunes cuando se aplica el decorador a una función es que algunas propiedades o atributos de la función original no son mantenidos, llevando a efectos indeseados, difíciles de trackear.\n",
    "\n",
    "Usando el decorador `wraps`, podemos acceder la original, no modificada función bajo el atributo `__wrapped__`.\n",
    "\n",
    "En general, para decoradores simples, la manera en la que utilizaríamos `functools.wraps` seguiría la siguiente fórmula general o estructura."
   ]
  },
  {
   "cell_type": "code",
   "execution_count": 3,
   "id": "2fd8d797",
   "metadata": {},
   "outputs": [],
   "source": [
    "from functools import wraps\n",
    "\n",
    "def decorator(original_function):\n",
    "    @wraps(origina_function)\n",
    "    def decorated_function(*args, **kwargs):\n",
    "        #Modificaciones hechas por el decorador\n",
    "        \n",
    "        return original_function(*args, **kwargs)\n",
    "    \n",
    "    return decorated_function"
   ]
  },
  {
   "cell_type": "markdown",
   "id": "5dc58ee3",
   "metadata": {},
   "source": [
    "Siempre use `functools.wraps` aplicada sobre la *wrapped function* cuando se cree un decorador, como se mostró recién."
   ]
  },
  {
   "cell_type": "markdown",
   "id": "5d147970",
   "metadata": {},
   "source": [
    "## Lidiando con efectos secundarios en decoradores"
   ]
  },
  {
   "cell_type": "markdown",
   "id": "5a25a4b2",
   "metadata": {},
   "source": [
    "Es recomendable evitar efectos secundarios en el cuerpo del decorador.\n",
    "\n",
    "Todo lo que el decorador necesita hacer aparte de la función que está decorando debería ser colocado en el interior de la definición de la función o podrían haber problemas al momento de importar. Sin embargo, algunas veces estos efectos secundarios son requeridos para correr en *import time*.\n",
    "\n",
    "### Manejo incorrecto de efectos secundarios en el decorador"
   ]
  },
  {
   "cell_type": "markdown",
   "id": "d04c9a69",
   "metadata": {},
   "source": [
    "## Requiriendo decoradores con efectos secundarios"
   ]
  },
  {
   "cell_type": "markdown",
   "id": "f65c804c",
   "metadata": {},
   "source": [
    "## Creando decoradores que siempre van a funcionar"
   ]
  },
  {
   "cell_type": "markdown",
   "id": "39411fe1",
   "metadata": {},
   "source": []
  },
  {
   "cell_type": "markdown",
   "id": "227111c5",
   "metadata": {},
   "source": [
    "## Decoradores y clean code"
   ]
  },
  {
   "cell_type": "markdown",
   "id": "da4f3900",
   "metadata": {},
   "source": [
    "## El principio DRY con decoradores"
   ]
  },
  {
   "cell_type": "markdown",
   "id": "fead48f6",
   "metadata": {},
   "source": [
    "## Decoradores y la separación de concerns"
   ]
  },
  {
   "cell_type": "markdown",
   "id": "9ddd90af",
   "metadata": {},
   "source": []
  },
  {
   "cell_type": "markdown",
   "id": "7671f629",
   "metadata": {},
   "source": [
    "## Análisis de buenos decoradores"
   ]
  },
  {
   "cell_type": "markdown",
   "id": "4313fa1f",
   "metadata": {},
   "source": [
    "- **Encapsulación o separacion de preocupaciones/concerns:** Un buen decorador debería separar efectivamente diferentes responsabilidades entre lo que hace y lo que está decorando.\n",
    "- **Ortogonalidad:** Lo que el decorador hace debería ser independiente y estar tan desacoplado como sea posible del objeto que está decorando.\n",
    "- **Reutilización:** Es deseable que el decorador pueda ser aplicado a múltiples tipos, y que no aparezca en una sola instancia de la función, porque eso significa que podría haber sido una simple función aparte. Tiene que ser lo suficientemente genérico."
   ]
  }
 ],
 "metadata": {
  "kernelspec": {
   "display_name": "Python 3 (ipykernel)",
   "language": "python",
   "name": "python3"
  },
  "language_info": {
   "codemirror_mode": {
    "name": "ipython",
    "version": 3
   },
   "file_extension": ".py",
   "mimetype": "text/x-python",
   "name": "python",
   "nbconvert_exporter": "python",
   "pygments_lexer": "ipython3",
   "version": "3.9.10"
  }
 },
 "nbformat": 4,
 "nbformat_minor": 5
}
