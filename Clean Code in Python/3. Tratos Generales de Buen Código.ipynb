{
 "cells": [
  {
   "cell_type": "markdown",
   "id": "d70823ca",
   "metadata": {},
   "source": [
    "# Tratos generales de Buen Código"
   ]
  },
  {
   "cell_type": "markdown",
   "id": "e279557e",
   "metadata": {},
   "source": [
    "## Tabla  de contenidos\n",
    "***\n",
    "\n",
    "\n",
    "***"
   ]
  },
  {
   "cell_type": "markdown",
   "id": "10accebb",
   "metadata": {},
   "source": [
    "El código es probablemente la representación más detallada del diseño. El objetivo final es hacer el código lo más robusto posible y escribirlo de tal manera que se pueda minimizar los defectos o hacerlos poco evidentes.\n",
    "\n",
    "Software de buena calidad debería ser construido alrededor de los principios que se van a presentar a continuación, los cuales pueden servir como herramientas de diseño. Esto no significa que todos estos principios deban usarse siempre, pues algunos dependen del contexto y no son siempre aplicables."
   ]
  },
  {
   "cell_type": "markdown",
   "id": "b4734d3f",
   "metadata": {},
   "source": [
    "## Diseño por contrato (Design by contract)"
   ]
  },
  {
   "cell_type": "markdown",
   "id": "bbc5505f",
   "metadata": {},
   "source": [
    "Algunas partes de nuestro software no fueron diseñadas para ser llamadas directamente por los usuarios, sino por otras partes del código. Tal es el caso en el que dividimos las responsabilidades de la aplicación en diferentes componentes o *layers* y tenemos que pensar en la interacción entre ellos.\n",
    "\n",
    "Se tiene que encapsular cierta funcionalidad detras de cada componente y mostrar una interfaz a los clientes que van a usar esa funcionalidad, llamada, *Application Programming Interface (API)*. Las funciones, clases o métodos que escribimos para un componente en particular tienen una forma particular de trabajar bajo ciertas condiciones y si es que no se cumplen, el código se crashea.  \n",
    "\n",
    "La idea detrás de DbC, es que en vez de poner implícitamente en el código que está esperando cada parte a recibir, ambas partes se ponen de acuerdo en un contrato, que si es violado, se va a levantar una excepción, diciendo claramente porque no puede continuar.\n",
    "\n",
    "En este contexto, un contrato es una construción que fuerza a que algunas reglas se cumplan durante la comunicación de componentes de software. Hay precondiciones, postcondiciones, *invariants* y efectos colaterales.\n",
    "\n",
    "- **Precondiciones**: Son los checks que el código va a hacer antes de correr. Va a chequear todas las condiciones que deben cumplirse antes de que la función se ejecute.\n",
    "- **Postcondiciones**: Las validaciones son hechas luego de que el call de la función es retornada.\n",
    "- **Invariants**: Son las cosas que se mantienen constantes mientras el código de la función se corre.\n",
    "- **Efectos colaterales**: Podría ser bueno mencionar los efectos laterales en un docstring.\n",
    "\n",
    "La razón por la que podríamos diseñar por contrato es que si ocurre un error, debe ser fácil de identificar así se puede corregir de forma rápida. Más importante, queremos que las partes críticas del código eviten ser ejecutadas bajo supuestos equivocados. \n",
    "\n",
    "Si la precondición falla, sabemos que es por culpa del usuario. Si la postcondición falla, es por un error en el código.\n",
    "\n",
    "### Precondiciones"
   ]
  },
  {
   "cell_type": "markdown",
   "id": "b2530380",
   "metadata": {},
   "source": [
    "Las precondiciones son todas las garantías que un método o función espera recibir para así funcionar correctamente. Una función debería tener una validación adecuada para la información que va a manejar.\n",
    "\n",
    "Surge la pregunta de en que lugar poner la validación. Una de las prácticas más comunes, es validar los datos una vez se han recibido todos, antes de ejecutar la lógica de la función. Generalmente este es la elección más segura en términos de robustez. Debemos tener en mente que la validación debe ser realizada solo por una de las partes del contrato, no ambos."
   ]
  },
  {
   "cell_type": "markdown",
   "id": "4652382e",
   "metadata": {},
   "source": [
    "## Postcondiciones"
   ]
  },
  {
   "cell_type": "markdown",
   "id": "dbdde2fe",
   "metadata": {},
   "source": [
    "Asumiendo que la función o método ha sido llamado con las propiedades correctas, las postcondiciones deben de garantizar que ciertas propiedades son conservadas. La idea es usar postcondiciones para checkear y validar todo lo que el cliente pueda necesitar."
   ]
  },
  {
   "cell_type": "markdown",
   "id": "b4d9d102",
   "metadata": {},
   "source": [
    "## Diseño por contrato - Conclusiones"
   ]
  },
  {
   "cell_type": "markdown",
   "id": "2e56fbe5",
   "metadata": {},
   "source": [
    "La idea principal de este principio de diseño es identificar en que parte se sitúa el problema. Definiendo un contrato, cuando algo falla en runtime, va a quedar muy claro que parte del código está rota, y lo que rompió el contrato. Es una buena idea implementar este principio para componentes críticos de la aplicación.\n",
    "\n",
    "Para que este método sea efectivo, debemos pensar cuidadosamente que es lo que deseamos validar, y esto debe tener un valor significativo."
   ]
  },
  {
   "cell_type": "markdown",
   "id": "23330127",
   "metadata": {},
   "source": [
    "## Programación a la defensiva"
   ]
  },
  {
   "cell_type": "markdown",
   "id": "5548850d",
   "metadata": {},
   "source": [
    "Lo que se busca aquí es hacer que ciertas partes del código sean capaces de protegerse a sí mismas de inputs inválidos. Las ideas principales de la programación a la defensiva son como manejar errores para escenarios que creemos van a suceder y como lidiar con errores que no deberían ocurrir nunca (cuando ocurren condiciones imposibles). El primer caso se remonta a como manejar errores, mientras que el segundo caso se usan *assertions*.\n",
    "\n",
    "### Error handling"
   ]
  },
  {
   "cell_type": "markdown",
   "id": "8c865438",
   "metadata": {},
   "source": [
    "La idea detrás de error handling es responder a los errores esperados en un intento de continuar con la ejecución de nuestro programa o decidir fallar si el error es insuperable.\n",
    "\n",
    "#### Sustitución de valores"
   ]
  },
  {
   "cell_type": "markdown",
   "id": "a3e91e6e",
   "metadata": {},
   "source": [
    "En algunos escenarios, cuando hay un error y hay riesgo de que el software produzca un valor incorrecto o falle completamente, podríamos reemplazar el resultado, con otro valor más seguro. Sin embargo, la sustitución de valores no es siempre posible. Esta estrategia debe ser cuidadosamente elegida para casos en los que el valor que se sustituye es una opción segura. Hacer esta decisión es un trade-off entre robustez y correctitud.\n",
    "\n",
    "Si la aplicación es crítica, o los datos que se manejan son sensibles, esto no es una opción, dado que no podemos permitirnos el proveer a los usuarios resultados erróneos."
   ]
  },
  {
   "cell_type": "markdown",
   "id": "42efa853",
   "metadata": {},
   "source": [
    "#### Manejo de excepciones"
   ]
  },
  {
   "cell_type": "markdown",
   "id": "d3b24577",
   "metadata": {},
   "source": [
    "Si ocurre una falla en la función, esta debería de forma clara y no ambigua, notificar al resto de la aplicación respecto a los errores que no pueden ser ignorados así pueden ser tratados de forma adecuada.\n",
    "\n",
    "El mecanismo para lograr lo anterior es una excepción. Es importante enfatizar que esto es para lo que se deberían utilizar las excepciones - para anunciar de forma clara una situación excepcional y no alterar el flujo del programa. Si el código intenta utilizar excepciones para manejar escenarios esperados, el flujo del programa se tornará más difícil de leer.\n",
    "\n",
    "Las excepciones son acerca de notificar al *caller* acerca de algo que va mal. Esto significa que las excepciones deberían ser utilizadas cuidadosamente porque debilitan la encapsulación. Mientras más excepciones tenga una función, más cosas va a tener que anticipar el *caller*, por tanto debe de saber más acerca de la función que está llamando. Si una función tiene muchas excepciones, podría ser una señal de que podría ser desglosada en múltiples funciones más pequeñas.\n",
    "\n",
    "#### Manejo de excepciones en el nivel correcto de abstracción\n",
    "Las excepciones son una parte de las funciones que hacen solo una cosa, y solo una. La excepción que la función está manejando (o *raising*) tiene que ser consistente con la lógica en ella.\n",
    "\n",
    "Las excepciones llevan consigo un significado. Por esta razón, es importante manejar cada tipo de excepción en el nivel correcto de abstracción. Dado que también pueden llevar información sensible de vez en cuando, no queremos que caiga en manos equivocadas.\n",
    "\n",
    "#### No exponga tracebacks a usuarios finales\n",
    "Esto es por consideraciones de seguridad. En Python, las excepciones de tracebacks contienen información muy rica y útil para debuggear. Desafortunadamente, esta información es muy útil para hackers o usuarios maliciosos que quieren probar y dañar la aplicación. Si usted elige que las excepciones se propaguen, asegúrese de no revelar información sensible. Si usted elige notificar a los usuarios sobre un problema, elija un mensaje genérico.\n",
    "\n",
    "#### Evite bloques except vacíos\n",
    "Lo peor que podría suceder es que un bloque de except use pass silenciosamente sin hacer nada."
   ]
  },
  {
   "cell_type": "code",
   "execution_count": 1,
   "id": "5049837f",
   "metadata": {},
   "outputs": [],
   "source": [
    "def funcion():\n",
    "    \"\"\"Inserte lo que hace la función\"\"\"\n",
    "    pass\n",
    "\n",
    "try:\n",
    "    funcion()\n",
    "except:\n",
    "    pass"
   ]
  },
  {
   "cell_type": "markdown",
   "id": "2ad42c93",
   "metadata": {},
   "source": [
    "Hay dos alternativas para lo anterior:\n",
    "- Capturar una excepción más específica\n",
    "- Realizar error handling en el bloque except\n",
    "\n",
    "Lo mejor sería aplicar ambas recomendaciones. Manejar una excepción más específica va a ser el programa más mantenible porque el lector va a saber que esperar y va a tener una idea del porque de aquello.\n",
    "\n",
    "Manejar la excepción puede significar muchas cosas. En la forma más simple, podría ser solamente loggear la excepción (asegúrese de usar logger.exception o logger.error para proveer todo el contexto de lo que sucedió). Otras alternativas podrían ser retornar otro valor, o levantar una excepción diferente. Si usted elige levantar una excepción distinta, incluya la excepción original que gatilló el problema."
   ]
  },
  {
   "cell_type": "markdown",
   "id": "973db042",
   "metadata": {},
   "source": [
    "#### Incluir la excepción original\n",
    "Si elegimos levantar una excepción diferente, y cambiamos el mensaje, es recomendable incluir la excepción original que llevó a aquello. Podemos usar el syntax `raise e from original_exception`. Cuando ocupemos esto, el traceback original va a ser incrustada en la nueva excepción, y la excepción original va a ser seteada en el atributo `__cause__` de la nueva excepción resultante.\n",
    "\n",
    "Siempre utilice el syntaxis `raise e from o` cuando se cambie el tipo de excepción.\n",
    "\n",
    "#### Usar assertions en Python"
   ]
  },
  {
   "cell_type": "markdown",
   "id": "d838a0ce",
   "metadata": {},
   "source": [
    "assertions son para ser utilizadas en situaciones que no deberían ocurrir nunca, así la expressión en el `assert` statement debe ser una condición imposible. Si esta condición ocurre, significa que hay un defecto en el software. La idea de usar assertions es prevenir que el programa cause más daños si algún escenario inválido se presenta. Un assertion es una condición Booleana en el código que debe ser verdadera para que el programa sea correcto. Assertions no deberían ser utilizados en el control de flujo del programa.\n",
    "\n",
    "Asegúrese de que el programa termina cuando un assertion falla. Incluya un mensaje descriptivo en el error en el statement de assertion y loggear los errores para asegurarse de que pueda debuggear y corregir el problema después. El siguiente código es una mala idea de usar"
   ]
  },
  {
   "cell_type": "code",
   "execution_count": null,
   "id": "7acb80c9",
   "metadata": {},
   "outputs": [],
   "source": [
    "try:\n",
    "    assert condition.holds(), \"Condition is not satisfied\"\n",
    "except AssertionError:\n",
    "    alternative_procedure()"
   ]
  },
  {
   "cell_type": "markdown",
   "id": "158d7942",
   "metadata": {},
   "source": [
    "Una mejor alternativa requiere menos líneas de código, pero provee información más útil."
   ]
  },
  {
   "cell_type": "code",
   "execution_count": null,
   "id": "41c51177",
   "metadata": {},
   "outputs": [],
   "source": [
    "result = condition.holds()\n",
    "assert result > 0, f\"Error with {result}\""
   ]
  },
  {
   "cell_type": "markdown",
   "id": "6d12cc17",
   "metadata": {},
   "source": [
    "Cuando use assertions, intente evitar llamados directos a funciones y escriba la expresión en términos de variables locales.\n",
    "\n",
    "En general, las excepciones son para manejar situaciones inesperadas relacionadas con la lógica que nuestro programa quiere considerar, mientras que assertions son mecanismos de self-checking puestos en el código, para validar (assert) *correctness*."
   ]
  },
  {
   "cell_type": "markdown",
   "id": "79bd254d",
   "metadata": {},
   "source": [
    "## Separación de preocupaciones (concerns)"
   ]
  },
  {
   "cell_type": "markdown",
   "id": "77b4d86d",
   "metadata": {},
   "source": [
    "Este es un principio de diseño que es aplicado en múltiples niveles. Diferentes responsabilidades deberían ir en distintos componentes, layers, o módulos de aplicación. Cada parte del programa debería ser responsable de una parte de la funcionalidad (lo que lo llamamos sus *concerns*) y no debería de saber nada del resto.\n",
    "\n",
    "El objetivo de separar los *concerns* en software es mejorar la mantenibilidad minimizando los *ripple effects*. Un *ripple effect* significa la propagación de un cambio en el software desde un punto de partida."
   ]
  },
  {
   "cell_type": "markdown",
   "id": "5ef3162c",
   "metadata": {},
   "source": [
    "## Cohesión y coupling"
   ]
  },
  {
   "cell_type": "markdown",
   "id": "dfa4f2b2",
   "metadata": {},
   "source": [
    "cohesion significa que los objetos deberían tener un propósito pequeño y bien definido, y deberían de hacer tan poco como sea posible.\n",
    "\n",
    "coupling se refiere a la idea de como dos o más objetos dependen del otro. Esta dependencia posee una limitación. Si dos partes del código son muy dependientes del otro, puede traer consecuencias no deseadas:\n",
    "- **No reutilización del código:**  Si una función depende mucho de un objeto en particular o toma muchos parámetros, esta función va a ser muy difícil de utilizar en otro contexto.\n",
    "- **Ripple effects**: Los cambios en alguna de las dos partes van a impactar el otro.\n",
    "- **Bajo nivel de abstracción**\n",
    "\n",
    "Rule of thumb: Software bien definido va a lograr alta cohesión y bajo coupling."
   ]
  },
  {
   "cell_type": "markdown",
   "id": "1978a718",
   "metadata": {},
   "source": [
    "## Acrónimos para vivir"
   ]
  },
  {
   "cell_type": "markdown",
   "id": "e54a7a1d",
   "metadata": {},
   "source": [
    "### DRY/OAOO\n",
    "Las ideas *Don't Repeat Yourself (DRY)* y *Once and Only Once (OAOO)* están muy relacionadas. Se debería de evitar la duplicación a toda costa.\n",
    "\n",
    "Las cosas en el código, conocimiento, tienen que ser definidas una vez y en una sola parte. Cuando se tiene que hacer un cambio en el código, debería de haber un solo lugar en el cual modificar las cosas.\n",
    "\n",
    "Consecuencias negativas de duplicación de código:\n",
    "- **Propenso a errores**: Cuando cierta lógica está repetida múltiples veces a través del código, y algo necesita cambiar, significa que dependemos de corregir eficientemente todas las instancias con esta lógica.\n",
    "- **Es caro:** Hacer un cambio en múltiples lugares toma más tiempo.\n",
    "- **No es confiable:** Cuando múltiples lugares necesitan ser modificados por un solo cambio en el contexto, se confía en que la persona que escribió el código pueda recordar todas las instancias donde la modificación tiene que hacerse.\n",
    "\n",
    "El acercamiento más simple para eliminar la duplicación de código es crear una función\n",
    "\n",
    "### YAGNI"
   ]
  },
  {
   "cell_type": "markdown",
   "id": "f0b20216",
   "metadata": {},
   "source": [
    "*You ain't gonna need it* es una idea que deberías mantener en mente a menudo cuando se escriba una solución si no se le quiere hacer *over-engineering*. Queremos ser capaces de modificar fácilmente nuestros programas, por lo que los queremos hacer *future-proof*.\n",
    "\n",
    "Tener software mantenible no es acerca de anticipar requerimientos futuros. Es acerca de escribir código que solo se dirige en requerimientos actuales de tal manera que va a ser posible (y fácil) de cambiar en un futuro."
   ]
  },
  {
   "cell_type": "markdown",
   "id": "95df518f",
   "metadata": {},
   "source": [
    "### KIS"
   ]
  },
  {
   "cell_type": "markdown",
   "id": "df772db1",
   "metadata": {},
   "source": [
    "*Keep it simple*. Implemente funcionalidades mínimas que resuelven correctamente el problema y no complican la solución más de lo necesario. Recordar que mientras más simple sea el diseño, va a ser más mantenible."
   ]
  },
  {
   "cell_type": "markdown",
   "id": "741a50d7",
   "metadata": {},
   "source": [
    "### EAFP/LBYL"
   ]
  },
  {
   "cell_type": "markdown",
   "id": "6c4ef477",
   "metadata": {},
   "source": [
    "*Easier to ask for forgiveness than permission (EAFP)* y *Look before you leap (LBYL)*. La idea de EAFP es que escribamos nuestro código para que ejecute una acción directamente y luego nos preocupemos de las consecuencias en caso de que no funcione. Típicamente, esto significa correr algún código, esperando que funcione, pero atrapar la excepción si no lo hace y luego manejar el código correctivo en el bloque de except.\n",
    "\n",
    "Lo anterior es contrario a lo de LBYL, aquí primero se chequea lo que vamos a utilizar."
   ]
  },
  {
   "cell_type": "markdown",
   "id": "19396de8",
   "metadata": {},
   "source": [
    "## Herencia en Python"
   ]
  },
  {
   "cell_type": "markdown",
   "id": "486a8a84",
   "metadata": {},
   "source": [
    "Si bien la herencia es un concepto poderoso, viene con sus peligros. El principal es que cada vez que extendemos una *base class*, creamos un nuevo objeto que está estrechamente *coupled* con el *parent*.\n",
    "\n",
    "Uno de los principales escenarios en los que los desarrolladores cuentan con herencia es para la reutilización de código. Si bien deberíamos reutilizar código cuando sea posible, no es una buena idea forzar nuestro diseño para que use herencia para reutilizar código solo porque podemos obtener los métodos de la *parent class* gratis. La forma correcta de reutilizar código es tener objetos altamente cohesivos que pueden ser fácilmente compuestos y pueden funcionar en múltiples contextos."
   ]
  },
  {
   "cell_type": "markdown",
   "id": "3af6f77c",
   "metadata": {},
   "source": [
    "## Cuando la herencia es una buena decisión"
   ]
  },
  {
   "cell_type": "markdown",
   "id": "fd668440",
   "metadata": {},
   "source": [
    "Cuando creemos una nueva subclase, tenemos que pensar si realmente va a utilizar todos los métodos que heredo, como forma heurística para ver si la clase está correctamente definida. Si encontramos que no necesitamos la mayoría de los métodos y los tenemos que reemplazar o hacer override, puede ser un error de diseño que podría ser causado por: \n",
    "- La superclass está vagamente definida y contiene mucha responsabilidad, en vez de una interfaz bien definida.\n",
    "- La subclass no es una especialización apropiada de la superclass que está intentando extender\n",
    "\n",
    "Un buen caso para usar herencia es el tipo de situación cuando se tiene una clase que define ciertos componentes con su comportamiento que están definidos por la interfaz de esta clase y luego se necesita especializar la clase para así crear objetos que hacen lo mismo pero con algo más añadido, o con algunas partes en particular con su comportamiento cambiado.\n",
    "\n",
    "Hablando de definición de interfaces, este es otro buen uso para herencia. Cuando queremos hacer cumplir cierta interfaz de algunos objetos, podemos crear una *abstract base class* que no implementa el comportamiento en si misma, pero define una interfaz - cada clase que la extiende va a tener que implementarlos para así ser un subtype apropiado.\n",
    "\n",
    "Finalmente, otro buen caso para la herencia es en excepciones."
   ]
  },
  {
   "cell_type": "markdown",
   "id": "19724352",
   "metadata": {},
   "source": [
    "## Antipatrones para herencia"
   ]
  },
  {
   "cell_type": "markdown",
   "id": "b306d5f1",
   "metadata": {},
   "source": [
    "El uso correcto de herencia es para especializar objetos y crear abstracciones más detalladas partiendo de algunas bases.\n",
    "\n",
    "La base class es parte de la definición pública de la nueva clase derivada. Esto es porque los métodos que son heredados van a ser parte de la interfaz de esta nueva clase. Por esta razón, cuando leamos los métodos públicos de una clase, deben ser consistentes con lo que la base class define."
   ]
  },
  {
   "cell_type": "markdown",
   "id": "0a9f4c11",
   "metadata": {},
   "source": [
    "## Múltiple herencia en Python"
   ]
  },
  {
   "cell_type": "markdown",
   "id": "e9d14caa",
   "metadata": {},
   "source": [
    "La multi-herencia es una espada de doble filo. Puede ser muy beneficiosa en algunos casos. No hay nada de malo en multi-herencia, el único problema es que cuando no se implementa correctamente, va a multiplicar los problemas.\n",
    "\n",
    "Una de las aplicaciones más poderosas de multi-herencia es probablemente que permite la creación de mixins."
   ]
  },
  {
   "cell_type": "markdown",
   "id": "2a55e128",
   "metadata": {},
   "source": [
    "## Method Resolution Order (MRO)"
   ]
  },
  {
   "cell_type": "markdown",
   "id": "e0cf46f4",
   "metadata": {},
   "source": [
    "A algunas personas no les gusta la multi-herencia debido a las restricciones que tiene en otros lenguajes de programación, como el llamado problema del diamante. Para resolver esto, Python utiliza un algoritmo llamado C3 Linearization o MRO."
   ]
  },
  {
   "cell_type": "markdown",
   "id": "514ac0fc",
   "metadata": {},
   "source": [
    "## Mixins"
   ]
  },
  {
   "cell_type": "markdown",
   "id": "dd6e3925",
   "metadata": {},
   "source": [
    "Un mixin es una *base class* que encapsula comportamiento común con el objetivo de reutilizar código. Típicamente, una mixin class no es útil por si misma y extender solo esta clase no va a funcionar, porque la mayoría de las veces depende de métodos y properties definidos en otras clases. La idea es usar las classes mixin junto a otras classes, a través de multi-herencia, para que así los métodos o propiedades en el mixin estén disponibles."
   ]
  },
  {
   "cell_type": "markdown",
   "id": "2e30b876",
   "metadata": {},
   "source": [
    "## Argumentos en funciones y métodos"
   ]
  },
  {
   "cell_type": "markdown",
   "id": "5ccf7f0b",
   "metadata": {},
   "source": [
    "En Python, las funciones pueden ser definidas para recibir argumentos de diferentes maneras, y estos argumentos pueden ser provistos por el *caller* de múltiples formas.\n",
    "\n",
    "## Como los argumentos son copiados a las funciones\n",
    "La primera regla en Python es que todos los argumentos son pasados como un valor, siempre. Esto significa que cuando le pasamos valores a las funciones, estos son asignados a las variables en la *signature definition* de la función para luego ser utilizados.\n",
    "\n",
    "Tenemos que ser cuidadosos al momento de lidiar con objetos mutables ya que puede llevar a efectos colaterales indeseados.\n",
    "\n",
    "Los argumentos en Python pueden ser provistos por posición o también por *keyword*. Esto significa que podemos decirle explícitamente a la función que valores queremos para ciertos parámetros. La única advertencia es que luego de que un parámetro es pasado por *keyword*, el resto que le sigue también deben ser pasados de esta manera, sino un error de tipo SyntaxError ocurrirá.\n",
    "\n",
    "## Número variable de argumentos\n",
    "Para un número variable de argumentos posicionales, el símbolo * es utilizado, precediendo el nombre de la variable que está empacando esos argumentos. Esto funciona a través del mecanismo de *packing* de Python.\n",
    "\n",
    "Si por ejemplo tenemos una función que toma tres argumentos posicionales. En una parte del código, de forma conveniente tenemos los argumentos que queremos pasar en una lista, en el mismo orden en el que los espera la función. Podemos usar el mecanismo de packing de Python y pasar todos ellos en una sola instrucción."
   ]
  },
  {
   "cell_type": "code",
   "execution_count": 3,
   "id": "11407a4b",
   "metadata": {},
   "outputs": [
    {
     "name": "stdout",
     "output_type": "stream",
     "text": [
      "1\n",
      "2\n",
      "3\n"
     ]
    }
   ],
   "source": [
    "def f(first, second, third):\n",
    "    print(first)\n",
    "    print(second)\n",
    "    print(third)\n",
    "    \n",
    "lista = [1, 2, 3]\n",
    "f(*lista)"
   ]
  },
  {
   "cell_type": "markdown",
   "id": "20c77b38",
   "metadata": {},
   "source": [
    "Lo bueno del mecanismo de packing, es que también funciona de la otra manera. Si queremos extraer los elementos de una lista a variables, mediante su posición respectiva, lo podemos hacer de la siguiente manera"
   ]
  },
  {
   "cell_type": "code",
   "execution_count": 5,
   "id": "4bcccfe9",
   "metadata": {},
   "outputs": [
    {
     "data": {
      "text/plain": [
       "1"
      ]
     },
     "execution_count": 5,
     "metadata": {},
     "output_type": "execute_result"
    }
   ],
   "source": [
    "a, b, c = [1, 2, 3]\n",
    "a"
   ]
  },
  {
   "cell_type": "code",
   "execution_count": 6,
   "id": "f55339cf",
   "metadata": {},
   "outputs": [
    {
     "data": {
      "text/plain": [
       "2"
      ]
     },
     "execution_count": 6,
     "metadata": {},
     "output_type": "execute_result"
    }
   ],
   "source": [
    "b"
   ]
  },
  {
   "cell_type": "code",
   "execution_count": 7,
   "id": "486676bf",
   "metadata": {},
   "outputs": [
    {
     "data": {
      "text/plain": [
       "3"
      ]
     },
     "execution_count": 7,
     "metadata": {},
     "output_type": "execute_result"
    }
   ],
   "source": [
    "c"
   ]
  },
  {
   "cell_type": "markdown",
   "id": "82cc3945",
   "metadata": {},
   "source": [
    "El unpacking parcial es también posible. Digamos que solo estamos interesados en los primeros valores de una secuencia y luego de un punto queremos mantener todo el resto agrupado. Podemos asignar las variables que necesitamos y dejar el resto en una *packaged list*. El orden en el que hacemos unpack no está limitado."
   ]
  },
  {
   "cell_type": "code",
   "execution_count": 12,
   "id": "3a9f03db",
   "metadata": {},
   "outputs": [
    {
     "name": "stdout",
     "output_type": "stream",
     "text": [
      "Element: 1 - Rest: [2, 3, 4, 5]\n"
     ]
    }
   ],
   "source": [
    "def show(e, rest):\n",
    "    print(f\"Element: {e} - Rest: {rest}\")\n",
    "    \n",
    "first, *rest = [1, 2, 3, 4, 5]\n",
    "show(first, rest)"
   ]
  },
  {
   "cell_type": "code",
   "execution_count": 13,
   "id": "9d2b094c",
   "metadata": {},
   "outputs": [
    {
     "name": "stdout",
     "output_type": "stream",
     "text": [
      "Element: 5 - Rest: [0, 1, 2, 3, 4]\n"
     ]
    }
   ],
   "source": [
    "*rest, last = range(6)\n",
    "show(last, rest)"
   ]
  },
  {
   "cell_type": "code",
   "execution_count": 20,
   "id": "8e665a1a",
   "metadata": {},
   "outputs": [
    {
     "name": "stdout",
     "output_type": "stream",
     "text": [
      "0 -- [1, 2, 3, 4] -- 5\n"
     ]
    }
   ],
   "source": [
    "first, *middle, last = range(6)\n",
    "print(str(first) + \" -- \" + str(middle) + \" -- \" + str(last))"
   ]
  },
  {
   "cell_type": "markdown",
   "id": "6c53b4a4",
   "metadata": {},
   "source": [
    "Uno de los mejores usos del unpacking puede ser encontrado en la iteración.\n",
    "\n",
    "Hay una notación similar, usando ** para los *keyword* arguments. Si tenemos un diccionario y lo pasamos con dos ** a una función, lo que hará es pickear las keys como nombre para el parámetro, y pasar el valor de esa key como el valor del parámetro en la función.\n",
    "\n",
    "Si definimos en una función un parámetro que empieza con ** los *keyword-provided arguments* van a ser empacados en un diccionario."
   ]
  },
  {
   "cell_type": "code",
   "execution_count": 21,
   "id": "02c732de",
   "metadata": {},
   "outputs": [
    {
     "name": "stdout",
     "output_type": "stream",
     "text": [
      "{'key': 'value'}\n"
     ]
    }
   ],
   "source": [
    "def funcion(**kwargs):\n",
    "    print(kwargs)\n",
    "\n",
    "funcion(key=\"value\")"
   ]
  },
  {
   "cell_type": "markdown",
   "id": "d08db0bd",
   "metadata": {},
   "source": [
    "Este feature en Python es bastante poderoso ya que nos permite elegir dinámicamente los valores que queremos pasarle a una función. Sin embargo, abusar de esta funcionalidad y hacer un uso excesivo de ella, va a hacer que el código sea más difícil de entender. \n",
    "\n",
    "En el ejemplo anterior el argumento kwargs corresponde a un diccionario. Una buena recomendación es no usar este diccionario para extraer valores particulares de el. A saber, no busque keys en particular en un diccionario. En vez, extraiga estos valores directamente en la definición de la función. Por ejemplo, en vez de hacer:"
   ]
  },
  {
   "cell_type": "code",
   "execution_count": 24,
   "id": "6c278f7b",
   "metadata": {},
   "outputs": [],
   "source": [
    "def funcion(**kwargs):\n",
    "    timeout = kwargs.get(\"timeout\", 'DEFAULT_TIMEOUT')"
   ]
  },
  {
   "cell_type": "markdown",
   "id": "15113fac",
   "metadata": {},
   "source": [
    "Sería mejor que Python haga el unpacking y se setee el argumento default en el *signature*"
   ]
  },
  {
   "cell_type": "code",
   "execution_count": 23,
   "id": "a1252747",
   "metadata": {},
   "outputs": [],
   "source": [
    "def funcion(timeout = 'DEFAULT_TIMEOUT', **kwargs):\n",
    "    pass"
   ]
  },
  {
   "cell_type": "markdown",
   "id": "3b5dc25e",
   "metadata": {},
   "source": [
    "La idea que debería prevalecer es de no manipular el diccionario kwargs, en vez de eso ejecutar el unpacking apropiado en el *signature level*."
   ]
  },
  {
   "cell_type": "markdown",
   "id": "f79a01ab",
   "metadata": {},
   "source": [
    "## Parámetros positional-only"
   ]
  },
  {
   "cell_type": "markdown",
   "id": "264ea8b6",
   "metadata": {},
   "source": [
    "Los argumentos posicionales (variables o no) son aquellos que son los primeros provistos a las funciones en Python. Los valore para estos argumentos son interpretados basados en la posición en la que son provistos a la función, significando esto que son asignados respectivamente a los parámetros en la definición de la función.\n",
    "\n",
    "Si no hacemos uso de syntax especial cuando definimos los argumentos de la función, por default, pueden ser pasados por posición o keyword."
   ]
  },
  {
   "cell_type": "code",
   "execution_count": 25,
   "id": "752c40da",
   "metadata": {},
   "outputs": [
    {
     "name": "stdout",
     "output_type": "stream",
     "text": [
      "x=1, y=2\n"
     ]
    }
   ],
   "source": [
    "def my_funcion(x, y):\n",
    "    print(f\"{x=}, {y=}\")\n",
    "\n",
    "my_funcion(1,2)"
   ]
  },
  {
   "cell_type": "code",
   "execution_count": 26,
   "id": "a3e6e176",
   "metadata": {},
   "outputs": [
    {
     "name": "stdout",
     "output_type": "stream",
     "text": [
      "x=1, y=2\n"
     ]
    }
   ],
   "source": [
    "my_funcion(x=1, y=2)"
   ]
  },
  {
   "cell_type": "code",
   "execution_count": 27,
   "id": "20bbea2c",
   "metadata": {},
   "outputs": [
    {
     "name": "stdout",
     "output_type": "stream",
     "text": [
      "x=1, y=2\n"
     ]
    }
   ],
   "source": [
    "my_funcion(y=2, x=1)"
   ]
  },
  {
   "cell_type": "markdown",
   "id": "50aa05c8",
   "metadata": {},
   "source": [
    "A partir de Python 3.8, nuevo syntax fue introducido que permite definir parámetros que son estrictamente posicionales. Para usar esto, un / debe ser añadido al final del último argumento posicional."
   ]
  },
  {
   "cell_type": "code",
   "execution_count": 29,
   "id": "dac57084",
   "metadata": {},
   "outputs": [
    {
     "ename": "TypeError",
     "evalue": "my_funcion() got some positional-only arguments passed as keyword arguments: 'x, y'",
     "output_type": "error",
     "traceback": [
      "\u001b[1;31m---------------------------------------------------------------------------\u001b[0m",
      "\u001b[1;31mTypeError\u001b[0m                                 Traceback (most recent call last)",
      "Input \u001b[1;32mIn [29]\u001b[0m, in \u001b[0;36m<cell line: 4>\u001b[1;34m()\u001b[0m\n\u001b[0;32m      1\u001b[0m \u001b[38;5;28;01mdef\u001b[39;00m \u001b[38;5;21mmy_funcion\u001b[39m(x, y, \u001b[38;5;241m/\u001b[39m):\n\u001b[0;32m      2\u001b[0m     \u001b[38;5;28mprint\u001b[39m(\u001b[38;5;124mf\u001b[39m\u001b[38;5;124m\"\u001b[39m\u001b[38;5;132;01m{\u001b[39;00mx\u001b[38;5;132;01m=}\u001b[39;00m\u001b[38;5;124m, \u001b[39m\u001b[38;5;132;01m{\u001b[39;00my\u001b[38;5;132;01m=}\u001b[39;00m\u001b[38;5;124m\"\u001b[39m)\n\u001b[1;32m----> 4\u001b[0m \u001b[43mmy_funcion\u001b[49m\u001b[43m(\u001b[49m\u001b[43mx\u001b[49m\u001b[38;5;241;43m=\u001b[39;49m\u001b[38;5;241;43m1\u001b[39;49m\u001b[43m,\u001b[49m\u001b[43m \u001b[49m\u001b[43my\u001b[49m\u001b[38;5;241;43m=\u001b[39;49m\u001b[38;5;241;43m2\u001b[39;49m\u001b[43m)\u001b[49m\n",
      "\u001b[1;31mTypeError\u001b[0m: my_funcion() got some positional-only arguments passed as keyword arguments: 'x, y'"
     ]
    }
   ],
   "source": [
    "def my_funcion(x, y, /):\n",
    "    print(f\"{x=}, {y=}\")\n",
    "    \n",
    "my_funcion(x=1, y=2)"
   ]
  },
  {
   "cell_type": "markdown",
   "id": "6c8a9913",
   "metadata": {},
   "source": [
    "En general, usar keyword arguments hace el código más legible porque siempre se sabe que valores están siendo entregados para cada argumento.\n",
    "\n",
    "No fuerce argumentos importantes para ser únicamente posicionales. Algo que quizás quiera hacer más seguido es hacer los argumentos keyword-only."
   ]
  },
  {
   "cell_type": "markdown",
   "id": "e4896d43",
   "metadata": {},
   "source": [
    "## Argumentos keyword-only"
   ]
  },
  {
   "cell_type": "markdown",
   "id": "5a11d684",
   "metadata": {},
   "source": [
    "De forma análoga, también se puede hacer para hacer que los argumentos sean solo keyword-only. Esto probablemente hace más sentido, ya que podemos encontrar un significado en asignar el keyword-argument en el call de una función, y ahora podemos hacer cumplir esta explicites.\n",
    "\n",
    "En la *function signature* todo lo que viene luego del número variable de argumentos posicionales (*args) va a ser keyword-only.\n",
    "\n",
    "Cuando hay un argumento que realmente necesita contexto para ser entendido, hacer este parámetro keyword-only es una buena idea."
   ]
  },
  {
   "cell_type": "markdown",
   "id": "8d78c8c3",
   "metadata": {},
   "source": [
    "## El número de argumentos en funciones"
   ]
  },
  {
   "cell_type": "markdown",
   "id": "1b21c828",
   "metadata": {},
   "source": [
    "Tener funciones o métodos que toman muchos argumentos es un signo de un mal diseño.\n",
    "\n",
    "La primer alternativa a esto es un principio más general del diseño de software - *reification* (crear un nuevo objeto para todos los argumentos que estamos pasando, que es probablemente la abstracción que nos está faltando).\n",
    "\n",
    "Otra opción podría ser el utilizar variables posicionales o keyword-only para crear funciones que tienen una *dynamic signature*. Tener ojo de no abusar de esta *feature*."
   ]
  },
  {
   "cell_type": "markdown",
   "id": "b2a63659",
   "metadata": {},
   "source": [
    "## Compactar function signatures que toman muchos argumentos"
   ]
  },
  {
   "cell_type": "markdown",
   "id": "598f1e49",
   "metadata": {},
   "source": [
    "Suponga que encontramos una función que requiere muchos parámetros. Dependiendo del caso, algunas de las siguientes reglas puede aplicar.\n",
    "\n",
    "A veces hay una forma fácil de cambiar los parámetros si vemos que la mayoría de ellos dependen de un objeto en común. Por ejemplo:\n",
    "\n",
    "`track_request(request.headers, request.ip_addr, request.request_id)`\n",
    "\n",
    "Todos los parámetros dependen de request, por lo que podríamos pasar este objeto.\n",
    "\n",
    "`track_request(request)`\n",
    "\n",
    "Si bien pasar parámetros de esta forma es aconsejable, en todos los casos que pasemos objetos mutables a funciones, debemos ser cuidadosos con los efectos colaterales. La función que estamos llamando no debería de hacer modificaciones al objeto que estamos pasando. Incluso cuando queramos cambiar algo el objeto, una  mejor alternativa sería copiarlo y retornar una (nueva) versión modificada.\n",
    "\n",
    "Si queremos agrupar parámetros, podemos crear una abstracción que nos estaba faltando para almacenarlos. Un objeto que actúe como un container."
   ]
  },
  {
   "cell_type": "markdown",
   "id": "754741a2",
   "metadata": {},
   "source": [
    "## Estructuración del código"
   ]
  },
  {
   "cell_type": "markdown",
   "id": "f06a3e7a",
   "metadata": {},
   "source": [
    "La manera en la que el código está organizado impacta el rendimiento del equipo y su mantenibilidad.\n",
    "\n",
    "En particular, tener archivos largos con muchas definiciones es una mala práctica y debería ser desanimada. Esto no significa ir al extremo de poner una definición por archivo, pero un buen código va a estructurar y organizar sus componentes según similitud.\n",
    "\n",
    "La idea sería crear un nuevo directorio con un archivo `__init__.py` (esto lo convertirá en un Python package). Junto a este archivo, podríamos tener múltiples archivos con todas las definiciones en particular que cada uno requiere. Luego `__init__.py` importará de todos estos archivos las definiciones que tienen. Además de que va a ser más fácil navegar por cada archivo, las cosas serán más fáciles de encontrar, podríamos argumentar que esto es más eficiente por las siguientes razones:\n",
    "- Contiene mejos objetos a *parsear* y cargar en la memoria cuando el módulo es importado\n",
    "- El módulo en si mismo va a importar menos módulos porque necesita menos dependencias\n",
    "\n",
    "También nos puede servir que en vez de colocar constantes en todos los archivos, podemos crear un archivo separado para guardar las constantes que serán utilizadas en el proyecto, e importarlas. Centralizar la información de esta manera hace más fácil el poder reutilizar código y ayuda a evitar duplicación inadvertida."
   ]
  }
 ],
 "metadata": {
  "kernelspec": {
   "display_name": "Python 3 (ipykernel)",
   "language": "python",
   "name": "python3"
  },
  "language_info": {
   "codemirror_mode": {
    "name": "ipython",
    "version": 3
   },
   "file_extension": ".py",
   "mimetype": "text/x-python",
   "name": "python",
   "nbconvert_exporter": "python",
   "pygments_lexer": "ipython3",
   "version": "3.9.10"
  }
 },
 "nbformat": 4,
 "nbformat_minor": 5
}
