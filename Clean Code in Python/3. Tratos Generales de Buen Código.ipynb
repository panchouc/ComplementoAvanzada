{
 "cells": [
  {
   "cell_type": "markdown",
   "id": "d70823ca",
   "metadata": {},
   "source": [
    "# Tratos generales de Buen Código"
   ]
  },
  {
   "cell_type": "markdown",
   "id": "e279557e",
   "metadata": {},
   "source": [
    "## Tabla  de contenidos\n",
    "***\n",
    "\n",
    "\n",
    "***"
   ]
  },
  {
   "cell_type": "markdown",
   "id": "10accebb",
   "metadata": {},
   "source": [
    "El código es probablemente la representación más detallada del diseño. El objetivo final es hacer el código lo más robusto posible y escribirlo de tal manera que se pueda minimizar los defectos o hacerlos poco evidentes.\n",
    "\n",
    "Software de buena calidad debería ser construido alrededor de los principios que se van a presentar a continuación, los cuales pueden servir como herramientas de diseño. Esto no significa que todos estos principios deban usarse siempre, pues algunos dependen del contexto y no son siempre aplicables."
   ]
  },
  {
   "cell_type": "markdown",
   "id": "b4734d3f",
   "metadata": {},
   "source": [
    "## Diseño por contrato (Design by contract)"
   ]
  },
  {
   "cell_type": "markdown",
   "id": "bbc5505f",
   "metadata": {},
   "source": [
    "Algunas partes de nuestro software no fueron diseñadas para ser llamadas directamente por los usuarios, sino por otras partes del código. Tal es el caso en el que dividimos las responsabilidades de la aplicación en diferentes componentes o *layers* y tenemos que pensar en la interacción entre ellos.\n",
    "\n",
    "Se tiene que encapsular cierta funcionalidad detras de cada componente y mostrar una interfaz a los clientes que van a usar esa funcionalidad, llamada, *Application Programming Interface (API)*. Las funciones, clases o métodos que escribimos para un componente en particular tienen una forma particular de trabajar bajo ciertas condiciones y si es que no se cumplen, el código se crashea.  \n",
    "\n",
    "La idea detrás de DbC, es que en vez de poner implícitamente en el código que está esperando cada parte a recibir, ambas partes se ponen de acuerdo en un contrato, que si es violado, se va a levantar una excepción, diciendo claramente porque no puede continuar.\n",
    "\n",
    "En este contexto, un contrato es una construción que fuerza a que algunas reglas se cumplan durante la comunicación de componentes de software. Hay precondiciones, postcondiciones, *invariants* y efectos colaterales.\n",
    "\n",
    "- **Precondiciones**: Son los checks que el código va a hacer antes de correr. Va a chequear todas las condiciones que deben cumplirse antes de que la función se ejecute.\n",
    "- **Postcondiciones**: Las validaciones son hechas luego de que el call de la función es retornada.\n",
    "- **Invariants**: Son las cosas que se mantienen constantes mientras el código de la función se corre.\n",
    "- **Efectos colaterales**: Podría ser bueno mencionar los efectos laterales en un docstring.\n",
    "\n",
    "La razón por la que podríamos diseñar por contrato es que si ocurre un error, debe ser fácil de identificar así se puede corregir de forma rápida. Más importante, queremos que las partes críticas del código eviten ser ejecutadas bajo supuestos equivocados. \n",
    "\n",
    "Si la precondición falla, sabemos que es por culpa del usuario. Si la postcondición falla, es por un error en el código.\n",
    "\n",
    "### Precondiciones"
   ]
  },
  {
   "cell_type": "markdown",
   "id": "b2530380",
   "metadata": {},
   "source": [
    "Las precondiciones son todas las garantías que un método o función espera recibir para así funcionar correctamente. Una función debería tener una validación adecuada para la información que va a manejar.\n",
    "\n",
    "Surge la pregunta de en que lugar poner la validación. Una de las prácticas más comunes, es validar los datos una vez se han recibido todos, antes de ejecutar la lógica de la función. Generalmente este es la elección más segura en términos de robustez. Debemos tener en mente que la validación debe ser realizada solo por una de las partes del contrato, no ambos."
   ]
  },
  {
   "cell_type": "markdown",
   "id": "4652382e",
   "metadata": {},
   "source": [
    "## Postcondiciones"
   ]
  },
  {
   "cell_type": "markdown",
   "id": "dbdde2fe",
   "metadata": {},
   "source": [
    "Asumiendo que la función o método ha sido llamado con las propiedades correctas, las postcondiciones deben de garantizar que ciertas propiedades son conservadas. La idea es usar postcondiciones para checkear y validar todo lo que el cliente pueda necesitar."
   ]
  },
  {
   "cell_type": "markdown",
   "id": "b4d9d102",
   "metadata": {},
   "source": [
    "## Diseño por contrato - Conclusiones"
   ]
  },
  {
   "cell_type": "markdown",
   "id": "2e56fbe5",
   "metadata": {},
   "source": [
    "La idea principal de este principio de diseño es identificar en que parte se sitúa el problema. Definiendo un contrato, cuando algo falla en runtime, va a quedar muy claro que parte del código está rota, y lo que rompió el contrato. Es una buena idea implementar este principio para componentes críticos de la aplicación.\n",
    "\n",
    "Para que este método sea efectivo, debemos pensar cuidadosamente que es lo que deseamos validar, y esto debe tener un valor significativo."
   ]
  },
  {
   "cell_type": "markdown",
   "id": "23330127",
   "metadata": {},
   "source": [
    "## Programación a la defensiva"
   ]
  },
  {
   "cell_type": "markdown",
   "id": "5548850d",
   "metadata": {},
   "source": [
    "Lo que se busca aquí es hacer que ciertas partes del código sean capaces de protegerse a sí mismas de inputs inválidos. Las ideas principales de la programación a la defensiva son como manejar errores para escenarios que creemos van a suceder y como lidiar con errores que no deberían ocurrir nunca (cuando ocurren condiciones imposibles). El primer caso se remonta a como manejar errores, mientras que el segundo caso se usan *assertions*.\n",
    "\n",
    "### Error handling"
   ]
  },
  {
   "cell_type": "markdown",
   "id": "8c865438",
   "metadata": {},
   "source": [
    "La idea detrás de error handling es responder a los errores esperados en un intento de continuar con la ejecución de nuestro programa o decidir fallar si el error es insuperable.\n",
    "\n",
    "#### Sustitución de valores"
   ]
  },
  {
   "cell_type": "markdown",
   "id": "a3e91e6e",
   "metadata": {},
   "source": [
    "En algunos escenarios, cuando hay un error y hay riesgo de que el software produzca un valor incorrecto o falle completamente, podríamos reemplazar el resultado, con otro valor más seguro. Sin embargo, la sustitución de valores no es siempre posible. Esta estrategia debe ser cuidadosamente elegida para casos en los que el valor que se sustituye es una opción segura. Hacer esta decisión es un trade-off entre robustez y correctitud.\n",
    "\n",
    "Si la aplicación es crítica, o los datos que se manejan son sensibles, esto no es una opción, dado que no podemos permitirnos el proveer a los usuarios resultados erróneos."
   ]
  },
  {
   "cell_type": "markdown",
   "id": "42efa853",
   "metadata": {},
   "source": [
    "#### Manejo de excepciones"
   ]
  },
  {
   "cell_type": "markdown",
   "id": "d3b24577",
   "metadata": {},
   "source": [
    "Si ocurre una falla en la función, esta debería de forma clara y no ambigua, notificar al resto de la aplicación respecto a los errores que no pueden ser ignorados así pueden ser tratados de forma adecuada.\n",
    "\n",
    "El mecanismo para lograr lo anterior es una excepción. Es importante enfatizar que esto es para lo que se deberían utilizar las excepciones - para anunciar de forma clara una situación excepcional y no alterar el flujo del programa. Si el código intenta utilizar excepciones para manejar escenarios esperados, el flujo del programa se tornará más difícil de leer.\n",
    "\n",
    "Las excepciones son acerca de notificar al *caller* acerca de algo que va mal. Esto significa que las excepciones deberían ser utilizadas cuidadosamente porque debilitan la encapsulación. Mientras más excepciones tenga una función, más cosas va a tener que anticipar el *caller*, por tanto debe de saber más acerca de la función que está llamando. Si una función tiene muchas excepciones, podría ser una señal de que podría ser desglosada en múltiples funciones más pequeñas.\n",
    "\n",
    "#### Manejo de excepciones en el nivel correcto de abstracción\n",
    "Las excepciones son una parte de las funciones que hacen solo una cosa, y solo una. La excepción que la función está manejando (o *raising*) tiene que ser consistente con la lógica en ella.\n",
    "\n",
    "Las excepciones llevan consigo un significado. Por esta razón, es importante manejar cada tipo de excepción en el nivel correcto de abstracción. Dado que también pueden llevar información sensible de vez en cuando, no queremos que caiga en manos equivocadas.\n",
    "\n",
    "#### No exponga tracebacks a usuarios finales\n",
    "\n",
    "\n",
    "\n",
    "#### Evite bloques except vacíos\n",
    "\n",
    "\n",
    "\n",
    "#### Incluya la excepción original"
   ]
  },
  {
   "cell_type": "markdown",
   "id": "973db042",
   "metadata": {},
   "source": [
    "## Usar assertions en Python"
   ]
  },
  {
   "cell_type": "code",
   "execution_count": null,
   "id": "1539460b",
   "metadata": {},
   "outputs": [],
   "source": []
  },
  {
   "cell_type": "markdown",
   "id": "79bd254d",
   "metadata": {},
   "source": [
    "## Separación de preocupaciones (concerns)"
   ]
  },
  {
   "cell_type": "code",
   "execution_count": null,
   "id": "21b951ac",
   "metadata": {},
   "outputs": [],
   "source": []
  }
 ],
 "metadata": {
  "kernelspec": {
   "display_name": "Python 3 (ipykernel)",
   "language": "python",
   "name": "python3"
  },
  "language_info": {
   "codemirror_mode": {
    "name": "ipython",
    "version": 3
   },
   "file_extension": ".py",
   "mimetype": "text/x-python",
   "name": "python",
   "nbconvert_exporter": "python",
   "pygments_lexer": "ipython3",
   "version": "3.9.10"
  }
 },
 "nbformat": 4,
 "nbformat_minor": 5
}
