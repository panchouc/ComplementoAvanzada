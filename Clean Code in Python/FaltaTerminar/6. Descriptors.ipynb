{
 "cells": [
  {
   "cell_type": "markdown",
   "id": "a0a2313f",
   "metadata": {},
   "source": [
    "# Obteniendo más de nuestros objetos con descriptors"
   ]
  },
  {
   "cell_type": "markdown",
   "id": "d8932393",
   "metadata": {},
   "source": [
    "## Tabla de contenidos\n",
    "***\n",
    "\n",
    "\n",
    "\n",
    "***"
   ]
  },
  {
   "cell_type": "markdown",
   "id": "bd3f8fe5",
   "metadata": {},
   "source": [
    "Los *descriptors* son otra característica distintiva de Python que toman la programación orientada objetos a otros nivel, y su potencial permite a los usuarios construir abstracciones más poderosas y reutilizables. La mayoría de las veces, el completo potencial de los *descriptors* es observada en librerías y frameworks."
   ]
  },
  {
   "cell_type": "markdown",
   "id": "d1568871",
   "metadata": {},
   "source": [
    "## La maquinaria detrás de los descriptors"
   ]
  },
  {
   "cell_type": "markdown",
   "id": "88acca15",
   "metadata": {},
   "source": [
    "Para implementar *descriptors*, necesitamos al menos dos classes. Para este ejemplo genérico, la clase `cliente` va a tomar ventaja de la funcionalidad que queremos implementar en el `descriptor`, y la clase `descriptor` va a implementar la lógica del *descriptor* en si mismo.\n",
    "\n",
    "Un *descriptor* es solo un objeto que es instancia de una clase que implementa el protocolo *descriptor*. Esto significa que la interfaz de esta clase debe contener al menos uno de los siguientes métodos mágicos:\n",
    "\n",
    "- `__get__`\n",
    "- `__set__`\n",
    "- `__delete__`\n",
    "- `__set_name__`"
   ]
  },
  {
   "cell_type": "code",
   "execution_count": null,
   "id": "e1021ac4",
   "metadata": {},
   "outputs": [],
   "source": []
  }
 ],
 "metadata": {
  "kernelspec": {
   "display_name": "Python 3 (ipykernel)",
   "language": "python",
   "name": "python3"
  },
  "language_info": {
   "codemirror_mode": {
    "name": "ipython",
    "version": 3
   },
   "file_extension": ".py",
   "mimetype": "text/x-python",
   "name": "python",
   "nbconvert_exporter": "python",
   "pygments_lexer": "ipython3",
   "version": "3.9.10"
  }
 },
 "nbformat": 4,
 "nbformat_minor": 5
}
