{
 "cells": [
  {
   "cell_type": "markdown",
   "id": "70c42f54",
   "metadata": {},
   "source": [
    "# Pythonic Code\n"
   ]
  },
  {
   "cell_type": "markdown",
   "id": "7fdd6948",
   "metadata": {},
   "source": [
    "## Tabla de Contenidos\n",
    "***\n",
    "\n",
    "\n",
    "\n",
    "***"
   ]
  },
  {
   "cell_type": "code",
   "execution_count": 1,
   "id": "5d37e3e8",
   "metadata": {},
   "outputs": [],
   "source": [
    "my_numbers = (4, 5, 3 ,9)"
   ]
  },
  {
   "cell_type": "markdown",
   "id": "74c534ac",
   "metadata": {},
   "source": [
    "Para acceder a los últimos elementos, la forma *Pythonica* de hacerlo, sería utilizando el índice con un número negativo, así la forma preferida de hacerlo sería:"
   ]
  },
  {
   "cell_type": "code",
   "execution_count": 2,
   "id": "a2c7b616",
   "metadata": {},
   "outputs": [
    {
     "data": {
      "text/plain": [
       "9"
      ]
     },
     "execution_count": 2,
     "metadata": {},
     "output_type": "execute_result"
    }
   ],
   "source": [
    "my_numbers[-1]"
   ]
  },
  {
   "cell_type": "code",
   "execution_count": 3,
   "id": "afa42fe7",
   "metadata": {},
   "outputs": [
    {
     "data": {
      "text/plain": [
       "5"
      ]
     },
     "execution_count": 3,
     "metadata": {},
     "output_type": "execute_result"
    }
   ],
   "source": [
    "my_numbers[-3]"
   ]
  },
  {
   "cell_type": "markdown",
   "id": "c0156310",
   "metadata": {},
   "source": [
    "## Creando tus propias secuencias"
   ]
  },
  {
   "cell_type": "markdown",
   "id": "48bf30bc",
   "metadata": {},
   "source": [
    "El método mágico (métodos rodeados por dobles `__`, reservados por Python para comportamiento especial) `__getitem` es llamado cuando algo como `myobject[key]` es llamado, pasando la *key* como un parámetro. Una secuencia, en particular, es un objeto que implementa `__getitem__` y `__len__`, y por esta razón, se puede iterar sobre el. \n",
    "\n",
    "Si vas a implementar el método `__getitem__` en una clase personalizada, debes tener en cuenta ciertas cosas para así seguir un *approach* Pythonico.\n",
    "\n",
    "En el caso de que tu clase es un *wrapper* alrededor de un objecto de la librería estándar, tal vez sea lo mejor delegar el comportamiento, lo más posible al objeto subyacente.\n",
    "\n",
    "Si usted está implementando su propia secuencia que no es un *wrapper* o no depende de ningún objeto *built-in*, es importante mantener en mente lo siguiente:\n",
    "\n",
    "- Cuando se indexe por un rango, el resultado debería ser una instancia del mismo tipo de la clase.\n",
    "- En el rango que se provee con slice, hay que respetar la semántica que Python usa, exlucluyendo el elemento al final."
   ]
  },
  {
   "cell_type": "markdown",
   "id": "40de8daf",
   "metadata": {},
   "source": [
    "## Context managers"
   ]
  },
  {
   "cell_type": "markdown",
   "id": "4e29ed64",
   "metadata": {},
   "source": [
    "Hay situaciones recurrentes en las que queremos correr código que tiene precondiciones y postcondiciones, signifcando esto que queremos correr cosas antes y después de una cierta acción. Los context managers son buenas herramientas a utilizar en estas situaciones.\n",
    "\n",
    "El `with` *statement* ingresa el context manager."
   ]
  },
  {
   "cell_type": "code",
   "execution_count": null,
   "id": "83ea8aca",
   "metadata": {},
   "outputs": [],
   "source": [
    "with open(\"archivo.txt\", 'w') as file:\n",
    "    pass"
   ]
  },
  {
   "cell_type": "markdown",
   "id": "a4b42531",
   "metadata": {},
   "source": [
    "Los context managers consisten de dos métodos mágicos: `__enter__` y `__exit__`. En la primera línea del context manager, el `with` *statement* va a llamar el primer método, y lo que sea que este método retorne va a ser a una variable llamada luego de *as*. Esto es opcional - realmente no necesitamos retornar nada en específico en el método `__enter__`, e incluso si lo hacemos, no hay una razón estricta para asignarlo a una variable si es requerido.\n",
    "\n",
    "Luego de que esta línea es ejecutada, el código entra en un nuevo contexto, donde cualquier otro código de Python puede ser ejecutado. Luego de que el último *statement* en ese bloque es ejecutado, el context se va a salir, significando esto que Python va a llamar el método `__exit__` del context manager original que invocamos en un principio.\n",
    "\n",
    "Si hay un error o excepcion dentro del bloque del context manager, el método `__exit__` se llamará de todas formas, lo que lo hace conveniente para manejar de forma segura la limpieza de las condiciones. De hecho, este método recibe la excepción que fue gatillada en el bloque en el caso de que la queramos manejar. Podemos implementar nuestros propios context managers para así manejar la lógica particular que necesitamos.\n",
    "\n",
    "Los context managers son una buena manera de separar *concerns* y aislar partes del código que deberían mantenerse independientes, porque si las mezclamos, la lógica se puede hacer más difícil de mantener.\n",
    "\n",
    "Como regla general, es una buena práctica el retornar algo en `__enter__`."
   ]
  },
  {
   "cell_type": "markdown",
   "id": "f2596d47",
   "metadata": {},
   "source": [
    "## Implementando context managers"
   ]
  },
  {
   "cell_type": "code",
   "execution_count": null,
   "id": "da6b895b",
   "metadata": {},
   "outputs": [],
   "source": []
  }
 ],
 "metadata": {
  "kernelspec": {
   "display_name": "Python 3 (ipykernel)",
   "language": "python",
   "name": "python3"
  },
  "language_info": {
   "codemirror_mode": {
    "name": "ipython",
    "version": 3
   },
   "file_extension": ".py",
   "mimetype": "text/x-python",
   "name": "python",
   "nbconvert_exporter": "python",
   "pygments_lexer": "ipython3",
   "version": "3.9.10"
  }
 },
 "nbformat": 4,
 "nbformat_minor": 5
}
