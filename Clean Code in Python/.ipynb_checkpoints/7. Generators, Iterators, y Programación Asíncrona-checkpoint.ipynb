{
 "cells": [
  {
   "cell_type": "markdown",
   "id": "9ef59025",
   "metadata": {},
   "source": [
    "# Generators, Iterators, and Asynchronous Programming"
   ]
  },
  {
   "cell_type": "markdown",
   "id": "48c234c0",
   "metadata": {},
   "source": [
    "## Tabla de contenidos\n",
    "***\n",
    "\n",
    "\n",
    "***"
   ]
  },
  {
   "cell_type": "markdown",
   "id": "fa36bfd2",
   "metadata": {},
   "source": [
    "## Creando generadores"
   ]
  },
  {
   "cell_type": "markdown",
   "id": "b14adf96",
   "metadata": {},
   "source": [
    "Los generadores fueron introducidos con la idea de introducing la iteración en Python, mientras se mejora el rendimiento del programa (usando menos memoria) al mismo tiempo.\n",
    "\n",
    "La idea de un generador es crear un objeto que es iterable, y mientras es iterado, va a producir los elementos que contiene, uno a la vez. El uso principal de los generadores es guardar memoria, donde se tiene un objecto que sabe como producir cada elemento en particular, uno a la vez, cuando se es requerido."
   ]
  },
  {
   "cell_type": "markdown",
   "id": "58029f9f",
   "metadata": {},
   "source": [
    "## Un primer vistazo a los generadores"
   ]
  },
  {
   "cell_type": "markdown",
   "id": "5e586b49",
   "metadata": {},
   "source": [
    "Empecemos con un ejemplo. El problema es que necesitamos procesar una lista larga de *records* y obtener algunas métricas e indicadores sobre ellos. Dado un dataset grande con información acerca de compras, queremos procesarlo para así obtener la venta más baja, la venta más alta y el precio promedio de venta. Para este ejemplo asumiremos que hay un archivo CSV con dos campos:\n",
    "- `<purchase_date>, <price>`"
   ]
  },
  {
   "cell_type": "markdown",
   "id": "389ed29b",
   "metadata": {},
   "source": [
    "Vamos a crear un objeto que recibe todas las compras, y nos entregará las métricas necesarias. El código que nos entregara los números es bastante simple. Es solo un objeto con un método que va a pocesar todos los precios de una, en cada step, va a actualizar el valor de cada métrica en particular en la cual estamos interesados."
   ]
  },
  {
   "cell_type": "code",
   "execution_count": 1,
   "id": "69c930a7",
   "metadata": {},
   "outputs": [],
   "source": [
    "class PurchasesStats:\n",
    "    def __init__(self, purchases):\n",
    "        self.purchases = iter(purchases)\n",
    "        self.min_price: float = None\n",
    "        self.max_price: float = None\n",
    "        self._total_purchases_price: float = 0.0\n",
    "        self._total_purchases = 0\n",
    "        self.initialize()\n",
    "        \n",
    "    \n",
    "    def _initialize(self):\n",
    "        try:\n",
    "            first_value = next(self.purchases)\n",
    "        except StopIteration:\n",
    "            raise ValueError(\"No values provided\")\n",
    "            \n",
    "        \n",
    "        self.min_price = self.max_price = first_value\n",
    "        self._update_avg(first_value)\n",
    "        \n",
    "    \n",
    "    def process(self):\n",
    "        for purchase_value in self.purchases:\n",
    "            self._update_min(purchase_value)\n",
    "            self._update_max(purchase_value)\n",
    "            self._update_avg(purchase_value)\n",
    "        \n",
    "        return self\n",
    "    \n",
    "    \n",
    "    def _update_min(self, new_value: float):\n",
    "        if new_value < self.min_price:\n",
    "            self.min_price = new_value\n",
    "            \n",
    "    \n",
    "    def _update_max(self, new_value: float):\n",
    "        if new_value > self.max_price:\n",
    "            self.max_price = new_value\n",
    "\n",
    "    @property\n",
    "    def avg_price(self):\n",
    "        return self._total_purchases_price / self._total_purchases\n",
    "\n",
    "    def _update_avg(self, new_value: float):\n",
    "        self._total_purchases_price += new_value\n",
    "        self._total_purchases += 1\n",
    "\n",
    "    def __str__(self):\n",
    "        return (\n",
    "            f\"{self.__class__.__name__}({self.min_price}, \"\n",
    "            f\"{self.max_price}, {self.avg_price})\"\n",
    "        )"
   ]
  },
  {
   "cell_type": "markdown",
   "id": "2e05c1f6",
   "metadata": {},
   "source": [
    "Ahora, se necesita una función que carga estos números en algo que este objeto pueda procesar. Una primera versión es"
   ]
  },
  {
   "cell_type": "code",
   "execution_count": 3,
   "id": "dcbed31f",
   "metadata": {},
   "outputs": [],
   "source": [
    "def _load_purchases(filename):\n",
    "    purchases = []\n",
    "    with open(filename) as f:\n",
    "        for line in f:\n",
    "            *_, price_raw = line.partition(\",\")\n",
    "            purchases.append(float(price_raw))\n",
    "\n",
    "    return purchases"
   ]
  },
  {
   "cell_type": "markdown",
   "id": "ad53f57f",
   "metadata": {},
   "source": [
    "Este código trabaja; carga todos los números del archivo en una lista, que cuando se le pasa a nuestro objecto, va a producir los números que queremos. Si se corre este código con un dataset muy grande, le va a tomar un cierto tiempo para completar e incluso podría fallar si el dataset es lo suficientemente largo hasta el punto de no caber en la memoria.\n",
    "\n",
    "La solución es crear un generador. En vez de cargar todo el contenido del archivo en una lista, podemos producir los resultados uno a la vez."
   ]
  },
  {
   "cell_type": "code",
   "execution_count": 4,
   "id": "d2f365b4",
   "metadata": {},
   "outputs": [],
   "source": [
    "def load_purchases(filename):\n",
    "    with open(filename) as f:\n",
    "        for line in f:\n",
    "            *_, price_raw = line.partition(\",\")\n",
    "            yield float(price_raw)"
   ]
  },
  {
   "cell_type": "markdown",
   "id": "34fb5882",
   "metadata": {},
   "source": [
    "En este caso, la función `load_purchases` es una función generadora, o simplemente un generador.\n",
    "\n",
    "En Python, la mera presencia de la palabra `yield` en cualquier función la convierte en un generador. Un objecto generador es iterable, lo que significa que puede funcionar con `for loops`.\n",
    "\n",
    "Trabajar con iterables nos permite create este tipo de abstracciones poderosas que son polimórficas respecto a los `for loops`. Mientras queramos mantener la interfaz iterable, podemos iterar sobre este objeto de forma transparente."
   ]
  },
  {
   "cell_type": "markdown",
   "id": "c4a977fa",
   "metadata": {},
   "source": [
    "## Generator expressions"
   ]
  },
  {
   "cell_type": "markdown",
   "id": "e706f5d3",
   "metadata": {},
   "source": [
    "Los generadores guardan mucha memoria, y dado que son iteradores, son una alternative conveniente a otros iterables o containers que requieren más espacio en memoria como listas, tuplas, o sets. También pueden ser definidos con *comprehensions*, solo que son llamados *generator expression*."
   ]
  },
  {
   "cell_type": "code",
   "execution_count": 5,
   "id": "ae06cc74",
   "metadata": {},
   "outputs": [
    {
     "data": {
      "text/plain": [
       "[0, 1, 4, 9, 16, 25, 36, 49, 64, 81]"
      ]
     },
     "execution_count": 5,
     "metadata": {},
     "output_type": "execute_result"
    }
   ],
   "source": [
    "[x ** 2 for x in range(10)]"
   ]
  },
  {
   "cell_type": "code",
   "execution_count": 6,
   "id": "858fbe3f",
   "metadata": {},
   "outputs": [
    {
     "data": {
      "text/plain": [
       "<generator object <genexpr> at 0x000001D777B36F90>"
      ]
     },
     "execution_count": 6,
     "metadata": {},
     "output_type": "execute_result"
    }
   ],
   "source": [
    "(x ** 2 for x in range(10))"
   ]
  },
  {
   "cell_type": "code",
   "execution_count": 7,
   "id": "abfccb78",
   "metadata": {},
   "outputs": [
    {
     "data": {
      "text/plain": [
       "285"
      ]
     },
     "execution_count": 7,
     "metadata": {},
     "output_type": "execute_result"
    }
   ],
   "source": [
    "sum(x ** 2 for x in range(10))"
   ]
  },
  {
   "cell_type": "markdown",
   "id": "22655d11",
   "metadata": {},
   "source": [
    "Mencionar que un generador va a estar \"agotado\" una vez que se ha iterado sobre el. Asegúrese que el resultado de la expresión es \"consumido\" una vez o va a obtener resultados inesperados."
   ]
  },
  {
   "cell_type": "markdown",
   "id": "3ed9af8c",
   "metadata": {},
   "source": [
    "## Iterating idiomatically"
   ]
  },
  {
   "cell_type": "markdown",
   "id": "a7e651a2",
   "metadata": {},
   "source": [
    "En esta ocasión queremos un objeto que produce una secuencia de números, desde uno, sin ningún límite. Un objeto como el siguiente puede lograr este objetivo. Cada vez que lo llamamos, obtenemos el siguiente número en la secuencia:"
   ]
  },
  {
   "cell_type": "code",
   "execution_count": 8,
   "id": "4ff739e4",
   "metadata": {},
   "outputs": [],
   "source": [
    "class NumberSequence:\n",
    "    \n",
    "    def __init__(self, start = 0):\n",
    "        self.current = start\n",
    "    \n",
    "    \n",
    "    def next(self):\n",
    "        current = self.current\n",
    "        self.current += 1\n",
    "        return current"
   ]
  },
  {
   "cell_type": "code",
   "execution_count": 9,
   "id": "27f3b1d1",
   "metadata": {},
   "outputs": [],
   "source": [
    "seq = NumberSequence()"
   ]
  },
  {
   "cell_type": "code",
   "execution_count": 10,
   "id": "6c1b3233",
   "metadata": {},
   "outputs": [
    {
     "data": {
      "text/plain": [
       "0"
      ]
     },
     "execution_count": 10,
     "metadata": {},
     "output_type": "execute_result"
    }
   ],
   "source": [
    "seq.next()"
   ]
  },
  {
   "cell_type": "code",
   "execution_count": 11,
   "id": "56f7d168",
   "metadata": {},
   "outputs": [
    {
     "data": {
      "text/plain": [
       "1"
      ]
     },
     "execution_count": 11,
     "metadata": {},
     "output_type": "execute_result"
    }
   ],
   "source": [
    "seq.next()"
   ]
  },
  {
   "cell_type": "markdown",
   "id": "a6a5caa3",
   "metadata": {},
   "source": [
    "Cada vez vamos a tener que usar el método `next()`. Notar que esta interface no soporta el ser iterada sobre un `for loop`, lo que significa que no lo podemos pasar como parámetro a funciones que esperan algo sobre lo que iterar."
   ]
  },
  {
   "cell_type": "code",
   "execution_count": 12,
   "id": "6102586a",
   "metadata": {},
   "outputs": [
    {
     "ename": "TypeError",
     "evalue": "'NumberSequence' object is not iterable",
     "output_type": "error",
     "traceback": [
      "\u001b[1;31m---------------------------------------------------------------------------\u001b[0m",
      "\u001b[1;31mTypeError\u001b[0m                                 Traceback (most recent call last)",
      "Input \u001b[1;32mIn [12]\u001b[0m, in \u001b[0;36m<cell line: 1>\u001b[1;34m()\u001b[0m\n\u001b[1;32m----> 1\u001b[0m \u001b[38;5;28mlist\u001b[39m(\u001b[38;5;28;43mzip\u001b[39;49m\u001b[43m(\u001b[49m\u001b[43mNumberSequence\u001b[49m\u001b[43m(\u001b[49m\u001b[43m)\u001b[49m\u001b[43m,\u001b[49m\u001b[43m \u001b[49m\u001b[38;5;124;43m\"\u001b[39;49m\u001b[38;5;124;43mabcdef\u001b[39;49m\u001b[38;5;124;43m\"\u001b[39;49m\u001b[43m)\u001b[49m)\n",
      "\u001b[1;31mTypeError\u001b[0m: 'NumberSequence' object is not iterable"
     ]
    }
   ],
   "source": [
    "list(zip(NumberSequence(), \"abcdef\"))"
   ]
  },
  {
   "cell_type": "markdown",
   "id": "a615220c",
   "metadata": {},
   "source": [
    "El problema recae en que NumberSequence no soporta la iteración. Para arreglar esto, tenemos que hacer que el objeto sea iterable implementando el método mágico `__iter__()`. También hay que cambiar el método `next()` usando el método mágico `__next__`, que convierte al objeto en un iterador."
   ]
  },
  {
   "cell_type": "code",
   "execution_count": 15,
   "id": "93366630",
   "metadata": {},
   "outputs": [],
   "source": [
    "class SequenceOfNumbers:\n",
    "    def __init__(self, start = 0):\n",
    "        self.current = start\n",
    "    \n",
    "    \n",
    "    def __next__(self):\n",
    "        current = self.current\n",
    "        self.current += 1\n",
    "        return current\n",
    "    \n",
    "    def __iter__(self):\n",
    "        return self"
   ]
  },
  {
   "cell_type": "code",
   "execution_count": 16,
   "id": "ae8c1450",
   "metadata": {},
   "outputs": [
    {
     "data": {
      "text/plain": [
       "[(0, 'a'), (1, 'b'), (2, 'c'), (3, 'd'), (4, 'e'), (5, 'f')]"
      ]
     },
     "execution_count": 16,
     "metadata": {},
     "output_type": "execute_result"
    }
   ],
   "source": [
    "list(zip(SequenceOfNumbers(), \"abcdef\"))"
   ]
  },
  {
   "cell_type": "markdown",
   "id": "f015b97a",
   "metadata": {},
   "source": [
    "Esto hace uso del protocolo de iteración. Este protocolo recae en los métodos `__iter__` y `__next__`."
   ]
  },
  {
   "cell_type": "markdown",
   "id": "ec85c7e3",
   "metadata": {},
   "source": [
    "## La función next()"
   ]
  },
  {
   "cell_type": "markdown",
   "id": "b959692f",
   "metadata": {},
   "source": [
    "La función de Python `next()` va a avanzar en el iterable a su siguiente elemento y lo va a retornar"
   ]
  },
  {
   "cell_type": "code",
   "execution_count": 17,
   "id": "d647b612",
   "metadata": {},
   "outputs": [],
   "source": [
    "word = iter(\"hello\")"
   ]
  },
  {
   "cell_type": "code",
   "execution_count": 18,
   "id": "0d150966",
   "metadata": {},
   "outputs": [
    {
     "data": {
      "text/plain": [
       "'h'"
      ]
     },
     "execution_count": 18,
     "metadata": {},
     "output_type": "execute_result"
    }
   ],
   "source": [
    "next(word)"
   ]
  },
  {
   "cell_type": "code",
   "execution_count": 19,
   "id": "33661061",
   "metadata": {},
   "outputs": [
    {
     "data": {
      "text/plain": [
       "'e'"
      ]
     },
     "execution_count": 19,
     "metadata": {},
     "output_type": "execute_result"
    }
   ],
   "source": [
    "next(word)"
   ]
  },
  {
   "cell_type": "code",
   "execution_count": 20,
   "id": "1a39bade",
   "metadata": {},
   "outputs": [
    {
     "data": {
      "text/plain": [
       "'l'"
      ]
     },
     "execution_count": 20,
     "metadata": {},
     "output_type": "execute_result"
    }
   ],
   "source": [
    "next(word)"
   ]
  },
  {
   "cell_type": "code",
   "execution_count": 21,
   "id": "6a85a357",
   "metadata": {},
   "outputs": [
    {
     "data": {
      "text/plain": [
       "'l'"
      ]
     },
     "execution_count": 21,
     "metadata": {},
     "output_type": "execute_result"
    }
   ],
   "source": [
    "next(word)"
   ]
  },
  {
   "cell_type": "code",
   "execution_count": 22,
   "id": "426faa40",
   "metadata": {},
   "outputs": [
    {
     "data": {
      "text/plain": [
       "'o'"
      ]
     },
     "execution_count": 22,
     "metadata": {},
     "output_type": "execute_result"
    }
   ],
   "source": [
    "next(word)"
   ]
  },
  {
   "cell_type": "code",
   "execution_count": 23,
   "id": "9b645362",
   "metadata": {},
   "outputs": [
    {
     "ename": "StopIteration",
     "evalue": "",
     "output_type": "error",
     "traceback": [
      "\u001b[1;31m---------------------------------------------------------------------------\u001b[0m",
      "\u001b[1;31mStopIteration\u001b[0m                             Traceback (most recent call last)",
      "Input \u001b[1;32mIn [23]\u001b[0m, in \u001b[0;36m<cell line: 1>\u001b[1;34m()\u001b[0m\n\u001b[1;32m----> 1\u001b[0m \u001b[38;5;28;43mnext\u001b[39;49m\u001b[43m(\u001b[49m\u001b[43mword\u001b[49m\u001b[43m)\u001b[49m\n",
      "\u001b[1;31mStopIteration\u001b[0m: "
     ]
    }
   ],
   "source": [
    "next(word)"
   ]
  },
  {
   "cell_type": "markdown",
   "id": "431c82df",
   "metadata": {},
   "source": [
    "Si no se tienen más elementos para producir, se levantará la excepción `StopIteration`. La excepción señala que la iteración se ha terminado y que no hay más elementos para consumir.\n",
    "\n",
    "Si deseamos manejar este caso, además de manejar la excepción `StopIteration`, le podríamos proveer a la función con un valor por defecto en su segundo parámetro. Si se le provee, va a retornar este valor cuando eventualmente se retornaría la excepción `StopIteration`"
   ]
  },
  {
   "cell_type": "code",
   "execution_count": 24,
   "id": "f72e39d2",
   "metadata": {},
   "outputs": [
    {
     "data": {
      "text/plain": [
       "'default value'"
      ]
     },
     "execution_count": 24,
     "metadata": {},
     "output_type": "execute_result"
    }
   ],
   "source": [
    "next(word, \"default value\")"
   ]
  },
  {
   "cell_type": "markdown",
   "id": "9b6e29d8",
   "metadata": {},
   "source": [
    "Es recomendable usar el valor por defecto la mayoría de las veces, para evitar tener excepciones en programas que están corriendo. La función `next()` puede ser muy útil en combinación con *generator expressions*, en situaciones en las que nos gustaría obtener los primeros elementos de un iterable que cumplen ciertos criterios."
   ]
  },
  {
   "cell_type": "markdown",
   "id": "a0879acc",
   "metadata": {},
   "source": [
    "## Usando un generador"
   ]
  },
  {
   "cell_type": "markdown",
   "id": "136ccc21",
   "metadata": {},
   "source": [
    "El código previo puede ser significado notablemente usando un generador. De esta manera, en vez de crear una clase, podemos definir una función que *yields* los valores a medida que se necesitan:"
   ]
  },
  {
   "cell_type": "code",
   "execution_count": 25,
   "id": "8951489f",
   "metadata": {},
   "outputs": [],
   "source": [
    "def sequence(start = 0):\n",
    "    while True:\n",
    "        yield start\n",
    "        start += 1"
   ]
  },
  {
   "cell_type": "code",
   "execution_count": 26,
   "id": "6ee33ef4",
   "metadata": {},
   "outputs": [
    {
     "data": {
      "text/plain": [
       "[(0, 'a'), (1, 'b'), (2, 'c'), (3, 'd'), (4, 'e'), (5, 'f')]"
      ]
     },
     "execution_count": 26,
     "metadata": {},
     "output_type": "execute_result"
    }
   ],
   "source": [
    "list(zip(sequence(), \"abcdef\"))"
   ]
  },
  {
   "cell_type": "markdown",
   "id": "fc721dc4",
   "metadata": {},
   "source": [
    "## Itertools"
   ]
  },
  {
   "cell_type": "code",
   "execution_count": null,
   "id": "656d9900",
   "metadata": {},
   "outputs": [],
   "source": []
  }
 ],
 "metadata": {
  "kernelspec": {
   "display_name": "Python 3 (ipykernel)",
   "language": "python",
   "name": "python3"
  },
  "language_info": {
   "codemirror_mode": {
    "name": "ipython",
    "version": 3
   },
   "file_extension": ".py",
   "mimetype": "text/x-python",
   "name": "python",
   "nbconvert_exporter": "python",
   "pygments_lexer": "ipython3",
   "version": "3.9.10"
  }
 },
 "nbformat": 4,
 "nbformat_minor": 5
}
