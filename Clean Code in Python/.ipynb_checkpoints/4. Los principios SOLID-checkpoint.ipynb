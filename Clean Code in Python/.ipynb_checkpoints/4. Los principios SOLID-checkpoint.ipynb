{
 "cells": [
  {
   "cell_type": "markdown",
   "id": "459b6a69",
   "metadata": {},
   "source": [
    "# Los principios SOLID"
   ]
  },
  {
   "cell_type": "markdown",
   "id": "04a03c69",
   "metadata": {},
   "source": [
    "## Tabla de contenidos\n",
    "***\n",
    "\n",
    "\n",
    "\n",
    "***"
   ]
  },
  {
   "cell_type": "markdown",
   "id": "ff23c2ea",
   "metadata": {},
   "source": [
    "Los principios SOLID implican una serie de buenas prácticas para alcanzar software de buena calidad.\n",
    "\n",
    "- S: Principio de una sola responsabilidad.\n",
    "- O: Principio abierto/cerrado.\n",
    "- L: Principio de sustitución de Liskov's.\n",
    "- I: Principio de segregación de interfaces.\n",
    "- D: Principio de inversión de dependencias."
   ]
  },
  {
   "cell_type": "markdown",
   "id": "b09ae0f3",
   "metadata": {},
   "source": [
    "## El principio de una sola responsabilidad\n",
    "El **principio de una sola responsabilidad (SRP)** establece que un componente de software (en lo general, una clase), debe tener solo una responsabilidad. Esto implica que la clase se encarga de hacer solo una cosa, lo que implica que debe tener solo una razón para cambiar. Lo que queremos evitar es tener objetos con múltiples responsabilidades. Mientras más pequeña sea la clase, mejor. \n",
    "\n",
    "Lo que queremos lograr es que las clases sean diseñadas de tal manera que la mayoría de sus propiedades y atributos son usados por sus métodos, la mayoría del tiempo. Si miramos a una clase y encontramos métodos que son mutuamente excluyentes y no están relacionados el uno con el otro, son distintas responsabilidades que deben ser separadas en distintas clases.\n",
    "\n",
    "Una clarificación importante es que este principio no significa por nada, que una clase debe tener un solo método. Mencionar a su vez es que no debamos implementar todos estos principios en el primer intento. Se puede usar el SRP como un proceso de pensamiento."
   ]
  },
  {
   "cell_type": "markdown",
   "id": "b49e46da",
   "metadata": {},
   "source": [
    "## El principio cerrado/abierto"
   ]
  },
  {
   "cell_type": "markdown",
   "id": "ae62c80d",
   "metadata": {},
   "source": [
    "El **principio cerrado/abierto(OCP)** establece que un módulo debería estar tanto abierto como cerrado (respecto a diferentes aspectos).\n",
    "\n",
    "Cuando se diseña una clase, deberíamos encapsular cuidadosamente los detalles de implementación, así tiene un buen mantenimiento, significando esto que está abierta a la extensión pero cerrada a la modificación.\n",
    "\n",
    "Lo que esto significa en palabras sencillas, es que queremos que nuestro código sea extensible, que se pueda adaptar a nuevos requerimientos o cambios en el dominio del problema. Esto significa que cuando algo nuevo aparezca en el dominio del problema, solo queremos añadir cosas a nuestro modelo, no cambiar algo que está cerrado a la modificación.\n",
    "\n",
    "Si por alguna razón, cuando algo nuevo se debe añadir y debemos modificar nuestro código, significa que la lógica está pobremente diseñada. Idealmente, cuando los requerimientos cambian, queremos extender el módulo con nuevo comportamiento, pero sin alterar la lógica actual de forma significativa.\n",
    "\n",
    "Este principio está muy relacionado con el uso efectivo de polymorfismo."
   ]
  },
  {
   "cell_type": "code",
   "execution_count": null,
   "id": "83b2ccc0",
   "metadata": {},
   "outputs": [],
   "source": []
  }
 ],
 "metadata": {
  "kernelspec": {
   "display_name": "Python 3 (ipykernel)",
   "language": "python",
   "name": "python3"
  },
  "language_info": {
   "codemirror_mode": {
    "name": "ipython",
    "version": 3
   },
   "file_extension": ".py",
   "mimetype": "text/x-python",
   "name": "python",
   "nbconvert_exporter": "python",
   "pygments_lexer": "ipython3",
   "version": "3.9.10"
  }
 },
 "nbformat": 4,
 "nbformat_minor": 5
}
