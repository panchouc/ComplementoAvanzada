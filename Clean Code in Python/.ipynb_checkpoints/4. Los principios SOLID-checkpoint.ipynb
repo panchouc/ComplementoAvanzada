{
 "cells": [
  {
   "cell_type": "markdown",
   "id": "459b6a69",
   "metadata": {},
   "source": [
    "# Los principios SOLID"
   ]
  },
  {
   "cell_type": "markdown",
   "id": "04a03c69",
   "metadata": {},
   "source": [
    "## Tabla de contenidos\n",
    "***\n",
    "\n",
    "\n",
    "\n",
    "***"
   ]
  },
  {
   "cell_type": "markdown",
   "id": "ff23c2ea",
   "metadata": {},
   "source": [
    "Los principios SOLID implican una serie de buenas prácticas para alcanzar software de buena calidad.\n",
    "\n",
    "- S: Principio de una sola responsabilidad.\n",
    "- O: Principio abierto/cerrado.\n",
    "- L: Principio de sustitución de Liskov's.\n",
    "- I: Principio de segregación de interfaces.\n",
    "- D: Principio de inversión de dependencias."
   ]
  },
  {
   "cell_type": "markdown",
   "id": "b09ae0f3",
   "metadata": {},
   "source": [
    "## El principio de una sola responsabilidad\n",
    "El **principio de una sola responsabilidad (SRP)** establece que un componente de software (en lo general, una clase), debe tener solo una responsabilidad. Esto implica que la clase se encarga de hacer solo una cosa, lo que implica que debe tener solo una razón para cambiar. Lo que queremos evitar es tener objetos con múltiples responsabilidades. Mientras más pequeña sea la clase, mejor. \n",
    "\n",
    "Lo que queremos lograr es que las clases sean diseñadas de tal manera que la mayoría de sus propiedades y atributos son usados por sus métodos, la mayoría del tiempo. Si miramos a una clase y encontramos métodos que son mutuamente excluyentes y no están relacionados el uno con el otro, son distintas responsabilidades que deben ser separadas en distintas clases.\n",
    "\n",
    "Una clarificación importante es que este principio no significa por nada, que una clase debe tener un solo método. Mencionar a su vez es que no debamos implementar todos estos principios en el primer intento. Se puede usar el SRP como un proceso de pensamiento."
   ]
  },
  {
   "cell_type": "markdown",
   "id": "b49e46da",
   "metadata": {},
   "source": [
    "## El principio cerrado/abierto"
   ]
  },
  {
   "cell_type": "markdown",
   "id": "ae62c80d",
   "metadata": {},
   "source": [
    "El **principio cerrado/abierto(OCP)** establece que un módulo debería estar tanto abierto como cerrado (respecto a diferentes aspectos).\n",
    "\n",
    "Cuando se diseña una clase, deberíamos encapsular cuidadosamente los detalles de implementación, así tiene un buen mantenimiento, significando esto que está abierta a la extensión pero cerrada a la modificación.\n",
    "\n",
    "Lo que esto significa en palabras sencillas, es que queremos que nuestro código sea extensible, que se pueda adaptar a nuevos requerimientos o cambios en el dominio del problema. Esto significa que cuando algo nuevo aparezca en el dominio del problema, solo queremos añadir cosas a nuestro modelo, no cambiar algo que está cerrado a la modificación.\n",
    "\n",
    "Si por alguna razón, cuando algo nuevo se debe añadir y debemos modificar nuestro código, significa que la lógica está pobremente diseñada. Idealmente, cuando los requerimientos cambian, queremos extender el módulo con nuevo comportamiento, pero sin alterar la lógica actual de forma significativa.\n",
    "\n",
    "Este principio está muy relacionado con el uso efectivo de polymorfismo."
   ]
  },
  {
   "cell_type": "markdown",
   "id": "72259de8",
   "metadata": {},
   "source": [
    "## Principio de sustitución de Liskov's"
   ]
  },
  {
   "cell_type": "markdown",
   "id": "18c9e329",
   "metadata": {},
   "source": [
    "El **principio de sustitución de Liskov's (LSP)** establece que hay una serie de propiedades que cualquier objeto debe mantener para preservar la fiabilidad de su diseño.\n",
    "\n",
    "La principal idea detrás de LSP es que, para cualquier clase, el cliente debería poder usar cualquiera de sus subtipos de forma indistinguida, sin notarlo, y por tanto, sin comprometer el comportamiento esperado en runtime.\n",
    "\n",
    "El LSP es fundamental para buen software OOP porque enfatiza una de sus fortalezas - el polymorfismo. Es acerca de crear jerarquías correctas así las clases que derivan de la clase base son polymorficas con respecto a la clase base."
   ]
  },
  {
   "cell_type": "markdown",
   "id": "e1042c13",
   "metadata": {},
   "source": [
    "## Segregación de interfaces"
   ]
  },
  {
   "cell_type": "markdown",
   "id": "f7563f9c",
   "metadata": {},
   "source": [
    "El **principio de segregación de interfaces (ISP)** provee algunos lineamientos para la idea de que las interfaces deberían ser pequeñas.\n",
    "\n",
    "En términos de OOP, una **interfaz** es representada por un set de métodos y propiedades que un objeto expone. La interfaz separa la definición del comportamiento expuesto de una clase, de su implementación.\n",
    "\n",
    "En términos abstractos, ISP establece que cuando definimos una interfaz que provee múltiples métodos, es mejor descomponerla en múltiples, cada una conteniendo menos métodos (preferiblemente uno), con un objetivo muy específico.\n",
    "\n",
    "Una clase base define una interfaz para todo el resto de las clases que la extiende. El hecho de que debería ser lo más pequeña posible tiene que ser entendido en términos de cohesión - debería solo hacer una cosa. Esto no significa que necesariamente debe tener un solo método."
   ]
  },
  {
   "cell_type": "markdown",
   "id": "ce8c3916",
   "metadata": {},
   "source": [
    "## Inversión de dependencias (Dependency Inversion)"
   ]
  },
  {
   "cell_type": "markdown",
   "id": "8b723059",
   "metadata": {},
   "source": [
    "El **principio de inversión de dependencias (DIP)** propone que deberíamos proteger nuestro código haciendolo independiente de de cosas que son frágiles, volátiles, o fuera de nuestro control. Queremos forzar, cualquier sea la implementación o detalle para que se adapte a nuestro código via una especie de API.\n",
    "\n",
    "Una idea poderosa de esto es que en vez de hacer nuestro código dependiente de una implementación específica y concreta, podemos crear una abstracción poderosa que actúa como un *layer* en medio. \n"
   ]
  }
 ],
 "metadata": {
  "kernelspec": {
   "display_name": "Python 3 (ipykernel)",
   "language": "python",
   "name": "python3"
  },
  "language_info": {
   "codemirror_mode": {
    "name": "ipython",
    "version": 3
   },
   "file_extension": ".py",
   "mimetype": "text/x-python",
   "name": "python",
   "nbconvert_exporter": "python",
   "pygments_lexer": "ipython3",
   "version": "3.9.10"
  }
 },
 "nbformat": 4,
 "nbformat_minor": 5
}
