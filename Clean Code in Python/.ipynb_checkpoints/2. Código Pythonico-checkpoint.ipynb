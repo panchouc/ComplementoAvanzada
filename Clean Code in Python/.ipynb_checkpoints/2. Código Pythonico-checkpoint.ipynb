{
 "cells": [
  {
   "cell_type": "markdown",
   "id": "70c42f54",
   "metadata": {},
   "source": [
    "# Pythonic Code\n"
   ]
  },
  {
   "cell_type": "markdown",
   "id": "7fdd6948",
   "metadata": {},
   "source": [
    "## Tabla de Contenidos\n",
    "***\n",
    "\n",
    "\n",
    "\n",
    "***"
   ]
  },
  {
   "cell_type": "code",
   "execution_count": 1,
   "id": "5d37e3e8",
   "metadata": {},
   "outputs": [],
   "source": [
    "my_numbers = (4, 5, 3 ,9)"
   ]
  },
  {
   "cell_type": "markdown",
   "id": "74c534ac",
   "metadata": {},
   "source": [
    "Para acceder a los últimos elementos, la forma *Pythonica* de hacerlo, sería utilizando el índice con un número negativo, así la forma preferida de hacerlo sería:"
   ]
  },
  {
   "cell_type": "code",
   "execution_count": 2,
   "id": "a2c7b616",
   "metadata": {},
   "outputs": [
    {
     "data": {
      "text/plain": [
       "9"
      ]
     },
     "execution_count": 2,
     "metadata": {},
     "output_type": "execute_result"
    }
   ],
   "source": [
    "my_numbers[-1]"
   ]
  },
  {
   "cell_type": "code",
   "execution_count": 3,
   "id": "afa42fe7",
   "metadata": {},
   "outputs": [
    {
     "data": {
      "text/plain": [
       "5"
      ]
     },
     "execution_count": 3,
     "metadata": {},
     "output_type": "execute_result"
    }
   ],
   "source": [
    "my_numbers[-3]"
   ]
  },
  {
   "cell_type": "markdown",
   "id": "b08587cd",
   "metadata": {},
   "source": [
    "## Creando tus propias secuencias"
   ]
  },
  {
   "cell_type": "markdown",
   "id": "0b5b03cc",
   "metadata": {},
   "source": [
    "El método mágico (métodos rodeados por dobles `__`, reservados por Python para comportamiento especial) `__getitem` es llamado cuando algo como `myobject[key]` es llamado, pasando la *key* como un parámetro. Una secuencia, en particular, es un objeto que implementa `__getitem__` y `__len__`, y por esta razón, se puede iterar sobre el. \n",
    "\n",
    "Si vas a implementar el método `__getitem__` en una clase personalizada, debes tener en cuenta ciertas cosas para así seguir un *approach* Pythonico.\n",
    "\n",
    "En el caso de que tu clase es un *wrapper* alrededor de un objecto de la librería estándar, tal vez sea lo mejor delegar el comportamiento, lo más posible al objeto subyacente.\n",
    "\n",
    "Si usted está implementando su propia secuencia que no es un *wrapper* o no depende de ningún objeto *built-in*, es importante mantener en mente lo siguiente:\n",
    "\n",
    "- Cuando se indexe por un rango, el resultado debería ser una instancia del mismo tipo de la clase.\n",
    "- En el rango que se provee con slice, hay que respetar la semántica que Python usa, exlucluyendo el elemento al final."
   ]
  },
  {
   "cell_type": "markdown",
   "id": "b6b19618",
   "metadata": {},
   "source": [
    "## Context managers"
   ]
  },
  {
   "cell_type": "markdown",
   "id": "fad03432",
   "metadata": {},
   "source": [
    "Hay situaciones recurrentes en las que queremos correr código que tiene precondiciones y postcondiciones, signifcando esto que queremos correr cosas antes y después de una cierta acción. Los context managers son buenas herramientas a utilizar en estas situaciones.\n",
    "\n",
    "El `with` *statement* ingresa el context manager."
   ]
  },
  {
   "cell_type": "code",
   "execution_count": null,
   "id": "92e47eeb",
   "metadata": {},
   "outputs": [],
   "source": [
    "with open(\"archivo.txt\", 'w') as file:\n",
    "    pass"
   ]
  },
  {
   "cell_type": "markdown",
   "id": "f0354a51",
   "metadata": {},
   "source": [
    "Los context managers consisten de dos métodos mágicos: `__enter__` y `__exit__`. En la primera línea del context manager, el `with` *statement* va a llamar el primer método, y lo que sea que este método retorne va a ser a una variable llamada luego de *as*. Esto es opcional - realmente no necesitamos retornar nada en específico en el método `__enter__`, e incluso si lo hacemos, no hay una razón estricta para asignarlo a una variable si es requerido.\n",
    "\n",
    "Luego de que esta línea es ejecutada, el código entra en un nuevo contexto, donde cualquier otro código de Python puede ser ejecutado. Luego de que el último *statement* en ese bloque es ejecutado, el context se va a salir, significando esto que Python va a llamar el método `__exit__` del context manager original que invocamos en un principio.\n",
    "\n",
    "Si hay un error o excepcion dentro del bloque del context manager, el método `__exit__` se llamará de todas formas, lo que lo hace conveniente para manejar de forma segura la limpieza de las condiciones. De hecho, este método recibe la excepción que fue gatillada en el bloque en el caso de que la queramos manejar. Podemos implementar nuestros propios context managers para así manejar la lógica particular que necesitamos.\n",
    "\n",
    "Los context managers son una buena manera de separar *concerns* y aislar partes del código que deberían mantenerse independientes, porque si las mezclamos, la lógica se puede hacer más difícil de mantener.\n",
    "\n",
    "Como regla general, es una buena práctica el retornar algo en `__enter__`."
   ]
  },
  {
   "cell_type": "markdown",
   "id": "506e2212",
   "metadata": {},
   "source": [
    "## Implementando context managers"
   ]
  },
  {
   "cell_type": "markdown",
   "id": "d6e2e37c",
   "metadata": {},
   "source": [
    "Todo lo que necesitamos es una clase que implementa los métodos mágicos `__enter__` y `__exit__` y así el objeto va a ser capaz de soportar el protocolo context manager. Si bien este es el método más común para implementar context managers, no es el único.\n",
    "\n",
    "El módulo `contextlib` posee un montón de *helper functions* y objetos ya sea para implementar context managers o usar algunos que ya han sido implementados que puedan ayudarnos a escribir código más compacto.\n",
    "\n",
    "Cuando el decorador `contextlib.contextmanager` es aplicado a una función, convierte el código en esa función en un context manager. La función en cuestión debe ser una función en particular llamada *generator function*, que va a separar los *statements* en lo que va a ir en los métodos `__enter__` y `__exit__`.\n",
    "\n",
    "Como ejemplo considérese una situación en la que queremos correr un backup de nuestro database con un script. El *caveat* es que el backup está offline, lo que significa que solo lo podemos hacer cuando el database no está corriendo, y para esto debemos detenerlo. Luego de correr el backup, queremos asegurarnos de empezar nuevamente el proceso, independiente de lo que haya ocurrido en el proceso del backup. Una posible solución podría ser"
   ]
  },
  {
   "cell_type": "code",
   "execution_count": 1,
   "id": "27635bb1",
   "metadata": {},
   "outputs": [],
   "source": [
    "run = print\n",
    "\n",
    "def stop_database():\n",
    "    run(\"systemctl stop postgresql.service\")\n",
    "\n",
    "\n",
    "def start_database():\n",
    "    run(\"systemctl start postgresql.service\")\n",
    "\n",
    "\n",
    "class DBHandler:\n",
    "    def __enter__(self):\n",
    "        stop_database()\n",
    "        return self\n",
    "\n",
    "    def __exit__(self, exc_type, ex_value, ex_traceback):\n",
    "        start_database()\n",
    "\n",
    "\n",
    "def db_backup():\n",
    "    run(\"pg_dump database\")\n",
    "\n",
    "\n",
    "def main():\n",
    "    with DBHandler():\n",
    "        db_backup()"
   ]
  },
  {
   "cell_type": "markdown",
   "id": "51c06b8d",
   "metadata": {},
   "source": [
    "El código anterior puede ser reescrito como:"
   ]
  },
  {
   "cell_type": "code",
   "execution_count": null,
   "id": "25d659c0",
   "metadata": {},
   "outputs": [],
   "source": [
    "import contextlib\n",
    "\n",
    "@contextlib.contextmanager\n",
    "def db_handler():\n",
    "    try:\n",
    "        stop_database()\n",
    "        yield\n",
    "    finally:\n",
    "        start_database()\n",
    "        \n",
    "with db_handler():\n",
    "    db_backup()"
   ]
  },
  {
   "cell_type": "markdown",
   "id": "8a7ef2d8",
   "metadata": {},
   "source": [
    "Aquí definimos la *generator function* y aplicamos el decorador `contextlib.contextmanager`. La función contiene un `yield statement`, lo que la convierte en una *generator function*. Todo lo que debemos saber es, es que cuando el decorador es aplicado, todo antes del `yield statement` se ejecutará como si fuese parte del método `__enter__`. Luego el valor *yielded* va a ser el resultado de la evaluación del context manager, y lo que podría ser asignado a una variable en caso de que queramos.\n",
    "\n",
    "En tal punto, la *generator function* está suspendida, y el context manager es ingresado, donde corremos el backup para nuestro database. Luego de que esto se completa, la ejecución se resume, por lo que podemos considerar que cada línea que viene después del `yield statement` va a ser parte de la lógica de `__exit__`.\n",
    "\n",
    "Escribir context managers de esta manera tiene la ventaja de que es más fácil de refactorizar funciones existentes, reutilizar código, y en general es una buena idea cuando necesitamos un contextmanager que no pertenece a ningún objeto en particular.\n",
    "\n",
    "Cuando solo necesitamos una función context manager, sin preservar muchos estados, y completamente aislada e independiente del resto de nuestras clases, esta es probablemente una manera de hacerlo."
   ]
  },
  {
   "cell_type": "code",
   "execution_count": null,
   "id": "0cd23799",
   "metadata": {},
   "outputs": [],
   "source": []
  }
 ],
 "metadata": {
  "kernelspec": {
   "display_name": "Python 3 (ipykernel)",
   "language": "python",
   "name": "python3"
  },
  "language_info": {
   "codemirror_mode": {
    "name": "ipython",
    "version": 3
   },
   "file_extension": ".py",
   "mimetype": "text/x-python",
   "name": "python",
   "nbconvert_exporter": "python",
   "pygments_lexer": "ipython3",
   "version": "3.9.10"
  }
 },
 "nbformat": 4,
 "nbformat_minor": 5
}
