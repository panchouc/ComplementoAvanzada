{
 "cells": [
  {
   "cell_type": "markdown",
   "id": "70c42f54",
   "metadata": {},
   "source": [
    "# Pythonic Code\n"
   ]
  },
  {
   "cell_type": "markdown",
   "id": "7fdd6948",
   "metadata": {},
   "source": [
    "## Tabla de Contenidos\n",
    "***\n",
    "\n",
    "\n",
    "\n",
    "***"
   ]
  },
  {
   "cell_type": "markdown",
   "id": "b08587cd",
   "metadata": {},
   "source": [
    "## Creando tus propias secuencias"
   ]
  },
  {
   "cell_type": "markdown",
   "id": "0b5b03cc",
   "metadata": {},
   "source": [
    "El método mágico (métodos rodeados por dobles `__`, reservados por Python para comportamiento especial) `__getitem` es llamado cuando algo como `myobject[key]` es llamado, pasando la *key* como un parámetro. Una secuencia, en particular, es un objeto que implementa `__getitem__` y `__len__`, y por esta razón, se puede iterar sobre el. \n",
    "\n",
    "Si vas a implementar el método `__getitem__` en una clase personalizada, debes tener en cuenta ciertas cosas para así seguir un *approach* Pythonico.\n",
    "\n",
    "En el caso de que tu clase es un *wrapper* alrededor de un objecto de la librería estándar, tal vez sea lo mejor delegar el comportamiento, lo más posible al objeto subyacente.\n",
    "\n",
    "Si usted está implementando su propia secuencia que no es un *wrapper* o no depende de ningún objeto *built-in*, es importante mantener en mente lo siguiente:\n",
    "\n",
    "- Cuando se indexe por un rango, el resultado debería ser una instancia del mismo tipo de la clase.\n",
    "- En el rango que se provee con slice, hay que respetar la semántica que Python usa, exlucluyendo el elemento al final."
   ]
  },
  {
   "cell_type": "markdown",
   "id": "b6b19618",
   "metadata": {},
   "source": [
    "## Context managers"
   ]
  },
  {
   "cell_type": "markdown",
   "id": "fad03432",
   "metadata": {},
   "source": [
    "Hay situaciones recurrentes en las que queremos correr código que tiene precondiciones y postcondiciones, signifcando esto que queremos correr cosas antes y después de una cierta acción. Los context managers son buenas herramientas a utilizar en estas situaciones.\n",
    "\n",
    "El `with` *statement* ingresa el context manager."
   ]
  },
  {
   "cell_type": "code",
   "execution_count": null,
   "id": "92e47eeb",
   "metadata": {},
   "outputs": [],
   "source": [
    "with open(\"archivo.txt\", 'w') as file:\n",
    "    pass"
   ]
  },
  {
   "cell_type": "markdown",
   "id": "f0354a51",
   "metadata": {},
   "source": [
    "Los context managers consisten de dos métodos mágicos: `__enter__` y `__exit__`. En la primera línea del context manager, el `with` *statement* va a llamar el primer método, y lo que sea que este método retorne va a ser a una variable llamada luego de *as*. Esto es opcional - realmente no necesitamos retornar nada en específico en el método `__enter__`, e incluso si lo hacemos, no hay una razón estricta para asignarlo a una variable si es requerido.\n",
    "\n",
    "Luego de que esta línea es ejecutada, el código entra en un nuevo contexto, donde cualquier otro código de Python puede ser ejecutado. Luego de que el último *statement* en ese bloque es ejecutado, el context se va a salir, significando esto que Python va a llamar el método `__exit__` del context manager original que invocamos en un principio.\n",
    "\n",
    "Si hay un error o excepcion dentro del bloque del context manager, el método `__exit__` se llamará de todas formas, lo que lo hace conveniente para manejar de forma segura la limpieza de las condiciones. De hecho, este método recibe la excepción que fue gatillada en el bloque en el caso de que la queramos manejar. Podemos implementar nuestros propios context managers para así manejar la lógica particular que necesitamos.\n",
    "\n",
    "Los context managers son una buena manera de separar *concerns* y aislar partes del código que deberían mantenerse independientes, porque si las mezclamos, la lógica se puede hacer más difícil de mantener.\n",
    "\n",
    "Como regla general, es una buena práctica el retornar algo en `__enter__`."
   ]
  },
  {
   "cell_type": "markdown",
   "id": "506e2212",
   "metadata": {},
   "source": [
    "## Implementando context managers"
   ]
  },
  {
   "cell_type": "markdown",
   "id": "d6e2e37c",
   "metadata": {},
   "source": [
    "Todo lo que necesitamos es una clase que implementa los métodos mágicos `__enter__` y `__exit__` y así el objeto va a ser capaz de soportar el protocolo context manager. Si bien este es el método más común para implementar context managers, no es el único.\n",
    "\n",
    "El módulo `contextlib` posee un montón de *helper functions* y objetos ya sea para implementar context managers o usar algunos que ya han sido implementados que puedan ayudarnos a escribir código más compacto.\n",
    "\n",
    "Cuando el decorador `contextlib.contextmanager` es aplicado a una función, convierte el código en esa función en un context manager. La función en cuestión debe ser una función en particular llamada *generator function*, que va a separar los *statements* en lo que va a ir en los métodos `__enter__` y `__exit__`.\n",
    "\n",
    "Como ejemplo considérese una situación en la que queremos correr un backup de nuestro database con un script. El *caveat* es que el backup está offline, lo que significa que solo lo podemos hacer cuando el database no está corriendo, y para esto debemos detenerlo. Luego de correr el backup, queremos asegurarnos de empezar nuevamente el proceso, independiente de lo que haya ocurrido en el proceso del backup. Una posible solución podría ser"
   ]
  },
  {
   "cell_type": "code",
   "execution_count": 1,
   "id": "27635bb1",
   "metadata": {},
   "outputs": [],
   "source": [
    "run = print\n",
    "\n",
    "def stop_database():\n",
    "    run(\"systemctl stop postgresql.service\")\n",
    "\n",
    "\n",
    "def start_database():\n",
    "    run(\"systemctl start postgresql.service\")\n",
    "\n",
    "\n",
    "class DBHandler:\n",
    "    def __enter__(self):\n",
    "        stop_database()\n",
    "        return self\n",
    "\n",
    "    def __exit__(self, exc_type, ex_value, ex_traceback):\n",
    "        start_database()\n",
    "\n",
    "\n",
    "def db_backup():\n",
    "    run(\"pg_dump database\")\n",
    "\n",
    "\n",
    "def main():\n",
    "    with DBHandler():\n",
    "        db_backup()"
   ]
  },
  {
   "cell_type": "markdown",
   "id": "51c06b8d",
   "metadata": {},
   "source": [
    "El código anterior puede ser reescrito como:"
   ]
  },
  {
   "cell_type": "code",
   "execution_count": null,
   "id": "25d659c0",
   "metadata": {},
   "outputs": [],
   "source": [
    "import contextlib\n",
    "\n",
    "@contextlib.contextmanager\n",
    "def db_handler():\n",
    "    try:\n",
    "        stop_database()\n",
    "        yield\n",
    "    finally:\n",
    "        start_database()\n",
    "        \n",
    "with db_handler():\n",
    "    db_backup()"
   ]
  },
  {
   "cell_type": "markdown",
   "id": "8a7ef2d8",
   "metadata": {},
   "source": [
    "Aquí definimos la *generator function* y aplicamos el decorador `contextlib.contextmanager`. La función contiene un `yield statement`, lo que la convierte en una *generator function*. Todo lo que debemos saber es, es que cuando el decorador es aplicado, todo antes del `yield statement` se ejecutará como si fuese parte del método `__enter__`. Luego el valor *yielded* va a ser el resultado de la evaluación del context manager, y lo que podría ser asignado a una variable en caso de que queramos.\n",
    "\n",
    "En tal punto, la *generator function* está suspendida, y el context manager es ingresado, donde corremos el backup para nuestro database. Luego de que esto se completa, la ejecución se resume, por lo que podemos considerar que cada línea que viene después del `yield statement` va a ser parte de la lógica de `__exit__`.\n",
    "\n",
    "Escribir context managers de esta manera tiene la ventaja de que es más fácil de refactorizar funciones existentes, reutilizar código, y en general es una buena idea cuando necesitamos un contextmanager que no pertenece a ningún objeto en particular.\n",
    "\n",
    "Cuando solo necesitamos una función context manager, sin preservar muchos estados, y completamente aislada e independiente del resto de nuestras clases, esta es probablemente una manera de hacerlo.\n",
    "\n",
    "La base class `contextlib.ContextDecorator` provee la lógica para aplicar un decorador a una función que lo va a hacer correr dentro de un context manager. La lógica para el context manager tiene que ser provista mediante la implementación de los métodos mágicos antes mencionados. El resultado es una clase que funciona como decorador para funciones, o que puede ser mezclada en la jerarquía de clases de otras clases para hacer que se comporten como context managers.\n",
    "\n",
    "Para poder utilizarlo, debemos extender esta clase e implementar la lógica en los métodos requeridos."
   ]
  },
  {
   "cell_type": "code",
   "execution_count": null,
   "id": "0cd23799",
   "metadata": {},
   "outputs": [],
   "source": [
    "import contextlib\n",
    "\n",
    "class DbHandlerDecorator(contextlib.ContextDecorator):\n",
    "    def __enter__(self):\n",
    "        stop_database()\n",
    "        return self\n",
    "    \n",
    "    \n",
    "    def __exit__(self, ext_type, ex_value, ex_traceback):\n",
    "        start_database()\n",
    "        \n",
    "\n",
    "@DbHandlerDecorator\n",
    "def offline_backup():\n",
    "    run(\"pg_dump database\")"
   ]
  },
  {
   "cell_type": "markdown",
   "id": "b2b5948f",
   "metadata": {},
   "source": [
    "Como se puede observar, en este caso no hay `with statement`. Solamente debemos llamar la función, y `offline_backup()` va a correr automáticamente dentro de un context manager. Esta es la lógica que la base class provee para usarla como decorador que *wraps* la función original, así corre dentro de un context manager.\n",
    "\n",
    "El único *downside* de este acercamiento es que en la manera en la que los objetos trabajan, son completamente independientes (*which is a good trait*)- el decorador no sabe nada acerca de la función que está decorando y viceversa. Esto, que podría ser bueno, significa que la función `offline_backup` no puede acceder al objeto decorador, si lo necesita.\n",
    "\n",
    "`contextlib.suppress` es una utilidad para evitar ciertas excepciones en situaciones que sabemos es seguro ignorarlas. Es similar a correr el mismo código en un bloque try/except y pasar la excepción o solo loggearla, pero la diferencia es que al llamar el método suppress hace más explícito que las excepciones que son controladas como parte de nuestra lógica."
   ]
  },
  {
   "cell_type": "code",
   "execution_count": null,
   "id": "50b93ef1",
   "metadata": {},
   "outputs": [],
   "source": [
    "import contextlib\n",
    "\n",
    "with contextlib.suppress(DataConversionException):\n",
    "    parse_data(input_json_or_dict)"
   ]
  },
  {
   "cell_type": "markdown",
   "id": "306e5369",
   "metadata": {},
   "source": [
    "Aquí la presencia de la excepción significa que el input data está ya en un formato esperado, por lo que no hay necesidad de convertirlo, haciéndolo seguro de ignorar."
   ]
  },
  {
   "cell_type": "markdown",
   "id": "b58cca3e",
   "metadata": {},
   "source": [
    "## Comprehensions y expresiones de asignamiento"
   ]
  },
  {
   "cell_type": "markdown",
   "id": "11f0b3ee",
   "metadata": {},
   "source": [
    "Los comprehensions son una manera más concisa de escribir código, y en general, código escrito de esta manera tiende a ser más fácil de leer. El uso de comprehensions es recomendada para crear estructuras de datos en una sola instrucción, en vez de múltiples operaciones."
   ]
  },
  {
   "cell_type": "code",
   "execution_count": 1,
   "id": "bd1d44a8",
   "metadata": {},
   "outputs": [],
   "source": [
    "numbers = [x for x in range(10)]"
   ]
  },
  {
   "cell_type": "markdown",
   "id": "da8287d2",
   "metadata": {},
   "source": [
    "Código escrito de esta manera por lo general se desempeña mejor porque usa solo una operación de Python, en vez de llamar `list.append` de forma repetida. Mantener en mente que un código más compacto no significa siempre mejor código.\n",
    "\n",
    "Otra buena razón para usar *assignment expressions* en general es por términos de performance."
   ]
  },
  {
   "cell_type": "markdown",
   "id": "f4b2be04",
   "metadata": {},
   "source": [
    "## Properties, atributos, y diferentes tipos de métodos para objetos"
   ]
  },
  {
   "cell_type": "markdown",
   "id": "425f2b2e",
   "metadata": {},
   "source": [
    "Todas las properties y funciones en Python son públicos. \n",
    "\n",
    "Un atributo que empieza con un underscore fue pensado en ser privado a ese objeto, y esperamos que ningún agente externo lo llame (pero nada nos impide hacer esto).\n",
    "\n",
    "### Underscores en Python\n",
    "\n",
    "Las clases deberían solamente exponer los atributos y métodos que son relevantes al objeto que llama externamente. Todo lo que no sea estrictamente parte de la interfaz del objeto debería mantenerse prefijada con un solo underscore. Atributos que empiezan con un underscore deberían ser respetados como privados y no ser llamados externamente.\n",
    "\n",
    "Usar muchos métodos internos y atributos podrían ser un signo de que la clase tiene muchas tareas y no cumple con el principio de una sola responsabilidad. Esto podría indicar que se tienen que extraer ciertas responsabilidades a otras clases colaborativas.\n",
    "\n",
    "Cuando se usan dobles underscores, Python crea un nombre diferente para el atributo (esto se llama *name mangling*). La idea del doble underscore en Python es completamente diferente. Fue creada con la idea de hacer override a diferentes métodos de una clase que van a ser extendidos en diversas ocasiones, sin el riesgo de tener colisiones con los nombres de los métodos. Los doble underscores son un acercamiento no-Pythonico. Si se necesitan definir atributos como privados, es mejor usar solo un underscore y respetar la convención Pythonica."
   ]
  },
  {
   "cell_type": "markdown",
   "id": "f5c274eb",
   "metadata": {},
   "source": [
    "## Properties"
   ]
  },
  {
   "cell_type": "markdown",
   "id": "082c1a2f",
   "metadata": {},
   "source": [
    "Algunas entidades solo pueden existir para ciertos valores de data, mientras que valores incorrectos no deberían ser permitidos.\n",
    "\n",
    "Es por lo anterior que creamos métodos de validación, típicamente para ser utilizados en las operaciones `setter`. Sin embargo, en Python podemos encapsular los métodos `setter` y `getter` de forma más compacta usando properties.\n",
    "\n",
    "Considérese el ejemplo de un sistema geográfico que necesita lidiar con coordenadas. Solamente hay un rango de valores para los cuales la latitud y longitud hacen sentido. Fuera de esos valores, una coordenada no puede existir. Podemos crear un objeto para representar las coordenadas, pero haciendo esto nos debemos asegurar de que los valores para la longitud y latitud están simepre en rangos aceptables. Para esto usamos properties"
   ]
  },
  {
   "cell_type": "code",
   "execution_count": null,
   "id": "ca685fec",
   "metadata": {},
   "outputs": [],
   "source": [
    "class Coordinate:\n",
    "    def __init__(self, lat: float, long: float) -> None:\n",
    "        self._latitude = self._longitude = None\n",
    "        self.latitude = lat\n",
    "        self.longitude = long\n",
    "\n",
    "    @property\n",
    "    def latitude(self) -> float:\n",
    "        return self._latitude\n",
    "\n",
    "    @latitude.setter\n",
    "    def latitude(self, lat_value: float) -> None:\n",
    "        if -90 <= lat_value <= 90:\n",
    "            self._latitude = lat_value\n",
    "        else:\n",
    "            raise ValueError(f\"{lat_value} is an invalid value for latitude\")\n",
    "\n",
    "    @property\n",
    "    def longitude(self) -> float:\n",
    "        return self._longitude\n",
    "\n",
    "    @longitude.setter\n",
    "    def longitude(self, long_value: float) -> None:\n",
    "        if -180 <= long_value <= 180:\n",
    "            self._longitude = long_value\n",
    "        else:\n",
    "            raise ValueError(f\"{long_value} is an invalid value for longitude\")"
   ]
  },
  {
   "cell_type": "markdown",
   "id": "335594ef",
   "metadata": {},
   "source": [
    "Cuando un usuario quiera modificar ambos atributos, el método de validación que fue declarado con el decorador `@latitude/longitude.setter` se va a invocar de forma transparente y automática.\n",
    "\n",
    "Pueden haber ocasiones en las que necesitemos realizar operaciones basadas en el estado del objeto y sus datos internos. La mayoría de las veces, las properties son una buena opción para esto.\n",
    "\n",
    "Usted podría encontrar que las properties son una buena manera de alcanzar el *command and query separation*. El principio *command and query separation* indica que el método de un objeto debería ya sea responder a algo o hacer algo, pero no ambos. Si un método está haciendo algo, y al mismo tiempo retorna el estado respondiendo a una pregunta de como ocurrió la operación, luego está haciendo más de una cosa a la vez, lo que viola el principio de que un método debería hacer solo una cosa.\n",
    "\n",
    "Si usted quiere asignar algo y luego chequear el valor, sepárelo en dos o más statements."
   ]
  },
  {
   "cell_type": "markdown",
   "id": "37ba871a",
   "metadata": {},
   "source": [
    "## Creando clases con un syntax más compacto"
   ]
  },
  {
   "cell_type": "markdown",
   "id": "f471c198",
   "metadata": {},
   "source": [
    "El módulo `dataclasses` provee el decoradod `@dataclass`, que cuando es aplicado a una clase, va a tomar todos los atributos de clase con *annotations*, y los va a tratar como *instance attributes*, como si fuesen declarados en el método de inicialización. Cuando se use este decorador, va a generar automáticamente el método `__init__` en la clase.\n",
    "\n",
    "Adicionalmente, este módulo provee un objeto `field` que nos va a ayudar a definir tratos personales a algunos atributos. Por ejemplo, si alguno de los atributos que necesitamos necesita ser mutable (como una lista) no podemos pasar el *default empty list* en el método `__init__`, y que en vez deberíamos pasar None, y setearlo como *default list* dentro de `__init__`, si None fue lo que se entregó.\n",
    "\n",
    "Cuando se use el objeto `field`, lo que haríamos sería usar el argumento `default_factory`, y proveer la clase list a el. Este argumento está pensado para ser usado con un calleable que no recibe argumentos, y va a ser llamado para construir el objeto, cuando nada es provisto para el valor de ese atributo.\n",
    "\n",
    "Probablemente un buen uso de dataclasses son todos esos lugares donde necesitamos usar objetos como *data containers* o *wrappers*, situaciones en las que usamos named tuples o simples namespaces."
   ]
  },
  {
   "cell_type": "markdown",
   "id": "2fc2a508",
   "metadata": {},
   "source": [
    "## Objetos iterables"
   ]
  },
  {
   "cell_type": "markdown",
   "id": "e1559e2b",
   "metadata": {},
   "source": [
    "Nosotros podemos crear nuestro propio iterable, con la lógica con la cual definimos la iteración. Cuando se intenta iterar sobre un objeto de la forma `for e in myobject:...` lo que Python chequea es:\n",
    "- Si el objeto contiene alguno de los métodos de iterador - `__next__` o `__iter__`\n",
    "- Si el objeto es una secuencia y tiene `__len__` y `__getitem__`.\n",
    "\n",
    "### Creando objetos iterables\n",
    "Cuando tratamos de iterar sobre un objeto, Python va a llamar la función `iter()` en el. Lo primero que hace esta función es chequear la presencia del método `__iter__` en el objeto y si está presente, lo va a ejecutar.\n",
    "\n",
    "El siguiente código crea un objeto que permite iterar sobre un rango de fechas, produciendo un día a la vez en cada round del loop."
   ]
  },
  {
   "cell_type": "code",
   "execution_count": 2,
   "id": "ad5a1876",
   "metadata": {},
   "outputs": [],
   "source": [
    "from datetime import timedelta\n",
    "\n",
    "\n",
    "class DateRangeIterable:\n",
    "    \"\"\"An iterable that contains its own iterator object.\"\"\"\n",
    "\n",
    "    def __init__(self, start_date, end_date):\n",
    "        self.start_date = start_date\n",
    "        self.end_date = end_date\n",
    "        self._present_day = start_date\n",
    "\n",
    "    def __iter__(self):\n",
    "        return self\n",
    "\n",
    "    def __next__(self):\n",
    "        if self._present_day >= self.end_date:\n",
    "            raise StopIteration()\n",
    "        today = self._present_day\n",
    "        self._present_day += timedelta(days=1)\n",
    "        return today"
   ]
  },
  {
   "cell_type": "markdown",
   "id": "fe2a8c93",
   "metadata": {},
   "source": [
    "Este objeto fue diseñado para ser creado con un par de fechas y cuando sea iterado, va a producir cada día en el intervalo de las fechas especificadas."
   ]
  },
  {
   "cell_type": "markdown",
   "id": "66030daa",
   "metadata": {},
   "source": [
    "### Creando secuencias"
   ]
  },
  {
   "cell_type": "markdown",
   "id": "f12483c1",
   "metadata": {},
   "source": [
    "Si el método `__iter__` no está definido en el objeto, la función `iter()` va a buscar la presencia de `__getitem__`, y si no está, va a levantar un TypeError.\n",
    "\n",
    "Una secuencia es un objeto que implementa `__len__` y `__getitem__` y espera poder obtener los elementos que contiene, uno a la vez, en orden, empezando desde el cero como el primer índice. Esto significa que debería ser cuidadoso con la lógica así se implementa correctamente el método `__getitem__` para esperar este tipo de índice, o la iteración no va a funcionar. "
   ]
  },
  {
   "cell_type": "markdown",
   "id": "463b3aca",
   "metadata": {},
   "source": [
    "### Objetos container"
   ]
  },
  {
   "cell_type": "markdown",
   "id": "84dda4c2",
   "metadata": {},
   "source": [
    "Los objetos container implementan el método `__contains__`. Este método es llamado en la presencia de la keyword `in`."
   ]
  },
  {
   "cell_type": "markdown",
   "id": "622dfb03",
   "metadata": {},
   "source": [
    "### Atributos dinámicos para objetos"
   ]
  },
  {
   "cell_type": "code",
   "execution_count": null,
   "id": "a40d755f",
   "metadata": {},
   "outputs": [],
   "source": []
  },
  {
   "cell_type": "markdown",
   "id": "ac4b8caa",
   "metadata": {},
   "source": [
    "### Objetos calleables"
   ]
  },
  {
   "cell_type": "markdown",
   "id": "26b8375b",
   "metadata": {},
   "source": [
    "Es posible (y a veces conveniente) el definir objetos que pueden actuar como funciones. El método mágico `__call__` va a ser llamado cuando tratemos de ejecutar nuestro objeto como si fuese una función regular. Cada argumento pasado a el, va a ser entregado al método `__call__`.\n",
    "\n",
    "La principal ventaja de implementar funciones de esta manera, a través de objetos, es que los objetos tienen estados, por lo que podemos guardar y mantener información a través de los calls. Esto significa que usar un objeto *calleable* podría ser una manera más conveniente de implementar funciones si tenemos que mantener un estado interno a través de diferentes calls.\n",
    "\n",
    "Cuando tenemos un objeto, un statement como `object(*args, **kwargs)` es traducido en Python a `object.__call__(*args, **kwargs)`.\n",
    "\n",
    "Este método es útil cuando queremos crear objetos calleables que van a funcionar como funciones parametrizadas, o en algunos casos, funciones con memoria."
   ]
  },
  {
   "cell_type": "markdown",
   "id": "af33384a",
   "metadata": {},
   "source": [
    "### Resumen de los métodos mágicos"
   ]
  },
  {
   "attachments": {
    "image-2.png": {
     "image/png": "[encoded data removed]"
    }
   },
   "cell_type": "markdown",
   "id": "b17bc961",
   "metadata": {},
   "source": [
    "![image-2.png](attachment:image-2.png)"
   ]
  },
  {
   "cell_type": "markdown",
   "id": "3663ef2d",
   "metadata": {},
   "source": [
    "La mejor manera para implementar estos métodos correctamente es declarar nuestra clase para implementar los métodos correspondientes siguiendo las *abstract base classes* definidas en el módulo `collections.abc`. Estas interfaces proveen los métodos que requieren ser implementados, por lo que te va a hacer más fácil definir la clase correctamente, y también tendrá cuidado de crear el type correcto (algo que funciona cuandola función `isinstance()` es llamada en el objeto)."
   ]
  }
 ],
 "metadata": {
  "kernelspec": {
   "display_name": "Python 3 (ipykernel)",
   "language": "python",
   "name": "python3"
  },
  "language_info": {
   "codemirror_mode": {
    "name": "ipython",
    "version": 3
   },
   "file_extension": ".py",
   "mimetype": "text/x-python",
   "name": "python",
   "nbconvert_exporter": "python",
   "pygments_lexer": "ipython3",
   "version": "3.9.10"
  }
 },
 "nbformat": 4,
 "nbformat_minor": 5
}
