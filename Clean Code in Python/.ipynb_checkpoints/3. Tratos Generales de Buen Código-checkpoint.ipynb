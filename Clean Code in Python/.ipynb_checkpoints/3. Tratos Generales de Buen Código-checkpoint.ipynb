{
 "cells": [
  {
   "cell_type": "markdown",
   "id": "d70823ca",
   "metadata": {},
   "source": [
    "# Tratos generales de Buen Código"
   ]
  },
  {
   "cell_type": "markdown",
   "id": "e279557e",
   "metadata": {},
   "source": [
    "## Tabla  de contenidos\n",
    "***\n",
    "\n",
    "\n",
    "***"
   ]
  },
  {
   "cell_type": "markdown",
   "id": "10accebb",
   "metadata": {},
   "source": [
    "El código es probablemente la representación más detallada del diseño. El objetivo final es hacer el código lo más robusto posible y escribirlo de tal manera que se pueda minimizar los defectos o hacerlos poco evidentes.\n",
    "\n",
    "Software de buena calidad debería ser construido alrededor de los principios que se van a presentar a continuación, los cuales pueden servir como herramientas de diseño. Esto no significa que todos estos principios deban usarse siempre, pues algunos dependen del contexto y no son siempre aplicables."
   ]
  },
  {
   "cell_type": "markdown",
   "id": "1983ba9e",
   "metadata": {},
   "source": [
    "## Diseño por contrato (Design by contract)"
   ]
  },
  {
   "cell_type": "markdown",
   "id": "7dcbb4dd",
   "metadata": {},
   "source": [
    "Algunas partes de nuestro software no fueron diseñadas para ser llamadas directamente por los usuarios, sino por otras partes del código. Tal es el caso en el que dividimos las responsabilidades de la aplicación en diferentes componentes o *layers* y tenemos que pensar en la interacción entre ellos.\n",
    "\n",
    "Se tiene que encapsular cierta funcionalidad detras de cada componente y mostrar una interfaz a los clientes que van a usar esa funcionalidad, llamada, *Application Programming Interface (API)*. Las funciones, clases o métodos que escribimos para un componente en particular tienen una forma particular de trabajar bajo ciertas condiciones y si es que no se cumplen, el código se crashea.  \n",
    "\n",
    "La idea detrás de DbC, es que en vez de poner implícitamente en el código que está esperando cada parte a recibir, ambas partes se ponen de acuerdo en un contrato, que si es violado, se va a levantar una excepción, diciendo claramente porque no puede continuar.\n",
    "\n",
    "En este contexto, un contrato es una construción que fuerza a que algunas reglas se cumplan durante la comunicación de componentes de software. Hay precondiciones, postcondiciones, *invariants* y efectos colaterales.\n",
    "\n",
    "- **Precondiciones**: Son los checks que el código va a hacer antes de correr. Va a chequear todas las condiciones que deben cumplirse antes de que la función se ejecute.\n",
    "- **Postcondiciones**: Las validaciones son hechas luego de que el call de la función es retornada.\n",
    "- **Invariants**: Son las cosas que se mantienen constantes mientras el código de la función se corre.\n",
    "- **Efectos colaterales**: Podría ser bueno mencionar los efectos laterales en un docstring.\n",
    "\n",
    "La razón por la que podríamos diseñar por contrato es que si ocurre un error, debe ser fácil de identificar así se puede corregir de forma rápida. Más importante, queremos que las partes críticas del código eviten ser ejecutadas bajo supuestos equivocados. \n",
    "\n",
    "Si la precondición falla, sabemos que es por culpa del usuario. Si la postcondición falla, es por un error en el código.\n",
    "\n",
    "### Precondiciones"
   ]
  },
  {
   "cell_type": "markdown",
   "id": "17a4deb4",
   "metadata": {},
   "source": [
    "Las precondiciones son todas las garantías que un método o función espera recibir para así funcionar correctamente. Una función debería tener una validación adecuada para la información que va a manejar.\n",
    "\n",
    "Surge la pregunta de en que lugar poner la validación. Una de las prácticas más comunes, es validar los datos una vez se han recibido todos, antes de ejecutar la lógica de la función. Generalmente este es la elección más segura en términos de robustez. Debemos tener en mente que la validación debe ser realizada solo por una de las partes del contrato, no ambos."
   ]
  },
  {
   "cell_type": "markdown",
   "id": "8a3076e5",
   "metadata": {},
   "source": [
    "## Postcondiciones"
   ]
  },
  {
   "cell_type": "code",
   "execution_count": null,
   "id": "729c7aa8",
   "metadata": {},
   "outputs": [],
   "source": []
  },
  {
   "cell_type": "markdown",
   "id": "ca37a501",
   "metadata": {},
   "source": []
  }
 ],
 "metadata": {
  "kernelspec": {
   "display_name": "Python 3 (ipykernel)",
   "language": "python",
   "name": "python3"
  },
  "language_info": {
   "codemirror_mode": {
    "name": "ipython",
    "version": 3
   },
   "file_extension": ".py",
   "mimetype": "text/x-python",
   "name": "python",
   "nbconvert_exporter": "python",
   "pygments_lexer": "ipython3",
   "version": "3.9.10"
  }
 },
 "nbformat": 4,
 "nbformat_minor": 5
}
