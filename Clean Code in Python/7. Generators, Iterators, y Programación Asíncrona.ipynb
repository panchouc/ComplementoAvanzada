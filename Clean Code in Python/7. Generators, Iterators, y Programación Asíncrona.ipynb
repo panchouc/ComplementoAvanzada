{
 "cells": [
  {
   "cell_type": "markdown",
   "id": "1302bf65",
   "metadata": {},
   "source": [
    "# Generators, Iterators, and Asynchronous Programming"
   ]
  },
  {
   "cell_type": "markdown",
   "id": "edefb596",
   "metadata": {},
   "source": [
    "## Tabla de contenidos\n",
    "***\n",
    "\n",
    "\n",
    "***"
   ]
  },
  {
   "cell_type": "markdown",
   "id": "059e7e39",
   "metadata": {},
   "source": [
    "## Creando generadores"
   ]
  },
  {
   "cell_type": "markdown",
   "id": "4fc11d8b",
   "metadata": {},
   "source": [
    "Los generadores fueron introducidos con la idea de introducing la iteración en Python, mientras se mejora el rendimiento del programa (usando menos memoria) al mismo tiempo.\n",
    "\n"
   ]
  }
 ],
 "metadata": {
  "kernelspec": {
   "display_name": "Python 3 (ipykernel)",
   "language": "python",
   "name": "python3"
  },
  "language_info": {
   "codemirror_mode": {
    "name": "ipython",
    "version": 3
   },
   "file_extension": ".py",
   "mimetype": "text/x-python",
   "name": "python",
   "nbconvert_exporter": "python",
   "pygments_lexer": "ipython3",
   "version": "3.9.10"
  }
 },
 "nbformat": 4,
 "nbformat_minor": 5
}
