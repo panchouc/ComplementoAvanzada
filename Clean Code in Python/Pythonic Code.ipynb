{
 "cells": [
  {
   "cell_type": "markdown",
   "id": "70c42f54",
   "metadata": {},
   "source": [
    "# Pythonic Code\n"
   ]
  },
  {
   "cell_type": "markdown",
   "id": "7fdd6948",
   "metadata": {},
   "source": [
    "## Tabla de Contenidos\n",
    "***\n",
    "\n",
    "\n",
    "\n",
    "***"
   ]
  },
  {
   "cell_type": "code",
   "execution_count": 1,
   "id": "5d37e3e8",
   "metadata": {},
   "outputs": [],
   "source": [
    "my_numbers = (4, 5, 3 ,9)"
   ]
  },
  {
   "cell_type": "markdown",
   "id": "74c534ac",
   "metadata": {},
   "source": [
    "Para acceder a los últimos elementos, la forma *Pythonica* de hacerlo, sería utilizando el índice con un número negativo, así la forma preferida de hacerlo sería:"
   ]
  },
  {
   "cell_type": "code",
   "execution_count": 2,
   "id": "a2c7b616",
   "metadata": {},
   "outputs": [
    {
     "data": {
      "text/plain": [
       "9"
      ]
     },
     "execution_count": 2,
     "metadata": {},
     "output_type": "execute_result"
    }
   ],
   "source": [
    "my_numbers[-1]"
   ]
  },
  {
   "cell_type": "code",
   "execution_count": 3,
   "id": "afa42fe7",
   "metadata": {},
   "outputs": [
    {
     "data": {
      "text/plain": [
       "5"
      ]
     },
     "execution_count": 3,
     "metadata": {},
     "output_type": "execute_result"
    }
   ],
   "source": [
    "my_numbers[-3]"
   ]
  },
  {
   "cell_type": "code",
   "execution_count": null,
   "id": "aad1f545",
   "metadata": {},
   "outputs": [],
   "source": []
  }
 ],
 "metadata": {
  "kernelspec": {
   "display_name": "Python 3 (ipykernel)",
   "language": "python",
   "name": "python3"
  },
  "language_info": {
   "codemirror_mode": {
    "name": "ipython",
    "version": 3
   },
   "file_extension": ".py",
   "mimetype": "text/x-python",
   "name": "python",
   "nbconvert_exporter": "python",
   "pygments_lexer": "ipython3",
   "version": "3.9.10"
  }
 },
 "nbformat": 4,
 "nbformat_minor": 5
}
