{
 "cells": [
  {
   "cell_type": "markdown",
   "id": "081ee607-f7d4-4d8d-b7d1-474c66bdbe2a",
   "metadata": {},
   "source": [
    "# Resumen cosas útiles de interfáces gráficas"
   ]
  },
  {
   "cell_type": "markdown",
   "id": "031f73c9-6c6a-483d-863c-e92043ca1989",
   "metadata": {},
   "source": [
    "Un **evento** es una acción que ocurre en el programa y a la cual se le puede definir un comportamiento, o un efecto. Cada vez que ocurre un evento, el comportamiento lo podemos hacer mediante funciones que se hacen cargo de un evento de manera **asíncrona**.\n",
    "\n",
    "Para cada evento `e` se define una funcion `e_handler`, que se ejecutará cada vez que ocurra el evento `e`.\n",
    "\n",
    "Elementos para recibir eventos y que permiten desplegar una representación gráfica en pantalla, son los *widgets*. Para crear una ventana usamos `QWidget` del módulo `QtWidgets`. La clase `QApplication`, del mismo módulo, contendrá la ventana y todos los **widgets** de esa ventana.\n",
    "\n",
    "- `self.show`: Mostrar ventana en pantalla.\n",
    "- `self.setGeometry`: Setear el tamaño. En orden son: posición horizontal esquina superior izquierda, posición vertical esquin superior izquierda, ancho de rectángulo y alto de rectángulo. Valores horizontales crecen hacia la **derecha** y verticales hacia **abajo**.\n",
    "- `self.setWindowTitle`: Título de la ventana.\n",
    "\n",
    "**NO OLVIDAR PONER EL SIGUIENTE CÓDIGO, MUY ÚTIL**\n",
    "```python\n",
    "if __name__ == '__main__':\n",
    "    def hook(type, value, traceback):\n",
    "        print(type)\n",
    "        print(traceback)\n",
    "    sys.__excepthook__ = hook\n",
    "\n",
    "    app = QtWidgets.QApplication([])\n",
    "    ventana = MiVentana(*args)\n",
    "    ventana.show()\n",
    "    sys.exit(app.exec())\n",
    "```"
   ]
  },
  {
   "cell_type": "markdown",
   "id": "f2fa3bd6-7f5e-4dff-ae22-5edaab6f7edf",
   "metadata": {},
   "source": [
    "Las etiquetas permiten desplegar textos estáticos o dinámicos, esto se hace con el *widget* `QLabel`. Los cuadros de texto se usan para recibir texto ingresado por el usuario, esto se hace con ell *widget* `QLineEdit`.\n",
    "\n",
    "- `QLabel`: `self.label.move`: Ojo, porque este método no aparece en la documentación. Mueve los widgets de forma relativa a la **ventana principal**. El (0, 0) es la esquina superior izquierda. No olvidar poner el padre (son parte del *widget* principal), como por ejemplo\n",
    "```python\n",
    "self.etiqueta_1 = QLabel(\"Texto\":, self)\n",
    "```\n",
    "\n",
    "- `QPixmap` de `QtGui`: Carga un conjunto de pixeles que pueden originarse de un archivo de imagen. Para agregarlo a la ventana, deben cargarse dentro de un `QLabel`. Ejemplo\n",
    "\n",
    "```python\n",
    "self.label = QLabel(self)\n",
    "self.label.setGeometry(50, 50, 100, 100)\n",
    "ruta_imagen = os.path.join(\"carpeta\", \"archivo.jpg\")\n",
    "imagen = QPixmap(ruta_imagen)\n",
    "self.label.setPixmap(imagen)\n",
    "\n",
    "# Finalmente, ajustamos tamaño de contenido al tamaño del elemento\n",
    "self.label.setScaledContents(True)\n",
    "self.show()\n",
    "```\n",
    "\n",
    "- `QPushButton` de `QtWidget`: Recibe un texto inicial y su parent.\n",
    "\n",
    "```python\n",
    "self.boton_1 = QPushButton('&Procesar', self)\n",
    "# El `.sizeHint()` da el tamaño recomendado para el widget.\n",
    "self.boton_1.resize(self.boton1.sizeHint())\n",
    "self.boton_1.move(5, 70)\n",
    "```\n",
    "\n",
    "Para conocer más *widgets*, se puede revisar [aquí](https://doc-snapshots.qt.io/qtforpython/PySide2/QtWidgets/QWidget.html?highlight=sizehint#PySide2.QtWidgets.PySide2.QtWidgets.QWidget.sizeHint) y [aquí](https://doc-snapshots.qt.io/qtforpython/PySide2/QtWidgets/index.html#module-PySide2.QtWidgets).\n",
    "\n",
    "- Comentario: Al parecer es buena práctica poner un método en donde se pone la interfaz y todos los *widgets* y luego llamar a ese método."
   ]
  },
  {
   "cell_type": "markdown",
   "id": "24e41c8c-c504-4f7d-af1a-93ed38dfed0d",
   "metadata": {},
   "source": [
    "Los *layouts* permiten manejar de manera más flexible y práctica la distribución de los *widgets* en una ventana. `.setGeometry` y `.move` hacen un **posicionamiento absoluto** .\n",
    "\n",
    "Dos tipos básicos son:\n",
    "- `QHBoxLayout` de `QtWidgets`: Permite alinear los widgets de manera horizontal.\n",
    "- `QVBoxLayout` de `QtWidgets`: Permite alinear los widgets de manera vertical.\n",
    "\n",
    "En ambos casos, los *widgets* dentro del *layout se organiazn ocupando todo el espacio disponible*. Los objetos deben ser agregados a cada *layout* con el método `.addWidget(widget)`. El box debe ser cargado a la ventana usando `self.setLayout()`.\n",
    "\n",
    "- `QGridLayout` de `QtWidgets`: Permite distribuir los *widgets* como elementos de una grilla, divide el espacio de la ventana en fials y columnas. Los *widgets* se agregan con el método `.addWidget(widget, i, j)`."
   ]
  },
  {
   "cell_type": "code",
   "execution_count": null,
   "id": "2156fd86-6919-4270-9180-e21e3ac03a42",
   "metadata": {},
   "outputs": [],
   "source": []
  }
 ],
 "metadata": {
  "kernelspec": {
   "display_name": "Python 3 (ipykernel)",
   "language": "python",
   "name": "python3"
  },
  "language_info": {
   "codemirror_mode": {
    "name": "ipython",
    "version": 3
   },
   "file_extension": ".py",
   "mimetype": "text/x-python",
   "name": "python",
   "nbconvert_exporter": "python",
   "pygments_lexer": "ipython3",
   "version": "3.10.4"
  }
 },
 "nbformat": 4,
 "nbformat_minor": 5
}
