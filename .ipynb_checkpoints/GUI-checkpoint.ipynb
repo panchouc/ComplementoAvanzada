{
 "cells": [
  {
   "cell_type": "markdown",
   "id": "081ee607-f7d4-4d8d-b7d1-474c66bdbe2a",
   "metadata": {},
   "source": [
    "# Resumen cosas útiles de interfáces gráficas"
   ]
  },
  {
   "cell_type": "markdown",
   "id": "031f73c9-6c6a-483d-863c-e92043ca1989",
   "metadata": {},
   "source": [
    "Un **evento** es una acción que ocurre en el programa y a la cual se le puede definir un comportamiento, o un efecto. Cada vez que ocurre un evento, el comportamiento lo podemos hacer mediante funciones que se hacen cargo de un evento de manera **asíncrona**.\n",
    "\n",
    "Para cada evento `e` se define una funcion `e_handler`, que se ejecutará cada vez que ocurra el evento `e`.\n",
    "\n",
    "Elementos para recibir eventos y que permiten desplegar una representación gráfica en pantalla, son los *widgets*. Para crear una ventana usamos `QWidget` del módulo `QtWidgets`. La clase `QApplication`, del mismo módulo, contendrá la ventana y todos los **widgets** de esa ventana.\n",
    "\n",
    "- `self.show`: Mostrar ventana en pantalla.\n",
    "- `self.setGeometry`: Setear el tamaño. En orden son: posición horizontal esquina superior izquierda, posición vertical esquin superior izquierda, ancho de rectángulo y alto de rectángulo. Valores horizontales crecen hacia la **derecha** y verticales hacia **abajo**.\n",
    "- `self.setWindowTitle`: Título de la ventana.\n",
    "\n",
    "**NO OLVIDAR PONER EL SIGUIENTE CÓDIGO, MUY ÚTIL**\n",
    "```python\n",
    "if __name__ == '__main__':\n",
    "    def hook(type, value, traceback):\n",
    "        print(type)\n",
    "        print(traceback)\n",
    "    sys.__excepthook__ = hook\n",
    "\n",
    "    app = QtWidgets.QApplication([])\n",
    "    ventana = MiVentana(*args)\n",
    "    ventana.show()\n",
    "    sys.exit(app.exec())\n",
    "```"
   ]
  },
  {
   "cell_type": "markdown",
   "id": "f2fa3bd6-7f5e-4dff-ae22-5edaab6f7edf",
   "metadata": {},
   "source": [
    "Las etiquetas permiten desplegar textos estáticos o dinámicos, esto se hace con el *widget* `QLabel`. Los cuadros de texto se usan para recibir texto ingresado por el usuario, esto se hace con ell *widget* `QLineEdit`.\n",
    "\n",
    "- `QLabel`: `self.label.move`: Ojo, porque este método no aparece en la documentación. Mueve los widgets de forma relativa a la **ventana principal**. El (0, 0) es la esquina superior izquierda. No olvidar poner el padre (son parte del *widget* principal), como por ejemplo\n",
    "```python\n",
    "self.etiqueta_1 = QLabel(\"Texto\":, self)\n",
    "```\n",
    "\n",
    "- `QPixmap` de `QtGui`: Carga un conjunto de pixeles que pueden originarse de un archivo de imagen. Para agregarlo a la ventana, deben cargarse dentro de un `QLabel`. Ejemplo\n",
    "\n",
    "```python\n",
    "self.label = QLabel(self)\n",
    "self.label.setGeometry(50, 50, 100, 100)\n",
    "ruta_imagen = os.path.join(\"carpeta\", \"archivo.jpg\")\n",
    "imagen = QPixmap(ruta_imagen)\n",
    "self.label.setPixmap(imagen)\n",
    "\n",
    "# Finalmente, ajustamos tamaño de contenido al tamaño del elemento\n",
    "self.label.setScaledContents(True)\n",
    "self.show()\n",
    "```\n",
    "\n",
    "- `QPushButton` de `QtWidget`: Recibe un texto inicial y su parent.\n",
    "\n",
    "```python\n",
    "self.boton_1 = QPushButton('&Procesar', self)\n",
    "# El `.sizeHint()` da el tamaño recomendado para el widget.\n",
    "self.boton_1.resize(self.boton1.sizeHint())\n",
    "self.boton_1.move(5, 70)\n",
    "```\n",
    "\n",
    "Para conocer más *widgets*, se puede revisar [aquí](https://doc-snapshots.qt.io/qtforpython/PySide2/QtWidgets/QWidget.html?highlight=sizehint#PySide2.QtWidgets.PySide2.QtWidgets.QWidget.sizeHint) y [aquí](https://doc-snapshots.qt.io/qtforpython/PySide2/QtWidgets/index.html#module-PySide2.QtWidgets).\n",
    "\n",
    "- Comentario: Al parecer es buena práctica poner un método en donde se pone la interfaz y todos los *widgets* y luego llamar a ese método."
   ]
  },
  {
   "cell_type": "markdown",
   "id": "24e41c8c-c504-4f7d-af1a-93ed38dfed0d",
   "metadata": {},
   "source": [
    "Los *layouts* permiten manejar de manera más flexible y práctica la distribución de los *widgets* en una ventana. `.setGeometry` y `.move` hacen un **posicionamiento absoluto** .\n",
    "\n",
    "Dos tipos básicos son:\n",
    "- `QHBoxLayout` de `QtWidgets`: Permite alinear los widgets de manera horizontal.\n",
    "- `QVBoxLayout` de `QtWidgets`: Permite alinear los widgets de manera vertical.\n",
    "\n",
    "En ambos casos, los *widgets* dentro del *layout se organiazn ocupando todo el espacio disponible*. Los objetos deben ser agregados a cada *layout* con el método `.addWidget(widget)`. El box debe ser cargado a la ventana usando `self.setLayout()`.\n",
    "\n",
    "- `QGridLayout` de `QtWidgets`: Permite distribuir los *widgets* como elementos de una grilla, divide el espacio de la ventana en filas y columnas. Los *widgets* se agregan con el método `.addWidget(widget, i, j)`."
   ]
  },
  {
   "cell_type": "markdown",
   "id": "a0ee26a9-9df7-4309-bc3e-9ca452ebbc08",
   "metadata": {},
   "source": [
    "Una aplicación en PyQt empieza a detectar eventos una vez entra en el mainloop, esto ocurre luego de llamar a `exec()` de `QApplication`.\n",
    "\n",
    "Tres elementos fundamentales son:\n",
    "- **Fuente del evento**: Corresponde al objeto que genera el cambio de estado o que genera el evento.\n",
    "- **Objeto evento**: Objeto que encapsula el cambio de estado mediante el evento.\n",
    "- **Objeto destino**: Objeto al que se le desea notificar el cambio de estado.\n",
    "\n",
    "La **fuente del evento** delega la tarea de manejar el evento al **objeto destino** pasándole el **objeto evento**. Esto se hace con **signal** y **slot**. Permite la comunicación entre *widgets*. Cuando un evento ocurre, el objeto que es activado emita una señal (signal) a la ranura (slot), donde un *slot* puede ser cualquier tipo de elemento callable en Python. \n",
    "\n",
    "Ejemplo: Si tenemos un botón, y tenemos una función que se llama `boton_clickeado`, cada vez que se presiona el botón. Podemos conectar el evento qu enviará la señal con el *slot* que la recibe. En los botones, el método generalmente corresponde al evento `clicked`. Con el método `connect()` se establecela comunicación entre el evento y el *slot*.\n",
    "\n",
    "```python\n",
    "self.boton.clicked.connect(self.boton.clickeado)\n",
    "```\n",
    "\n",
    "- `self.sender()`: Se retorna el objeto que envió la señal.\n",
    "- `.setText`: Se puede cambiar el texto del label."
   ]
  },
  {
   "cell_type": "markdown",
   "id": "2e5ad6d5-87f2-41e0-aa71-ee71f1ca2246",
   "metadata": {},
   "source": [
    "Todo *widget* tiene distintos gatillos de eventos que se pueden conectar a *slots*. La clase *QWidget* incluye los métodos \n",
    "- `mousePressEvent`: Se hace cargo del comportamiento del programa al presionar el mouse sobre el *widget* que lo implementa. En este caso, solo es necesario reescribir el método.\n",
    "- `mouseMoveEvent`: Si se tiene `.setMouseTracking(True)` activado para alguna cosa, esta se conectará con el método `mouseMoveEvent`. Recibe como parámetro el evento.\n",
    "- `keyPressEvent`: Se hace cargo del comportamiento de cuando se presiona una tecla. Hay que hacerle override."
   ]
  },
  {
   "cell_type": "markdown",
   "id": "ae5640bb-7f96-464b-b4aa-3ee8279d131c",
   "metadata": {},
   "source": [
    "Para crear una señal personalizada, se debe crear un objeto que tendrá (como atributo) la nueva señal. Esta debe ser subclase de `QtCore.QObject`. Dentro de la subclase se crea la nueva señal como una instasncia de `QtCore.pyqtSignal`. En los *widgets* involucrados se deben recibir las señales y conectar las funciones que manejan la señal.\n",
    "\n",
    "- Con `emit` de `pyqtSignal` se emite la señal (indica que ocurrió el evento). \n",
    "- Con `connect` de `pyqtSignal`, se define la función o método a ejecutar cuando la señal es emitida.\n",
    "- Comentario: Me parece buena idea que la parte del frontend se encargue solo de recibir señales y emitirlas, y que luego el backend se encargue de todo el procesamiento (creo que se menciona).\n",
    "- La señal se debe crear como un atributo de clase.\n",
    "\n",
    "`pyqtSignal` permite que al momento de emitir el evento (`emit`), se envíe también información a la función o método conectado y lo reciba como un argumento. Al momento de instanciar la señal `pyqtSignal`, recibe como argumentos los tipos de objetos que es capaz de enviar mediante `emit` y que recibirán los objetos calleables como argumentos."
   ]
  },
  {
   "cell_type": "markdown",
   "id": "bd268a95-579b-4842-b92a-f4487cbad1d9",
   "metadata": {},
   "source": [
    "Con la comunicación mediante señales entre el back-end y el front-end, podemos lograr un programa poco acoplado."
   ]
  },
  {
   "cell_type": "markdown",
   "id": "37bd4ed6-4cf5-4460-b45f-88e21bb2a084",
   "metadata": {},
   "source": [
    "- `self.hide`: Esconde el widget.\n",
    "\n",
    "Si queremos crear otra ventana y esconderla/mostrarla, hay dos opciones:\n",
    "- Instanciar esa ventana antes y entregarla como argumento. \n",
    "- Crear esa ventana como atributo de clase.\n",
    "\n",
    "El uso de señales nos permite independizar ventanas y conectarlas mediante señales, así no tenemos instancias de clases dentro de cada una de ellas.\n",
    "\n",
    "- Comentario: **Totalmente recomendable (casi algo imperativo), conectar ventanas mediante señales, al igual que el back-end y front-end. Hacer la conexión de señales quizás en el archivo main.py o dedicar un método a aquello.**"
   ]
  },
  {
   "cell_type": "markdown",
   "id": "064d6fa7-d1a5-47d1-b054-66c73a0346cb",
   "metadata": {},
   "source": [
    "Para implementar multithreading en PyQt, es recomendable usar `QThread`, que es parte de `QtCore`. `QTimer` ejecuta una subrutina cada cierto tiempo determinado periódicamente, repitiendo la subrutina una y otra vez. `QTimer` tiene los métodos `start` y `stop`. Se le asigna mediante `setInterval` el tiempo en milisegundos que durará el período entre ejecuciones, y mediante el atributo (y señal) `timeout` se puede conectar a la subrutina que se efectuará una y otra vez: `timer.timeout.connect(subrutina)`.\n",
    "\n",
    "Si queremos cambiar muchas cosas al mismo tiempo, lo mejor es usar señales ya que se delega eal manejo de eventos de PyQt la realización de los cambios en la interfaz. Lo mejor es hacer que **NO MODIFIQUEN COSAS DIRECTAMENTE (Threading)**."
   ]
  },
  {
   "cell_type": "markdown",
   "id": "319142f1-8591-4c48-8d86-edd287ce72a0",
   "metadata": {},
   "source": [
    "Una ventana más completa es `MainWindow`. Se pueden incluir barras de estado, barra de herramientas y barra de menú.\n",
    "- **Barra de estado**: Permite mostrar información del estado de la aplicación en la medida que el usuario interactúa con ella. Para crearla usamos el método `statusBar()` que pertenece a `QApplication`.\n",
    "- **Barra de menú**: Corresponde a un grupo de comandos organizados y agrupados de manera lógica en menús.\n",
    "- **Barra de herramientas**: Provee acceso rápido a la mayoría de los comandos usados frecuentemente.\n",
    "- **central widget**: Corresponde al cuerpo de la ventana. Este widget puede contener cualquiera de los widgets en QtWidgets, como también alguna de las ventanas creadas. Para agregar cualquier widget al widget central se utiliza el método `setCentralWidget(widget)`."
   ]
  },
  {
   "cell_type": "markdown",
   "id": "65ae675c-b1fb-4df4-b9c2-3097303a15b5",
   "metadata": {},
   "source": [
    "Si creamos lo visual con Qt Designer y queremos cargar el archivo `.ui`, **no olvidar poner**\n",
    "\n",
    "```python\n",
    "from PyQt5 import uic\n",
    "\n",
    "window_name, base_class = uic.loadUiType(\"archivo.ui\")\n",
    "class MainWindow(window_name, base_class):\n",
    "    def __init__(self):\n",
    "        super().__init__()\n",
    "        self.setupUi(self)\n",
    "```"
   ]
  }
 ],
 "metadata": {
  "kernelspec": {
   "display_name": "Python 3 (ipykernel)",
   "language": "python",
   "name": "python3"
  },
  "language_info": {
   "codemirror_mode": {
    "name": "ipython",
    "version": 3
   },
   "file_extension": ".py",
   "mimetype": "text/x-python",
   "name": "python",
   "nbconvert_exporter": "python",
   "pygments_lexer": "ipython3",
   "version": "3.10.4"
  }
 },
 "nbformat": 4,
 "nbformat_minor": 5
}
