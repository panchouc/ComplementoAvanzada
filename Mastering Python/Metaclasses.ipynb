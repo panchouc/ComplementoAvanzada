{
 "cells": [
  {
   "cell_type": "markdown",
   "id": "0da56044",
   "metadata": {},
   "source": [
    "# Metaclasses"
   ]
  },
  {
   "cell_type": "markdown",
   "id": "580de852",
   "metadata": {},
   "source": [
    "## Tabla de contenidos\n",
    "***\n",
    "\n",
    "\n",
    "\n",
    "\n",
    "***"
   ]
  },
  {
   "cell_type": "markdown",
   "id": "34ae8755",
   "metadata": {},
   "source": [
    "Como dice el nombre, una metaclass es una clase que contiene información meta acerca de la clase.\n",
    "\n",
    "La premisa básica de una metaclass es que genera otra clase en el tiempo de definición, así que generalmente no se usará para cambiar instancias de clase, pero sí definiciones de clase. Cambiando las definiciones de clase, es posible el agregar automáticamente algunas propiedades a la clase, validar si ciertas propiedades son seteadas, cambiar la herencia, registrar automáticamente la clase con un manager, entre otros."
   ]
  },
  {
   "cell_type": "markdown",
   "id": "36b56daa",
   "metadata": {},
   "source": [
    "## Classes abstractas usando `collections.abc`"
   ]
  },
  {
   "cell_type": "markdown",
   "id": "32aa669d",
   "metadata": {},
   "source": [
    "El módulo de abstract base classes es uno de los más útiles y más amplio ejemplo del uso de metaclasses en Python, dado que hace sencillo el asegurar que una clase se subyuga a una cierta interfaz sin necesidad de muchos checks manuales."
   ]
  },
  {
   "cell_type": "markdown",
   "id": "a545fd3d",
   "metadata": {},
   "source": [
    "## Funcionamiento interno de las classes abstractas"
   ]
  },
  {
   "cell_type": "code",
   "execution_count": 5,
   "id": "3352367b",
   "metadata": {},
   "outputs": [],
   "source": [
    "import abc\n",
    "\n",
    "class AbstractClass(metaclass = abc.ABCMeta):\n",
    "    @abc.abstractmethod\n",
    "    def algun_metodo(self):\n",
    "        raise ZeroDivisionError\n",
    "        "
   ]
  },
  {
   "cell_type": "code",
   "execution_count": 6,
   "id": "875b7c9b",
   "metadata": {},
   "outputs": [],
   "source": [
    "class ConcreteClass(AbstractClass):\n",
    "    pass"
   ]
  },
  {
   "cell_type": "code",
   "execution_count": 7,
   "id": "c47380cf",
   "metadata": {},
   "outputs": [
    {
     "ename": "TypeError",
     "evalue": "Can't instantiate abstract class ConcreteClass with abstract method algun_metodo",
     "output_type": "error",
     "traceback": [
      "\u001b[1;31m---------------------------------------------------------------------------\u001b[0m",
      "\u001b[1;31mTypeError\u001b[0m                                 Traceback (most recent call last)",
      "Input \u001b[1;32mIn [7]\u001b[0m, in \u001b[0;36m<cell line: 1>\u001b[1;34m()\u001b[0m\n\u001b[1;32m----> 1\u001b[0m \u001b[43mConcreteClass\u001b[49m\u001b[43m(\u001b[49m\u001b[43m)\u001b[49m\n",
      "\u001b[1;31mTypeError\u001b[0m: Can't instantiate abstract class ConcreteClass with abstract method algun_metodo"
     ]
    }
   ],
   "source": [
    "ConcreteClass()"
   ]
  },
  {
   "cell_type": "code",
   "execution_count": 10,
   "id": "474a6c70",
   "metadata": {},
   "outputs": [],
   "source": [
    "class ImplementedConcreteClass(ConcreteClass):\n",
    "    def algun_metodo():\n",
    "        pass"
   ]
  },
  {
   "cell_type": "code",
   "execution_count": 11,
   "id": "fdc81469",
   "metadata": {},
   "outputs": [],
   "source": [
    "instance = ImplementedConcreteClass()"
   ]
  },
  {
   "cell_type": "markdown",
   "id": "a51aac1a",
   "metadata": {},
   "source": [
    "Como se puede observar, la `abstract base class` nos impide instanciar classes, hasta que todos los métodos abstractos han sido heredados. Esto es muy útil cuando el código expecta ciertas propiedades o métodos para que estén disponibles."
   ]
  },
  {
   "cell_type": "markdown",
   "id": "d24a5211",
   "metadata": {},
   "source": [
    "Se puede mezclar su funcionamiento con `property`, `staticmethod` y `classmethod`."
   ]
  },
  {
   "cell_type": "code",
   "execution_count": 12,
   "id": "70bc6ffb",
   "metadata": {},
   "outputs": [],
   "source": [
    "import abc\n",
    "\n",
    "class AbstractClass(object, metaclass = abc.ABCMeta):\n",
    "    \n",
    "    @property\n",
    "    @abc.abstractmethod\n",
    "    def some_property(self):\n",
    "        raise NotImplemented()\n",
    "        \n",
    "        \n",
    "    @classmethod\n",
    "    @abc.abstractmethod\n",
    "    def some_classmethod(cls):\n",
    "        raise NotImplemented()\n",
    "        \n",
    "        \n",
    "    @staticmethod\n",
    "    @abc.abstractmethod\n",
    "    def some_staticmethod():\n",
    "        raise NotImplemented()\n",
    "        \n",
    "        \n",
    "    @abc.abstractmethod\n",
    "    def some_method():\n",
    "        raise NotImplemented()"
   ]
  },
  {
   "cell_type": "markdown",
   "id": "ad42ddfe",
   "metadata": {},
   "source": [
    "Primero, `abc.abstractmethod` setea el property `__isabstractmethod__` en la función a True. Luego de eso la metaclase `abc.ABCMeta` revisa todos los elementos y mira los objetos donde `__isabstractmethod__` evalúa a True. Además, va a chequear `__abstracmethods__` para cada clase, en caso de que la clase hereda una clase abstracta. "
   ]
  },
  {
   "cell_type": "code",
   "execution_count": null,
   "id": "a00a9f83",
   "metadata": {},
   "outputs": [],
   "source": []
  }
 ],
 "metadata": {
  "kernelspec": {
   "display_name": "Python 3 (ipykernel)",
   "language": "python",
   "name": "python3"
  },
  "language_info": {
   "codemirror_mode": {
    "name": "ipython",
    "version": 3
   },
   "file_extension": ".py",
   "mimetype": "text/x-python",
   "name": "python",
   "nbconvert_exporter": "python",
   "pygments_lexer": "ipython3",
   "version": "3.9.10"
  }
 },
 "nbformat": 4,
 "nbformat_minor": 5
}
