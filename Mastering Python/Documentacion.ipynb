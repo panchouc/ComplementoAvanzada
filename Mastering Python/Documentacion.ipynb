{
 "cells": [
  {
   "cell_type": "markdown",
   "id": "1fdd772e",
   "metadata": {},
   "source": [
    "# Documentación - Como usar Sphinx y reStructuredText"
   ]
  },
  {
   "cell_type": "markdown",
   "id": "61bc4132",
   "metadata": {},
   "source": [
    "Escribir la documentación puede ser un trabajo aburrido y tradicionalmente solo otros recogen los beneficios de ese esfuerzo. Las herramientas disponibles para Python, hace casi trivial para generar documentación útil y al día con pequeño o nada de esfuerzo.\n",
    "\n",
    "Además de simple documentación explicando lo que hace una función, también es posible añadir metadata, como type hints. Estos type hints pueden ser utilizados para hacer los argumentos y return types de una función o clase clickeable en la documentación.\n",
    "\n",
    "## Type hinting\n",
    "El type hinting te permite especificar los types de las variables y los return values, lo que significa que tu editor va a ser capaz de entregar autocompletado inteligente.\n",
    "\n",
    "Como el Zen de Python nos dice, explícito es mejor que implícito. En el caso de return types, este es a menudo el caso y puede ser implementado con poco esfuerzo:"
   ]
  },
  {
   "cell_type": "code",
   "execution_count": 1,
   "id": "45eacaaa",
   "metadata": {},
   "outputs": [],
   "source": [
    "def pow(base: int, exponent: int) -> int:\n",
    "    return base ** exponent"
   ]
  },
  {
   "cell_type": "code",
   "execution_count": 2,
   "id": "d0573c8f",
   "metadata": {},
   "outputs": [
    {
     "name": "stdout",
     "output_type": "stream",
     "text": [
      "Help on function pow in module __main__:\n",
      "\n",
      "pow(base: int, exponent: int) -> int\n",
      "\n"
     ]
    }
   ],
   "source": [
    "help(pow)"
   ]
  },
  {
   "cell_type": "code",
   "execution_count": 3,
   "id": "e747f720",
   "metadata": {},
   "outputs": [
    {
     "data": {
      "text/plain": [
       "{'base': int, 'exponent': int, 'return': int}"
      ]
     },
     "execution_count": 3,
     "metadata": {},
     "output_type": "execute_result"
    }
   ],
   "source": [
    "pow.__annotations__"
   ]
  },
  {
   "cell_type": "markdown",
   "id": "bd52f815",
   "metadata": {},
   "source": [
    "Con un simple `-> type`, se puede especificar el return type de la función, lo que es automáticamente reflejado en `__annotations__` y visible en `help()`.\n",
    "\n",
    "Si bien basic types como `int, float, str, dict, list y set` pueden ser especificados con `variable: int`, para types más avanzados, necesitamos el módulo `typing`.\n",
    "\n",
    "El módulo `typing` contiene types como `typing.Any` que permite lo que sea, `typing.Optional` permite `None` y `typing.Union` para especificar múltiples types permitidos."
   ]
  },
  {
   "cell_type": "code",
   "execution_count": 4,
   "id": "f76d2843",
   "metadata": {},
   "outputs": [
    {
     "name": "stdout",
     "output_type": "stream",
     "text": [
      "Help on function pow in module __main__:\n",
      "\n",
      "pow(base: int, exponent: int) -> Union[int, float]\n",
      "\n"
     ]
    }
   ],
   "source": [
    "import typing\n",
    "\n",
    "int_or_float = typing.Union[int, float]\n",
    "\n",
    "def pow(base: int, exponent: int) -> int_or_float:\n",
    "    return base ** exponent\n",
    "\n",
    "help(pow)"
   ]
  },
  {
   "cell_type": "markdown",
   "id": "b9a530ba",
   "metadata": {},
   "source": [
    "Con `typing.Union` podemos especificar una lista de types que aplican. Similarmente, un type opcional puede ser especificado usando `typing.Optional[int]` para indicar que el type puede ser ya sea `int` o `None`.\n",
    "\n",
    "## Custom types"
   ]
  },
  {
   "cell_type": "code",
   "execution_count": null,
   "id": "6fb407c6",
   "metadata": {},
   "outputs": [],
   "source": [
    "class Sandwich:\n",
    "    pass\n",
    "\n",
    "def get_sandwich() -> Sandwich:\n",
    "    return Sandwich()"
   ]
  },
  {
   "cell_type": "markdown",
   "id": "4e41c4f0",
   "metadata": {},
   "source": [
    "Para type checking adecuado, podemos ocupar herramientas como *mypy*.\n",
    "\n",
    "Si queremos crear un custom type de un built-in existente es posible con `typing.NewType`, que crea un nuevo type que actúa como el base type, pero puede ser chequeado por *static type checkers*."
   ]
  },
  {
   "cell_type": "code",
   "execution_count": 5,
   "id": "bfaa11b9",
   "metadata": {},
   "outputs": [
    {
     "data": {
      "text/plain": [
       "str"
      ]
     },
     "execution_count": 5,
     "metadata": {},
     "output_type": "execute_result"
    }
   ],
   "source": [
    "import typing\n",
    "\n",
    "Username = typing.NewType('Username', str)\n",
    "\n",
    "rick = Username('Rick')\n",
    "type(rick)"
   ]
  },
  {
   "cell_type": "markdown",
   "id": "54e39c6f",
   "metadata": {},
   "source": [
    "## Type checking\n",
    "La implementación para type checking es mypy. Puede checkear minuciosamente el código y alertar acerca de potenciales problemas.\n",
    "\n",
    "Primero necesitamos instalar mypy, para esto usamos pip:\n",
    "\n",
    "```sh\n",
    "pip install -U mypy\n",
    "\n",
    "```"
   ]
  },
  {
   "cell_type": "markdown",
   "id": "ca104110",
   "metadata": {},
   "source": [
    "```python \n",
    "\n",
    "import typing\n",
    "def pow(base: int, exponent: int) -> int:\n",
    "    return base ** exponent\n",
    "\n",
    "pow(2.5, 10)\n",
    "```\n",
    "\n",
    "```sh\n",
    "$ mypy pythonfile.py\n",
    "\n",
    "```\n"
   ]
  },
  {
   "cell_type": "markdown",
   "id": "89aafeb8",
   "metadata": {},
   "source": [
    "## Conclusión type hinting"
   ]
  },
  {
   "cell_type": "markdown",
   "id": "684401ba",
   "metadata": {},
   "source": [
    "El módulo `typing` sigue siendo mejorado y mypy tiene una documentación bastante extensa que puede ser útil si se está aplicando esto al propio código. Asegúrese de mirar la documentación si tiene algún problema en específico; es de alta calidad y muy útil.\n",
    "\n",
    "Una sugerencia es usar type hinting donde sea que mejore el *workflow*. Cuando se tienen clases más avanzadas y uno se tiende a olvidar de los métodos disponibles para esa clase, se convierte en una herramienta muy útil."
   ]
  },
  {
   "cell_type": "markdown",
   "id": "77b6f51e",
   "metadata": {},
   "source": [
    "## reStructuredText y Markdown"
   ]
  },
  {
   "cell_type": "markdown",
   "id": "f5a66685",
   "metadata": {},
   "source": [
    "El formato reStructuredText (reST) implementa suficiente Markdown para ser utilizable, pero es lo suficientemente simple para ser leído como texto plano. Estas dos características lo hacen suficientemente legible para usar en el código, y sigue siendo lo suficientemente versátil para generar documentación bonita y útil.\n",
    "\n",
    "El formato Markdown ha ganado mayor popularidad debido a que es un poco más simple y menos *Python-focused*. Ambos standards son excelentes para escribir texto que es legible y puede ser fácilmente convertido en otros formatos como HTML o PDF.\n",
    "\n",
    "Las principales ventajas de reST son:\n",
    "\n",
    "- Un amplio set de features\n",
    "- Un estándar estrictamente definido\n",
    "- Fácilmente extensible\n",
    "\n",
    "Las principales ventajas de Markdown son:\n",
    "- Menos Python-centric\n",
    "- Un parser menos estricto y más indulgente, lo que lo hace más fácil de escribir\n",
    "\n",
    "Para la documentación en Python, reST es el estándar más conveniente dado que está bien soportado por herramientas como `Sphinx` y `docutils`. Para archivos readme en sitios como Github y el *Python package index*, el estándar de Markdown está generalmente mejor soportado.\n",
    "\n",
    "Para convertir fácilmente entre formatos como reST y markdown, use Pandoc.\n",
    "\n",
    "Un archivo simple de reST es:\n",
    "\n",
    "```text\n",
    "Documentation, how to use Sphinx and reStructuredText\n",
    "##################################################################\n",
    "\n",
    "Documenting code can be both fun and useful! ...\n",
    "\n",
    "Additionally, adding ...\n",
    "\n",
    "... So that typing `Spam.eggs.` will automatically ...\n",
    "\n",
    "Topics covered in this chapter are as follows:\n",
    "\n",
    " - The reStructuredText syntax\n",
    " - Setting up documentation using Sphinx\n",
    " - Sphinx style docstrings\n",
    " - Google style docstrings\n",
    " - NumPy style docstrings\n",
    "\n",
    "The reStructuredText syntax\n",
    "******************************************************************\n",
    "\n",
    "The reStructuredText format (also known as ...]\n",
    "```"
   ]
  },
  {
   "cell_type": "markdown",
   "id": "b22763df",
   "metadata": {},
   "source": [
    "Para el archivo Markdown el archivo se ve similar, solo que debemos modificar ligeramente los headers:"
   ]
  },
  {
   "cell_type": "markdown",
   "id": "64531442",
   "metadata": {},
   "source": [
    "```text\n",
    "# Documentation, how to use Sphinx and reStructuredText\n",
    "...\n",
    "## The reStructuredText syntax\n",
    "...\n",
    "```"
   ]
  },
  {
   "cell_type": "markdown",
   "id": "4d0c508a",
   "metadata": {},
   "source": [
    "## Empezando con reStructuredText"
   ]
  },
  {
   "cell_type": "markdown",
   "id": "0c7b4c15",
   "metadata": {},
   "source": [
    "Para convertir rápidamente un archivo reST a HTML, podemos utilizar la librería `docutils`. Para esto debemos instalarla\n",
    "\n",
    "```sh\n",
    "pip install docutils\n",
    "\n",
    "```\n",
    "\n",
    "Luego de esto podemos convertir fácilmente el archivo reST a PDF, LaTeX, HTML, entre otros formatos. Para convertirlo a HTML utilizamos\n",
    "\n",
    "```sh\n",
    "rst2html.py file.rst file.html\n",
    "\n",
    "```\n",
    "\n",
    "El lenguaje reST tiene dos componentes básicas:\n",
    "\n",
    "- Roles que permiten modificaciones *inline* del output, como :code:, :math:, :emphasis:, y :literal: .\n",
    "- Directivas que generan bloques markup, como ejemplos de código con múltiples líneas. Estos se ven como:\n",
    "\n",
    "```text\n",
    ".. code:: python\n",
    "\n",
    "  print('Hello world')\n",
    "```"
   ]
  },
  {
   "cell_type": "markdown",
   "id": "c25fccb2",
   "metadata": {},
   "source": []
  }
 ],
 "metadata": {
  "kernelspec": {
   "display_name": "Python 3 (ipykernel)",
   "language": "python",
   "name": "python3"
  },
  "language_info": {
   "codemirror_mode": {
    "name": "ipython",
    "version": 3
   },
   "file_extension": ".py",
   "mimetype": "text/x-python",
   "name": "python",
   "nbconvert_exporter": "python",
   "pygments_lexer": "ipython3",
   "version": "3.9.10"
  }
 },
 "nbformat": 4,
 "nbformat_minor": 5
}
