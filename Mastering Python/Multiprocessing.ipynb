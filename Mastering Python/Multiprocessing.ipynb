{
 "cells": [
  {
   "cell_type": "markdown",
   "id": "524e7e11",
   "metadata": {},
   "source": [
    "# Multiprocessing"
   ]
  },
  {
   "cell_type": "markdown",
   "id": "080aa0fe",
   "metadata": {},
   "source": [
    "## Tabla de contenidos\n",
    "***\n",
    "\n",
    "\n",
    "\n",
    "***"
   ]
  },
  {
   "cell_type": "markdown",
   "id": "19152138",
   "metadata": {},
   "source": [
    "Aquí se revisará como se puede usar directamente múltiples threads o procesos para acelerar el código y que riesgos hay que tener en mente.\n",
    "\n",
    "El módulo `threading` hace posible el correr código en paralelo en un único proceso. Esto hace el threading muy útil para tareas de I/O como leer/escribir sobre archivos o comunicación en redes, pero una opción inútil para cálculos pesados y lentos, donde el módulo `multiprocessing` brilla.\n",
    "\n",
    "Con el módulo `multiprocessing`, se puede correr código en múltiples procesos, lo que significa que se puede correr código en múltiples cores de GPU, múltiples procesadores e incluso múltiples computadores.\n",
    "\n",
    "El módulo `threading` es básico, en el sentido de que se tienen que crear y manejar los threads de forma manual. Para esto, se tiene el módulo `concurrent.futures`, que ofrece una manera simple de ejecutar una lista de tareas ya sea a través de threads o procesos."
   ]
  },
  {
   "cell_type": "markdown",
   "id": "520d7990",
   "metadata": {},
   "source": [
    "## The Global Interpreter Lock (GIL)"
   ]
  },
  {
   "cell_type": "markdown",
   "id": "9fbc5008",
   "metadata": {},
   "source": [
    "El GIL es un bloqueo global (global lock) para el intérprete de Python, para que pueda ejecutar solo una instrucción a la vez. Un **lock** o **mutex (mutual exclusion)** en computación paralela es una sincronización primitiva que puede bloquear la ejecución paralela. Con un lock, se asegura que nadie puede tocar la variable mientras se está trabajando en ella.\n",
    "\n",
    "Python ofrece diversas maneras de sincronización primitivas, somo `threading.Lock` y `threading.Semaphore`. Incluso con el módulo `threading`, solo se está ejecutando una sola instrucción a la vez en Python."
   ]
  },
  {
   "cell_type": "markdown",
   "id": "75a767cc",
   "metadata": {},
   "source": [
    "## El uso de múltiples threads"
   ]
  },
  {
   "cell_type": "markdown",
   "id": "e8d7be96",
   "metadata": {},
   "source": [
    "`threading` puede brindar muchos beneficios si se está esperando a recursos externos."
   ]
  },
  {
   "cell_type": "markdown",
   "id": "6036a1ef",
   "metadata": {},
   "source": [
    "## ¿Por qué se necesita el GIL?"
   ]
  },
  {
   "cell_type": "markdown",
   "id": "a50ddc6e",
   "metadata": {},
   "source": [
    "El GIL, es actualmente una parte esencial del intérprete de CPython porque se asegura de que el manejo de memoria es siempre consistente. Como el GIL se asegura de que una sola instrucción de Python se puede ejecutar simultáneamente, nunca hay problemas donde múltiples bits de código manipulan memoria la mismo tiempo, o donde memoria está siendo liberada al sistema que actualmente no está disponible."
   ]
  },
  {
   "cell_type": "markdown",
   "id": "682f593c",
   "metadata": {},
   "source": [
    "## Múltiples threads y procesos"
   ]
  },
  {
   "cell_type": "markdown",
   "id": "6fa2a739",
   "metadata": {},
   "source": [
    "El módulo `multiprocessing` ha hecho bastante fácil el trabajar alrededor de las limitaciones del GIL porque cada proceso tiene su propio GIL.\n",
    "\n",
    "El uso del módulo `multiprocessing` es bastante similar al del módulo `threading` pero tiene muchas características muy útiles que hacen mucho más sentido con múltiples procesos.\n",
    "\n",
    "**IMPORTANTE: Debe ser consciente de que es crítico el poner en el código `if __name__ == '__main__'` cuando use `multiprocessing`. Cuando este módulo lanza los procesos extra de Python, va a ejecutar el mismo script de Python, así que sin este bloque de código usted va a terminar en un loop infinito de procesos que inician.**"
   ]
  },
  {
   "cell_type": "markdown",
   "id": "7c0b19bb",
   "metadata": {},
   "source": [
    "## Ejemplos básicos"
   ]
  },
  {
   "cell_type": "markdown",
   "id": "fda375c1",
   "metadata": {},
   "source": [
    "Para crear threads y prcoesos, se tienen diversas opciones:\n",
    "- `concurrent.futures`: Una interfaz fácil de usar para correr funciones ya sea en threads o procesos, similar a `asyncio`.\n",
    "- `threading`: Una interfaz para crear threads de forma directa.\n",
    "- `multiprocessing`: Una interfaz con mucha utilidad y funciones convenientes para crear y manejar múltiples procesos de Python."
   ]
  },
  {
   "cell_type": "markdown",
   "id": "bd3bb81e",
   "metadata": {},
   "source": [
    "## concurrent.futures"
   ]
  },
  {
   "cell_type": "code",
   "execution_count": 1,
   "id": "3b8affcd",
   "metadata": {},
   "outputs": [
    {
     "name": "stdout",
     "output_type": "stream",
     "text": [
      "a 0\n",
      "a 1\n",
      "b 0\n",
      "b 1\n",
      "a 2\n",
      "b 2\n"
     ]
    }
   ],
   "source": [
    "import time\n",
    "import concurrent.futures\n",
    "\n",
    "def timer(name, steps, interval = 0.1):\n",
    "    '''funcion timer que duerme steps * interval'''\n",
    "    for step in range(steps):\n",
    "        print(name, step)\n",
    "        time.sleep(interval)\n",
    "        \n",
    "\n",
    "if __name__ == '__main__':\n",
    "    #Reemplazar con concurrent.futures.ProcessPoolExecutor para\n",
    "    #múltiples procesos en vez de threads\n",
    "    \n",
    "    with concurrent.futures.ThreadPoolExecutor() as executor:\n",
    "        #Entregar la función a executor con algunos argumentos\n",
    "        executor.submit(timer, steps = 3, name = 'a')\n",
    "        \n",
    "        #Dormir un poquito, para mantener el orden del output consistente\n",
    "        time.sleep(0.1)\n",
    "        executor.submit(timer, steps = 3, name = \"b\")"
   ]
  },
  {
   "cell_type": "markdown",
   "id": "7e2c3be8",
   "metadata": {},
   "source": [
    "Primero se creó una función timer que corre time.sleep(interval) y lo hace steps veces. Antes de dormir, printea el nombre y el step actual así podemos ver fácilmente que es lo que está pasando. Luego, creamos executor usando `concurrent.futures.ThreadPoolExecutor` para ejecutar las funciones. Finalmente, entregamos las funciones que queremos ejecutar con sus respectivos argumentos para empezar ambos threads. Entre medio, dormimos por un pequeño intervalo de tiempo, así el output es consistente."
   ]
  },
  {
   "cell_type": "markdown",
   "id": "cdb3cd90",
   "metadata": {},
   "source": [
    "## threading"
   ]
  },
  {
   "cell_type": "code",
   "execution_count": 2,
   "id": "8bd916dc",
   "metadata": {},
   "outputs": [
    {
     "name": "stdout",
     "output_type": "stream",
     "text": [
      "a 0\n",
      "a 1\n",
      "b 0\n",
      "ab 1\n",
      " 2\n",
      "b 2\n"
     ]
    }
   ],
   "source": [
    "import time\n",
    "import threading\n",
    "\n",
    "def timer(name, steps, interval = 0.1):\n",
    "    '''funcion timer que duerme steps * interval'''\n",
    "    for step in range(steps):\n",
    "        print(name, step)\n",
    "        time.sleep(interval)\n",
    "        \n",
    "# Se crean los threads de forma declarativa\n",
    "a = threading.Thread(target = timer, kwargs = dict(name = \"a\", steps = 3))\n",
    "b = threading.Thread(target = timer, kwargs = dict(name = \"b\", steps = 3))\n",
    "\n",
    "#Se empiezan los threads\n",
    "a.start()\n",
    "\n",
    "#Se duerme un poquito\n",
    "time.sleep(0.1)\n",
    "b.start()"
   ]
  },
  {
   "cell_type": "markdown",
   "id": "9c5986e8",
   "metadata": {},
   "source": [
    "La función timer es idéntica. En este caso creamos los threads instanciando `threading.Thread()` directamente, pero heredar de `threading.Thread` es también una opción. Los argumentos a la función objetivo pueden ser dados, pasando args/kwargs argumentos, pero estoy son opcionales si no se tiene necesidad de usarlos o si se han prellenado usando `functools.partial`.\n",
    "\n",
    "Aquí estamos creando explícitamente los threads para correr una sola funcion y salir tan pronto como su tarea haya terminado. Esto es útil para threads que corren durante largos períodos, dado que este método requiere setear el thread para cada función."
   ]
  },
  {
   "cell_type": "code",
   "execution_count": 4,
   "id": "6d9497a6",
   "metadata": {},
   "outputs": [
    {
     "name": "stdout",
     "output_type": "stream",
     "text": [
      "a 0\n",
      "a 1\n",
      "b 0\n",
      "b 1\n",
      "a 2\n",
      "b 2\n"
     ]
    }
   ],
   "source": [
    "import time\n",
    "import threading\n",
    "\n",
    "class Timer(threading.Thread):\n",
    "    def __init__(self, name, steps, interval = 0.1):\n",
    "        self.steps = steps\n",
    "        self.interval = interval\n",
    "        #threading.Thread tiene un nombre built- in\n",
    "        #Be careful not to manually override it\n",
    "        super().__init__(name = name)\n",
    "        \n",
    "        \n",
    "    def run(self):\n",
    "        '''funcion timer que duerme steps * interval'''\n",
    "        for step in range(self.steps):\n",
    "            print(self.name, step)\n",
    "            time.sleep(self.interval)\n",
    "\n",
    "a = Timer(name = \"a\", steps = 3)\n",
    "b = Timer(name = \"b\", steps = 3)\n",
    "\n",
    "a.start()\n",
    "\n",
    "time.sleep(0.1)\n",
    "b.start()"
   ]
  },
  {
   "cell_type": "markdown",
   "id": "25c3b049",
   "metadata": {},
   "source": [
    "Diferencias críticas a tener en consideración:\n",
    "- `name` es un atributo reservado para `threading.Thread`.\n",
    "- La función target por defecto es run(). Sea cuidadoso de sobreescribir el método `run()` en vez del método `start()`, de lo contrario el código no se va a ejecutar en un thread aparte, pero se ejecutará como una función regular cuando se llama el método `start()`."
   ]
  },
  {
   "cell_type": "markdown",
   "id": "80f217e3",
   "metadata": {},
   "source": [
    "## multiprocessing"
   ]
  },
  {
   "cell_type": "markdown",
   "id": "7dfb4180",
   "metadata": {},
   "source": [
    "Ejecute los siguientes códigos no en el notebook"
   ]
  },
  {
   "cell_type": "code",
   "execution_count": 6,
   "id": "a8c4cc6f",
   "metadata": {},
   "outputs": [],
   "source": [
    "import time\n",
    "import multiprocessing\n",
    "\n",
    "def timer(name, steps, interval = 0.1):\n",
    "    '''funcion timer que duerme steps * interval'''\n",
    "    for step in range(steps):\n",
    "        print(name, step)\n",
    "        time.sleep(interval)\n",
    "        \n",
    "        \n",
    "if __name__ == \"__main__\":\n",
    "    #Se crean los procesos de forma declarativa\n",
    "    a = multiprocessing.Process(target = timer, kwargs = dict(name = \"a\", steps = 3))\n",
    "    b = multiprocessing.Process(target = timer, kwargs = dict(name = \"b\", steps = 3))\n",
    "    \n",
    "    #Se comienzan los procesos\n",
    "    a.start()\n",
    "    #Se duerme un poquito\n",
    "    time.sleep(0.1)\n",
    "    b.start()"
   ]
  },
  {
   "cell_type": "markdown",
   "id": "f601da9d",
   "metadata": {},
   "source": [
    "A continuación se adjunta la versión basada en OOP"
   ]
  },
  {
   "cell_type": "code",
   "execution_count": null,
   "id": "2ec29ab4",
   "metadata": {},
   "outputs": [],
   "source": [
    "import time\n",
    "import multiprocessing\n",
    "\n",
    "class Timer(multiprocessing.Process):\n",
    "    def __init__(self, name, steps, interval = 0.1):\n",
    "        self.steps = steps\n",
    "        self.interval = interval\n",
    "        \n",
    "        super().__init__(name = name)\n",
    "        \n",
    "    \n",
    "    def run(self):\n",
    "        '''funcion timer que duerme steps * interval'''\n",
    "        for step in range(self.steps):\n",
    "            print(self.name, step)\n",
    "            time.sleep(self.interval)\n",
    "            \n",
    "if __name__ == \"__main__\":\n",
    "    a = Timer(name = \"a\", steps = 3)\n",
    "    b = Timer(name = \"b\", steps = 3)\n",
    "    \n",
    "    a.start()\n",
    "    time.sleep(0.1)\n",
    "    b.start()"
   ]
  },
  {
   "cell_type": "markdown",
   "id": "b61a5d26",
   "metadata": {},
   "source": [
    "## Salir limpiamente de procesos y threads de ejecución prolongada"
   ]
  },
  {
   "cell_type": "markdown",
   "id": "8ac88658",
   "metadata": {},
   "source": [
    "El módulo `threading` es más que nada útil para threads que se ejecutan de manera prolongada que manejan un recurso externo. Algunos ejemplos son:\n",
    "\n",
    "- Cuando se crea un servidor y se quiere estar atento para nuevas conexiones\n",
    "- Cuando se conecta a HTTP WebSockets y se necesita que la conexión se mantenga abierta\n",
    "- Cuando se necesitan guardar ciertos cambios de forma periódica\n",
    "\n",
    "En algún punto, puede que necesite terminar un thread **afuera** desde fuerad el thread, durante la salida del script principal, por ejemplo. Esperar un thread que se termina por si solo es trivial; la única cosa que se debe hacer es `future.result()` o `some_thread.join(timeout = ....)` y listo. La parte difícil es decirle al thread que termine su ejecución y correr la limpieza mientras se sigue haciendo otra cosa.\n",
    "\n",
    "La única solución real para esto, que aplica si tiene suerte, es un simple `while loop` que corre hasta que se le da una señal de stop."
   ]
  },
  {
   "cell_type": "code",
   "execution_count": null,
   "id": "26ad7c1c",
   "metadata": {},
   "outputs": [],
   "source": [
    "import time\n",
    "import threading\n",
    "\n",
    "class Forever(threading.Thread):\n",
    "    def __init__(self):\n",
    "        self.stop = threading.Event()\n",
    "        super().__init__()\n",
    "        \n",
    "    def run(self):\n",
    "        while not self.stop.is_set():\n",
    "            #Haga lo que sea que necesite\n",
    "            time.sleep(0.1)\n",
    "            \n",
    "thread = Forever()\n",
    "thread.start()\n",
    "#Haga lo que sea que necesite\n",
    "thread.stop.set()\n",
    "thread.join()"
   ]
  },
  {
   "cell_type": "markdown",
   "id": "922a7dc3",
   "metadata": {},
   "source": [
    "Este código usa `threading.Event()` como una bandera para decirle al thread cuando la salida es necesaria.\n",
    "\n",
    "El escenario ideal es: tener un loop donde la condición del loop es chequeada de forma regular y el intervalo del loop es el el máximo delay para terminar el thread. ¿Qué pasa si el thread está ocupando haciendo operaciones y no chequea la condición del while?. En este caso, tener el evento de stop es inútil en esos escenarios y se necesitan métodos más poderosos para sacar el thread. Para este escenario, se tienen ciertas opciones:\n",
    "\n",
    "- Evitar este escenario completamente usando `asyncio` o `multiprocessing`\n",
    "- Hacer el thread un daemon thread setteando `your_thread.daemon = True` *antes* de empezar el thread. Esto va a aniquilar el thread automáticamente una vez el proceso principal termina\n",
    "- Aniquilar el thread desde afuera ya sea diciéndole al sistema operativo que envíe una señal de terminar/aniquilar o levantando una excepción dentro del thread desde el thread principal. Esta es una opción que no debe considerar, es recomendable que no la utilice.\n",
    "\n",
    "Notar que las mismas limitaciones de `threading` también aplican a `multiprocessing`.\n",
    "\n",
    "A continuación se incluye un ejemplo para ilustrar como podemos terminar forzadamente o aniquilar un thread (con el riesgo de corrupción de memoria):"
   ]
  },
  {
   "cell_type": "code",
   "execution_count": null,
   "id": "4ea9948c",
   "metadata": {},
   "outputs": [],
   "source": [
    "import time\n",
    "import multiprocessing\n",
    "\n",
    "class Forever(multiprocessing.Process):\n",
    "    def run(self):\n",
    "        while True:\n",
    "            #Haga lo que sea que necesite\n",
    "            \n",
    "            time.sleep(0.1)\n",
    "            \n",
    "if __name__ == \"__main__\":\n",
    "    process = Forever()\n",
    "    process.start()\n",
    "    \n",
    "    #Matar nuestro proceso\n",
    "    process.terminate()\n",
    "    \n",
    "    #Esperar 10 segundos para salir correctamente\n",
    "    process.join(10)\n",
    "    \n",
    "    #Si todavía no sale, matarlo\n",
    "    if process.exitcode is None:\n",
    "        process.kill()"
   ]
  },
  {
   "cell_type": "markdown",
   "id": "2aa58356",
   "metadata": {},
   "source": [
    "## Batch processing usando `concurrent.futures`"
   ]
  },
  {
   "cell_type": "code",
   "execution_count": null,
   "id": "b15edcd5",
   "metadata": {},
   "outputs": [],
   "source": []
  },
  {
   "cell_type": "markdown",
   "id": "258a735f",
   "metadata": {},
   "source": [
    "## Batch processing usando multiprocessing"
   ]
  },
  {
   "cell_type": "code",
   "execution_count": null,
   "id": "9da0b560",
   "metadata": {},
   "outputs": [],
   "source": []
  }
 ],
 "metadata": {
  "kernelspec": {
   "display_name": "Python 3 (ipykernel)",
   "language": "python",
   "name": "python3"
  },
  "language_info": {
   "codemirror_mode": {
    "name": "ipython",
    "version": 3
   },
   "file_extension": ".py",
   "mimetype": "text/x-python",
   "name": "python",
   "nbconvert_exporter": "python",
   "pygments_lexer": "ipython3",
   "version": "3.9.10"
  }
 },
 "nbformat": 4,
 "nbformat_minor": 5
}
