{
 "cells": [
  {
   "cell_type": "markdown",
   "id": "4611ab19",
   "metadata": {},
   "source": [
    "# Notebook creado por Francisco Solís"
   ]
  },
  {
   "cell_type": "markdown",
   "id": "9e0d1063",
   "metadata": {},
   "source": [
    "# Generadores y Corrutinas (Generators and Corroutines)"
   ]
  },
  {
   "cell_type": "markdown",
   "id": "ed393b95",
   "metadata": {},
   "source": [
    "## Tabla de contenidos\n",
    "- [Como crear generadores](#id1)\n",
    "<a href='#id1'></a>\n",
    "\n",
    "- [Generadores infinitos](#id2)\n",
    "<a href='#id2'></a>\n",
    "\n",
    "- [Generadores envolviendo iterables](#id3)\n",
    "<a href='#id3'></a>\n",
    "\n",
    "- [Comprehensions de generadores](#id4)\n",
    "<a href='#id4'></a>"
   ]
  },
  {
   "attachments": {},
   "cell_type": "markdown",
   "id": "92630da2",
   "metadata": {},
   "source": [
    "Los generadores son funciones que se comportan como iteradores generando los valores que retornan uno a uno.\n",
    "\n",
    "Un generador ocupa `yield` para retornar un único valor cuando se le es solicitado. El efecto lateral es que los generadores pueden ser infinitamente largos porque se puede seguir solicitando por siempre.\n",
    "\n",
    "Hay una variación en la sintaxís de los generadores que crean corrutinas. Las corrutinas son funciones que permiten el multitasking sin requerir múltiples threads o procesos. \n",
    "\n",
    "Mientras que los generadores pueden retornar values a quien se lo solicita basado en los argumentos iniciales, las corrutinas permiten dos formas de comunicación con la función que la llama mientras corre. La implementación de corrutinas en Python es a través del módulo `asyncio`.\n",
    "\n",
    "Si las corrutinas funcionan para lo que usted necesita, pueden ofrecer una enorme mejora en el rendimiento."
   ]
  },
  {
   "cell_type": "markdown",
   "id": "1a0dd2d5",
   "metadata": {},
   "source": [
    "## Generadores"
   ]
  },
  {
   "cell_type": "markdown",
   "id": "6a1cee07",
   "metadata": {},
   "source": [
    "A continuación se presentan las principales ventajas y desventajas de los generadores.\n",
    "\n",
    "**Ventajas**\n",
    "\n",
    "- Los generadores son usualmente más simples que escribir que una función que genera listas. Sólo se necesita el valor `yield`.\n",
    "- Los ítems pueden ser procesados uno a la vez, así que generalmente no hay necesidad de mantener toda la lista en la memoria.\n",
    "- Los resultados pueden depender de factores externos. Sólo se genera el valor cuando es solicitado.\n",
    "- Los generadores son \"flojos\". Esto quiere decir, que si se usan solo los diez primeros resultados de un generador, el resto no va a ser calculado.\n",
    "\n",
    "**Desventajas**\n",
    "- Los resultados sólo están disponibles una vez. Después de procesar los resultados de un generador, no se pueden usar de nuevo.\n",
    "- El tamaño es desconocido, incluso puede ser infinito.\n",
    "- No es posible usar slices, así que mi_generador[3:10] no va a funcionar. Se puede usar itertools.islice para esto.\n",
    "- No se puede indexar generadores, así que mi_generador[3] no funcionará."
   ]
  },
  {
   "cell_type": "markdown",
   "id": "9d16dbdf",
   "metadata": {},
   "source": [
    "<a id='id1'></a>"
   ]
  },
  {
   "cell_type": "markdown",
   "id": "f6e722ed",
   "metadata": {},
   "source": [
    "## Como crear generadores"
   ]
  },
  {
   "cell_type": "markdown",
   "id": "7b749175",
   "metadata": {},
   "source": [
    "El generador más simple que se puede crear es una función que contiene una declaración `yield` en vez de `return`. La diferencia principal con funciones regulares que contienen un `return`, es que se pueden tener muchos `yield` en la función."
   ]
  },
  {
   "cell_type": "code",
   "execution_count": 2,
   "id": "f1637ebb",
   "metadata": {},
   "outputs": [],
   "source": [
    "def mi_generador():\n",
    "    yield 5\n",
    "    yield \"Buenos días\"\n",
    "    yield 25\n",
    "    return \"Hemos llegado al final\"\n",
    "\n",
    "resultado = mi_generador()"
   ]
  },
  {
   "cell_type": "code",
   "execution_count": 5,
   "id": "9473b076",
   "metadata": {},
   "outputs": [
    {
     "data": {
      "text/plain": [
       "<generator object mi_generador at 0x000002A0240E7900>"
      ]
     },
     "execution_count": 5,
     "metadata": {},
     "output_type": "execute_result"
    }
   ],
   "source": [
    "resultado"
   ]
  },
  {
   "cell_type": "code",
   "execution_count": 6,
   "id": "a9241350",
   "metadata": {},
   "outputs": [
    {
     "ename": "TypeError",
     "evalue": "object of type 'generator' has no len()",
     "output_type": "error",
     "traceback": [
      "\u001b[1;31m---------------------------------------------------------------------------\u001b[0m",
      "\u001b[1;31mTypeError\u001b[0m                                 Traceback (most recent call last)",
      "Input \u001b[1;32mIn [6]\u001b[0m, in \u001b[0;36m<cell line: 1>\u001b[1;34m()\u001b[0m\n\u001b[1;32m----> 1\u001b[0m \u001b[38;5;28;43mlen\u001b[39;49m\u001b[43m(\u001b[49m\u001b[43mresultado\u001b[49m\u001b[43m)\u001b[49m\n",
      "\u001b[1;31mTypeError\u001b[0m: object of type 'generator' has no len()"
     ]
    }
   ],
   "source": [
    "len(resultado)"
   ]
  },
  {
   "cell_type": "code",
   "execution_count": 8,
   "id": "0a2205b1",
   "metadata": {},
   "outputs": [
    {
     "ename": "TypeError",
     "evalue": "'generator' object is not subscriptable",
     "output_type": "error",
     "traceback": [
      "\u001b[1;31m---------------------------------------------------------------------------\u001b[0m",
      "\u001b[1;31mTypeError\u001b[0m                                 Traceback (most recent call last)",
      "Input \u001b[1;32mIn [8]\u001b[0m, in \u001b[0;36m<cell line: 1>\u001b[1;34m()\u001b[0m\n\u001b[1;32m----> 1\u001b[0m \u001b[43mresultado\u001b[49m\u001b[43m[\u001b[49m\u001b[43m:\u001b[49m\u001b[43m]\u001b[49m\n",
      "\u001b[1;31mTypeError\u001b[0m: 'generator' object is not subscriptable"
     ]
    }
   ],
   "source": [
    "resultado[:]"
   ]
  },
  {
   "cell_type": "code",
   "execution_count": 9,
   "id": "8c8a7fad",
   "metadata": {},
   "outputs": [
    {
     "data": {
      "text/plain": [
       "[5, 'Buenos días', 25]"
      ]
     },
     "execution_count": 9,
     "metadata": {},
     "output_type": "execute_result"
    }
   ],
   "source": [
    "list(resultado)"
   ]
  },
  {
   "cell_type": "code",
   "execution_count": 10,
   "id": "1ca40836",
   "metadata": {},
   "outputs": [
    {
     "data": {
      "text/plain": [
       "[]"
      ]
     },
     "execution_count": 10,
     "metadata": {},
     "output_type": "execute_result"
    }
   ],
   "source": [
    "list(resultado)"
   ]
  },
  {
   "cell_type": "markdown",
   "id": "73a86c75",
   "metadata": {},
   "source": [
    "Como se puede observar, no se obtiene mucha información valiosa al con `repr()`, `len()` o slices. Además, utilizar `list()` una segunda oportunidad no funciona porque el generador ya está \"cansado\".\n",
    "\n",
    "Además, puede que haya notado que el valor de `return` pareciera que ha desaparecido. No es el caso, el valor de return todavía se puede utilizar, pero como el valor para la excepción `StopIteration` producidad por el generador para indicar que está \"exhausto\"."
   ]
  },
  {
   "cell_type": "code",
   "execution_count": 11,
   "id": "947cf37e",
   "metadata": {},
   "outputs": [],
   "source": [
    "def segundo_generador():\n",
    "    yield \"Algún valor\"\n",
    "    return \"El fin del generador\"\n",
    "\n",
    "resultado = segundo_generador()"
   ]
  },
  {
   "cell_type": "code",
   "execution_count": 12,
   "id": "69f14884",
   "metadata": {},
   "outputs": [
    {
     "data": {
      "text/plain": [
       "'Algún valor'"
      ]
     },
     "execution_count": 12,
     "metadata": {},
     "output_type": "execute_result"
    }
   ],
   "source": [
    "next(resultado)"
   ]
  },
  {
   "cell_type": "code",
   "execution_count": 13,
   "id": "ea001071",
   "metadata": {},
   "outputs": [
    {
     "ename": "StopIteration",
     "evalue": "El fin del generador",
     "output_type": "error",
     "traceback": [
      "\u001b[1;31m---------------------------------------------------------------------------\u001b[0m",
      "\u001b[1;31mStopIteration\u001b[0m                             Traceback (most recent call last)",
      "Input \u001b[1;32mIn [13]\u001b[0m, in \u001b[0;36m<cell line: 1>\u001b[1;34m()\u001b[0m\n\u001b[1;32m----> 1\u001b[0m \u001b[38;5;28;43mnext\u001b[39;49m\u001b[43m(\u001b[49m\u001b[43mresultado\u001b[49m\u001b[43m)\u001b[49m\n",
      "\u001b[1;31mStopIteration\u001b[0m: El fin del generador"
     ]
    }
   ],
   "source": [
    "next(resultado)"
   ]
  },
  {
   "cell_type": "markdown",
   "id": "6d7e5258",
   "metadata": {},
   "source": [
    "Mencionar que nosotros podemos manejar la excepción, de `StopIteration`, de la siguiente manera (por ejemplo)."
   ]
  },
  {
   "cell_type": "code",
   "execution_count": 19,
   "id": "a65b97b7",
   "metadata": {},
   "outputs": [],
   "source": [
    "def flojo():\n",
    "    print(\"Antes del yield statement\")\n",
    "    yield \"He llegado a yield\"\n",
    "    print(\"Después del yield statement\")\n",
    "    \n",
    "generador = flojo()"
   ]
  },
  {
   "cell_type": "code",
   "execution_count": 20,
   "id": "bec9d241",
   "metadata": {},
   "outputs": [
    {
     "name": "stdout",
     "output_type": "stream",
     "text": [
      "Antes del yield statement\n"
     ]
    },
    {
     "data": {
      "text/plain": [
       "'He llegado a yield'"
      ]
     },
     "execution_count": 20,
     "metadata": {},
     "output_type": "execute_result"
    }
   ],
   "source": [
    "next(generador)"
   ]
  },
  {
   "cell_type": "code",
   "execution_count": 21,
   "id": "39f954cf",
   "metadata": {},
   "outputs": [
    {
     "name": "stdout",
     "output_type": "stream",
     "text": [
      "Después del yield statement\n",
      "He llegado al final, pues se ha producido una excepción del tipo StopIteration\n"
     ]
    }
   ],
   "source": [
    "try:\n",
    "    next(generador)\n",
    "except StopIteration:\n",
    "    print(\"He llegado al final, pues se ha producido una excepción del tipo StopIteration\")"
   ]
  },
  {
   "cell_type": "code",
   "execution_count": 22,
   "id": "ce83e557",
   "metadata": {},
   "outputs": [
    {
     "name": "stdout",
     "output_type": "stream",
     "text": [
      "Antes del yield statement\n",
      "He llegado a yield\n",
      "Después del yield statement\n"
     ]
    }
   ],
   "source": [
    "for item in flojo():\n",
    "    print(item)"
   ]
  },
  {
   "attachments": {},
   "cell_type": "markdown",
   "id": "27a60633",
   "metadata": {},
   "source": [
    "Para el correcto manejo de los generadores, siempre tiene que manejar usted la excepción `StopIteration`, o usar un loop u otra estructura que maneje `StopIteration` de forma implícita."
   ]
  },
  {
   "cell_type": "markdown",
   "id": "757edce5",
   "metadata": {},
   "source": [
    "<a id='id2'></a>"
   ]
  },
  {
   "cell_type": "markdown",
   "id": "d9740638",
   "metadata": {},
   "source": [
    "## Creando generadores infinitos"
   ]
  },
  {
   "cell_type": "markdown",
   "id": "c7b9e7d5",
   "metadata": {},
   "source": [
    "Crear un generador sin fin es sencillo. En vez de tener `yield` <valor> como en las funciones previas, ocupamos `yield` dentro de un loop infinito, así podemos hacer un generador infinito."
   ]
  },
  {
   "cell_type": "code",
   "execution_count": 25,
   "id": "271df111",
   "metadata": {},
   "outputs": [
    {
     "data": {
      "text/plain": [
       "[5, 6, 7, 8, 9]"
      ]
     },
     "execution_count": 25,
     "metadata": {},
     "output_type": "execute_result"
    }
   ],
   "source": [
    "def contar(start=0, steps=1, stop= None):\n",
    "    n = start\n",
    "   \n",
    "    while stop is not None and n < stop:\n",
    "        yield n\n",
    "        n += steps\n",
    "        \n",
    "list(contar(5, 1, 10))"
   ]
  },
  {
   "cell_type": "markdown",
   "id": "ee6bf91d",
   "metadata": {},
   "source": [
    "**Debido a la naturaleza infinita de los generadores, se requiere precaución. Sin la variable stop, hacer list(contar()) puede resultar en un loop infinito que puede resultar en quedarse sin memoria de forma sumamente rápida.**"
   ]
  },
  {
   "cell_type": "markdown",
   "id": "bc3574df",
   "metadata": {},
   "source": [
    "Lo anterior es en esencia, un for loop de toda la vida, la principal diferencia entre esto y el método regular de retornar una lista de items is que el `yield` statement retorna un item a la vez, lo que significa que solo se necesita calcular el ítem solicitado y no se deben de mantener todos los resultados en la memoria."
   ]
  },
  {
   "cell_type": "markdown",
   "id": "b2bab179",
   "metadata": {},
   "source": [
    "<a id='id3'></a>"
   ]
  },
  {
   "cell_type": "markdown",
   "id": "39d04366",
   "metadata": {},
   "source": [
    "## Generadores envolviendo iterables"
   ]
  },
  {
   "cell_type": "markdown",
   "id": "2756af3e",
   "metadata": {},
   "source": [
    "El verdadero poder de los generadores se produce cuando se utilizan con otros iterables."
   ]
  },
  {
   "cell_type": "code",
   "execution_count": 26,
   "id": "deb1cdc3",
   "metadata": {},
   "outputs": [
    {
     "data": {
      "text/plain": [
       "[0, 1, 4, 9, 16, 25]"
      ]
     },
     "execution_count": 26,
     "metadata": {},
     "output_type": "execute_result"
    }
   ],
   "source": [
    "def cuadrado(iterable):\n",
    "    for i in iterable:\n",
    "        yield i ** 2\n",
    "        \n",
    "list(cuadrado(range(6)))"
   ]
  },
  {
   "cell_type": "markdown",
   "id": "8b52c364",
   "metadata": {},
   "source": [
    "Debido a que los generadores son iterables, se pueden combinar \"envolviéndolos\" tantas veces como usted desee."
   ]
  },
  {
   "cell_type": "code",
   "execution_count": 28,
   "id": "6f9a1b8d",
   "metadata": {},
   "outputs": [
    {
     "data": {
      "text/plain": [
       "[1, 9, 25, 49, 81]"
      ]
     },
     "execution_count": 28,
     "metadata": {},
     "output_type": "execute_result"
    }
   ],
   "source": [
    "def impar(iterable):\n",
    "    for i in iterable:\n",
    "        if i % 2:\n",
    "            yield i\n",
    "            \n",
    "def cuadrado(iterable):\n",
    "    for i in iterable:\n",
    "        yield i ** 2\n",
    "        \n",
    "\n",
    "list(cuadrado(impar(range(10))))"
   ]
  },
  {
   "attachments": {},
   "cell_type": "markdown",
   "id": "b68b3a9e",
   "metadata": {},
   "source": [
    "Para entender lo que sucedió, debemos ir desde el interior hasta el exterior.\n",
    "- `range(10)` genera 10 números\n",
    "- El generador `impar()` filtra los valores, así solo retorna los números impares.\n",
    "- El generador `cuadrado()` eleva a la potencia de dos los números impares."
   ]
  },
  {
   "cell_type": "markdown",
   "id": "dfd5737e",
   "metadata": {},
   "source": [
    "El verdadero poder de combinar es que los generadores harán algo únicamente cuando se les pida que lo hagan. Si solicitamos un solo valor con `next()` en vez de `list()`, solo la primera iteración en el loop en `cuadrado()` será ejecutada."
   ]
  },
  {
   "cell_type": "markdown",
   "id": "9634a951",
   "metadata": {},
   "source": [
    "<a id='id4'></a>"
   ]
  },
  {
   "cell_type": "markdown",
   "id": "f880df1d",
   "metadata": {},
   "source": [
    "## Comprehensions de generadores"
   ]
  },
  {
   "cell_type": "markdown",
   "id": "d1bb5cdf",
   "metadata": {},
   "source": [
    "La premisa básica es idéntica a las list comprehensions, pero se usan paréntesis en vez de paréntesis cuadrados."
   ]
  },
  {
   "cell_type": "code",
   "execution_count": 30,
   "id": "e0277e75",
   "metadata": {},
   "outputs": [],
   "source": [
    "cuadrados = (x ** 2 for x in range(5))"
   ]
  },
  {
   "cell_type": "code",
   "execution_count": 31,
   "id": "3ee40dc4",
   "metadata": {},
   "outputs": [
    {
     "data": {
      "text/plain": [
       "<generator object <genexpr> at 0x000002A025B6EB30>"
      ]
     },
     "execution_count": 31,
     "metadata": {},
     "output_type": "execute_result"
    }
   ],
   "source": [
    "cuadrados"
   ]
  },
  {
   "cell_type": "code",
   "execution_count": 32,
   "id": "e70072c5",
   "metadata": {},
   "outputs": [
    {
     "data": {
      "text/plain": [
       "[0, 1, 4, 9, 16]"
      ]
     },
     "execution_count": 32,
     "metadata": {},
     "output_type": "execute_result"
    }
   ],
   "source": [
    "list(cuadrados)"
   ]
  },
  {
   "cell_type": "markdown",
   "id": "0bcf71c1",
   "metadata": {},
   "source": [
    "Lo anterior es sumamente útil cuando se necesitan \"envolver\" los resultados de un generador distinto, pues solo calcula los valores que se le pide."
   ]
  },
  {
   "cell_type": "code",
   "execution_count": 34,
   "id": "53942d24",
   "metadata": {},
   "outputs": [
    {
     "data": {
      "text/plain": [
       "[1, 3, 5, 7, 9]"
      ]
     },
     "execution_count": 34,
     "metadata": {},
     "output_type": "execute_result"
    }
   ],
   "source": [
    "import itertools\n",
    "\n",
    "resultado = itertools.count()\n",
    "impar = (x for x in resultado if x % 2)\n",
    "slices_impares = itertools.islice(impar, 5)\n",
    "list(slices_impares)"
   ]
  },
  {
   "cell_type": "code",
   "execution_count": 40,
   "id": "6edca118",
   "metadata": {},
   "outputs": [
    {
     "data": {
      "text/plain": [
       "[1, 3]"
      ]
     },
     "execution_count": 40,
     "metadata": {},
     "output_type": "execute_result"
    }
   ],
   "source": [
    "import itertools\n",
    "\n",
    "resultado = itertools.count()\n",
    "slice_resultados = itertools.islice(resultado, 5)\n",
    "impar = (x for x in slice_resultados if x % 2)\n",
    "list(impar)"
   ]
  },
  {
   "cell_type": "markdown",
   "id": "fb65b705",
   "metadata": {},
   "source": [
    "Como puede notar, el orden de las operaciones es sumamente importate, pues la función itertools.islice() hace slice al resultado en tal punto, no el generador original."
   ]
  },
  {
   "cell_type": "markdown",
   "id": "ca6bcdca",
   "metadata": {},
   "source": [
    "## Generadores e iteradores basados en clases"
   ]
  },
  {
   "cell_type": "markdown",
   "id": "f4fa7aaa",
   "metadata": {},
   "source": [
    "El crear generadores utilizando clases, puede ser beneficioso para generadores más complejos donde se requiere recordar el estado o donde se puede usar herencia.\n",
    "\n",
    "A continuación se creará una clase que intenta imitar el comportamiento de `itertools.count()` con un parámetro de stop."
   ]
  },
  {
   "cell_type": "code",
   "execution_count": 41,
   "id": "923974aa",
   "metadata": {},
   "outputs": [],
   "source": [
    "class ContadorGenerator:\n",
    "    def __init__(self, start=0, step=1, stop=None):\n",
    "        self.start = start\n",
    "        self.step = step\n",
    "        self.stop = stop\n",
    "    \n",
    "    \n",
    "    def __iter__(self):\n",
    "        i = self.start\n",
    "        \n",
    "        while self.stop is None or i < self.stop:\n",
    "            yield i\n",
    "            i += self.step\n",
    "            "
   ]
  },
  {
   "cell_type": "code",
   "execution_count": 43,
   "id": "7cebf7d3",
   "metadata": {},
   "outputs": [
    {
     "data": {
      "text/plain": [
       "[2.5, 3.0, 3.5, 4.0, 4.5]"
      ]
     },
     "execution_count": 43,
     "metadata": {},
     "output_type": "execute_result"
    }
   ],
   "source": [
    "list(ContadorGenerator(start=2.5, step=0.5, stop=5))"
   ]
  },
  {
   "cell_type": "markdown",
   "id": "61ce3e1a",
   "metadata": {},
   "source": [
    "A continuación se modificará un poco la clase generador para convertirla en un iterador con más características."
   ]
  },
  {
   "cell_type": "code",
   "execution_count": 46,
   "id": "6980f186",
   "metadata": {},
   "outputs": [],
   "source": [
    "class ContadorIterador:\n",
    "    def __init__(self, start = 0, step = 1, stop = None):\n",
    "        self.i = start\n",
    "        self.start = start\n",
    "        self.step = step\n",
    "        self.stop = stop\n",
    "    \n",
    "    \n",
    "    def __iter__(self):\n",
    "        return self\n",
    "    \n",
    "    def __next__(self):\n",
    "        if self.stop is not None and self.i >= self.stop:\n",
    "            raise StopIteration\n",
    "        \n",
    "        #Se requiere retornar el valor antes de incrementarlo\n",
    "        value = self.i\n",
    "        self.i += self.step\n",
    "        return value"
   ]
  },
  {
   "cell_type": "code",
   "execution_count": 47,
   "id": "1aa19b20",
   "metadata": {},
   "outputs": [
    {
     "data": {
      "text/plain": [
       "[2.5, 3.0, 3.5, 4.0, 4.5]"
      ]
     },
     "execution_count": 47,
     "metadata": {},
     "output_type": "execute_result"
    }
   ],
   "source": [
    "list(ContadorIterador(start = 2.5, step = 0.5, stop = 5))"
   ]
  },
  {
   "cell_type": "markdown",
   "id": "d3e0065a",
   "metadata": {},
   "source": [
    "La distinción más importante entre el generador y el iterador, es que en vez de tener un simple objecto iterador, ahora tenemos una clase más desarrollada que actúa como un iterador, lo que significa que podemos extender sus capacidades más allá de los generadores regulares.\n",
    "\n",
    "Una de las cuantas limitaciones de generadores regulares es que no se puede usar `len()` ni se puede usar slices."
   ]
  },
  {
   "cell_type": "code",
   "execution_count": 57,
   "id": "b5adcf79",
   "metadata": {},
   "outputs": [],
   "source": [
    "import itertools\n",
    "\n",
    "class IteradorAvanzado:\n",
    "    \n",
    "    def __init__(self, start = 0, step = 1, stop = None):\n",
    "        self.i = start\n",
    "        self.start = start\n",
    "        self.step = step\n",
    "        self.stop = stop\n",
    "    \n",
    "    \n",
    "    def __iter__(self):\n",
    "        return self\n",
    "    \n",
    "    \n",
    "    def __next__(self):\n",
    "        if self.stop is not None and self.i >= self.stop:\n",
    "            raise StopIteration\n",
    "            \n",
    "        value = self.i\n",
    "        self.i += self.step\n",
    "        return value\n",
    "    \n",
    "    \n",
    "    def __len__(self):\n",
    "        return int((self.stop - self.start) // self.step)\n",
    "\n",
    "    \n",
    "    def __contains__(self, key):\n",
    "        return self.start < key < self.stop\n",
    "    \n",
    "    \n",
    "    def __repr__(self):\n",
    "        return (\n",
    "            f\"{self.__class__.__name__}(start = {self.start}),\"\n",
    "            f\"step = {self.step}, stop = {self.stop}\"\n",
    "        )\n",
    "    \n",
    "    \n",
    "    def __getitem__(self, slice_):\n",
    "        return itertools.islice(self, slice_.start, slice_.stop, slice_.step)"
   ]
  },
  {
   "cell_type": "markdown",
   "id": "55f1a873",
   "metadata": {},
   "source": [
    "Ahora tenemos un iterador que soporta `len()`, `in` y `repr()`."
   ]
  },
  {
   "cell_type": "code",
   "execution_count": 58,
   "id": "90b1b1b0",
   "metadata": {},
   "outputs": [],
   "source": [
    "count = IteradorAvanzado(start=2.5, step=0.5, stop=5)"
   ]
  },
  {
   "cell_type": "code",
   "execution_count": 59,
   "id": "e687b90e",
   "metadata": {},
   "outputs": [
    {
     "data": {
      "text/plain": [
       "IteradorAvanzado(start = 2.5),step = 0.5, stop = 5"
      ]
     },
     "execution_count": 59,
     "metadata": {},
     "output_type": "execute_result"
    }
   ],
   "source": [
    "count"
   ]
  },
  {
   "cell_type": "code",
   "execution_count": 60,
   "id": "e6349c54",
   "metadata": {},
   "outputs": [
    {
     "data": {
      "text/plain": [
       "True"
      ]
     },
     "execution_count": 60,
     "metadata": {},
     "output_type": "execute_result"
    }
   ],
   "source": [
    "3 in count"
   ]
  },
  {
   "cell_type": "code",
   "execution_count": 61,
   "id": "93ce985e",
   "metadata": {},
   "outputs": [
    {
     "data": {
      "text/plain": [
       "False"
      ]
     },
     "execution_count": 61,
     "metadata": {},
     "output_type": "execute_result"
    }
   ],
   "source": [
    "1 in count"
   ]
  },
  {
   "cell_type": "code",
   "execution_count": 62,
   "id": "0b09dc29",
   "metadata": {},
   "outputs": [
    {
     "data": {
      "text/plain": [
       "5"
      ]
     },
     "execution_count": 62,
     "metadata": {},
     "output_type": "execute_result"
    }
   ],
   "source": [
    "len(count)"
   ]
  },
  {
   "cell_type": "code",
   "execution_count": 63,
   "id": "24fbbed3",
   "metadata": {},
   "outputs": [
    {
     "data": {
      "text/plain": [
       "<itertools.islice at 0x2a025d90630>"
      ]
     },
     "execution_count": 63,
     "metadata": {},
     "output_type": "execute_result"
    }
   ],
   "source": [
    "count[:3]"
   ]
  },
  {
   "cell_type": "code",
   "execution_count": 64,
   "id": "edaa8b6b",
   "metadata": {},
   "outputs": [
    {
     "data": {
      "text/plain": [
       "[2.5, 3.0, 3.5]"
      ]
     },
     "execution_count": 64,
     "metadata": {},
     "output_type": "execute_result"
    }
   ],
   "source": [
    "list(count[:3])"
   ]
  },
  {
   "cell_type": "code",
   "execution_count": null,
   "id": "8e7b00f7",
   "metadata": {},
   "outputs": [],
   "source": []
  }
 ],
 "metadata": {
  "kernelspec": {
   "display_name": "Python 3 (ipykernel)",
   "language": "python",
   "name": "python3"
  },
  "language_info": {
   "codemirror_mode": {
    "name": "ipython",
    "version": 3
   },
   "file_extension": ".py",
   "mimetype": "text/x-python",
   "name": "python",
   "nbconvert_exporter": "python",
   "pygments_lexer": "ipython3",
   "version": "3.9.10"
  }
 },
 "nbformat": 4,
 "nbformat_minor": 5
}
