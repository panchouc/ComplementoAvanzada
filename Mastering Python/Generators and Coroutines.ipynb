{
 "cells": [
  {
   "cell_type": "markdown",
   "id": "ae25eb8a",
   "metadata": {},
   "source": [
    "# Generadores y Corrutinas (Generators and Corroutines)"
   ]
  },
  {
   "cell_type": "markdown",
   "id": "81b6f6f5",
   "metadata": {},
   "source": [
    "## Tabla de contenidos\n",
    "- [Como crear generadores](#creacion)\n",
    "<a href='#creacion'></a>\n",
    "\n",
    "- [Generadores infinitos](#infinito)\n",
    "<a href='#infinito'></a>"
   ]
  },
  {
   "attachments": {},
   "cell_type": "markdown",
   "id": "7536e5c6",
   "metadata": {},
   "source": [
    "Los generadores son funciones que se comportan como iteradores generando los valores que retornan uno a uno.\n",
    "\n",
    "Un generador ocupa `yield` para retornar un único valor cuando se le es solicitado. El efecto lateral es que los generadores pueden ser infinitamente largos porque se puede seguir solicitando por siempre.\n",
    "\n",
    "Hay una variación en la sintaxís de los generadores que crean corrutinas. Las corrutinas son funciones que permiten el multitasking sin requerir múltiples threads o procesos. \n",
    "\n",
    "Mientras que los generadores pueden retornar values a quien se lo solicita basado en los argumentos iniciales, las corrutinas permiten dos formas de comunicación con la función que la llama mientras corre. La implementación de corrutinas en Python es a través del módulo `asyncio`.\n",
    "\n",
    "Si las corrutinas funcionan para lo que usted necesita, pueden ofrecer una enorme mejora en el rendimiento."
   ]
  },
  {
   "cell_type": "markdown",
   "id": "9985fc0e",
   "metadata": {},
   "source": [
    "## Generadores"
   ]
  },
  {
   "cell_type": "markdown",
   "id": "eb907d6f",
   "metadata": {},
   "source": [
    "A continuación se presentan las principales ventajas y desventajas de los generadores.\n",
    "\n",
    "**Ventajas**\n",
    "\n",
    "- Los generadores son usualmente más simples que escribir que una función que genera listas. Sólo se necesita el valor `yield`.\n",
    "- Los ítems pueden ser procesados uno a la vez, así que generalmente no hay necesidad de mantener toda la lista en la memoria.\n",
    "- Los resultados pueden depender de factores externos. Sólo se genera el valor cuando es solicitado.\n",
    "- Los generadores son \"flojos\". Esto quiere decir, que si se usan solo los diez primeros resultados de un generador, el resto no va a ser calculado.\n",
    "\n",
    "**Desventajas**\n",
    "- Los resultados sólo están disponibles una vez. Después de procesar los resultados de un generador, no se pueden usar de nuevo.\n",
    "- El tamaño es desconocido, incluso puede ser infinito.\n",
    "- No es posible usar slices, así que mi_generador[3:10] no va a funcionar. Se puede usar itertools.islice para esto.\n",
    "- No se puede indexar generadores, así que mi_generador[3] no funcionará."
   ]
  },
  {
   "cell_type": "markdown",
   "id": "f3b43a2d",
   "metadata": {},
   "source": [
    "<a id='creacion'></a>"
   ]
  },
  {
   "cell_type": "markdown",
   "id": "9fad2ff7",
   "metadata": {},
   "source": [
    "## Como crear generadores"
   ]
  },
  {
   "cell_type": "markdown",
   "id": "def08eec",
   "metadata": {},
   "source": [
    "El generador más simple que se puede crear es una función que contiene una declaración `yield` en vez de `return`. La diferencia principal con funciones regulares que contienen un `return`, es que se pueden tener muchos `yield` en la función."
   ]
  },
  {
   "cell_type": "code",
   "execution_count": 2,
   "id": "4f3838cf",
   "metadata": {},
   "outputs": [],
   "source": [
    "def mi_generador():\n",
    "    yield 5\n",
    "    yield \"Buenos días\"\n",
    "    yield 25\n",
    "    return \"Hemos llegado al final\"\n",
    "\n",
    "resultado = mi_generador()"
   ]
  },
  {
   "cell_type": "code",
   "execution_count": 5,
   "id": "c6d6b4ac",
   "metadata": {},
   "outputs": [
    {
     "data": {
      "text/plain": [
       "<generator object mi_generador at 0x000002A0240E7900>"
      ]
     },
     "execution_count": 5,
     "metadata": {},
     "output_type": "execute_result"
    }
   ],
   "source": [
    "resultado"
   ]
  },
  {
   "cell_type": "code",
   "execution_count": 6,
   "id": "9826d958",
   "metadata": {},
   "outputs": [
    {
     "ename": "TypeError",
     "evalue": "object of type 'generator' has no len()",
     "output_type": "error",
     "traceback": [
      "\u001b[1;31m---------------------------------------------------------------------------\u001b[0m",
      "\u001b[1;31mTypeError\u001b[0m                                 Traceback (most recent call last)",
      "Input \u001b[1;32mIn [6]\u001b[0m, in \u001b[0;36m<cell line: 1>\u001b[1;34m()\u001b[0m\n\u001b[1;32m----> 1\u001b[0m \u001b[38;5;28;43mlen\u001b[39;49m\u001b[43m(\u001b[49m\u001b[43mresultado\u001b[49m\u001b[43m)\u001b[49m\n",
      "\u001b[1;31mTypeError\u001b[0m: object of type 'generator' has no len()"
     ]
    }
   ],
   "source": [
    "len(resultado)"
   ]
  },
  {
   "cell_type": "code",
   "execution_count": 8,
   "id": "8696524b",
   "metadata": {},
   "outputs": [
    {
     "ename": "TypeError",
     "evalue": "'generator' object is not subscriptable",
     "output_type": "error",
     "traceback": [
      "\u001b[1;31m---------------------------------------------------------------------------\u001b[0m",
      "\u001b[1;31mTypeError\u001b[0m                                 Traceback (most recent call last)",
      "Input \u001b[1;32mIn [8]\u001b[0m, in \u001b[0;36m<cell line: 1>\u001b[1;34m()\u001b[0m\n\u001b[1;32m----> 1\u001b[0m \u001b[43mresultado\u001b[49m\u001b[43m[\u001b[49m\u001b[43m:\u001b[49m\u001b[43m]\u001b[49m\n",
      "\u001b[1;31mTypeError\u001b[0m: 'generator' object is not subscriptable"
     ]
    }
   ],
   "source": [
    "resultado[:]"
   ]
  },
  {
   "cell_type": "code",
   "execution_count": 9,
   "id": "38c25047",
   "metadata": {},
   "outputs": [
    {
     "data": {
      "text/plain": [
       "[5, 'Buenos días', 25]"
      ]
     },
     "execution_count": 9,
     "metadata": {},
     "output_type": "execute_result"
    }
   ],
   "source": [
    "list(resultado)"
   ]
  },
  {
   "cell_type": "code",
   "execution_count": 10,
   "id": "0e948daa",
   "metadata": {},
   "outputs": [
    {
     "data": {
      "text/plain": [
       "[]"
      ]
     },
     "execution_count": 10,
     "metadata": {},
     "output_type": "execute_result"
    }
   ],
   "source": [
    "list(resultado)"
   ]
  },
  {
   "cell_type": "markdown",
   "id": "312a0197",
   "metadata": {},
   "source": [
    "Como se puede observar, no se obtiene mucha información valiosa al con `repr()`, `len()` o slices. Además, utilizar `list()` una segunda oportunidad no funciona porque el generador ya está \"cansado\".\n",
    "\n",
    "Además, puede que haya notado que el valor de `return` pareciera que ha desaparecido. No es el caso, el valor de return todavía se puede utilizar, pero como el valor para la excepción `StopIteration` producidad por el generador para indicar que está \"exhausto\"."
   ]
  },
  {
   "cell_type": "code",
   "execution_count": 11,
   "id": "582eda9a",
   "metadata": {},
   "outputs": [],
   "source": [
    "def segundo_generador():\n",
    "    yield \"Algún valor\"\n",
    "    return \"El fin del generador\"\n",
    "\n",
    "resultado = segundo_generador()"
   ]
  },
  {
   "cell_type": "code",
   "execution_count": 12,
   "id": "194ec478",
   "metadata": {},
   "outputs": [
    {
     "data": {
      "text/plain": [
       "'Algún valor'"
      ]
     },
     "execution_count": 12,
     "metadata": {},
     "output_type": "execute_result"
    }
   ],
   "source": [
    "next(resultado)"
   ]
  },
  {
   "cell_type": "code",
   "execution_count": 13,
   "id": "6ae2746a",
   "metadata": {},
   "outputs": [
    {
     "ename": "StopIteration",
     "evalue": "El fin del generador",
     "output_type": "error",
     "traceback": [
      "\u001b[1;31m---------------------------------------------------------------------------\u001b[0m",
      "\u001b[1;31mStopIteration\u001b[0m                             Traceback (most recent call last)",
      "Input \u001b[1;32mIn [13]\u001b[0m, in \u001b[0;36m<cell line: 1>\u001b[1;34m()\u001b[0m\n\u001b[1;32m----> 1\u001b[0m \u001b[38;5;28;43mnext\u001b[39;49m\u001b[43m(\u001b[49m\u001b[43mresultado\u001b[49m\u001b[43m)\u001b[49m\n",
      "\u001b[1;31mStopIteration\u001b[0m: El fin del generador"
     ]
    }
   ],
   "source": [
    "next(resultado)"
   ]
  },
  {
   "cell_type": "markdown",
   "id": "052c6001",
   "metadata": {},
   "source": [
    "Mencionar que nosotros podemos manejar la excepción, de `StopIteration`, de la siguiente manera (por ejemplo)."
   ]
  },
  {
   "cell_type": "code",
   "execution_count": 19,
   "id": "ed24b2a7",
   "metadata": {},
   "outputs": [],
   "source": [
    "def flojo():\n",
    "    print(\"Antes del yield statement\")\n",
    "    yield \"He llegado a yield\"\n",
    "    print(\"Después del yield statement\")\n",
    "    \n",
    "generador = flojo()"
   ]
  },
  {
   "cell_type": "code",
   "execution_count": 20,
   "id": "abbcf408",
   "metadata": {},
   "outputs": [
    {
     "name": "stdout",
     "output_type": "stream",
     "text": [
      "Antes del yield statement\n"
     ]
    },
    {
     "data": {
      "text/plain": [
       "'He llegado a yield'"
      ]
     },
     "execution_count": 20,
     "metadata": {},
     "output_type": "execute_result"
    }
   ],
   "source": [
    "next(generador)"
   ]
  },
  {
   "cell_type": "code",
   "execution_count": 21,
   "id": "ba3f0004",
   "metadata": {},
   "outputs": [
    {
     "name": "stdout",
     "output_type": "stream",
     "text": [
      "Después del yield statement\n",
      "He llegado al final, pues se ha producido una excepción del tipo StopIteration\n"
     ]
    }
   ],
   "source": [
    "try:\n",
    "    next(generador)\n",
    "except StopIteration:\n",
    "    print(\"He llegado al final, pues se ha producido una excepción del tipo StopIteration\")"
   ]
  },
  {
   "cell_type": "code",
   "execution_count": 22,
   "id": "4a451928",
   "metadata": {},
   "outputs": [
    {
     "name": "stdout",
     "output_type": "stream",
     "text": [
      "Antes del yield statement\n",
      "He llegado a yield\n",
      "Después del yield statement\n"
     ]
    }
   ],
   "source": [
    "for item in flojo():\n",
    "    print(item)"
   ]
  },
  {
   "attachments": {},
   "cell_type": "markdown",
   "id": "1e412eaf",
   "metadata": {},
   "source": [
    "Para el correcto manejo de los generadores, siempre tiene que manejar usted la excepción `StopIteration`, o usar un loop u otra estructura que maneje `StopIteration` de forma implícita."
   ]
  },
  {
   "cell_type": "markdown",
   "id": "b9513318",
   "metadata": {},
   "source": [
    "<a id='infinito'></a>"
   ]
  },
  {
   "cell_type": "markdown",
   "id": "1284727a",
   "metadata": {},
   "source": [
    "## Creando generadores infinitos"
   ]
  },
  {
   "cell_type": "markdown",
   "id": "47fdda88",
   "metadata": {},
   "source": [
    "Crear un generador sin fin es sencillo. En vez de tener `yield` <valor> como en las funciones previas, ocupamos `yield` dentro de un loop infinito, así podemos hacer un generador infinito."
   ]
  },
  {
   "cell_type": "code",
   "execution_count": 25,
   "id": "fe13e506",
   "metadata": {},
   "outputs": [
    {
     "data": {
      "text/plain": [
       "[5, 6, 7, 8, 9]"
      ]
     },
     "execution_count": 25,
     "metadata": {},
     "output_type": "execute_result"
    }
   ],
   "source": [
    "def contar(start=0, steps=1, stop= None):\n",
    "    n = start\n",
    "   \n",
    "    while stop is not None and n < stop:\n",
    "        yield n\n",
    "        n += steps\n",
    "        \n",
    "list(contar(5, 1, 10))"
   ]
  },
  {
   "cell_type": "markdown",
   "id": "619d5fc1",
   "metadata": {},
   "source": [
    "**Debido a la naturaleza infinita de los generadores, se requiere precaución. Sin la variable stop, hacer list(contar()) puede resultar en un loop infinito que puede resultar en quedarse sin memoria de forma sumamente rápida.**"
   ]
  },
  {
   "cell_type": "markdown",
   "id": "de514292",
   "metadata": {},
   "source": [
    "Lo anterior es en esencia, un for loop de toda la vida, la principal diferencia entre esto y el método regular de retornar una lista de items is que el `yield` statement retorna un item a la vez, lo que significa que solo se necesita calcular el ítem solicitado y no se deben de mantener todos los resultados en la memoria."
   ]
  },
  {
   "cell_type": "code",
   "execution_count": null,
   "id": "f62aa556",
   "metadata": {},
   "outputs": [],
   "source": []
  }
 ],
 "metadata": {
  "kernelspec": {
   "display_name": "Python 3 (ipykernel)",
   "language": "python",
   "name": "python3"
  },
  "language_info": {
   "codemirror_mode": {
    "name": "ipython",
    "version": 3
   },
   "file_extension": ".py",
   "mimetype": "text/x-python",
   "name": "python",
   "nbconvert_exporter": "python",
   "pygments_lexer": "ipython3",
   "version": "3.9.10"
  }
 },
 "nbformat": 4,
 "nbformat_minor": 5
}
