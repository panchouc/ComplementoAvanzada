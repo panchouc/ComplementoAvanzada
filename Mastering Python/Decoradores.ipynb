{
 "cells": [
  {
   "cell_type": "markdown",
   "id": "b3723ed0",
   "metadata": {},
   "source": [
    "# Decoradores"
   ]
  },
  {
   "cell_type": "markdown",
   "id": "dfcfd054",
   "metadata": {},
   "source": [
    "## Tabla de contenidos\n",
    "***\n",
    "- [Decorando funciones](#id1)\n",
    "<a href='#id1'></a>\n",
    "\n",
    "- [La importancia de functools.wraps](#id2)\n",
    "<a href='#id2'></a>\n",
    "\n",
    "- [Concatenando o anidando decoradores](#id3)\n",
    "<a href='#id3'></a>\n",
    "\n",
    "\n",
    "\n",
    "\n",
    "***"
   ]
  },
  {
   "cell_type": "markdown",
   "id": "99af7b5a",
   "metadata": {},
   "source": [
    "Los decoradores son en esencia wrappers de funciones/classes que pueden ser utilizados para modificar el input, output, o incluso la clase/función en si misma antes de ejecutarla.\n",
    "\n",
    "Esto puede ser logrado teniendo otra función que llama a la función interior, o mediante herencia de ciertas classes llamadas **mixins**.\n",
    "\n",
    "Los decoradores brindan mucho \"poder de reutilizar\". Algunos decoradores muy útiles que ya vienen implementados en Python son \n",
    "`@property`, `@classmethod`, `@staticmethod`.\n",
    "\n",
    "Es importante hacer notar que \"envolver\" una función crea una nueva función y lo hace más difícil alcanzar el interior de la función y sus propiedades. Un ejemplo de esto es la funcionalidad `help(funcion)` que ya viene implementada en Python."
   ]
  },
  {
   "cell_type": "markdown",
   "id": "2d0225df",
   "metadata": {},
   "source": [
    "<a id='id1'></a>"
   ]
  },
  {
   "cell_type": "markdown",
   "id": "df461e7b",
   "metadata": {},
   "source": [
    "## Decorando funciones"
   ]
  },
  {
   "cell_type": "markdown",
   "id": "e44f33e9",
   "metadata": {},
   "source": [
    "Los decoradores son funciones o classes que \"envuelven\" otras funciones y/o clases."
   ]
  },
  {
   "cell_type": "code",
   "execution_count": 9,
   "id": "eb00a6c7",
   "metadata": {},
   "outputs": [
    {
     "name": "stdout",
     "output_type": "stream",
     "text": [
      "He ejecutado la función suma\n"
     ]
    }
   ],
   "source": [
    "def decorador(funcion):\n",
    "    print(f\"He ejecutado la función {funcion.__name__}\")\n",
    "    return funcion\n",
    "\n",
    "def suma(a, b):\n",
    "    return a + b\n",
    "\n",
    "suma = decorador(suma)"
   ]
  },
  {
   "cell_type": "markdown",
   "id": "9792e176",
   "metadata": {},
   "source": [
    "Para hacer la syntaxís más fácil de leer, Python permite decorar una función usando el operador `@` como atajo."
   ]
  },
  {
   "cell_type": "code",
   "execution_count": 11,
   "id": "08c5d6fc",
   "metadata": {},
   "outputs": [
    {
     "name": "stdout",
     "output_type": "stream",
     "text": [
      "He ejecutado la función sumas\n"
     ]
    }
   ],
   "source": [
    "@decorador\n",
    "def sumas(a,b):\n",
    "    return a + b"
   ]
  },
  {
   "cell_type": "markdown",
   "id": "acb665ba",
   "metadata": {},
   "source": [
    "Algunos usos de los decoradores incluye\n",
    "- Registrar una función/clase\n",
    "- Modificar el input de una función/clase\n",
    "- Modificar el output de una función/clase\n",
    "- Loggear instancias de clases o llamados de funciones"
   ]
  },
  {
   "cell_type": "code",
   "execution_count": 12,
   "id": "9707e57e",
   "metadata": {},
   "outputs": [],
   "source": [
    "import functools\n",
    "\n",
    "def decorador(funcion):\n",
    "    #Este decorador asegura que imitamos la función que \"envolvemos\"\n",
    "    @functools.wraps(funcion)\n",
    "    def _decorador(a , b):\n",
    "        \n",
    "        result = funcion(a, b + 5)\n",
    "        \n",
    "        #Printeamos el nombre\n",
    "        nombre = funcion.__name__\n",
    "        print(f\"{nombre}(a = {a}, b = {b}): {result}\")\n",
    "        \n",
    "        #Retornamos un resultado modificado\n",
    "        return result + 4\n",
    "    \n",
    "    return _decorador\n",
    "\n",
    "\n",
    "@decorador\n",
    "def funcion(a,b):\n",
    "    return a + b"
   ]
  },
  {
   "cell_type": "code",
   "execution_count": 13,
   "id": "408507b0",
   "metadata": {},
   "outputs": [
    {
     "name": "stdout",
     "output_type": "stream",
     "text": [
      "funcion(a = 1, b = 2): 8\n"
     ]
    },
    {
     "data": {
      "text/plain": [
       "12"
      ]
     },
     "execution_count": 13,
     "metadata": {},
     "output_type": "execute_result"
    }
   ],
   "source": [
    "funcion(1,2)"
   ]
  },
  {
   "cell_type": "markdown",
   "id": "004da8b0",
   "metadata": {},
   "source": [
    "Como se puede observar, podemos modificar, añadir y/o remover argumentos. Podemos modificar el valor que retornamos o incluso llamar a una función completamente distinta si así lo deseamos. Además, de que podemos printear en consola todo el comportamiento si es necesario, lo cual puede ser bastante útil para debuggear."
   ]
  },
  {
   "cell_type": "markdown",
   "id": "0a07bea1",
   "metadata": {},
   "source": [
    "<a id='id2'></a>"
   ]
  },
  {
   "cell_type": "markdown",
   "id": "4bd34a85",
   "metadata": {},
   "source": [
    "## La importancia de functools.wraps"
   ]
  },
  {
   "cell_type": "markdown",
   "id": "7df1e33c",
   "metadata": {},
   "source": [
    "Cuando sea que estés creando un decorador, siempre asegúrate de añadir `functools.wraps` para \"envolver\" la función interior. Sin \"envolverla\", vas a perder todas las propiedades originales de la función, lo que puede ocasionar un comportamiento confuso e inesperado."
   ]
  },
  {
   "cell_type": "code",
   "execution_count": 14,
   "id": "a471faac",
   "metadata": {},
   "outputs": [],
   "source": [
    "import functools\n",
    "\n",
    "def decorador(funcion):\n",
    "    @functools.wraps(funcion)\n",
    "    def _decorador(*args, **kwargs):\n",
    "        return funcion(*args, **kwargs)\n",
    "    \n",
    "    return _decorador\n",
    "\n",
    "\n",
    "\n",
    "@decorador\n",
    "def suma(a, b):\n",
    "    \"\"\"Se suman a y b\"\"\"\n",
    "    return a + b"
   ]
  },
  {
   "cell_type": "code",
   "execution_count": 15,
   "id": "b3684c59",
   "metadata": {},
   "outputs": [
    {
     "name": "stdout",
     "output_type": "stream",
     "text": [
      "Help on function suma in module __main__:\n",
      "\n",
      "suma(a, b)\n",
      "    Se suman a y b\n",
      "\n"
     ]
    }
   ],
   "source": [
    "help(suma)"
   ]
  },
  {
   "cell_type": "code",
   "execution_count": 17,
   "id": "85ddff91",
   "metadata": {},
   "outputs": [
    {
     "data": {
      "text/plain": [
       "'suma'"
      ]
     },
     "execution_count": 17,
     "metadata": {},
     "output_type": "execute_result"
    }
   ],
   "source": [
    "suma.__name__"
   ]
  },
  {
   "cell_type": "markdown",
   "id": "1ad31c7f",
   "metadata": {},
   "source": [
    "El funcionamiento de `functools.wraps` es para nada mágico; copia y actualiza muchos atributos. Específicamente, los siguientes atributos son copiados:\n",
    "\n",
    "- `__doc__`\n",
    "- `__name__`\n",
    "- `__module__`\n",
    "- `__annotations__`\n",
    "- `__qualname__`"
   ]
  },
  {
   "cell_type": "markdown",
   "id": "a9bf74c3",
   "metadata": {},
   "source": [
    "<a id='id3'></a>"
   ]
  },
  {
   "cell_type": "markdown",
   "id": "0478bf78",
   "metadata": {},
   "source": [
    "## Concatenando o anidando decoradores"
   ]
  },
  {
   "cell_type": "markdown",
   "id": "4ad6ef34",
   "metadata": {},
   "source": [
    "Dado que estamos \"envolviendo\" funciones, no hay nada que nos impida el añadir múltiples decoradores. Los decoradores son inicializados partiendo desde adentro, pero son llamados partiendo por afuera."
   ]
  },
  {
   "cell_type": "code",
   "execution_count": 18,
   "id": "09759585",
   "metadata": {},
   "outputs": [],
   "source": [
    "import functools\n",
    "\n",
    "def track(funcion = None, label = None):\n",
    "    #Truco para añadir un argumento opcional a nuestro decorador\n",
    "    if label and not funcion:\n",
    "        return functools.partial(track, label = label)\n",
    "    \n",
    "    print(f\"Inicializando {label}\")\n",
    "    \n",
    "    @functools.wraps(funcion)\n",
    "    def _track(*args, **kwargs):\n",
    "        print(f\"Llamando {label}\")\n",
    "        funcion(*args, **kwargs)\n",
    "        print(f\"Se llamó {label}\")\n",
    "    \n",
    "    return _track"
   ]
  },
  {
   "cell_type": "code",
   "execution_count": 19,
   "id": "85928819",
   "metadata": {},
   "outputs": [
    {
     "name": "stdout",
     "output_type": "stream",
     "text": [
      "Inicializando interior\n",
      "Inicializando exterior\n"
     ]
    }
   ],
   "source": [
    "@track(label = 'exterior')\n",
    "@track(label = \"interior\")\n",
    "def funcion():\n",
    "    print(\"Se generó un llamado de la función\")"
   ]
  },
  {
   "cell_type": "code",
   "execution_count": 20,
   "id": "af4b8dd0",
   "metadata": {},
   "outputs": [
    {
     "name": "stdout",
     "output_type": "stream",
     "text": [
      "Llamando exterior\n",
      "Llamando interior\n",
      "Se generó un llamado de la función\n",
      "Se llamó interior\n",
      "Se llamó exterior\n"
     ]
    }
   ],
   "source": [
    "funcion()"
   ]
  },
  {
   "cell_type": "markdown",
   "id": "3fd5ee1a",
   "metadata": {},
   "source": [
    "Como se puede observar los decoradores son llamados desde el exterior al interior antes de correr la función y al correrla son llamados desde el interior al exterior cuando se procesan los resultados."
   ]
  },
  {
   "cell_type": "markdown",
   "id": "2171f282",
   "metadata": {},
   "source": [
    "## Registrando funciones usando decoradores"
   ]
  },
  {
   "cell_type": "markdown",
   "id": "c1ca3be1",
   "metadata": {},
   "source": [
    "Esto puede ser muy útil en una interfaz de usuario (GUI)."
   ]
  },
  {
   "cell_type": "code",
   "execution_count": 23,
   "id": "ee901320",
   "metadata": {},
   "outputs": [],
   "source": [
    "import collections\n",
    "\n",
    "class EventRegistry:\n",
    "    def __init__(self):\n",
    "        self.registry = collections.defaultdict(list)\n",
    "    \n",
    "    \n",
    "    def on(self, *events):\n",
    "        \n",
    "        def _on(function):\n",
    "            for event in events:\n",
    "                self.registry[event].append(function)\n",
    "            \n",
    "            return function\n",
    "        \n",
    "        return _on\n",
    "    \n",
    "    \n",
    "    def fire(self, event, *args, **kwargs):\n",
    "        for function in self.registry[event]:\n",
    "            function(*args, **kwargs)"
   ]
  },
  {
   "cell_type": "code",
   "execution_count": 24,
   "id": "f5684c91",
   "metadata": {},
   "outputs": [],
   "source": [
    "events = EventRegistry()"
   ]
  },
  {
   "cell_type": "code",
   "execution_count": 27,
   "id": "faf394ca",
   "metadata": {},
   "outputs": [],
   "source": [
    "@events.on('success', 'error')\n",
    "def teardown(value):\n",
    "    print(f'Tearing down got: {value}')\n",
    "\n",
    "@events.on('success')\n",
    "def success(value):\n",
    "    print(f'Successfully executed: {value}')"
   ]
  },
  {
   "cell_type": "code",
   "execution_count": 29,
   "id": "62d81e93",
   "metadata": {},
   "outputs": [
    {
     "name": "stdout",
     "output_type": "stream",
     "text": [
      "Tearing down got: Everything is fine\n",
      "Tearing down got: Everything is fine\n",
      "Successfully executed: Everything is fine\n"
     ]
    }
   ],
   "source": [
    "events.fire('success', 'Everything is fine')"
   ]
  },
  {
   "cell_type": "code",
   "execution_count": 30,
   "id": "d1d750c4",
   "metadata": {},
   "outputs": [
    {
     "name": "stdout",
     "output_type": "stream",
     "text": [
      "Tearing down got: Oops, some error here\n",
      "Tearing down got: Oops, some error here\n"
     ]
    }
   ],
   "source": [
    "events.fire('error', 'Oops, some error here')"
   ]
  },
  {
   "cell_type": "code",
   "execution_count": 32,
   "id": "cb7881f8",
   "metadata": {},
   "outputs": [],
   "source": [
    "events.fire('non-existing', 'nothing to see here')"
   ]
  },
  {
   "cell_type": "markdown",
   "id": "93bbc450",
   "metadata": {},
   "source": [
    "## Memorización usando decoradores"
   ]
  },
  {
   "cell_type": "markdown",
   "id": "7d7a8ec2",
   "metadata": {},
   "source": [
    "La memorización es un truco para recordar los resultados y así hacer correr el código de forma mucho más rápida en escenarios específicos. El truco es guardar un mapeo del input y del output esperado, así solo se tiene que calcular el valor una única vez. Un ejemplo de esto son los números de Fibonacci."
   ]
  },
  {
   "cell_type": "code",
   "execution_count": 33,
   "id": "d67d4282",
   "metadata": {},
   "outputs": [],
   "source": [
    "import functools"
   ]
  },
  {
   "cell_type": "code",
   "execution_count": null,
   "id": "7af8113e",
   "metadata": {},
   "outputs": [],
   "source": []
  }
 ],
 "metadata": {
  "kernelspec": {
   "display_name": "Python 3 (ipykernel)",
   "language": "python",
   "name": "python3"
  },
  "language_info": {
   "codemirror_mode": {
    "name": "ipython",
    "version": 3
   },
   "file_extension": ".py",
   "mimetype": "text/x-python",
   "name": "python",
   "nbconvert_exporter": "python",
   "pygments_lexer": "ipython3",
   "version": "3.9.10"
  }
 },
 "nbformat": 4,
 "nbformat_minor": 5
}
