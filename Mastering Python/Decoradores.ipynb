{
 "cells": [
  {
   "cell_type": "markdown",
   "id": "9597213c",
   "metadata": {},
   "source": [
    "# Decoradores"
   ]
  },
  {
   "cell_type": "markdown",
   "id": "fc2b2c59",
   "metadata": {},
   "source": [
    "## Tabla de contenidos\n",
    "***\n",
    "- [Decorando funciones](#id1)\n",
    "<a href='#id1'></a>\n",
    "\n",
    "\n",
    "\n",
    "\n",
    "\n",
    "\n",
    "***"
   ]
  },
  {
   "cell_type": "markdown",
   "id": "28008678",
   "metadata": {},
   "source": [
    "Los decoradores son en esencia wrappers de funciones/classes que pueden ser utilizados para modificar el input, output, o incluso la clase/función en si misma antes de ejecutarla.\n",
    "\n",
    "Esto puede ser logrado teniendo otra función que llama a la función interior, o mediante herencia de ciertas classes llamadas **mixins**.\n",
    "\n",
    "Los decoradores brindan mucho \"poder de reutilizar\". Algunos decoradores muy útiles que ya vienen implementados en Python son \n",
    "`@property`, `@classmethod`, `@staticmethod`.\n",
    "\n",
    "Es importante hacer notar que \"envolver\" una función crea una nueva función y lo hace más difícil alcanzar el interior de la función y sus propiedades. Un ejemplo de esto es la funcionalidad `help(funcion)` que ya viene implementada en Python."
   ]
  },
  {
   "cell_type": "markdown",
   "id": "0f657c79",
   "metadata": {},
   "source": [
    "<a id='id1'></a>"
   ]
  },
  {
   "cell_type": "markdown",
   "id": "652f0689",
   "metadata": {},
   "source": [
    "## Decorando funciones"
   ]
  },
  {
   "cell_type": "markdown",
   "id": "be176078",
   "metadata": {},
   "source": [
    "Los decoradores son funciones o classes que \"envuelven\" otras funciones y/o clases."
   ]
  },
  {
   "cell_type": "code",
   "execution_count": 9,
   "id": "0037b02f",
   "metadata": {},
   "outputs": [
    {
     "name": "stdout",
     "output_type": "stream",
     "text": [
      "He ejecutado la función suma\n"
     ]
    }
   ],
   "source": [
    "def decorador(funcion):\n",
    "    print(f\"He ejecutado la función {funcion.__name__}\")\n",
    "    return funcion\n",
    "\n",
    "def suma(a, b):\n",
    "    return a + b\n",
    "\n",
    "suma = decorador(suma)"
   ]
  },
  {
   "cell_type": "markdown",
   "id": "a4487c98",
   "metadata": {},
   "source": [
    "Para hacer la syntaxís más fácil de leer, Python permite decorar una función usando el operador `@` como atajo."
   ]
  },
  {
   "cell_type": "code",
   "execution_count": 11,
   "id": "b78d5997",
   "metadata": {},
   "outputs": [
    {
     "name": "stdout",
     "output_type": "stream",
     "text": [
      "He ejecutado la función sumas\n"
     ]
    }
   ],
   "source": [
    "@decorador\n",
    "def sumas(a,b):\n",
    "    return a + b"
   ]
  },
  {
   "cell_type": "markdown",
   "id": "f2b29647",
   "metadata": {},
   "source": [
    "Algunos usos de los decoradores incluye\n",
    "- Registrar una función/clase\n",
    "- Modificar el input de una función/clase\n",
    "- Modificar el output de una función/clase\n",
    "- Loggear instancias de clases o llamados de funciones"
   ]
  },
  {
   "cell_type": "code",
   "execution_count": 12,
   "id": "ca40ed68",
   "metadata": {},
   "outputs": [],
   "source": [
    "import functools\n",
    "\n",
    "def decorador(funcion):\n",
    "    #Este decorador asegura que imitamos la función que \"envolvemos\"\n",
    "    @functools.wraps(funcion)\n",
    "    def _decorador(a , b):\n",
    "        \n",
    "        result = funcion(a, b + 5)\n",
    "        \n",
    "        #Printeamos el nombre\n",
    "        nombre = funcion.__name__\n",
    "        print(f\"{nombre}(a = {a}, b = {b}): {result}\")\n",
    "        \n",
    "        #Retornamos un resultado modificado\n",
    "        return result + 4\n",
    "    \n",
    "    return _decorador\n",
    "\n",
    "\n",
    "@decorador\n",
    "def funcion(a,b):\n",
    "    return a + b"
   ]
  },
  {
   "cell_type": "code",
   "execution_count": 13,
   "id": "04cfa05b",
   "metadata": {},
   "outputs": [
    {
     "name": "stdout",
     "output_type": "stream",
     "text": [
      "funcion(a = 1, b = 2): 8\n"
     ]
    },
    {
     "data": {
      "text/plain": [
       "12"
      ]
     },
     "execution_count": 13,
     "metadata": {},
     "output_type": "execute_result"
    }
   ],
   "source": [
    "funcion(1,2)"
   ]
  },
  {
   "cell_type": "markdown",
   "id": "8b1d8b1c",
   "metadata": {},
   "source": [
    "Como se puede observar, podemos modificar, añadir y/o remover argumentos. Podemos modificar el valor que retornamos o incluso llamar a una función completamente distinta si así lo deseamos. Además, de que podemos printear en consola todo el comportamiento si es necesario, lo cual puede ser bastante útil para debuggear."
   ]
  },
  {
   "cell_type": "code",
   "execution_count": null,
   "id": "2ef070bc",
   "metadata": {},
   "outputs": [],
   "source": []
  }
 ],
 "metadata": {
  "kernelspec": {
   "display_name": "Python 3 (ipykernel)",
   "language": "python",
   "name": "python3"
  },
  "language_info": {
   "codemirror_mode": {
    "name": "ipython",
    "version": 3
   },
   "file_extension": ".py",
   "mimetype": "text/x-python",
   "name": "python",
   "nbconvert_exporter": "python",
   "pygments_lexer": "ipython3",
   "version": "3.9.10"
  }
 },
 "nbformat": 4,
 "nbformat_minor": 5
}
