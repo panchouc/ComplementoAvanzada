{
 "cells": [
  {
   "cell_type": "markdown",
   "id": "765cb78e",
   "metadata": {},
   "source": [
    "# Programación funcional"
   ]
  },
  {
   "cell_type": "markdown",
   "id": "c815ffcb",
   "metadata": {},
   "source": [
    "## Tabla de contenidos\n",
    "***\n",
    "- [Ventajas de la programación funcional](#id1)\n",
    "<a href='#id1'></a>\n",
    "\n",
    "- [list, set y dict comprehensions](#id2)\n",
    "<a href='#id2'></a>\n",
    "\n",
    "- [Funciones lambda](#id3)\n",
    "<a href='#id3'></a>\n",
    "\n",
    "- [functools](#id4)\n",
    "<a href='#id4'></a>\n",
    "\n",
    "***"
   ]
  },
  {
   "cell_type": "markdown",
   "id": "30c03544",
   "metadata": {},
   "source": [
    "La programación funcional es un paradigma que se origina del cálculo lambda, un sistema formal en matemáticas que puede ser usado para simular cualquier máquina de Turing."
   ]
  },
  {
   "cell_type": "markdown",
   "id": "4128b4fb",
   "metadata": {},
   "source": [
    "## Puramente funcional"
   ]
  },
  {
   "cell_type": "markdown",
   "id": "d8bb8040",
   "metadata": {},
   "source": [
    "La programación puramente functional espera que las funciones no tienen efectos colaterales. Eso significa que los argumentos\n",
    "que se le entregan a la función no deberían de mutar, y así ninguno de los estados externos.\n",
    "\n",
    "Incluso si no se sigue este paradigma, limitar los cambios a variables locales es una buena idea. Mantener las funciones puramente funcional hace el código más claro, más fácil de entender y mejor para testear, dado que hay menos dependencias."
   ]
  },
  {
   "cell_type": "markdown",
   "id": "971acc58",
   "metadata": {},
   "source": [
    "<a id='id1'></a>"
   ]
  },
  {
   "cell_type": "markdown",
   "id": "981f0c33",
   "metadata": {},
   "source": [
    "## Ventajas de la programación funcional"
   ]
  },
  {
   "cell_type": "markdown",
   "id": "fd8edce3",
   "metadata": {},
   "source": [
    "Algunas de las ventajas son:\n",
    "\n",
    "- Escribir código puramente funcional permite que sea muy fácil para correr el código en paralelo. Se puede paralelizar el código para que corra en múltiples procesadores o incluso múltiples máquinas\n",
    "- Dado que las funciones no tienen efectos laterales, mitigan muchos tipos de bugs\n",
    "- Hace el testeo más fácil\n",
    "\n",
    "Pero, también tiene ciertas desventajas, algunas de las cuales son causadas por las mismas ventajas.\n",
    "\n",
    "La programación funcional no es adecuada para todo tipo de situación, pero cuando se usa correctamente es una herramienta muy útil."
   ]
  },
  {
   "cell_type": "markdown",
   "id": "8e0b7892",
   "metadata": {},
   "source": [
    "<a id='id2'></a>"
   ]
  },
  {
   "cell_type": "markdown",
   "id": "9425a738",
   "metadata": {},
   "source": [
    "## list, set y dict comprehensions"
   ]
  },
  {
   "cell_type": "markdown",
   "id": "7135d0b2",
   "metadata": {},
   "source": [
    "Estas son muy útiles para aplicar una función o filtro a una lista de elementos."
   ]
  },
  {
   "cell_type": "markdown",
   "id": "bce8d432",
   "metadata": {},
   "source": [
    "### Comprehensions básica de listas"
   ]
  },
  {
   "cell_type": "code",
   "execution_count": 5,
   "id": "a31497c9",
   "metadata": {},
   "outputs": [
    {
     "data": {
      "text/plain": [
       "[0, 1, 4, 9, 16, 25, 36, 49, 64, 81]"
      ]
     },
     "execution_count": 5,
     "metadata": {},
     "output_type": "execute_result"
    }
   ],
   "source": [
    "cuadrados = [x ** 2 for x in range(10)]\n",
    "cuadrados"
   ]
  },
  {
   "cell_type": "code",
   "execution_count": 6,
   "id": "a0c2e40b",
   "metadata": {},
   "outputs": [
    {
     "data": {
      "text/plain": [
       "[1, 9, 25, 49, 81]"
      ]
     },
     "execution_count": 6,
     "metadata": {},
     "output_type": "execute_result"
    }
   ],
   "source": [
    "cuadrados_impares = [x ** 2 for x in range(10) if x % 2]\n",
    "cuadrados_impares"
   ]
  },
  {
   "cell_type": "markdown",
   "id": "a044e539",
   "metadata": {},
   "source": [
    "Dos de las funciones más usadas en lenguajes funcionales son `map` y `filter`."
   ]
  },
  {
   "cell_type": "code",
   "execution_count": 7,
   "id": "2bd8ac39",
   "metadata": {},
   "outputs": [
    {
     "data": {
      "text/plain": [
       "[0, 1, 4, 9, 16, 25, 36, 49, 64, 81]"
      ]
     },
     "execution_count": 7,
     "metadata": {},
     "output_type": "execute_result"
    }
   ],
   "source": [
    "def cuadrado(x):\n",
    "    return x ** 2\n",
    "\n",
    "def impar(x):\n",
    "    return x % 2\n",
    "\n",
    "cuadrados = list(map(cuadrado, range(10)))\n",
    "cuadrados"
   ]
  },
  {
   "cell_type": "code",
   "execution_count": 8,
   "id": "21c5f7ff",
   "metadata": {},
   "outputs": [
    {
     "data": {
      "text/plain": [
       "[1, 9, 25, 49, 81]"
      ]
     },
     "execution_count": 8,
     "metadata": {},
     "output_type": "execute_result"
    }
   ],
   "source": [
    "cuadrados_impares = list(filter(impar, map(cuadrado, range(10))))\n",
    "cuadrados_impares"
   ]
  },
  {
   "cell_type": "markdown",
   "id": "fea4712a",
   "metadata": {},
   "source": [
    "Se puede observar que este código se vuelve menos legible con tantos paréntesis.\n",
    "\n",
    "La aplicación más importante de `map` no es utilizando esta función en si misma, pero usar unas de las funciones estilo map como `multiprocessing.pool.Pool.map` y variantes como `map_async`, `imap`, `starmap`, `starmap_async` y `imap_unordered`, que ejecutan automáticamente las funciones en paralelo en múltiples procesadores.\n",
    "\n",
    "El uso de map y filter, se debería reservar para casos en los cuales se tienen funciones existentes disponibles para usar con map o filter."
   ]
  },
  {
   "cell_type": "markdown",
   "id": "4c4324c8",
   "metadata": {},
   "source": [
    "### set comprehensions"
   ]
  },
  {
   "cell_type": "markdown",
   "id": "80696112",
   "metadata": {},
   "source": [
    "Tiene la misma syntaxís que las list comprehensions, solo que retorna un set único de elementos desordenados."
   ]
  },
  {
   "cell_type": "code",
   "execution_count": 9,
   "id": "9bd3e1a6",
   "metadata": {},
   "outputs": [
    {
     "data": {
      "text/plain": [
       "[0, 1]"
      ]
     },
     "execution_count": 9,
     "metadata": {},
     "output_type": "execute_result"
    }
   ],
   "source": [
    "numbers = {x // 2 for x in range (3)}\n",
    "sorted(numbers)"
   ]
  },
  {
   "cell_type": "markdown",
   "id": "fb011ef6",
   "metadata": {},
   "source": [
    "### dict comprehensions"
   ]
  },
  {
   "cell_type": "markdown",
   "id": "b4c5f843",
   "metadata": {},
   "source": [
    "Aquí se retorna un diccionario, en vez de una lista o set. La única diferencia real es que se necesita retornar la key y el valor."
   ]
  },
  {
   "cell_type": "code",
   "execution_count": 10,
   "id": "f12e93aa",
   "metadata": {},
   "outputs": [
    {
     "data": {
      "text/plain": [
       "{0: 0, 1: 1, 2: 4, 3: 9, 4: 16, 5: 25}"
      ]
     },
     "execution_count": 10,
     "metadata": {},
     "output_type": "execute_result"
    }
   ],
   "source": [
    "{x: x ** 2 for x in range(6)}"
   ]
  },
  {
   "cell_type": "markdown",
   "id": "d9964ea3",
   "metadata": {},
   "source": [
    "Mencionar que, dado que el output es un diccinoario, la key debe ser hasheable para que esto funcione."
   ]
  },
  {
   "cell_type": "markdown",
   "id": "5cae732f",
   "metadata": {},
   "source": [
    "### Peligros de comprehensions"
   ]
  },
  {
   "cell_type": "markdown",
   "id": "24925a9e",
   "metadata": {},
   "source": [
    "Se recomienda fuertemente evitar comprehensions anidadas, pues puede resultar en código ilegible."
   ]
  },
  {
   "cell_type": "markdown",
   "id": "afa701dc",
   "metadata": {},
   "source": [
    "<a id='id3'></a>"
   ]
  },
  {
   "cell_type": "markdown",
   "id": "d6764ad4",
   "metadata": {},
   "source": [
    "## Funciones lambda"
   ]
  },
  {
   "cell_type": "markdown",
   "id": "6ee2a78b",
   "metadata": {},
   "source": [
    "El statement `lambda` en Python es simplemente una función anónima. Uno de los usos más comunes es usarla como `sort key` para la función `sorted`."
   ]
  },
  {
   "cell_type": "code",
   "execution_count": 11,
   "id": "92aee392",
   "metadata": {},
   "outputs": [],
   "source": [
    "values = dict(one = 1, two = 2, three = 3)"
   ]
  },
  {
   "cell_type": "code",
   "execution_count": 12,
   "id": "e0b6dc48",
   "metadata": {},
   "outputs": [
    {
     "data": {
      "text/plain": [
       "[('one', 1), ('three', 3), ('two', 2)]"
      ]
     },
     "execution_count": 12,
     "metadata": {},
     "output_type": "execute_result"
    }
   ],
   "source": [
    "sorted(values.items())"
   ]
  },
  {
   "cell_type": "code",
   "execution_count": 14,
   "id": "8a22dfa2",
   "metadata": {},
   "outputs": [
    {
     "data": {
      "text/plain": [
       "[('one', 1), ('two', 2), ('three', 3)]"
      ]
     },
     "execution_count": 14,
     "metadata": {},
     "output_type": "execute_result"
    }
   ],
   "source": [
    "sorted(values.items(), key = lambda item: item[1])"
   ]
  },
  {
   "cell_type": "markdown",
   "id": "2cbc1744",
   "metadata": {},
   "source": [
    "Mencionar que PEP8 establece que asignar lambda a una variable es una mala idea. Si se le está dando una identidad, se debería de definir como una función normal."
   ]
  },
  {
   "cell_type": "markdown",
   "id": "a49b6a3f",
   "metadata": {},
   "source": [
    "<a id='id4'></a>"
   ]
  },
  {
   "cell_type": "markdown",
   "id": "29f683ed",
   "metadata": {},
   "source": [
    "## functools"
   ]
  },
  {
   "cell_type": "markdown",
   "id": "267b29ec",
   "metadata": {},
   "source": [
    "La librería `functools` es una colección de funciones que retornan objetos callables. Algunas de estas funciones son usadas como decoradores, aunque algunas pueden ser utilizadas para facilitar la vida, sin necesidad de usarlas como decoradores."
   ]
  },
  {
   "cell_type": "markdown",
   "id": "699e88a5",
   "metadata": {},
   "source": [
    "## partial - Prellenar argumentos de funciones"
   ]
  },
  {
   "cell_type": "markdown",
   "id": "f88a6cdf",
   "metadata": {},
   "source": [
    "La función `partial` es particularmente conveniente para añadir argumentos por defecto a una función que se usa a menudo, pero no se puede (o no quieres) redifinir."
   ]
  },
  {
   "cell_type": "code",
   "execution_count": 20,
   "id": "38ba5af5",
   "metadata": {},
   "outputs": [],
   "source": [
    "import functools\n",
    "import heapq\n",
    "\n",
    "heap = []\n",
    "push = functools.partial(heapq.heappush, heap)\n",
    "smallest = functools.partial(heapq.nsmallest, iterable=heap)"
   ]
  },
  {
   "cell_type": "code",
   "execution_count": 21,
   "id": "1336f332",
   "metadata": {},
   "outputs": [],
   "source": [
    "push(1)\n",
    "push(2)\n",
    "push(3)\n",
    "push(4)\n",
    "push(5)"
   ]
  },
  {
   "cell_type": "code",
   "execution_count": 22,
   "id": "3dde1614",
   "metadata": {},
   "outputs": [
    {
     "data": {
      "text/plain": [
       "[1, 2, 3]"
      ]
     },
     "execution_count": 22,
     "metadata": {},
     "output_type": "execute_result"
    }
   ],
   "source": [
    "smallest(3)"
   ]
  },
  {
   "cell_type": "markdown",
   "id": "a16b5b12",
   "metadata": {},
   "source": [
    "Con `functools.partial` podemos automáticamente rellenar argumentos tipo keyword y/o posicionales."
   ]
  },
  {
   "cell_type": "markdown",
   "id": "4698b143",
   "metadata": {},
   "source": [
    "## reduce - Combinando pares en un solo resultado"
   ]
  },
  {
   "cell_type": "markdown",
   "id": "5ef7401c",
   "metadata": {},
   "source": [
    "La función `reduce` implementa una técnica matemática llamada *folding*. Aplica un par de el resultado previo y el siguiente elemento en la lista entregada a la función que se utiliza. Se puede usar, por ejemplo, para calcular factoriales"
   ]
  },
  {
   "cell_type": "code",
   "execution_count": 23,
   "id": "2fb600e5",
   "metadata": {},
   "outputs": [
    {
     "data": {
      "text/plain": [
       "24"
      ]
     },
     "execution_count": 23,
     "metadata": {},
     "output_type": "execute_result"
    }
   ],
   "source": [
    "import operator\n",
    "import functools\n",
    "\n",
    "functools.reduce(operator.mul, range(1, 5))"
   ]
  },
  {
   "cell_type": "markdown",
   "id": "12a55b9e",
   "metadata": {},
   "source": [
    "## itertools"
   ]
  },
  {
   "cell_type": "markdown",
   "id": "21be7b16",
   "metadata": {},
   "source": [
    "La librería `itertools` contiene funciones iterables inspiradas en las que se encuentran disponibles en los lenguajes funcionales. Todas estas son iterables y han sido construidas de tal manera que una mínima cantidad de memoria es requerida para procesar incluso los set de datos más grandes. Son funciones rapidas, eficientes en el uso de memoria, y testeadas."
   ]
  },
  {
   "cell_type": "markdown",
   "id": "54aeaf2d",
   "metadata": {},
   "source": [
    "## accumulate - reduce con resultados intermedios"
   ]
  },
  {
   "cell_type": "markdown",
   "id": "4aced57f",
   "metadata": {},
   "source": [
    "La principal diferencia con reduce, es que `accumulate` retorna resultados intermedios."
   ]
  },
  {
   "cell_type": "code",
   "execution_count": 31,
   "id": "a6d2edf6",
   "metadata": {},
   "outputs": [
    {
     "data": {
      "text/plain": [
       "[1, 3, 6, 9, 11, 14, 16, 19, 22, 24]"
      ]
     },
     "execution_count": 31,
     "metadata": {},
     "output_type": "execute_result"
    }
   ],
   "source": [
    "import operator\n",
    "import itertools\n",
    "\n",
    "months = [int(x * 1.3) for x in range(20) if x % 2]\n",
    "months"
   ]
  },
  {
   "cell_type": "code",
   "execution_count": 32,
   "id": "ed3094d3",
   "metadata": {},
   "outputs": [
    {
     "data": {
      "text/plain": [
       "[1, 4, 10, 19, 30, 44, 60, 79, 101, 125]"
      ]
     },
     "execution_count": 32,
     "metadata": {},
     "output_type": "execute_result"
    }
   ],
   "source": [
    "list(itertools.accumulate(months, operator.add))"
   ]
  },
  {
   "cell_type": "markdown",
   "id": "166c1aa6",
   "metadata": {},
   "source": [
    "## chain - Combinando múltiples resultados"
   ]
  },
  {
   "cell_type": "markdown",
   "id": "f3931140",
   "metadata": {},
   "source": [
    "Esta es una función muy útil que combina los resultados de múltiples iteradores."
   ]
  },
  {
   "cell_type": "code",
   "execution_count": 33,
   "id": "5b81aba8",
   "metadata": {},
   "outputs": [
    {
     "data": {
      "text/plain": [
       "[0, 1, 2, 3, 4, 0, 1, 2, 3, 4, 5, 6, 7]"
      ]
     },
     "execution_count": 33,
     "metadata": {},
     "output_type": "execute_result"
    }
   ],
   "source": [
    "import itertools\n",
    "\n",
    "a = range(5)\n",
    "b = range(8)\n",
    "list(itertools.chain(a, b))"
   ]
  },
  {
   "cell_type": "markdown",
   "id": "ea55d6ae",
   "metadata": {},
   "source": [
    "Si tienes un iterable que contiene iterables, el método más fácil es usar `itertools.chain.from_iterable`"
   ]
  },
  {
   "cell_type": "code",
   "execution_count": 34,
   "id": "125258b4",
   "metadata": {},
   "outputs": [
    {
     "data": {
      "text/plain": [
       "[0, 1, 2, 3, 4, 0, 1, 2, 3, 4, 5, 6, 7, 8, 9, 10]"
      ]
     },
     "execution_count": 34,
     "metadata": {},
     "output_type": "execute_result"
    }
   ],
   "source": [
    "import itertools\n",
    "\n",
    "iterables = [range(5), range(11)]\n",
    "list(itertools.chain.from_iterable(iterables))"
   ]
  },
  {
   "cell_type": "markdown",
   "id": "da7bdf3a",
   "metadata": {},
   "source": [
    "## compress- Seleccionando elementos usando una lista de booleanos"
   ]
  },
  {
   "cell_type": "markdown",
   "id": "6dbbee3d",
   "metadata": {},
   "source": [
    "Esta función aplica un filtro booleano a tú iterable, haciendo que retorne únicamente los elementos que necesitas."
   ]
  },
  {
   "cell_type": "code",
   "execution_count": 35,
   "id": "5fd0ed15",
   "metadata": {},
   "outputs": [
    {
     "data": {
      "text/plain": [
       "[1, 2, 3, 5]"
      ]
     },
     "execution_count": 35,
     "metadata": {},
     "output_type": "execute_result"
    }
   ],
   "source": [
    "import itertools\n",
    "\n",
    "list(itertools.compress(range(1000), [0, 1, 1, 1, 0, 1]))"
   ]
  },
  {
   "cell_type": "markdown",
   "id": "d7744f04",
   "metadata": {},
   "source": [
    "Si tienes un set de datos muy grande que toma mucho tiempo para procesar, este método puede ser útil para filtrar rápidamente sin necesidad de recalcular todo, especialmente dado que los filtros pueden ser combinados facilmente usando una combinación de `map`, `all` y `zip`."
   ]
  },
  {
   "cell_type": "markdown",
   "id": "2b6cc350",
   "metadata": {},
   "source": [
    "## dropwhile/takewhile - Seleccionar items usando una función"
   ]
  },
  {
   "cell_type": "markdown",
   "id": "2b3c4219",
   "metadata": {},
   "source": [
    "La función dropwhile va a botar todos los resultados hasta que una cierta condición se evalua a True."
   ]
  },
  {
   "cell_type": "code",
   "execution_count": 36,
   "id": "2934bb1b",
   "metadata": {},
   "outputs": [
    {
     "data": {
      "text/plain": [
       "[5, 4, 2]"
      ]
     },
     "execution_count": 36,
     "metadata": {},
     "output_type": "execute_result"
    }
   ],
   "source": [
    "import itertools\n",
    "\n",
    "list(itertools.dropwhile(lambda x: x <= 3, [1, 3, 5, 4, 2]))"
   ]
  },
  {
   "cell_type": "markdown",
   "id": "14f63d49",
   "metadata": {},
   "source": [
    "## count - Rango infinito con pasos decimales"
   ]
  },
  {
   "cell_type": "markdown",
   "id": "3a60cad2",
   "metadata": {},
   "source": [
    "La función `count` es similar a la función `range`, pero hay dos diferencias significativas:\n",
    "\n",
    "- El rango es infinito, así que no intentes list(itertools.count()). Te vas a quedar sin memoria de forma instantánea e incluso podría congelar tú sistema.\n",
    "- Se pueden usar números decimales, no así en la función range.\n",
    "\n",
    "Dado que usar slices puede liquidar el interprete de Python, se van a limitar los resultados usando `itertools.islice()`, que funciona similarmente a los lsices, pero funciona en inputs infinitamente largos.\n",
    "\n",
    "La función count toma dos argumentos opcionales, `start`, que por defecto vale o y `step`, que por defecto vale 1."
   ]
  },
  {
   "cell_type": "code",
   "execution_count": 37,
   "id": "4a79e76f",
   "metadata": {},
   "outputs": [
    {
     "data": {
      "text/plain": [
       "[0, 1, 2, 3, 4, 5, 6, 7, 8, 9]"
      ]
     },
     "execution_count": 37,
     "metadata": {},
     "output_type": "execute_result"
    }
   ],
   "source": [
    "import itertools\n",
    "\n",
    "list(itertools.islice(itertools.count(), 10))"
   ]
  },
  {
   "cell_type": "markdown",
   "id": "b31aa5b9",
   "metadata": {},
   "source": [
    "## groupby - Agrupando los iterables ordenados"
   ]
  },
  {
   "cell_type": "markdown",
   "id": "06a1766f",
   "metadata": {},
   "source": [
    "La función `groupby` es realmente conveniente para agrupar resultados. Permite convertir una lista de objetos en una lista de grupos dada una función específica para agrupar."
   ]
  },
  {
   "cell_type": "code",
   "execution_count": 38,
   "id": "d96d98a6",
   "metadata": {},
   "outputs": [
    {
     "name": "stdout",
     "output_type": "stream",
     "text": [
      "group: a, items: ['aa', 'ab']\n",
      "group: b, items: ['ba', 'bb']\n",
      "group: c, items: ['ca', 'cb', 'cc']\n"
     ]
    }
   ],
   "source": [
    "import operator\n",
    "import itertools\n",
    "\n",
    "words = ['aa', 'ab', 'ba', 'bb', 'ca', 'cb', 'cc']\n",
    "\n",
    "#Obtiene el primer elemento del iterable\n",
    "getter = operator.itemgetter(0)\n",
    "\n",
    "for group, items in itertools.groupby(words, key= getter):\n",
    "    print(f\"group: {group}, items: {list(items)}\")"
   ]
  },
  {
   "cell_type": "markdown",
   "id": "30535a0b",
   "metadata": {},
   "source": [
    "Cosas a tener en consideración para cuando se use esta función:\n",
    "- El input necesita estar ordenado por el parámetro group. De lo contrario, cada grupo repetido va a ser añadido como un grupo separado.\n",
    "- Los resultados están disponibles para un solo uso."
   ]
  }
 ],
 "metadata": {
  "kernelspec": {
   "display_name": "Python 3 (ipykernel)",
   "language": "python",
   "name": "python3"
  },
  "language_info": {
   "codemirror_mode": {
    "name": "ipython",
    "version": 3
   },
   "file_extension": ".py",
   "mimetype": "text/x-python",
   "name": "python",
   "nbconvert_exporter": "python",
   "pygments_lexer": "ipython3",
   "version": "3.9.10"
  }
 },
 "nbformat": 4,
 "nbformat_minor": 5
}
