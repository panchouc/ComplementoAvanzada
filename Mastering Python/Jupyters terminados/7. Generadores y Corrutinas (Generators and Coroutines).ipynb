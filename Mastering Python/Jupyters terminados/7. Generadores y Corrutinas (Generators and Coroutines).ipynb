{
 "cells": [
  {
   "cell_type": "markdown",
   "id": "43449f2b",
   "metadata": {},
   "source": [
    "# Generadores y Corrutinas (Generators and Corroutines)"
   ]
  },
  {
   "cell_type": "markdown",
   "id": "8e95acaa",
   "metadata": {},
   "source": [
    "## Tabla de contenidos\n",
    "***\n",
    "- [Como crear generadores](#id1)\n",
    "<a href='#id1'></a>\n",
    "\n",
    "- [Generadores infinitos](#id2)\n",
    "<a href='#id2'></a>\n",
    "\n",
    "- [Generadores envolviendo iterables](#id3)\n",
    "<a href='#id3'></a>\n",
    "\n",
    "- [Comprehensions de generadores](#id4)\n",
    "<a href='#id4'></a>\n",
    "\n",
    "- [Generadores envolviendo iterables](#id5)\n",
    "<a href='#id5'></a>\n",
    "\n",
    "- [Comprehensions de generadores](#id6)\n",
    "<a href='#id6'></a>\n",
    "\n",
    "- [Generadores e iteradores basados en clases](#id7)\n",
    "<a href='#id7'></a>\n",
    "\n",
    "- [itertools.islice](#id8)\n",
    "<a href='#id8'></a>\n",
    "\n",
    "- [itertools.chain](#id9)\n",
    "<a href='#id9'></a>\n",
    "\n",
    "- [itertools.tee](#id10)\n",
    "<a href='#id10'></a>\n",
    "\n",
    "- [contextlib.contextmanager - Creando context managers](#id11)\n",
    "<a href='#id11'></a>\n",
    "\n",
    "- [Corrutinas](#id12)\n",
    "<a href='#id12'></a>\n",
    "\n",
    "- [Priming](#id13)\n",
    "<a href='#id13'></a>\n",
    "\n",
    "\n",
    "***"
   ]
  },
  {
   "cell_type": "markdown",
   "id": "98cbb70b",
   "metadata": {},
   "source": [
    "Los generadores son funciones que se comportan como iteradores generando los valores que retornan uno a uno.\n",
    "\n",
    "Un generador ocupa `yield` para retornar un único valor cuando se le es solicitado. El efecto lateral es que los generadores pueden ser infinitamente largos porque se puede seguir solicitando por siempre.\n",
    "\n",
    "Hay una variación en la sintaxís de los generadores que crean corrutinas. Las corrutinas son funciones que permiten el multitasking sin requerir múltiples threads o procesos. \n",
    "\n",
    "Mientras que los generadores pueden retornar values a quien se lo solicita basado en los argumentos iniciales, las corrutinas permiten dos formas de comunicación con la función que la llama mientras corre. La implementación de corrutinas en Python es a través del módulo `asyncio`.\n",
    "\n",
    "Si las corrutinas funcionan para lo que usted necesita, pueden ofrecer una enorme mejora en el rendimiento."
   ]
  },
  {
   "cell_type": "markdown",
   "id": "95bb6bdc",
   "metadata": {},
   "source": [
    "## Generadores"
   ]
  },
  {
   "cell_type": "markdown",
   "id": "432c2fe2",
   "metadata": {},
   "source": [
    "A continuación se presentan las principales ventajas y desventajas de los generadores.\n",
    "\n",
    "**Ventajas**\n",
    "\n",
    "- Los generadores son usualmente más simples que escribir que una función que genera listas. Sólo se necesita el valor `yield`.\n",
    "- Los ítems pueden ser procesados uno a la vez, así que generalmente no hay necesidad de mantener toda la lista en la memoria.\n",
    "- Los resultados pueden depender de factores externos. Sólo se genera el valor cuando es solicitado.\n",
    "- Los generadores son \"flojos\". Esto quiere decir, que si se usan solo los diez primeros resultados de un generador, el resto no va a ser calculado.\n",
    "\n",
    "**Desventajas**\n",
    "- Los resultados sólo están disponibles una vez. Después de procesar los resultados de un generador, no se pueden usar de nuevo.\n",
    "- El tamaño es desconocido, incluso puede ser infinito.\n",
    "- No es posible usar slices, así que mi_generador[3:10] no va a funcionar. Se puede usar itertools.islice para esto.\n",
    "- No se puede indexar generadores, así que mi_generador[3] no funcionará."
   ]
  },
  {
   "cell_type": "markdown",
   "id": "c265733a",
   "metadata": {},
   "source": [
    "<a id='id1'></a>"
   ]
  },
  {
   "cell_type": "markdown",
   "id": "c18016fd",
   "metadata": {},
   "source": [
    "## Como crear generadores"
   ]
  },
  {
   "cell_type": "markdown",
   "id": "a28cc4df",
   "metadata": {},
   "source": [
    "El generador más simple que se puede crear es una función que contiene una declaración `yield` en vez de `return`. La diferencia principal con funciones regulares que contienen un `return`, es que se pueden tener muchos `yield` en la función."
   ]
  },
  {
   "cell_type": "code",
   "execution_count": 1,
   "id": "d67f6ee8",
   "metadata": {},
   "outputs": [],
   "source": [
    "def mi_generador():\n",
    "    yield 5\n",
    "    yield \"Buenos días\"\n",
    "    yield 25\n",
    "    return \"Hemos llegado al final\"\n",
    "\n",
    "resultado = mi_generador()"
   ]
  },
  {
   "cell_type": "code",
   "execution_count": 2,
   "id": "d3fc6f8f",
   "metadata": {},
   "outputs": [
    {
     "data": {
      "text/plain": [
       "<generator object mi_generador at 0x000001F8332A7890>"
      ]
     },
     "execution_count": 2,
     "metadata": {},
     "output_type": "execute_result"
    }
   ],
   "source": [
    "resultado"
   ]
  },
  {
   "cell_type": "code",
   "execution_count": 3,
   "id": "3ac9e43c",
   "metadata": {},
   "outputs": [
    {
     "ename": "TypeError",
     "evalue": "object of type 'generator' has no len()",
     "output_type": "error",
     "traceback": [
      "\u001b[1;31m---------------------------------------------------------------------------\u001b[0m",
      "\u001b[1;31mTypeError\u001b[0m                                 Traceback (most recent call last)",
      "Input \u001b[1;32mIn [3]\u001b[0m, in \u001b[0;36m<cell line: 1>\u001b[1;34m()\u001b[0m\n\u001b[1;32m----> 1\u001b[0m \u001b[38;5;28;43mlen\u001b[39;49m\u001b[43m(\u001b[49m\u001b[43mresultado\u001b[49m\u001b[43m)\u001b[49m\n",
      "\u001b[1;31mTypeError\u001b[0m: object of type 'generator' has no len()"
     ]
    }
   ],
   "source": [
    "len(resultado)"
   ]
  },
  {
   "cell_type": "code",
   "execution_count": 4,
   "id": "d2323d98",
   "metadata": {},
   "outputs": [
    {
     "ename": "TypeError",
     "evalue": "'generator' object is not subscriptable",
     "output_type": "error",
     "traceback": [
      "\u001b[1;31m---------------------------------------------------------------------------\u001b[0m",
      "\u001b[1;31mTypeError\u001b[0m                                 Traceback (most recent call last)",
      "Input \u001b[1;32mIn [4]\u001b[0m, in \u001b[0;36m<cell line: 1>\u001b[1;34m()\u001b[0m\n\u001b[1;32m----> 1\u001b[0m \u001b[43mresultado\u001b[49m\u001b[43m[\u001b[49m\u001b[43m:\u001b[49m\u001b[43m]\u001b[49m\n",
      "\u001b[1;31mTypeError\u001b[0m: 'generator' object is not subscriptable"
     ]
    }
   ],
   "source": [
    "resultado[:]"
   ]
  },
  {
   "cell_type": "code",
   "execution_count": 5,
   "id": "63ec8b6e",
   "metadata": {},
   "outputs": [
    {
     "data": {
      "text/plain": [
       "[5, 'Buenos días', 25]"
      ]
     },
     "execution_count": 5,
     "metadata": {},
     "output_type": "execute_result"
    }
   ],
   "source": [
    "list(resultado)"
   ]
  },
  {
   "cell_type": "code",
   "execution_count": 6,
   "id": "3cf8c49f",
   "metadata": {},
   "outputs": [
    {
     "data": {
      "text/plain": [
       "[]"
      ]
     },
     "execution_count": 6,
     "metadata": {},
     "output_type": "execute_result"
    }
   ],
   "source": [
    "list(resultado)"
   ]
  },
  {
   "cell_type": "markdown",
   "id": "8e485737",
   "metadata": {},
   "source": [
    "Como se puede observar, no se obtiene mucha información valiosa al con `repr()`, `len()` o slices. Además, utilizar `list()` una segunda oportunidad no funciona porque el generador ya está \"cansado\".\n",
    "\n",
    "Además, puede que haya notado que el valor de `return` pareciera que ha desaparecido. No es el caso, el valor de return todavía se puede utilizar, pero como el valor para la excepción `StopIteration` producidad por el generador para indicar que está \"exhausto\"."
   ]
  },
  {
   "cell_type": "code",
   "execution_count": 7,
   "id": "7ff52ad1",
   "metadata": {},
   "outputs": [],
   "source": [
    "def segundo_generador():\n",
    "    yield \"Algún valor\"\n",
    "    return \"El fin del generador\"\n",
    "\n",
    "resultado = segundo_generador()"
   ]
  },
  {
   "cell_type": "code",
   "execution_count": 8,
   "id": "6912982e",
   "metadata": {},
   "outputs": [
    {
     "data": {
      "text/plain": [
       "'Algún valor'"
      ]
     },
     "execution_count": 8,
     "metadata": {},
     "output_type": "execute_result"
    }
   ],
   "source": [
    "next(resultado)"
   ]
  },
  {
   "cell_type": "code",
   "execution_count": 9,
   "id": "746513bf",
   "metadata": {},
   "outputs": [
    {
     "ename": "StopIteration",
     "evalue": "El fin del generador",
     "output_type": "error",
     "traceback": [
      "\u001b[1;31m---------------------------------------------------------------------------\u001b[0m",
      "\u001b[1;31mStopIteration\u001b[0m                             Traceback (most recent call last)",
      "Input \u001b[1;32mIn [9]\u001b[0m, in \u001b[0;36m<cell line: 1>\u001b[1;34m()\u001b[0m\n\u001b[1;32m----> 1\u001b[0m \u001b[38;5;28;43mnext\u001b[39;49m\u001b[43m(\u001b[49m\u001b[43mresultado\u001b[49m\u001b[43m)\u001b[49m\n",
      "\u001b[1;31mStopIteration\u001b[0m: El fin del generador"
     ]
    }
   ],
   "source": [
    "next(resultado)"
   ]
  },
  {
   "cell_type": "markdown",
   "id": "7885f3a9",
   "metadata": {},
   "source": [
    "Mencionar que nosotros podemos manejar la excepción, de `StopIteration`, de la siguiente manera (por ejemplo)."
   ]
  },
  {
   "cell_type": "code",
   "execution_count": 10,
   "id": "4fe13108",
   "metadata": {},
   "outputs": [],
   "source": [
    "def flojo():\n",
    "    print(\"Antes del yield statement\")\n",
    "    yield \"He llegado a yield\"\n",
    "    print(\"Después del yield statement\")\n",
    "    \n",
    "generador = flojo()"
   ]
  },
  {
   "cell_type": "code",
   "execution_count": 11,
   "id": "63c521f0",
   "metadata": {},
   "outputs": [
    {
     "name": "stdout",
     "output_type": "stream",
     "text": [
      "Antes del yield statement\n"
     ]
    },
    {
     "data": {
      "text/plain": [
       "'He llegado a yield'"
      ]
     },
     "execution_count": 11,
     "metadata": {},
     "output_type": "execute_result"
    }
   ],
   "source": [
    "next(generador)"
   ]
  },
  {
   "cell_type": "code",
   "execution_count": 12,
   "id": "cd5be343",
   "metadata": {},
   "outputs": [
    {
     "name": "stdout",
     "output_type": "stream",
     "text": [
      "Después del yield statement\n",
      "He llegado al final, pues se ha producido una excepción del tipo StopIteration\n"
     ]
    }
   ],
   "source": [
    "try:\n",
    "    next(generador)\n",
    "except StopIteration:\n",
    "    print(\"He llegado al final, pues se ha producido una excepción del tipo StopIteration\")"
   ]
  },
  {
   "cell_type": "code",
   "execution_count": 13,
   "id": "aab1d017",
   "metadata": {},
   "outputs": [
    {
     "name": "stdout",
     "output_type": "stream",
     "text": [
      "Antes del yield statement\n",
      "He llegado a yield\n",
      "Después del yield statement\n"
     ]
    }
   ],
   "source": [
    "for item in flojo():\n",
    "    print(item)"
   ]
  },
  {
   "cell_type": "markdown",
   "id": "f91e9897",
   "metadata": {},
   "source": [
    "Para el correcto manejo de los generadores, siempre tiene que manejar usted la excepción `StopIteration`, o usar un loop u otra estructura que maneje `StopIteration` de forma implícita."
   ]
  },
  {
   "cell_type": "markdown",
   "id": "968ab0d6",
   "metadata": {},
   "source": [
    "<a id='id2'></a>"
   ]
  },
  {
   "cell_type": "markdown",
   "id": "73634104",
   "metadata": {},
   "source": [
    "## Creando generadores infinitos"
   ]
  },
  {
   "cell_type": "markdown",
   "id": "c81ef9ce",
   "metadata": {},
   "source": [
    "Crear un generador sin fin es sencillo. En vez de tener `yield` <valor> como en las funciones previas, ocupamos `yield` dentro de un loop infinito, así podemos hacer un generador infinito."
   ]
  },
  {
   "cell_type": "code",
   "execution_count": 14,
   "id": "16e15975",
   "metadata": {},
   "outputs": [
    {
     "data": {
      "text/plain": [
       "[5, 6, 7, 8, 9]"
      ]
     },
     "execution_count": 14,
     "metadata": {},
     "output_type": "execute_result"
    }
   ],
   "source": [
    "def contar(start=0, steps=1, stop= None):\n",
    "    n = start\n",
    "   \n",
    "    while stop is not None and n < stop:\n",
    "        yield n\n",
    "        n += steps\n",
    "        \n",
    "list(contar(5, 1, 10))"
   ]
  },
  {
   "cell_type": "markdown",
   "id": "5a7b42c7",
   "metadata": {},
   "source": [
    "**Debido a la naturaleza infinita de los generadores, se requiere precaución. Sin la variable stop, hacer list(contar()) puede resultar en un loop infinito que puede resultar en quedarse sin memoria de forma sumamente rápida.**"
   ]
  },
  {
   "cell_type": "markdown",
   "id": "a3a3badd",
   "metadata": {},
   "source": [
    "Lo anterior es en esencia, un for loop de toda la vida, la principal diferencia entre esto y el método regular de retornar una lista de items is que el `yield` statement retorna un item a la vez, lo que significa que solo se necesita calcular el ítem solicitado y no se deben de mantener todos los resultados en la memoria."
   ]
  },
  {
   "cell_type": "markdown",
   "id": "7cd5e0a4",
   "metadata": {},
   "source": [
    "<a id='id5'></a>"
   ]
  },
  {
   "cell_type": "markdown",
   "id": "734cfe72",
   "metadata": {},
   "source": [
    "## Generadores envolviendo (wrapping) iterables"
   ]
  },
  {
   "cell_type": "markdown",
   "id": "c2da14ba",
   "metadata": {},
   "source": [
    "El verdadero poder de los generadores se produce cuando se utilizan con otros iterables."
   ]
  },
  {
   "cell_type": "code",
   "execution_count": 15,
   "id": "5fa75fdc",
   "metadata": {},
   "outputs": [
    {
     "data": {
      "text/plain": [
       "[0, 1, 4, 9, 16, 25]"
      ]
     },
     "execution_count": 15,
     "metadata": {},
     "output_type": "execute_result"
    }
   ],
   "source": [
    "def cuadrado(iterable):\n",
    "    for i in iterable:\n",
    "        yield i ** 2\n",
    "        \n",
    "list(cuadrado(range(6)))"
   ]
  },
  {
   "cell_type": "markdown",
   "id": "71af451d",
   "metadata": {},
   "source": [
    "Debido a que los generadores son iterables, se pueden combinar \"envolviéndolos\" tantas veces como usted desee."
   ]
  },
  {
   "cell_type": "code",
   "execution_count": 16,
   "id": "60c2a615",
   "metadata": {},
   "outputs": [
    {
     "data": {
      "text/plain": [
       "[1, 9, 25, 49, 81]"
      ]
     },
     "execution_count": 16,
     "metadata": {},
     "output_type": "execute_result"
    }
   ],
   "source": [
    "def impar(iterable):\n",
    "    for i in iterable:\n",
    "        if i % 2:\n",
    "            yield i\n",
    "            \n",
    "def cuadrado(iterable):\n",
    "    for i in iterable:\n",
    "        yield i ** 2\n",
    "        \n",
    "\n",
    "list(cuadrado(impar(range(10))))"
   ]
  },
  {
   "cell_type": "markdown",
   "id": "74a41ce9",
   "metadata": {},
   "source": [
    "Para entender lo que sucedió, debemos ir desde el interior hasta el exterior.\n",
    "- `range(10)` genera 10 números\n",
    "- El generador `impar()` filtra los valores, así solo retorna los números impares.\n",
    "- El generador `cuadrado()` eleva a la potencia de dos los números impares."
   ]
  },
  {
   "cell_type": "markdown",
   "id": "dd339cb1",
   "metadata": {},
   "source": [
    "El verdadero poder de combinar es que los generadores harán algo únicamente cuando se les pida que lo hagan. Si solicitamos un solo valor con `next()` en vez de `list()`, solo la primera iteración en el loop en `cuadrado()` será ejecutada."
   ]
  },
  {
   "cell_type": "markdown",
   "id": "0893954c",
   "metadata": {},
   "source": [
    "<a id='id6'></a>"
   ]
  },
  {
   "cell_type": "markdown",
   "id": "6b07888a",
   "metadata": {},
   "source": [
    "## Comprehensions de generadores"
   ]
  },
  {
   "cell_type": "markdown",
   "id": "27b7ddfd",
   "metadata": {},
   "source": [
    "La premisa básica es idéntica a las list comprehensions, pero se usan paréntesis en vez de paréntesis cuadrados."
   ]
  },
  {
   "cell_type": "code",
   "execution_count": 17,
   "id": "d809ab1c",
   "metadata": {},
   "outputs": [],
   "source": [
    "cuadrados = (x ** 2 for x in range(5))"
   ]
  },
  {
   "cell_type": "code",
   "execution_count": 18,
   "id": "7905178d",
   "metadata": {},
   "outputs": [
    {
     "data": {
      "text/plain": [
       "<generator object <genexpr> at 0x000001F834E56890>"
      ]
     },
     "execution_count": 18,
     "metadata": {},
     "output_type": "execute_result"
    }
   ],
   "source": [
    "cuadrados"
   ]
  },
  {
   "cell_type": "code",
   "execution_count": 19,
   "id": "fa957e90",
   "metadata": {},
   "outputs": [
    {
     "data": {
      "text/plain": [
       "[0, 1, 4, 9, 16]"
      ]
     },
     "execution_count": 19,
     "metadata": {},
     "output_type": "execute_result"
    }
   ],
   "source": [
    "list(cuadrados)"
   ]
  },
  {
   "cell_type": "markdown",
   "id": "c08ebff2",
   "metadata": {},
   "source": [
    "Lo anterior es sumamente útil cuando se necesitan \"envolver\" los resultados de un generador distinto, pues solo calcula los valores que se le pide."
   ]
  },
  {
   "cell_type": "code",
   "execution_count": 20,
   "id": "4fddd5b6",
   "metadata": {},
   "outputs": [
    {
     "data": {
      "text/plain": [
       "[1, 3, 5, 7, 9]"
      ]
     },
     "execution_count": 20,
     "metadata": {},
     "output_type": "execute_result"
    }
   ],
   "source": [
    "import itertools\n",
    "\n",
    "resultado = itertools.count()\n",
    "impar = (x for x in resultado if x % 2)\n",
    "slices_impares = itertools.islice(impar, 5)\n",
    "list(slices_impares)"
   ]
  },
  {
   "cell_type": "code",
   "execution_count": 21,
   "id": "be13e2cc",
   "metadata": {},
   "outputs": [
    {
     "data": {
      "text/plain": [
       "[1, 3]"
      ]
     },
     "execution_count": 21,
     "metadata": {},
     "output_type": "execute_result"
    }
   ],
   "source": [
    "import itertools\n",
    "\n",
    "resultado = itertools.count()\n",
    "slice_resultados = itertools.islice(resultado, 5)\n",
    "impar = (x for x in slice_resultados if x % 2)\n",
    "list(impar)"
   ]
  },
  {
   "cell_type": "markdown",
   "id": "64ebd03b",
   "metadata": {},
   "source": [
    "Como puede notar, el orden de las operaciones es sumamente importate, pues la función itertools.islice() hace slice al resultado en tal punto, no el generador original."
   ]
  },
  {
   "cell_type": "markdown",
   "id": "59425748",
   "metadata": {},
   "source": [
    "<a id='id7'></a>"
   ]
  },
  {
   "cell_type": "markdown",
   "id": "400d3d66",
   "metadata": {},
   "source": [
    "## Generadores e iteradores basados en clases"
   ]
  },
  {
   "cell_type": "markdown",
   "id": "d83f41e2",
   "metadata": {},
   "source": [
    "El crear generadores utilizando clases, puede ser beneficioso para generadores más complejos donde se requiere recordar el estado o donde se puede usar herencia.\n",
    "\n",
    "A continuación se creará una clase que intenta imitar el comportamiento de `itertools.count()` con un parámetro de stop."
   ]
  },
  {
   "cell_type": "code",
   "execution_count": 22,
   "id": "b75a939b",
   "metadata": {},
   "outputs": [],
   "source": [
    "class ContadorGenerator:\n",
    "    def __init__(self, start=0, step=1, stop=None):\n",
    "        self.start = start\n",
    "        self.step = step\n",
    "        self.stop = stop\n",
    "    \n",
    "    \n",
    "    def __iter__(self):\n",
    "        i = self.start\n",
    "        \n",
    "        while self.stop is None or i < self.stop:\n",
    "            yield i\n",
    "            i += self.step\n",
    "            "
   ]
  },
  {
   "cell_type": "code",
   "execution_count": 23,
   "id": "ccc5fc00",
   "metadata": {},
   "outputs": [
    {
     "data": {
      "text/plain": [
       "[2.5, 3.0, 3.5, 4.0, 4.5]"
      ]
     },
     "execution_count": 23,
     "metadata": {},
     "output_type": "execute_result"
    }
   ],
   "source": [
    "list(ContadorGenerator(start=2.5, step=0.5, stop=5))"
   ]
  },
  {
   "cell_type": "markdown",
   "id": "31775bb1",
   "metadata": {},
   "source": [
    "A continuación se modificará un poco la clase generador para convertirla en un iterador con más características."
   ]
  },
  {
   "cell_type": "code",
   "execution_count": 24,
   "id": "32d2baa5",
   "metadata": {},
   "outputs": [],
   "source": [
    "class ContadorIterador:\n",
    "    def __init__(self, start = 0, step = 1, stop = None):\n",
    "        self.i = start\n",
    "        self.start = start\n",
    "        self.step = step\n",
    "        self.stop = stop\n",
    "    \n",
    "    \n",
    "    def __iter__(self):\n",
    "        return self\n",
    "    \n",
    "    def __next__(self):\n",
    "        if self.stop is not None and self.i >= self.stop:\n",
    "            raise StopIteration\n",
    "        \n",
    "        #Se requiere retornar el valor antes de incrementarlo\n",
    "        value = self.i\n",
    "        self.i += self.step\n",
    "        return value"
   ]
  },
  {
   "cell_type": "code",
   "execution_count": 25,
   "id": "c775e41f",
   "metadata": {},
   "outputs": [
    {
     "data": {
      "text/plain": [
       "[2.5, 3.0, 3.5, 4.0, 4.5]"
      ]
     },
     "execution_count": 25,
     "metadata": {},
     "output_type": "execute_result"
    }
   ],
   "source": [
    "list(ContadorIterador(start = 2.5, step = 0.5, stop = 5))"
   ]
  },
  {
   "cell_type": "markdown",
   "id": "8b454415",
   "metadata": {},
   "source": [
    "La distinción más importante entre el generador y el iterador, es que en vez de tener un simple objecto iterador, ahora tenemos una clase más desarrollada que actúa como un iterador, lo que significa que podemos extender sus capacidades más allá de los generadores regulares.\n",
    "\n",
    "Una de las cuantas limitaciones de generadores regulares es que no se puede usar `len()` ni se puede usar slices."
   ]
  },
  {
   "cell_type": "code",
   "execution_count": 26,
   "id": "c154ac90",
   "metadata": {},
   "outputs": [],
   "source": [
    "import itertools\n",
    "\n",
    "class IteradorAvanzado:\n",
    "    \n",
    "    def __init__(self, start = 0, step = 1, stop = None):\n",
    "        self.i = start\n",
    "        self.start = start\n",
    "        self.step = step\n",
    "        self.stop = stop\n",
    "    \n",
    "    \n",
    "    def __iter__(self):\n",
    "        return self\n",
    "    \n",
    "    \n",
    "    def __next__(self):\n",
    "        if self.stop is not None and self.i >= self.stop:\n",
    "            raise StopIteration\n",
    "            \n",
    "        value = self.i\n",
    "        self.i += self.step\n",
    "        return value\n",
    "    \n",
    "    \n",
    "    def __len__(self):\n",
    "        return int((self.stop - self.start) // self.step)\n",
    "\n",
    "    \n",
    "    def __contains__(self, key):\n",
    "        return self.start < key < self.stop\n",
    "    \n",
    "    \n",
    "    def __repr__(self):\n",
    "        return (\n",
    "            f\"{self.__class__.__name__}(start = {self.start}),\"\n",
    "            f\"step = {self.step}, stop = {self.stop}\"\n",
    "        )\n",
    "    \n",
    "    \n",
    "    def __getitem__(self, slice_):\n",
    "        return itertools.islice(self, slice_.start, slice_.stop, slice_.step)"
   ]
  },
  {
   "cell_type": "markdown",
   "id": "85ecd601",
   "metadata": {},
   "source": [
    "Ahora tenemos un iterador que soporta `len()`, `in` y `repr()`."
   ]
  },
  {
   "cell_type": "code",
   "execution_count": 27,
   "id": "342f6311",
   "metadata": {},
   "outputs": [],
   "source": [
    "count = IteradorAvanzado(start=3, step=0.5, stop=7)"
   ]
  },
  {
   "cell_type": "code",
   "execution_count": 28,
   "id": "d5f4c38f",
   "metadata": {},
   "outputs": [
    {
     "data": {
      "text/plain": [
       "IteradorAvanzado(start = 3),step = 0.5, stop = 7"
      ]
     },
     "execution_count": 28,
     "metadata": {},
     "output_type": "execute_result"
    }
   ],
   "source": [
    "count"
   ]
  },
  {
   "cell_type": "code",
   "execution_count": 29,
   "id": "af2d60d3",
   "metadata": {},
   "outputs": [
    {
     "data": {
      "text/plain": [
       "True"
      ]
     },
     "execution_count": 29,
     "metadata": {},
     "output_type": "execute_result"
    }
   ],
   "source": [
    "4 in count"
   ]
  },
  {
   "cell_type": "code",
   "execution_count": 30,
   "id": "1fe358df",
   "metadata": {},
   "outputs": [
    {
     "data": {
      "text/plain": [
       "False"
      ]
     },
     "execution_count": 30,
     "metadata": {},
     "output_type": "execute_result"
    }
   ],
   "source": [
    "1 in count"
   ]
  },
  {
   "cell_type": "code",
   "execution_count": 31,
   "id": "052460ab",
   "metadata": {},
   "outputs": [
    {
     "data": {
      "text/plain": [
       "8"
      ]
     },
     "execution_count": 31,
     "metadata": {},
     "output_type": "execute_result"
    }
   ],
   "source": [
    "len(count)"
   ]
  },
  {
   "cell_type": "code",
   "execution_count": 32,
   "id": "873a9990",
   "metadata": {},
   "outputs": [
    {
     "data": {
      "text/plain": [
       "<itertools.islice at 0x1f834e67950>"
      ]
     },
     "execution_count": 32,
     "metadata": {},
     "output_type": "execute_result"
    }
   ],
   "source": [
    "count[:3]"
   ]
  },
  {
   "cell_type": "code",
   "execution_count": 33,
   "id": "7a1e4597",
   "metadata": {},
   "outputs": [
    {
     "data": {
      "text/plain": [
       "[3, 3.5, 4.0]"
      ]
     },
     "execution_count": 33,
     "metadata": {},
     "output_type": "execute_result"
    }
   ],
   "source": [
    "list(count[:3])"
   ]
  },
  {
   "cell_type": "markdown",
   "id": "b87c5692",
   "metadata": {},
   "source": [
    "Antes de que empiece a programar generadores para su proyecto, revise primero el módulo `itertools` de Python. Contiene muchos generadores muy útiles que abarcan una amplia cantidad de casos."
   ]
  },
  {
   "cell_type": "markdown",
   "id": "adf0ae33",
   "metadata": {},
   "source": [
    "<a id='id8'></a>"
   ]
  },
  {
   "cell_type": "markdown",
   "id": "f335f6e4",
   "metadata": {},
   "source": [
    "## itertools.islice - Slicing de iterables"
   ]
  },
  {
   "cell_type": "markdown",
   "id": "29f0b2f1",
   "metadata": {},
   "source": [
    "Una limitación de los generadores es que no se puede usar slicing. Se puede \"resolver\" convirtiendo el generador en una lista antes de usar slicing, pero lo anterior no es posible con generadores infinitos, y lo anterior puede ser ineficiente si solo se necesitan un par de valores.\n",
    "\n",
    "Para resolver esto, la librería `itertools` tiene una función `islice()`, que puede hacer slicing en cualquier objeto iterable. La función soporta los parámetros start, stop, y step."
   ]
  },
  {
   "cell_type": "code",
   "execution_count": 34,
   "id": "eb030da6",
   "metadata": {},
   "outputs": [
    {
     "data": {
      "text/plain": [
       "[0, 1, 2, 3, 4]"
      ]
     },
     "execution_count": 34,
     "metadata": {},
     "output_type": "execute_result"
    }
   ],
   "source": [
    "import itertools\n",
    "\n",
    "lista = list(range(1000))\n",
    "lista[:5]"
   ]
  },
  {
   "cell_type": "code",
   "execution_count": 35,
   "id": "9f92850b",
   "metadata": {},
   "outputs": [
    {
     "data": {
      "text/plain": [
       "[0, 1, 2, 3, 4]"
      ]
     },
     "execution_count": 35,
     "metadata": {},
     "output_type": "execute_result"
    }
   ],
   "source": [
    "list(itertools.islice(lista,5))"
   ]
  },
  {
   "cell_type": "markdown",
   "id": "962d01fd",
   "metadata": {},
   "source": [
    "Si bien el output es idéntico, el funcionamiento interno de los métodos difiere notablemente. En algunos casos `itertools.islice()` puede ser más lento que simplemente usar [a:b], lo único que para usar esto, se requieren objetos que soporten slicing."
   ]
  },
  {
   "cell_type": "markdown",
   "id": "014c8118",
   "metadata": {},
   "source": [
    "<a id='id9'></a>"
   ]
  },
  {
   "cell_type": "markdown",
   "id": "e6d536bf",
   "metadata": {},
   "source": [
    "## itertools.chain - Concatenando múltiples iterables"
   ]
  },
  {
   "cell_type": "markdown",
   "id": "e6d3e476",
   "metadata": {},
   "source": [
    "Esto retorna cada item de cada iterable en orden secuencial."
   ]
  },
  {
   "cell_type": "code",
   "execution_count": 36,
   "id": "cd3fa7ad",
   "metadata": {},
   "outputs": [],
   "source": [
    "def chain(*iterables):\n",
    "    for iterable in iterables:\n",
    "        yield from iterable"
   ]
  },
  {
   "cell_type": "code",
   "execution_count": 37,
   "id": "8819640e",
   "metadata": {},
   "outputs": [
    {
     "data": {
      "text/plain": [
       "[1, 2, 3, 4, 5, 6, 'a', 'b', 'c']"
      ]
     },
     "execution_count": 37,
     "metadata": {},
     "output_type": "execute_result"
    }
   ],
   "source": [
    "a = 1,2,3\n",
    "b = [4,5,6]\n",
    "c = 'abc'\n",
    "\n",
    "list(chain(a,b,c))"
   ]
  },
  {
   "cell_type": "code",
   "execution_count": 38,
   "id": "de418be9",
   "metadata": {},
   "outputs": [
    {
     "ename": "TypeError",
     "evalue": "can only concatenate tuple (not \"list\") to tuple",
     "output_type": "error",
     "traceback": [
      "\u001b[1;31m---------------------------------------------------------------------------\u001b[0m",
      "\u001b[1;31mTypeError\u001b[0m                                 Traceback (most recent call last)",
      "Input \u001b[1;32mIn [38]\u001b[0m, in \u001b[0;36m<cell line: 1>\u001b[1;34m()\u001b[0m\n\u001b[1;32m----> 1\u001b[0m \u001b[43ma\u001b[49m\u001b[43m \u001b[49m\u001b[38;5;241;43m+\u001b[39;49m\u001b[43m \u001b[49m\u001b[43mb\u001b[49m \u001b[38;5;241m+\u001b[39m c\n",
      "\u001b[1;31mTypeError\u001b[0m: can only concatenate tuple (not \"list\") to tuple"
     ]
    }
   ],
   "source": [
    "a + b + c"
   ]
  },
  {
   "cell_type": "markdown",
   "id": "5ee72509",
   "metadata": {},
   "source": [
    "La expresión `yield from` \"retorna\" todos los items del iterable."
   ]
  },
  {
   "cell_type": "markdown",
   "id": "a529858d",
   "metadata": {},
   "source": [
    "<a id='id10'></a>"
   ]
  },
  {
   "cell_type": "markdown",
   "id": "01dda273",
   "metadata": {},
   "source": [
    "## itertools.tee - Usando un output múltiples ocasiones"
   ]
  },
  {
   "cell_type": "markdown",
   "id": "f7543f06",
   "metadata": {},
   "source": [
    "Este método retorna múltiples iteradores, permitiendo que puedan ser procesados de formas separadas.\n",
    "\n",
    "Por defecto, `tee` va a separar el generador en una tupla que contiene dos generadores distintos, lo que significa que tuple unpacking funciona de buena manera aquí."
   ]
  },
  {
   "cell_type": "code",
   "execution_count": 39,
   "id": "8a8e02b8",
   "metadata": {},
   "outputs": [],
   "source": [
    "import itertools\n",
    "\n",
    "def fizz_and_buzz():\n",
    "    yield 'fizz'\n",
    "    yield 'buzz'"
   ]
  },
  {
   "cell_type": "code",
   "execution_count": 40,
   "id": "c990b164",
   "metadata": {},
   "outputs": [],
   "source": [
    "a, b = itertools.tee(fizz_and_buzz())"
   ]
  },
  {
   "cell_type": "code",
   "execution_count": 41,
   "id": "131fdd45",
   "metadata": {},
   "outputs": [
    {
     "data": {
      "text/plain": [
       "'fizz'"
      ]
     },
     "execution_count": 41,
     "metadata": {},
     "output_type": "execute_result"
    }
   ],
   "source": [
    "next(a)"
   ]
  },
  {
   "cell_type": "code",
   "execution_count": 42,
   "id": "909a5e38",
   "metadata": {},
   "outputs": [
    {
     "data": {
      "text/plain": [
       "'buzz'"
      ]
     },
     "execution_count": 42,
     "metadata": {},
     "output_type": "execute_result"
    }
   ],
   "source": [
    "next(a)"
   ]
  },
  {
   "cell_type": "code",
   "execution_count": 43,
   "id": "f6097c64",
   "metadata": {},
   "outputs": [
    {
     "data": {
      "text/plain": [
       "'fizz'"
      ]
     },
     "execution_count": 43,
     "metadata": {},
     "output_type": "execute_result"
    }
   ],
   "source": [
    "next(b)"
   ]
  },
  {
   "cell_type": "code",
   "execution_count": 44,
   "id": "a6fee013",
   "metadata": {},
   "outputs": [
    {
     "data": {
      "text/plain": [
       "'buzz'"
      ]
     },
     "execution_count": 44,
     "metadata": {},
     "output_type": "execute_result"
    }
   ],
   "source": [
    "next(b)"
   ]
  },
  {
   "cell_type": "code",
   "execution_count": 45,
   "id": "fc08e6bc",
   "metadata": {},
   "outputs": [
    {
     "ename": "StopIteration",
     "evalue": "",
     "output_type": "error",
     "traceback": [
      "\u001b[1;31m---------------------------------------------------------------------------\u001b[0m",
      "\u001b[1;31mStopIteration\u001b[0m                             Traceback (most recent call last)",
      "Input \u001b[1;32mIn [45]\u001b[0m, in \u001b[0;36m<cell line: 1>\u001b[1;34m()\u001b[0m\n\u001b[1;32m----> 1\u001b[0m \u001b[38;5;28;43mnext\u001b[39;49m\u001b[43m(\u001b[49m\u001b[43mb\u001b[49m\u001b[43m)\u001b[49m\n",
      "\u001b[1;31mStopIteration\u001b[0m: "
     ]
    }
   ],
   "source": [
    "next(b)"
   ]
  },
  {
   "cell_type": "markdown",
   "id": "09f64cfa",
   "metadata": {},
   "source": [
    "<a id='id11'></a>"
   ]
  },
  {
   "cell_type": "markdown",
   "id": "f32ece38",
   "metadata": {},
   "source": [
    "## contextlib.contextmanager - Creando context managers"
   ]
  },
  {
   "cell_type": "markdown",
   "id": "3941dd8c",
   "metadata": {},
   "source": [
    "Si bien contextlib.contextmanager() es un generador, no fue pensado para ser un generador de resultados, pero usa `yield`, lo que lo convierte en un buen ejemplo de uso no estándar."
   ]
  },
  {
   "cell_type": "code",
   "execution_count": 46,
   "id": "2a941757",
   "metadata": {},
   "outputs": [],
   "source": [
    "import time\n",
    "import datetime\n",
    "import contextlib\n",
    "\n",
    "@contextlib.contextmanager\n",
    "def timer(name):\n",
    "    start_time = datetime.datetime.now()\n",
    "    yield\n",
    "    stop_time = datetime.datetime.now()\n",
    "    print('%s took %s' % (name, stop_time - start_time))\n",
    "    \n",
    "    \n",
    "    \n",
    "@contextlib.contextmanager\n",
    "def write_to_log(name):\n",
    "    with contextlib.ExitStack() as stack:\n",
    "        fh = stack.enter_context(open(f'{name}.txt', 'w'))\n",
    "        stack.enter_context(contextlib.redirect_stdout(fh))\n",
    "        stack.enter_context(timer(name))\n",
    "        yield\n",
    "        \n",
    "        \n",
    "@write_to_log('some_name')\n",
    "def some_function():\n",
    "    print('This will be written to `some_name.txt`')"
   ]
  },
  {
   "cell_type": "code",
   "execution_count": 47,
   "id": "70b0a733",
   "metadata": {},
   "outputs": [],
   "source": [
    "some_function()"
   ]
  },
  {
   "cell_type": "markdown",
   "id": "50c3227d",
   "metadata": {},
   "source": [
    "<a id='id12'></a>"
   ]
  },
  {
   "cell_type": "markdown",
   "id": "7a0ffe53",
   "metadata": {},
   "source": [
    "## Corrutinas"
   ]
  },
  {
   "cell_type": "markdown",
   "id": "55d2435e",
   "metadata": {},
   "source": [
    "La premisa básica is que las corrutinas permite la comunicación entre dos funciones, mientras cada una de ellas corre en un único thread.\n",
    "\n",
    "Con corrutinas la comunicación ocurre de dos maneras; la corrutina puede recibir valores, al igual que `yield` estos a la función que la llama.\n",
    "\n",
    "Para objetivos prácticos, se recomienda usar `asyncio` en vez de la syntaxís de las corrutinas. Para objetivos educacionesl, es útil entender como funcionan."
   ]
  },
  {
   "cell_type": "code",
   "execution_count": 48,
   "id": "fefae88a",
   "metadata": {},
   "outputs": [],
   "source": [
    "def generador():\n",
    "    valor = yield 'valor de generador'\n",
    "    print(f\"El generador recibió {valor}\")\n",
    "    yield f\"Valor previo: {valor!r}\""
   ]
  },
  {
   "cell_type": "code",
   "execution_count": 49,
   "id": "4a04736f",
   "metadata": {},
   "outputs": [
    {
     "name": "stdout",
     "output_type": "stream",
     "text": [
      "Resultado del generador: valor de generador\n"
     ]
    }
   ],
   "source": [
    "g = generador()\n",
    "print(f\"Resultado del generador: {next(g)}\")"
   ]
  },
  {
   "cell_type": "code",
   "execution_count": 50,
   "id": "8e36ccd0",
   "metadata": {},
   "outputs": [
    {
     "name": "stdout",
     "output_type": "stream",
     "text": [
      "El generador recibió Valor de quien llama\n",
      "Valor previo: 'Valor de quien llama'\n"
     ]
    }
   ],
   "source": [
    "print(g.send(\"Valor de quien llama\"))"
   ]
  },
  {
   "cell_type": "markdown",
   "id": "069016ff",
   "metadata": {},
   "source": [
    "La función se mantiene inactiva hasta que el método `send` es utilizado. El intercambio de valores solo puede suceder cuando el código corre `next(generator)` o `generator.send()`"
   ]
  },
  {
   "cell_type": "markdown",
   "id": "3b524f5c",
   "metadata": {},
   "source": [
    "<a id='id13'></a>"
   ]
  },
  {
   "cell_type": "markdown",
   "id": "cea611e4",
   "metadata": {},
   "source": [
    "## Priming"
   ]
  },
  {
   "cell_type": "markdown",
   "id": "8479115b",
   "metadata": {},
   "source": [
    "Antes de que un valor pueda ser enviado al generador, un resultado debe ser buscado usando `next()` o `send(None)` debe ser utilizado, para que así el código sea alcanzado."
   ]
  }
 ],
 "metadata": {
  "kernelspec": {
   "display_name": "Python 3 (ipykernel)",
   "language": "python",
   "name": "python3"
  },
  "language_info": {
   "codemirror_mode": {
    "name": "ipython",
    "version": 3
   },
   "file_extension": ".py",
   "mimetype": "text/x-python",
   "name": "python",
   "nbconvert_exporter": "python",
   "pygments_lexer": "ipython3",
   "version": "3.9.10"
  }
 },
 "nbformat": 4,
 "nbformat_minor": 5
}
