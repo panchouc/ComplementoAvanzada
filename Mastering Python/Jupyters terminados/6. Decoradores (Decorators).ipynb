{
 "cells": [
  {
   "cell_type": "markdown",
   "id": "b3723ed0",
   "metadata": {},
   "source": [
    "# Decoradores"
   ]
  },
  {
   "cell_type": "markdown",
   "id": "dfcfd054",
   "metadata": {},
   "source": [
    "## Tabla de contenidos\n",
    "***\n",
    "- [Decorando funciones](#id1)\n",
    "<a href='#id1'></a>\n",
    "\n",
    "- [La importancia de functools.wraps](#id2)\n",
    "<a href='#id2'></a>\n",
    "\n",
    "- [Concatenando o anidando decoradores](#id3)\n",
    "<a href='#id3'></a>\n",
    "\n",
    "\n",
    "\n",
    "\n",
    "***"
   ]
  },
  {
   "cell_type": "markdown",
   "id": "99af7b5a",
   "metadata": {},
   "source": [
    "Los decoradores son en esencia wrappers de funciones/classes que pueden ser utilizados para modificar el input, output, o incluso la clase/función en si misma antes de ejecutarla.\n",
    "\n",
    "Esto puede ser logrado teniendo otra función que llama a la función interior, o mediante herencia de ciertas classes llamadas **mixins**.\n",
    "\n",
    "Los decoradores brindan mucho \"poder de reutilizar\". Algunos decoradores muy útiles que ya vienen implementados en Python son \n",
    "`@property`, `@classmethod`, `@staticmethod`.\n",
    "\n",
    "Es importante hacer notar que \"envolver\" una función crea una nueva función y lo hace más difícil alcanzar el interior de la función y sus propiedades. Un ejemplo de esto es la funcionalidad `help(funcion)` que ya viene implementada en Python."
   ]
  },
  {
   "cell_type": "markdown",
   "id": "2d0225df",
   "metadata": {},
   "source": [
    "<a id='id1'></a>"
   ]
  },
  {
   "cell_type": "markdown",
   "id": "df461e7b",
   "metadata": {},
   "source": [
    "## Decorando funciones"
   ]
  },
  {
   "cell_type": "markdown",
   "id": "e44f33e9",
   "metadata": {},
   "source": [
    "Los decoradores son funciones o classes que \"envuelven\" otras funciones y/o classes."
   ]
  },
  {
   "cell_type": "code",
   "execution_count": 9,
   "id": "eb00a6c7",
   "metadata": {},
   "outputs": [
    {
     "name": "stdout",
     "output_type": "stream",
     "text": [
      "He ejecutado la función suma\n"
     ]
    }
   ],
   "source": [
    "def decorador(funcion):\n",
    "    print(f\"He ejecutado la función {funcion.__name__}\")\n",
    "    return funcion\n",
    "\n",
    "def suma(a, b):\n",
    "    return a + b\n",
    "\n",
    "suma = decorador(suma)"
   ]
  },
  {
   "cell_type": "markdown",
   "id": "9792e176",
   "metadata": {},
   "source": [
    "Para hacer la syntaxís más fácil de leer, Python permite decorar una función usando el operador `@` como atajo."
   ]
  },
  {
   "cell_type": "code",
   "execution_count": 11,
   "id": "08c5d6fc",
   "metadata": {},
   "outputs": [
    {
     "name": "stdout",
     "output_type": "stream",
     "text": [
      "He ejecutado la función sumas\n"
     ]
    }
   ],
   "source": [
    "@decorador\n",
    "def sumas(a,b):\n",
    "    return a + b"
   ]
  },
  {
   "cell_type": "markdown",
   "id": "acb665ba",
   "metadata": {},
   "source": [
    "Algunos usos de los decoradores incluye\n",
    "- Registrar una función/clase\n",
    "- Modificar el input de una función/clase\n",
    "- Modificar el output de una función/clase\n",
    "- Loggear instancias de clases o llamados de funciones"
   ]
  },
  {
   "cell_type": "code",
   "execution_count": 12,
   "id": "9707e57e",
   "metadata": {},
   "outputs": [],
   "source": [
    "import functools\n",
    "\n",
    "def decorador(funcion):\n",
    "    #Este decorador asegura que imitamos la función que \"envolvemos\"\n",
    "    @functools.wraps(funcion)\n",
    "    def _decorador(a , b):\n",
    "        #Pasa los argumentos modificados a la función\n",
    "        result = funcion(a, b + 5)\n",
    "        \n",
    "        #Printeamos el nombre\n",
    "        nombre = funcion.__name__\n",
    "        print(f\"{nombre}(a = {a}, b = {b}): {result}\")\n",
    "        \n",
    "        #Retornamos un resultado modificado\n",
    "        return result + 4\n",
    "    \n",
    "    return _decorador\n",
    "\n",
    "\n",
    "@decorador\n",
    "def funcion(a,b):\n",
    "    return a + b"
   ]
  },
  {
   "cell_type": "code",
   "execution_count": 13,
   "id": "408507b0",
   "metadata": {},
   "outputs": [
    {
     "name": "stdout",
     "output_type": "stream",
     "text": [
      "funcion(a = 1, b = 2): 8\n"
     ]
    },
    {
     "data": {
      "text/plain": [
       "12"
      ]
     },
     "execution_count": 13,
     "metadata": {},
     "output_type": "execute_result"
    }
   ],
   "source": [
    "funcion(1,2)"
   ]
  },
  {
   "cell_type": "markdown",
   "id": "004da8b0",
   "metadata": {},
   "source": [
    "Como se puede observar, podemos modificar, añadir y/o remover argumentos. Podemos modificar el valor que retornamos o incluso llamar a una función completamente distinta si así lo deseamos. Además, de que podemos printear en consola todo el comportamiento si es necesario, lo cual puede ser bastante útil para debuggear."
   ]
  },
  {
   "cell_type": "markdown",
   "id": "f3f28ff5",
   "metadata": {},
   "source": [
    "## Decoradores de funciones genéricas"
   ]
  },
  {
   "cell_type": "markdown",
   "id": "7df6df45",
   "metadata": {},
   "source": [
    "Si queremos hacer el generador más genérico, podemos reemplazar a, b con `*args` y `**kwargs**` para obtener los *arguments* y *keyword arguments*, respectivamente. Sin embargo, esto introduce un nuevo problema. O necesitamos asegurarnos de solo usar argumentos regulares o *keyword arguments* o el chequeo se puede volver increíblemente difícil."
   ]
  },
  {
   "cell_type": "code",
   "execution_count": 2,
   "id": "a62f71f5",
   "metadata": {},
   "outputs": [],
   "source": [
    "import functools\n",
    "\n",
    "def decorator(function):\n",
    "    @functools.wraps(function)\n",
    "    def _decorator(*args, **kwargs):\n",
    "        a, b = args\n",
    "        return function(a, b + 5)\n",
    "    \n",
    "    return _decorator\n",
    "\n",
    "@decorator\n",
    "def func(a, b):\n",
    "    return a + b"
   ]
  },
  {
   "cell_type": "code",
   "execution_count": 3,
   "id": "8c05a1af",
   "metadata": {},
   "outputs": [
    {
     "data": {
      "text/plain": [
       "8"
      ]
     },
     "execution_count": 3,
     "metadata": {},
     "output_type": "execute_result"
    }
   ],
   "source": [
    "func(1, 2)"
   ]
  },
  {
   "cell_type": "code",
   "execution_count": 4,
   "id": "fa91dc2f",
   "metadata": {},
   "outputs": [
    {
     "ename": "ValueError",
     "evalue": "not enough values to unpack (expected 2, got 0)",
     "output_type": "error",
     "traceback": [
      "\u001b[1;31m---------------------------------------------------------------------------\u001b[0m",
      "\u001b[1;31mValueError\u001b[0m                                Traceback (most recent call last)",
      "Input \u001b[1;32mIn [4]\u001b[0m, in \u001b[0;36m<cell line: 1>\u001b[1;34m()\u001b[0m\n\u001b[1;32m----> 1\u001b[0m \u001b[43mfunc\u001b[49m\u001b[43m(\u001b[49m\u001b[43ma\u001b[49m\u001b[43m \u001b[49m\u001b[38;5;241;43m=\u001b[39;49m\u001b[43m \u001b[49m\u001b[38;5;241;43m1\u001b[39;49m\u001b[43m,\u001b[49m\u001b[43m \u001b[49m\u001b[43mb\u001b[49m\u001b[43m \u001b[49m\u001b[38;5;241;43m=\u001b[39;49m\u001b[43m \u001b[49m\u001b[38;5;241;43m2\u001b[39;49m\u001b[43m)\u001b[49m\n",
      "Input \u001b[1;32mIn [2]\u001b[0m, in \u001b[0;36mdecorator.<locals>._decorator\u001b[1;34m(*args, **kwargs)\u001b[0m\n\u001b[0;32m      4\u001b[0m \u001b[38;5;129m@functools\u001b[39m\u001b[38;5;241m.\u001b[39mwraps(function)\n\u001b[0;32m      5\u001b[0m \u001b[38;5;28;01mdef\u001b[39;00m \u001b[38;5;21m_decorator\u001b[39m(\u001b[38;5;241m*\u001b[39margs, \u001b[38;5;241m*\u001b[39m\u001b[38;5;241m*\u001b[39mkwargs):\n\u001b[1;32m----> 6\u001b[0m     a, b \u001b[38;5;241m=\u001b[39m args\n\u001b[0;32m      7\u001b[0m     \u001b[38;5;28;01mreturn\u001b[39;00m function(a, b \u001b[38;5;241m+\u001b[39m \u001b[38;5;241m5\u001b[39m)\n",
      "\u001b[1;31mValueError\u001b[0m: not enough values to unpack (expected 2, got 0)"
     ]
    }
   ],
   "source": [
    "func(a = 1, b = 2)"
   ]
  },
  {
   "cell_type": "markdown",
   "id": "9d3ace8a",
   "metadata": {},
   "source": [
    "Como se puede observar, en este caso los *keyword arguments* están rotos. Para trabajar alrededor de esto, tenemos distintos métodos. Podemos cambiar los argumentos para argumentos únicamente posicionales o *keyword-only arguments*."
   ]
  },
  {
   "cell_type": "markdown",
   "id": "4bd34a85",
   "metadata": {},
   "source": [
    "## La importancia de functools.wraps"
   ]
  },
  {
   "cell_type": "markdown",
   "id": "7df1e33c",
   "metadata": {},
   "source": [
    "Cuando sea que estés creando un decorador, siempre asegúrate de añadir `functools.wraps` para \"envolver\" la función interior. Sin \"envolverla\", vas a perder todas las propiedades originales de la función, lo que puede ocasionar un comportamiento confuso e inesperado."
   ]
  },
  {
   "cell_type": "code",
   "execution_count": 14,
   "id": "a471faac",
   "metadata": {},
   "outputs": [],
   "source": [
    "import functools\n",
    "\n",
    "def decorador(funcion):\n",
    "    @functools.wraps(funcion)\n",
    "    def _decorador(*args, **kwargs):\n",
    "        return funcion(*args, **kwargs)\n",
    "    \n",
    "    return _decorador\n",
    "\n",
    "\n",
    "\n",
    "@decorador\n",
    "def suma(a, b):\n",
    "    \"\"\"Se suman a y b\"\"\"\n",
    "    return a + b"
   ]
  },
  {
   "cell_type": "code",
   "execution_count": 15,
   "id": "b3684c59",
   "metadata": {},
   "outputs": [
    {
     "name": "stdout",
     "output_type": "stream",
     "text": [
      "Help on function suma in module __main__:\n",
      "\n",
      "suma(a, b)\n",
      "    Se suman a y b\n",
      "\n"
     ]
    }
   ],
   "source": [
    "help(suma)"
   ]
  },
  {
   "cell_type": "code",
   "execution_count": 17,
   "id": "85ddff91",
   "metadata": {},
   "outputs": [
    {
     "data": {
      "text/plain": [
       "'suma'"
      ]
     },
     "execution_count": 17,
     "metadata": {},
     "output_type": "execute_result"
    }
   ],
   "source": [
    "suma.__name__"
   ]
  },
  {
   "cell_type": "markdown",
   "id": "1ad31c7f",
   "metadata": {},
   "source": [
    "El funcionamiento de `functools.wraps` es para nada mágico; copia y actualiza muchos atributos. Específicamente, los siguientes atributos son copiados:\n",
    "\n",
    "- `__doc__`\n",
    "- `__name__`\n",
    "- `__module__`\n",
    "- `__annotations__`\n",
    "- `__qualname__`"
   ]
  },
  {
   "cell_type": "markdown",
   "id": "a9bf74c3",
   "metadata": {},
   "source": [
    "<a id='id3'></a>"
   ]
  },
  {
   "cell_type": "markdown",
   "id": "0478bf78",
   "metadata": {},
   "source": [
    "## Concatenando o anidando decoradores"
   ]
  },
  {
   "cell_type": "markdown",
   "id": "4ad6ef34",
   "metadata": {},
   "source": [
    "Dado que estamos \"envolviendo\" funciones, no hay nada que nos impida el añadir múltiples decoradores. Los decoradores son inicializados partiendo desde adentro, pero son llamados partiendo por afuera."
   ]
  },
  {
   "cell_type": "code",
   "execution_count": 18,
   "id": "09759585",
   "metadata": {},
   "outputs": [],
   "source": [
    "import functools\n",
    "\n",
    "def track(funcion = None, label = None):\n",
    "    #Truco para añadir un argumento opcional a nuestro decorador\n",
    "    if label and not funcion:\n",
    "        return functools.partial(track, label = label)\n",
    "    \n",
    "    print(f\"Inicializando {label}\")\n",
    "    \n",
    "    @functools.wraps(funcion)\n",
    "    def _track(*args, **kwargs):\n",
    "        print(f\"Llamando {label}\")\n",
    "        funcion(*args, **kwargs)\n",
    "        print(f\"Se llamó {label}\")\n",
    "    \n",
    "    return _track"
   ]
  },
  {
   "cell_type": "code",
   "execution_count": 19,
   "id": "85928819",
   "metadata": {},
   "outputs": [
    {
     "name": "stdout",
     "output_type": "stream",
     "text": [
      "Inicializando interior\n",
      "Inicializando exterior\n"
     ]
    }
   ],
   "source": [
    "@track(label = 'exterior')\n",
    "@track(label = \"interior\")\n",
    "def funcion():\n",
    "    print(\"Se generó un llamado de la función\")"
   ]
  },
  {
   "cell_type": "code",
   "execution_count": 20,
   "id": "af4b8dd0",
   "metadata": {},
   "outputs": [
    {
     "name": "stdout",
     "output_type": "stream",
     "text": [
      "Llamando exterior\n",
      "Llamando interior\n",
      "Se generó un llamado de la función\n",
      "Se llamó interior\n",
      "Se llamó exterior\n"
     ]
    }
   ],
   "source": [
    "funcion()"
   ]
  },
  {
   "cell_type": "markdown",
   "id": "3fd5ee1a",
   "metadata": {},
   "source": [
    "Como se puede observar los decoradores son llamados desde el exterior al interior antes de correr la función y al correrla son llamados desde el interior al exterior cuando se procesan los resultados."
   ]
  },
  {
   "cell_type": "markdown",
   "id": "2171f282",
   "metadata": {},
   "source": [
    "## Registrando funciones usando decoradores"
   ]
  },
  {
   "cell_type": "markdown",
   "id": "c1ca3be1",
   "metadata": {},
   "source": [
    "A continuación veremos como usar decoradores para registrar una función que puede ser útil para registrar plugins, callbacks y más. Esto puede ser muy útil en una interfaz de usuario (GUI). Creando un sistema que puede registrar callbacks, podemos hacer que un botón emita una señal de cliqueado y conecte funciones a ese evento."
   ]
  },
  {
   "cell_type": "code",
   "execution_count": 5,
   "id": "ee901320",
   "metadata": {},
   "outputs": [],
   "source": [
    "import collections\n",
    "\n",
    "class EventRegistry:\n",
    "    def __init__(self):\n",
    "        self.registry = collections.defaultdict(list)\n",
    "    \n",
    "    \n",
    "    def on(self, *events):\n",
    "        def _on(function):\n",
    "            for event in events:\n",
    "                self.registry[event].append(function)\n",
    "            \n",
    "            return function\n",
    "        \n",
    "        return _on\n",
    "    \n",
    "    \n",
    "    def fire(self, event, *args, **kwargs):\n",
    "        for function in self.registry[event]:\n",
    "            function(*args, **kwargs)"
   ]
  },
  {
   "cell_type": "code",
   "execution_count": 6,
   "id": "f5684c91",
   "metadata": {},
   "outputs": [],
   "source": [
    "events = EventRegistry()"
   ]
  },
  {
   "cell_type": "code",
   "execution_count": 7,
   "id": "faf394ca",
   "metadata": {},
   "outputs": [],
   "source": [
    "@events.on('success', 'error')\n",
    "def teardown(value):\n",
    "    print(f'Tearing down got: {value}')\n",
    "\n",
    "@events.on('success')\n",
    "def success(value):\n",
    "    print(f'Successfully executed: {value}')"
   ]
  },
  {
   "cell_type": "code",
   "execution_count": 8,
   "id": "62d81e93",
   "metadata": {},
   "outputs": [
    {
     "name": "stdout",
     "output_type": "stream",
     "text": [
      "Tearing down got: Everything is fine\n",
      "Successfully executed: Everything is fine\n"
     ]
    }
   ],
   "source": [
    "events.fire('success', 'Everything is fine')"
   ]
  },
  {
   "cell_type": "code",
   "execution_count": 30,
   "id": "d1d750c4",
   "metadata": {},
   "outputs": [
    {
     "name": "stdout",
     "output_type": "stream",
     "text": [
      "Tearing down got: Oops, some error here\n",
      "Tearing down got: Oops, some error here\n"
     ]
    }
   ],
   "source": [
    "events.fire('error', 'Oops, some error here')"
   ]
  },
  {
   "cell_type": "code",
   "execution_count": 9,
   "id": "cb7881f8",
   "metadata": {},
   "outputs": [],
   "source": [
    "events.fire('non-existing', 'nothing to see here')"
   ]
  },
  {
   "cell_type": "markdown",
   "id": "6c5efad0",
   "metadata": {},
   "source": [
    "Si bien este ejemplo es bastante básico, este patrón puede ser aplicado en muchos escenarios: manejo de eventos para un web server, permitir que plugins se registren a si mismos, permitir que plugins se registren en una aplicación, entre otros."
   ]
  },
  {
   "cell_type": "markdown",
   "id": "93bbc450",
   "metadata": {},
   "source": [
    "## Memorización usando decoradores"
   ]
  },
  {
   "cell_type": "markdown",
   "id": "7d7a8ec2",
   "metadata": {},
   "source": [
    "La memorización es un truco para recordar los resultados y así hacer correr el código de forma mucho más rápida en escenarios específicos. El truco es guardar un mapeo del input y del output esperado, así solo se tiene que calcular el valor una única vez. Un ejemplo de esto son los números de Fibonacci."
   ]
  },
  {
   "cell_type": "code",
   "execution_count": 1,
   "id": "d67d4282",
   "metadata": {},
   "outputs": [],
   "source": [
    "import functools\n",
    "\n",
    "def memoize(function):\n",
    "    #Se guarda el caché como un atributo de la función\n",
    "    #Así podemos aplicar el decorador a múltiples funciones sin\n",
    "    #compartir el caché\n",
    "    \n",
    "    function.cache = dict()\n",
    "    \n",
    "    @functools.wraps(function)\n",
    "    def _memoize(*args):\n",
    "        #Si el caché no está disponible, se llamara a la función\n",
    "        #Notar que todos los argumentos deben ser hasheables\n",
    "        \n",
    "        if args not in function.cache:\n",
    "            function.cache[args] = function(*args)\n",
    "            \n",
    "        return function.cache[args]\n",
    "    \n",
    "    \n",
    "    return _memoize"
   ]
  },
  {
   "cell_type": "code",
   "execution_count": 3,
   "id": "7af8113e",
   "metadata": {},
   "outputs": [
    {
     "name": "stdout",
     "output_type": "stream",
     "text": [
      "fibonacci 1, 1\n",
      "fibonacci 2, 1\n",
      "fibonacci 3, 2\n",
      "fibonacci 4, 3\n",
      "fibonacci 5, 5\n",
      "fibonacci 6, 8\n"
     ]
    }
   ],
   "source": [
    "@memoize\n",
    "def fibonacci(n):\n",
    "    if n < 2:\n",
    "        return n\n",
    "    \n",
    "    else:\n",
    "        return fibonacci(n - 1) + fibonacci(n - 2) \n",
    "    \n",
    "for i in range(1, 7):\n",
    "    print(f\"fibonacci {i}, {fibonacci(i)}\")"
   ]
  },
  {
   "cell_type": "code",
   "execution_count": 4,
   "id": "8a68a91b",
   "metadata": {},
   "outputs": [
    {
     "data": {
      "text/plain": [
       "{(1,): 1, (0,): 0, (2,): 1, (3,): 2, (4,): 3, (5,): 5, (6,): 8}"
      ]
     },
     "execution_count": 4,
     "metadata": {},
     "output_type": "execute_result"
    }
   ],
   "source": [
    "fibonacci.__wrapped__.cache"
   ]
  },
  {
   "cell_type": "markdown",
   "id": "f9e7c405",
   "metadata": {},
   "source": [
    "Implementar la función memoize por su propia cuenta es generalmente no muy útil, dado que Python introdujo `lru_cache`. Lo que hace es similar a la función que acabamos de implementar, pero es más avanzado. Mantiene un tamaño fijo de caché para guardar memoria, y guarda estadísticas así se puede chequear si el tamaño debe ser extendido.\n",
    "\n",
    "Si solo gusta observar las estadísticas y no hay necesidad de guardar cosas en el caché, se puede setear el `maxsize` a 0. Con un tamaño fijo, `lru_cache` va a mantener solo los elementos a los cuales se ha accedido recientemente y va a desechar los más antiguos una vez se llena.En la mayoría de los casos se sugiere usar `lru_cache` en vez de el propio decorador."
   ]
  },
  {
   "cell_type": "code",
   "execution_count": 10,
   "id": "2901cb9d",
   "metadata": {},
   "outputs": [],
   "source": [
    "import functools\n",
    "\n",
    "#Se crea un decorador que cuenta las veces que es llamado\n",
    "def counter(function):\n",
    "    function.calls = 0\n",
    "    @functools.wraps(function)\n",
    "    def _counter(*args, **kwargs):\n",
    "        function.calls += 1\n",
    "        return function(*args, **kwargs)\n",
    "    \n",
    "    return _counter\n",
    "\n",
    "#Se crea un caché LRU de tamaño 3\n",
    "@functools.lru_cache(maxsize=3)\n",
    "@counter\n",
    "def fibonacci(n):\n",
    "    if n < 2:\n",
    "        return n\n",
    "    else:\n",
    "        return fibonacci(n - 1) + fibonacci(n - 2)"
   ]
  },
  {
   "cell_type": "code",
   "execution_count": 11,
   "id": "d6011505",
   "metadata": {},
   "outputs": [
    {
     "data": {
      "text/plain": [
       "354224848179261915075"
      ]
     },
     "execution_count": 11,
     "metadata": {},
     "output_type": "execute_result"
    }
   ],
   "source": [
    "fibonacci(100)"
   ]
  },
  {
   "cell_type": "code",
   "execution_count": 12,
   "id": "ce2e169a",
   "metadata": {},
   "outputs": [
    {
     "data": {
      "text/plain": [
       "CacheInfo(hits=98, misses=101, maxsize=3, currsize=3)"
      ]
     },
     "execution_count": 12,
     "metadata": {},
     "output_type": "execute_result"
    }
   ],
   "source": [
    "fibonacci.cache_info()"
   ]
  },
  {
   "cell_type": "code",
   "execution_count": 13,
   "id": "b8d40aa3",
   "metadata": {},
   "outputs": [
    {
     "data": {
      "text/plain": [
       "101"
      ]
     },
     "execution_count": 13,
     "metadata": {},
     "output_type": "execute_result"
    }
   ],
   "source": [
    "fibonacci.__wrapped__.__wrapped__.calls"
   ]
  },
  {
   "cell_type": "markdown",
   "id": "3f52c039",
   "metadata": {},
   "source": [
    "Aquí el orden de ejecución es\n",
    "- functools.lru_cache\n",
    "- counter\n",
    "- fibonacci\n",
    "y el orden de retorno de valores es en el sentido contrario."
   ]
  },
  {
   "cell_type": "markdown",
   "id": "4a0d0c27",
   "metadata": {},
   "source": [
    "## Decoradores con argumentos (opcionales)"
   ]
  },
  {
   "cell_type": "markdown",
   "id": "ede397a9",
   "metadata": {},
   "source": [
    "Los decoradores pueden aceptar argumentos, pues también son funciones, pero esto añade una \"capa\" extra al decorador. \n",
    "\n",
    "La única advertencia es que el argumento opcional no sea calleable. Esto significa que necesitamos chequear los argumentos del decorador para ver si son el método decorado o un argumento regular. Si el argumento es calleable, se necesitará pasarlo como una keyword."
   ]
  },
  {
   "cell_type": "code",
   "execution_count": 15,
   "id": "c112b2fc",
   "metadata": {},
   "outputs": [],
   "source": [
    "import functools\n",
    "\n",
    "def add(function = None, add_n = 0):\n",
    "    #Si la función no es calleable, es probablemente add_n\n",
    "    if not callable(function):\n",
    "        #Testeamos de que no pasamos None como add_n\n",
    "        \n",
    "        if function is not None:\n",
    "            add_n = function\n",
    "        \n",
    "        return functools.partial(add, add_n = add_n)\n",
    "    \n",
    "    @functools.wraps(function)\n",
    "    def _add(n):\n",
    "        return function(n) + add_n\n",
    "    \n",
    "    return _add"
   ]
  },
  {
   "cell_type": "code",
   "execution_count": 17,
   "id": "24652fc6",
   "metadata": {},
   "outputs": [
    {
     "data": {
      "text/plain": [
       "5"
      ]
     },
     "execution_count": 17,
     "metadata": {},
     "output_type": "execute_result"
    }
   ],
   "source": [
    "@add\n",
    "def add_zero(n):\n",
    "    return n\n",
    "\n",
    "add_zero(5)"
   ]
  },
  {
   "cell_type": "code",
   "execution_count": 20,
   "id": "b6bbfc89",
   "metadata": {},
   "outputs": [
    {
     "data": {
      "text/plain": [
       "6"
      ]
     },
     "execution_count": 20,
     "metadata": {},
     "output_type": "execute_result"
    }
   ],
   "source": [
    "@add(1)\n",
    "def add_one(n):\n",
    "    return n\n",
    "\n",
    "add_one(5)"
   ]
  },
  {
   "cell_type": "markdown",
   "id": "badaf75e",
   "metadata": {},
   "source": [
    "Este decorador usa `callable()` para testear si el argumento es calleable, como una función."
   ]
  },
  {
   "cell_type": "markdown",
   "id": "82804a6f",
   "metadata": {},
   "source": [
    "## Creando decoradores usando classes\n",
    "\n",
    "De forma similar como creamos decoradores como funciones, podemos crear decoradores usando classes. Esto lo hace más conveniente para guardar datos, herencia y reusar de forma mucho más conveniente que con funciones."
   ]
  },
  {
   "cell_type": "code",
   "execution_count": 21,
   "id": "a6eed9b9",
   "metadata": {},
   "outputs": [],
   "source": [
    "import functools\n",
    "\n",
    "class Debug(object):\n",
    "    def __init__(self, function):\n",
    "        self.function = function\n",
    "        #functools.wraps para classes\n",
    "        functools.update_wrapper(self, function)\n",
    "        \n",
    "    \n",
    "    def __call__(self, *args, **kwargs):\n",
    "        output = self.function(*args, **kwargs)\n",
    "        name = self.function.__name__\n",
    "        print(f\"{name}({args!r}, {kwargs!r}): {output!r}\")\n",
    "        return output"
   ]
  },
  {
   "cell_type": "code",
   "execution_count": 25,
   "id": "953fd9b6",
   "metadata": {},
   "outputs": [
    {
     "name": "stdout",
     "output_type": "stream",
     "text": [
      "add((), {'a': 4, 'b': 2}): 6\n"
     ]
    }
   ],
   "source": [
    "@Debug\n",
    "def add(a, b =0):\n",
    "    return a + b\n",
    "\n",
    "output = add(a=4, b=2)"
   ]
  },
  {
   "cell_type": "markdown",
   "id": "8142bb78",
   "metadata": {},
   "source": [
    "La única diferencia entre funciones y classes es que `functools.wraps` es reemplazado por `functools.update_wrapper` en el método `__init__`"
   ]
  },
  {
   "cell_type": "markdown",
   "id": "ac7dc4f4",
   "metadata": {},
   "source": [
    "## Decorando funciones de classes"
   ]
  },
  {
   "cell_type": "markdown",
   "id": "e3af4924",
   "metadata": {},
   "source": [
    "Decorar funciones de classes es similar a funciones regulares, pero se debe ser consciente del primer argumento, `self` - la instancia de clase. Algunos de los decoradores más usados en classes son `classmethod`, `staticmethod` y `property`.\n",
    "\n",
    "## Saltándose la instancia - classmethod y staticmethod\n",
    "La principal diferencia entre `classmethod` y `staticmethod`, es que `classmethod` pasa un objeto de clase en vez de una instancia de clase (self), y `staticmethod` se salta ambos, la clase y la instancia completamente.\n",
    "\n",
    "Nota: `locals()` en Python es un *built-in* que muestra todas las variables locales. De forma similar, `globals()` es una función que también está disponible."
   ]
  },
  {
   "cell_type": "code",
   "execution_count": 29,
   "id": "986fa5c9",
   "metadata": {},
   "outputs": [],
   "source": [
    "import pprint\n",
    "\n",
    "class Spam(object):\n",
    "    def some_instancemethod(self, *args, **kwargs):\n",
    "        pprint.pprint(locals(), width=60)\n",
    "        \n",
    "    \n",
    "    @classmethod\n",
    "    def some_classmethod(cls, *args, **kwargs):\n",
    "        pprint.pprint(locals(), width=60)\n",
    "        \n",
    "    \n",
    "    @staticmethod\n",
    "    def some_staticmethod(*args, **kwargs):\n",
    "        pprint.pprint(locals(), width=60)"
   ]
  },
  {
   "cell_type": "code",
   "execution_count": 31,
   "id": "f2b3a54f",
   "metadata": {},
   "outputs": [],
   "source": [
    "spam = Spam()"
   ]
  },
  {
   "cell_type": "code",
   "execution_count": 32,
   "id": "fc24ab61",
   "metadata": {},
   "outputs": [
    {
     "name": "stdout",
     "output_type": "stream",
     "text": [
      "{'args': (1, 2),\n",
      " 'kwargs': {'a': 3, 'b': 4},\n",
      " 'self': <__main__.Spam object at 0x00000171AA8CD220>}\n"
     ]
    }
   ],
   "source": [
    "spam.some_instancemethod(1,2, a=3, b=4)"
   ]
  },
  {
   "cell_type": "code",
   "execution_count": 34,
   "id": "04050891",
   "metadata": {},
   "outputs": [
    {
     "ename": "TypeError",
     "evalue": "some_instancemethod() missing 1 required positional argument: 'self'",
     "output_type": "error",
     "traceback": [
      "\u001b[1;31m---------------------------------------------------------------------------\u001b[0m",
      "\u001b[1;31mTypeError\u001b[0m                                 Traceback (most recent call last)",
      "Input \u001b[1;32mIn [34]\u001b[0m, in \u001b[0;36m<cell line: 1>\u001b[1;34m()\u001b[0m\n\u001b[1;32m----> 1\u001b[0m \u001b[43mSpam\u001b[49m\u001b[38;5;241;43m.\u001b[39;49m\u001b[43msome_instancemethod\u001b[49m\u001b[43m(\u001b[49m\u001b[43m)\u001b[49m\n",
      "\u001b[1;31mTypeError\u001b[0m: some_instancemethod() missing 1 required positional argument: 'self'"
     ]
    }
   ],
   "source": [
    "Spam.some_instancemethod()"
   ]
  },
  {
   "cell_type": "code",
   "execution_count": 35,
   "id": "debe5dd3",
   "metadata": {},
   "outputs": [
    {
     "name": "stdout",
     "output_type": "stream",
     "text": [
      "{'args': (2,), 'kwargs': {'a': 3, 'b': 4}, 'self': 1}\n"
     ]
    }
   ],
   "source": [
    "#Si añadimos parametros, nuestro primer argumento es usado como argumento\n",
    "#Esto puede ocasionar errores extrañox e inesperados\n",
    "Spam.some_instancemethod(1,2, a=3, b=4)"
   ]
  },
  {
   "cell_type": "code",
   "execution_count": 36,
   "id": "20440b87",
   "metadata": {},
   "outputs": [
    {
     "name": "stdout",
     "output_type": "stream",
     "text": [
      "{'args': (1, 2),\n",
      " 'cls': <class '__main__.Spam'>,\n",
      " 'kwargs': {'a': 3, 'b': 4}}\n"
     ]
    }
   ],
   "source": [
    "spam.some_classmethod(1,2, a=3, b=4)"
   ]
  },
  {
   "cell_type": "code",
   "execution_count": 37,
   "id": "9ba20aed",
   "metadata": {},
   "outputs": [
    {
     "name": "stdout",
     "output_type": "stream",
     "text": [
      "{'args': (1, 2),\n",
      " 'cls': <class '__main__.Spam'>,\n",
      " 'kwargs': {'a': 3, 'b': 4}}\n"
     ]
    }
   ],
   "source": [
    "Spam.some_classmethod(1,2, a=3, b=4)"
   ]
  },
  {
   "cell_type": "markdown",
   "id": "ece28eba",
   "metadata": {},
   "source": [
    "La principal diferencia es que aquí, en vez de `self`, tenemos `cls`, el cual contiene la class Spam en vez de la instancia spam."
   ]
  },
  {
   "cell_type": "code",
   "execution_count": 38,
   "id": "fe432486",
   "metadata": {},
   "outputs": [
    {
     "name": "stdout",
     "output_type": "stream",
     "text": [
      "{'args': (1, 2), 'kwargs': {'a': 3, 'b': 4}}\n"
     ]
    }
   ],
   "source": [
    "spam.some_staticmethod(1, 2, a=3, b=4)"
   ]
  },
  {
   "cell_type": "code",
   "execution_count": 40,
   "id": "f296d976",
   "metadata": {},
   "outputs": [
    {
     "name": "stdout",
     "output_type": "stream",
     "text": [
      "{'args': (), 'kwargs': {}}\n"
     ]
    }
   ],
   "source": [
    "Spam.some_staticmethod()"
   ]
  },
  {
   "cell_type": "code",
   "execution_count": 41,
   "id": "a3d4b79e",
   "metadata": {},
   "outputs": [
    {
     "name": "stdout",
     "output_type": "stream",
     "text": [
      "{'args': (1, 2), 'kwargs': {'a': 3, 'b': 4}}\n"
     ]
    }
   ],
   "source": [
    "Spam.some_staticmethod(1, 2, a=3, b=4)"
   ]
  },
  {
   "cell_type": "markdown",
   "id": "52b46acf",
   "metadata": {},
   "source": [
    "\"Descriptors\" pueden ser usados para modificar el comportamiento de los atributos. Esto significa que si un descriptor es usado como el valor de un atributo, se puede modificar que valor está siendo seteado, obtenido, o deleteado cuando estas operaciones son llamadas en el atributo."
   ]
  },
  {
   "cell_type": "code",
   "execution_count": 43,
   "id": "3e70b397",
   "metadata": {},
   "outputs": [],
   "source": [
    "class Spam:\n",
    "    def __init__(self, spam=1):\n",
    "        self.spam = spam\n",
    "        \n",
    "    \n",
    "    def __get__(self, instance, cls):\n",
    "        return self.spam + instance.eggs\n",
    "    \n",
    "    \n",
    "    def __set__(self, instance, value):\n",
    "        instance.eggs = value - self.spam\n",
    "        \n",
    "        \n",
    "class Sandwich:\n",
    "    spam = Spam(5)\n",
    "    \n",
    "    def __init__(self, eggs):\n",
    "        self.eggs = eggs"
   ]
  },
  {
   "cell_type": "code",
   "execution_count": 44,
   "id": "87be0992",
   "metadata": {},
   "outputs": [],
   "source": [
    "sandwich = Sandwich(1)"
   ]
  },
  {
   "cell_type": "code",
   "execution_count": 45,
   "id": "c9fa6742",
   "metadata": {},
   "outputs": [
    {
     "data": {
      "text/plain": [
       "1"
      ]
     },
     "execution_count": 45,
     "metadata": {},
     "output_type": "execute_result"
    }
   ],
   "source": [
    "sandwich.eggs"
   ]
  },
  {
   "cell_type": "code",
   "execution_count": 46,
   "id": "893f7c76",
   "metadata": {},
   "outputs": [
    {
     "data": {
      "text/plain": [
       "6"
      ]
     },
     "execution_count": 46,
     "metadata": {},
     "output_type": "execute_result"
    }
   ],
   "source": [
    "sandwich.spam"
   ]
  },
  {
   "cell_type": "code",
   "execution_count": 47,
   "id": "5c6141ac",
   "metadata": {},
   "outputs": [
    {
     "data": {
      "text/plain": [
       "15"
      ]
     },
     "execution_count": 47,
     "metadata": {},
     "output_type": "execute_result"
    }
   ],
   "source": [
    "sandwich.eggs = 10\n",
    "sandwich.spam"
   ]
  },
  {
   "cell_type": "markdown",
   "id": "2df55f43",
   "metadata": {},
   "source": [
    "Cuando seteamos u obtenemos valores de `sandwich.spam`, llama a `__get__` o `__set__` en Spam."
   ]
  },
  {
   "cell_type": "markdown",
   "id": "c0c5ba55",
   "metadata": {},
   "source": [
    "## Properties - uso inteligente de descriptors"
   ]
  },
  {
   "cell_type": "markdown",
   "id": "127cb554",
   "metadata": {},
   "source": [
    "El decorador `property` es probablemente uno de los decoradores más utilizados en Python. Permite añadir getters/setters a propiedades existentes de una instancia, permitiendo que se puedan añadir validadores y modificar los valores antes de setearlos en las propiedades de la instancia.\n",
    "\n",
    "Este decorador, puede ser usado como un asignador y decorador."
   ]
  },
  {
   "cell_type": "code",
   "execution_count": 5,
   "id": "8c1be672",
   "metadata": {},
   "outputs": [],
   "source": [
    "import functools\n",
    "\n",
    "class Precios:\n",
    "    \n",
    "    def __init__(self, precio):\n",
    "        self._precio = precio\n",
    "        self._precio_maximo = 100\n",
    "    \n",
    "    @property\n",
    "    def precio(self):\n",
    "        return self._precio\n",
    "    \n",
    "    @precio.setter\n",
    "    def precio(self, nuevo_precio):\n",
    "        \n",
    "        if nuevo_precio < self._precio_maximo:\n",
    "            print(f\"El valor ha sido modificado a {nuevo_precio}\")\n",
    "            self._precio = nuevo_precio\n",
    "            \n",
    "        else:\n",
    "            print(f\"Usted no puede asignar {nuevo_precio}, ya que supera el precio máximo\")\n",
    "            \n",
    "    @precio.deleter\n",
    "    def precio(self):\n",
    "        print(f\"Se ha eliminado el atributo self._precio\")\n",
    "        del self._precio"
   ]
  },
  {
   "cell_type": "code",
   "execution_count": 6,
   "id": "9c058589",
   "metadata": {},
   "outputs": [],
   "source": [
    "precio = Precios(5)"
   ]
  },
  {
   "cell_type": "code",
   "execution_count": 7,
   "id": "40b43b23",
   "metadata": {},
   "outputs": [
    {
     "name": "stdout",
     "output_type": "stream",
     "text": [
      "El valor ha sido modificado a 3\n"
     ]
    }
   ],
   "source": [
    "precio.precio = 3"
   ]
  },
  {
   "cell_type": "code",
   "execution_count": 8,
   "id": "abbd30b7",
   "metadata": {},
   "outputs": [
    {
     "name": "stdout",
     "output_type": "stream",
     "text": [
      "Usted no puede asignar 200, ya que supera el precio máximo\n"
     ]
    }
   ],
   "source": [
    "precio.precio = 200"
   ]
  },
  {
   "cell_type": "code",
   "execution_count": 9,
   "id": "46966498",
   "metadata": {},
   "outputs": [
    {
     "name": "stdout",
     "output_type": "stream",
     "text": [
      "Se ha eliminado el atributo self._precio\n"
     ]
    }
   ],
   "source": [
    "del precio.precio"
   ]
  },
  {
   "cell_type": "markdown",
   "id": "67d856b7",
   "metadata": {},
   "source": [
    "## Decorando classes"
   ]
  },
  {
   "cell_type": "markdown",
   "id": "00c29108",
   "metadata": {},
   "source": [
    "Los decoradores de classes no son muy distintos de los regulares, excepto por el hecho de que toman una clase en vez de una función. Como es en el caso de funciones, esto ocurre cuando se declaran las clases y **no** cuando se instancian/llaman.\n",
    "\n",
    "## Singletons - Classes con una sola instancia\n",
    "Los Singletons son classes que permiten que exista solo una instancia. Así, en vez de obtener una classe específica para cierto llamado, siempre se obtiene la misma\n",
    "\n",
    "## Dataclasses\n",
    "Estas nos permiten definir objetos ordinarios con una syntaxis para especificar atributos. La función `dataclass` es aplicada como un decorador de clase. Por default, incluyen un comparador de igualdad, si todos los atributos son iguales, los objetos son iguales. Por default, las dataclasses no soportan comparaciones. El parámetro `order = True` permite la creación de esos métodos. Las comparaciones se realizarán en el orden en el que son definidos los atributos."
   ]
  },
  {
   "cell_type": "code",
   "execution_count": 46,
   "id": "fb89e0c2",
   "metadata": {},
   "outputs": [],
   "source": [
    "from dataclasses import dataclass\n",
    "\n",
    "@dataclass(order = True)\n",
    "class Persona:\n",
    "    nombre: str\n",
    "    apellido: str\n",
    "    edad: int\n",
    "        \n",
    "    def reconocimiento(self):\n",
    "        return (f\"Mi nombre completo es {self.nombre} {self.apellido} y tengo {self.edad} años\")"
   ]
  },
  {
   "cell_type": "code",
   "execution_count": 47,
   "id": "c0b13305",
   "metadata": {},
   "outputs": [],
   "source": [
    "Kai = Persona(nombre=\"Kai\", apellido=\"Yamamoto\", edad=20)"
   ]
  },
  {
   "cell_type": "code",
   "execution_count": 48,
   "id": "099750d4",
   "metadata": {},
   "outputs": [
    {
     "data": {
      "text/plain": [
       "'Mi nombre completo es Kai Yamamoto y tengo 20 años'"
      ]
     },
     "execution_count": 48,
     "metadata": {},
     "output_type": "execute_result"
    }
   ],
   "source": [
    "Kai.reconocimiento()"
   ]
  },
  {
   "cell_type": "code",
   "execution_count": 49,
   "id": "735d13fc",
   "metadata": {},
   "outputs": [],
   "source": [
    "Francisco = Persona(nombre = \"Francisco\", apellido = \"Solis\", edad = 20)"
   ]
  },
  {
   "cell_type": "code",
   "execution_count": 50,
   "id": "3db4728e",
   "metadata": {},
   "outputs": [
    {
     "data": {
      "text/plain": [
       "'Mi nombre completo es Francisco Solis y tengo 20 años'"
      ]
     },
     "execution_count": 50,
     "metadata": {},
     "output_type": "execute_result"
    }
   ],
   "source": [
    "Francisco.reconocimiento()"
   ]
  },
  {
   "cell_type": "code",
   "execution_count": 51,
   "id": "35503242",
   "metadata": {},
   "outputs": [
    {
     "data": {
      "text/plain": [
       "False"
      ]
     },
     "execution_count": 51,
     "metadata": {},
     "output_type": "execute_result"
    }
   ],
   "source": [
    "Kai == Francisco"
   ]
  },
  {
   "cell_type": "code",
   "execution_count": 52,
   "id": "7f6c2c63",
   "metadata": {},
   "outputs": [
    {
     "data": {
      "text/plain": [
       "True"
      ]
     },
     "execution_count": 52,
     "metadata": {},
     "output_type": "execute_result"
    }
   ],
   "source": [
    "Kai > Francisco"
   ]
  },
  {
   "cell_type": "code",
   "execution_count": 57,
   "id": "d8f581ad",
   "metadata": {},
   "outputs": [
    {
     "name": "stdout",
     "output_type": "stream",
     "text": [
      "Help on function dataclass in module dataclasses:\n",
      "\n",
      "dataclass(cls=None, /, *, init=True, repr=True, eq=True, order=False, unsafe_hash=False, frozen=False)\n",
      "    Returns the same class as was passed in, with dunder methods\n",
      "    added based on the fields defined in the class.\n",
      "    \n",
      "    Examines PEP 526 __annotations__ to determine fields.\n",
      "    \n",
      "    If init is true, an __init__() method is added to the class. If\n",
      "    repr is true, a __repr__() method is added. If order is true, rich\n",
      "    comparison dunder methods are added. If unsafe_hash is true, a\n",
      "    __hash__() method function is added. If frozen is true, fields may\n",
      "    not be assigned to after instance creation.\n",
      "\n"
     ]
    }
   ],
   "source": [
    "help(dataclass)"
   ]
  },
  {
   "cell_type": "markdown",
   "id": "3ede2bfe",
   "metadata": {},
   "source": [
    "## contextmanager - with statements de forma fácil"
   ]
  },
  {
   "cell_type": "markdown",
   "id": "e38b6605",
   "metadata": {},
   "source": [
    "Usar la classe `contextmanager`, podemos crear \"context wrappers\" def forma sencilla. Los \"context wrappers\" son usados cuando sea que uses un `with` statement. Un ejemplo de esto es la función `open`.\n",
    "\n",
    "La forma estándar para crear un \"context manager\" es creando una clase que implementa los métodos `__enter__` y `__exit__`."
   ]
  },
  {
   "cell_type": "code",
   "execution_count": 58,
   "id": "f07bc60a",
   "metadata": {},
   "outputs": [],
   "source": [
    "class Open:\n",
    "    def __init__(self, filename, mode):\n",
    "        self.filename = filename\n",
    "        self.mode = mode\n",
    "        \n",
    "    \n",
    "    def __enter__(self):\n",
    "        self.handle = open(self.filename, self.mode)\n",
    "        return self.handle\n",
    "    \n",
    "    \n",
    "    def __exit__(self, exc_type, exc_val, exc_tb):\n",
    "        self.handle.close()"
   ]
  },
  {
   "cell_type": "code",
   "execution_count": 59,
   "id": "3860971f",
   "metadata": {},
   "outputs": [],
   "source": [
    "with Open('test.txt', 'w') as fh:\n",
    "    print(\"Nuestro testeo fue completado\", file=fh)"
   ]
  },
  {
   "cell_type": "markdown",
   "id": "c2898215",
   "metadata": {},
   "source": [
    "Si bien funciona perfectamente, con `contextlib.contextmanager`, podemos lograr el mismo comportamiento en una menor cantidad de líneas."
   ]
  },
  {
   "cell_type": "code",
   "execution_count": 60,
   "id": "215d51ae",
   "metadata": {},
   "outputs": [],
   "source": [
    "import contextlib\n",
    "\n",
    "@contextlib.contextmanager\n",
    "def open_context_manager(filename, mode='r'):\n",
    "    fh = open(filename, mode)\n",
    "    yield fh\n",
    "    fh.close()\n",
    "    \n",
    "with open_context_manager('test.txt', 'w') as fh:\n",
    "    print(\"El testeo con la segunda clase fue completado\", file=fh)"
   ]
  },
  {
   "cell_type": "markdown",
   "id": "df2d0d8c",
   "metadata": {},
   "source": [
    "**Con archivos, conecciones a bases de datos y conexiones, es importante el siempre tener `close()` para así limpiar/liberar los recursos**"
   ]
  }
 ],
 "metadata": {
  "kernelspec": {
   "display_name": "Python 3 (ipykernel)",
   "language": "python",
   "name": "python3"
  },
  "language_info": {
   "codemirror_mode": {
    "name": "ipython",
    "version": 3
   },
   "file_extension": ".py",
   "mimetype": "text/x-python",
   "name": "python",
   "nbconvert_exporter": "python",
   "pygments_lexer": "ipython3",
   "version": "3.9.10"
  }
 },
 "nbformat": 4,
 "nbformat_minor": 5
}
