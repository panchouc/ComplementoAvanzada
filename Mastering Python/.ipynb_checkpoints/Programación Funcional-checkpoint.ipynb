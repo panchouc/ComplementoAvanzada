{
 "cells": [
  {
   "cell_type": "markdown",
   "id": "d4ae48d1",
   "metadata": {},
   "source": [
    "# Programación funcional"
   ]
  },
  {
   "cell_type": "markdown",
   "id": "352f8643",
   "metadata": {},
   "source": [
    "## Tabla de contenidos\n",
    "***\n",
    "\n",
    "\n",
    "\n",
    "***"
   ]
  },
  {
   "cell_type": "markdown",
   "id": "424816da",
   "metadata": {},
   "source": [
    "La programación funcional es un paradigma que se origina del cálculo lambada, un sistema formal en matemáticas que puede ser usado para simular cualquier máquina de Turing."
   ]
  },
  {
   "cell_type": "markdown",
   "id": "52f9e6b9",
   "metadata": {},
   "source": [
    "## Puramente funcional"
   ]
  },
  {
   "cell_type": "markdown",
   "id": "daa1ad06",
   "metadata": {},
   "source": [
    "La programación puramente functional espera que las funciones no tienen efectos colaterales. Eso significa que los argumentos\n",
    "que se le entregan a la función no deberían de mutar, y así ninguno de los estados externos.\n",
    "\n",
    "Incluso si no se sigue este paradigma, limitar los cambios a variables locales es una buena idea. Mantener las funciones puramente funcional hace el código más claro, más fácil de entender y mejor para testear, dado que hay menos dependencias."
   ]
  },
  {
   "cell_type": "markdown",
   "id": "edf608e7",
   "metadata": {},
   "source": [
    "## Ventajas de la programación funcional"
   ]
  },
  {
   "cell_type": "markdown",
   "id": "d8cb9d0d",
   "metadata": {},
   "source": [
    "Algunas de las ventajas son:\n",
    "\n",
    "- Escribir código puramente funcional permite que sea muy fácil para correr el código en paralelo. Se puede paralelizar el código para que corra en múltiples procesadores o incluso múltiples máquinas\n",
    "- Dado que las funciones no tienen efectos laterales, mitigan muchos tipos de bugs\n",
    "- Hace el testeo más fácil\n",
    "\n",
    "Pero, también tiene ciertas desventajas, algunas de las cuales son causadas por las mismas ventajas.\n",
    "\n",
    "La programación funcional no es adecuada para todo tipo de situación, pero cuando se usa correctamente es una herramienta muy útil."
   ]
  },
  {
   "cell_type": "markdown",
   "id": "f0151e58",
   "metadata": {},
   "source": [
    "## list, set y dict comprehensions"
   ]
  },
  {
   "cell_type": "markdown",
   "id": "32391c71",
   "metadata": {},
   "source": [
    "Estas son muy útiles para aplicar una función o filtro a una lista de elementos."
   ]
  },
  {
   "cell_type": "markdown",
   "id": "6f2937ab",
   "metadata": {},
   "source": [
    "### Comprehensions básica de listas"
   ]
  },
  {
   "cell_type": "code",
   "execution_count": 5,
   "id": "6d7c7c3d",
   "metadata": {},
   "outputs": [
    {
     "data": {
      "text/plain": [
       "[0, 1, 4, 9, 16, 25, 36, 49, 64, 81]"
      ]
     },
     "execution_count": 5,
     "metadata": {},
     "output_type": "execute_result"
    }
   ],
   "source": [
    "cuadrados = [x ** 2 for x in range(10)]\n",
    "cuadrados"
   ]
  },
  {
   "cell_type": "code",
   "execution_count": 6,
   "id": "25ebf527",
   "metadata": {},
   "outputs": [
    {
     "data": {
      "text/plain": [
       "[1, 9, 25, 49, 81]"
      ]
     },
     "execution_count": 6,
     "metadata": {},
     "output_type": "execute_result"
    }
   ],
   "source": [
    "cuadrados_impares = [x ** 2 for x in range(10) if x % 2]\n",
    "cuadrados_impares"
   ]
  },
  {
   "cell_type": "markdown",
   "id": "f5055277",
   "metadata": {},
   "source": [
    "Dos de las funciones más usadas en lenguajes funcionales son `map` y `filter`."
   ]
  },
  {
   "cell_type": "code",
   "execution_count": 7,
   "id": "884de525",
   "metadata": {},
   "outputs": [
    {
     "data": {
      "text/plain": [
       "[0, 1, 4, 9, 16, 25, 36, 49, 64, 81]"
      ]
     },
     "execution_count": 7,
     "metadata": {},
     "output_type": "execute_result"
    }
   ],
   "source": [
    "def cuadrado(x):\n",
    "    return x ** 2\n",
    "\n",
    "def impar(x):\n",
    "    return x % 2\n",
    "\n",
    "cuadrados = list(map(cuadrado, range(10)))\n",
    "cuadrados"
   ]
  },
  {
   "cell_type": "code",
   "execution_count": 8,
   "id": "6f84c7e6",
   "metadata": {},
   "outputs": [
    {
     "data": {
      "text/plain": [
       "[1, 9, 25, 49, 81]"
      ]
     },
     "execution_count": 8,
     "metadata": {},
     "output_type": "execute_result"
    }
   ],
   "source": [
    "cuadrados_impares = list(filter(impar, map(cuadrado, range(10))))\n",
    "cuadrados_impares"
   ]
  },
  {
   "cell_type": "markdown",
   "id": "b10a9626",
   "metadata": {},
   "source": [
    "Se puede observar que este código se vuelve menos legible con tantos paréntesis.\n",
    "\n",
    "La aplicación más importante de `map` no es utilizando esta función en si misma, pero usar unas de las funciones estilo map como `multiprocessing.pool.Pool.map` y variantes como `map_async`, `imap`, `starmap`, `starmap_async` y `imap_unordered`, que ejecutan automáticamente las funciones en paralelo en múltiples procesadores.\n",
    "\n",
    "El uso de map y filter, se debería reservar para casos en los cuales se tienen funciones existentes disponibles para usar con map o filter."
   ]
  },
  {
   "cell_type": "markdown",
   "id": "6e993e5b",
   "metadata": {},
   "source": [
    "### set comprehensions"
   ]
  },
  {
   "cell_type": "markdown",
   "id": "193af0b7",
   "metadata": {},
   "source": [
    "Tiene la misma syntaxís que las list comprehensions, solo que retorna un set único de elementos desordenados."
   ]
  },
  {
   "cell_type": "code",
   "execution_count": 9,
   "id": "7a7cf089",
   "metadata": {},
   "outputs": [
    {
     "data": {
      "text/plain": [
       "[0, 1]"
      ]
     },
     "execution_count": 9,
     "metadata": {},
     "output_type": "execute_result"
    }
   ],
   "source": [
    "numbers = {x // 2 for x in range (3)}\n",
    "sorted(numbers)"
   ]
  },
  {
   "cell_type": "markdown",
   "id": "15b47627",
   "metadata": {},
   "source": [
    "### dict comprehensions"
   ]
  },
  {
   "cell_type": "markdown",
   "id": "3f769959",
   "metadata": {},
   "source": [
    "Aquí se retorna un diccionario, en vez de una lista o set. La única diferencia real es que se necesita retornar la key y el valor."
   ]
  },
  {
   "cell_type": "code",
   "execution_count": 10,
   "id": "c7fd2f5e",
   "metadata": {},
   "outputs": [
    {
     "data": {
      "text/plain": [
       "{0: 0, 1: 1, 2: 4, 3: 9, 4: 16, 5: 25}"
      ]
     },
     "execution_count": 10,
     "metadata": {},
     "output_type": "execute_result"
    }
   ],
   "source": [
    "{x: x ** 2 for x in range(6)}"
   ]
  },
  {
   "cell_type": "markdown",
   "id": "04cd824e",
   "metadata": {},
   "source": [
    "Mencionar que, dado que el output es un diccinoario, la key debe ser hasheable para que esto funcione."
   ]
  },
  {
   "cell_type": "markdown",
   "id": "497fa39c",
   "metadata": {},
   "source": [
    "### Peligros de comprehensions"
   ]
  },
  {
   "cell_type": "markdown",
   "id": "46137394",
   "metadata": {},
   "source": [
    "Se recomienda fuertemente evitar comprehensions anidadas, pues puede resultar en código ilegible."
   ]
  },
  {
   "cell_type": "markdown",
   "id": "fea26b2e",
   "metadata": {},
   "source": [
    "## Funciones lambda"
   ]
  },
  {
   "cell_type": "markdown",
   "id": "318d0832",
   "metadata": {},
   "source": [
    "El statement `lambda` en Python es simplemente una función anónima. Uno de los usos más comunes es usarla como `sort key` para la función `sorted`."
   ]
  },
  {
   "cell_type": "code",
   "execution_count": 11,
   "id": "1d874a37",
   "metadata": {},
   "outputs": [],
   "source": [
    "values = dict(one = 1, two = 2, three = 3)"
   ]
  },
  {
   "cell_type": "code",
   "execution_count": 12,
   "id": "528afa8a",
   "metadata": {},
   "outputs": [
    {
     "data": {
      "text/plain": [
       "[('one', 1), ('three', 3), ('two', 2)]"
      ]
     },
     "execution_count": 12,
     "metadata": {},
     "output_type": "execute_result"
    }
   ],
   "source": [
    "sorted(values.items())"
   ]
  },
  {
   "cell_type": "code",
   "execution_count": 14,
   "id": "c3cd525e",
   "metadata": {},
   "outputs": [
    {
     "data": {
      "text/plain": [
       "[('one', 1), ('two', 2), ('three', 3)]"
      ]
     },
     "execution_count": 14,
     "metadata": {},
     "output_type": "execute_result"
    }
   ],
   "source": [
    "sorted(values.items(), key = lambda item: item[1])"
   ]
  },
  {
   "cell_type": "markdown",
   "id": "d3df05e0",
   "metadata": {},
   "source": [
    "Mencionar que PEP8 establece que asignar lambda a una variable es una mala idea. Si se le está dando una identidad, se debería de definir como una función normal."
   ]
  },
  {
   "cell_type": "markdown",
   "id": "2577dfc9",
   "metadata": {},
   "source": [
    "## functools"
   ]
  },
  {
   "cell_type": "markdown",
   "id": "7b067ad4",
   "metadata": {},
   "source": [
    "La librería `functools` es una colección de funciones que retornan objetos callables. Algunas de estas funciones son usadas como decoradores, aunque algunas pueden ser utilizadas para facilitar la vida, sin necesidad de usarlas como decoradores."
   ]
  },
  {
   "cell_type": "markdown",
   "id": "c749d894",
   "metadata": {},
   "source": [
    "## partial - Prellenar argumentos de funciones"
   ]
  },
  {
   "cell_type": "markdown",
   "id": "1a7cd5a0",
   "metadata": {},
   "source": [
    "La función `partial` es particularmente conveniente para añadir argumentos por defecto a una función que se usa a menudo, pero no se puede (o no quieres) redifinir."
   ]
  },
  {
   "cell_type": "code",
   "execution_count": 20,
   "id": "d494157d",
   "metadata": {},
   "outputs": [],
   "source": [
    "import functools\n",
    "import heapq\n",
    "\n",
    "heap = []\n",
    "push = functools.partial(heapq.heappush, heap)\n",
    "smallest = functools.partial(heapq.nsmallest, iterable=heap)"
   ]
  },
  {
   "cell_type": "code",
   "execution_count": 21,
   "id": "4c9673c0",
   "metadata": {},
   "outputs": [],
   "source": [
    "push(1)\n",
    "push(2)\n",
    "push(3)\n",
    "push(4)\n",
    "push(5)"
   ]
  },
  {
   "cell_type": "code",
   "execution_count": 22,
   "id": "38c469ba",
   "metadata": {},
   "outputs": [
    {
     "data": {
      "text/plain": [
       "[1, 2, 3]"
      ]
     },
     "execution_count": 22,
     "metadata": {},
     "output_type": "execute_result"
    }
   ],
   "source": [
    "smallest(3)"
   ]
  },
  {
   "cell_type": "markdown",
   "id": "1c06647e",
   "metadata": {},
   "source": [
    "Con `functools.partial` podemos automáticamente rellenar argumentos tipo keyword y/o posicionales."
   ]
  },
  {
   "cell_type": "markdown",
   "id": "62f51df7",
   "metadata": {},
   "source": [
    "## reduce - Combinando pares en un solo resultado"
   ]
  },
  {
   "cell_type": "markdown",
   "id": "024e45db",
   "metadata": {},
   "source": [
    "La función `reduce` implementa una técnica matemática llamada *folding*. Aplica un par de el resultado previo y el siguiente elemento en la lista entregada a la función que se utiliza. Se puede usar, por ejemplo, para calcular factoriales"
   ]
  },
  {
   "cell_type": "code",
   "execution_count": 23,
   "id": "b95269e1",
   "metadata": {},
   "outputs": [
    {
     "data": {
      "text/plain": [
       "24"
      ]
     },
     "execution_count": 23,
     "metadata": {},
     "output_type": "execute_result"
    }
   ],
   "source": [
    "import operator\n",
    "import functools\n",
    "\n",
    "functools.reduce(operator.mul, range(1, 5))"
   ]
  },
  {
   "cell_type": "markdown",
   "id": "0e4bdf8e",
   "metadata": {},
   "source": [
    "## itertools"
   ]
  },
  {
   "cell_type": "markdown",
   "id": "514b8e0f",
   "metadata": {},
   "source": []
  }
 ],
 "metadata": {
  "kernelspec": {
   "display_name": "Python 3 (ipykernel)",
   "language": "python",
   "name": "python3"
  },
  "language_info": {
   "codemirror_mode": {
    "name": "ipython",
    "version": 3
   },
   "file_extension": ".py",
   "mimetype": "text/x-python",
   "name": "python",
   "nbconvert_exporter": "python",
   "pygments_lexer": "ipython3",
   "version": "3.9.10"
  }
 },
 "nbformat": 4,
 "nbformat_minor": 5
}
