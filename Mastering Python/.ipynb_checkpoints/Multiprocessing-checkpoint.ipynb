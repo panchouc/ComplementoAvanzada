{
 "cells": [
  {
   "cell_type": "markdown",
   "id": "524e7e11",
   "metadata": {},
   "source": [
    "# Multiprocessing"
   ]
  },
  {
   "cell_type": "markdown",
   "id": "080aa0fe",
   "metadata": {},
   "source": [
    "## Tabla de contenidos\n",
    "***\n",
    "\n",
    "\n",
    "\n",
    "***"
   ]
  },
  {
   "cell_type": "markdown",
   "id": "a3777db9",
   "metadata": {},
   "source": [
    "Aquí se revisará como se puede usar directamente múltiples threads o procesos para acelerar el código y que riesgos hay que tener en mente.\n",
    "\n",
    "El módulo `threading` hace posible el correr código en paralelo en un único proceso. Esto hace el threading muy útil para tareas de I/O como leer/escribir sobre archivos o comunicación en redes, pero una opción inútil para cálculos pesados y lentos, donde el módulo `multiprocessing` brilla.\n",
    "\n",
    "Con el módulo `multiprocessing`, se puede correr código en múltiples procesos, lo que significa que se puede correr código en múltiples cores de GPU, múltiples procesadores e incluso múltiples computadores.\n",
    "\n",
    "El módulo `threading` es básico, en el sentido de que se tienen que crear y manejar los threads de forma manual. Para esto, se tiene el módulo `concurrent.futures`, que ofrece una manera simple de ejecutar una lista de tareas ya sea a través de threads o procesos."
   ]
  },
  {
   "cell_type": "markdown",
   "id": "34769c4b",
   "metadata": {},
   "source": [
    "## The Global Interpreter Lock (GIL)"
   ]
  },
  {
   "cell_type": "markdown",
   "id": "2297a48c",
   "metadata": {},
   "source": [
    "El GIL es un bloqueo global (global lock) para el intérprete de Python, para que pueda ejecutar solo una instrucción a la vez. Un **lock** o **mutex (mutual exclusion)** en computación paralela es una sincronización primitiva que puede bloquear la ejecución paralela. Con un lock, se asegura que nadie puede tocar la variable mientras se está trabajando en ella.\n",
    "\n",
    "Python ofrece diversas maneras de sincronización primitivas, somo `threading.Lock` y `threading.Semaphore`. Incluso con el módulo `threading`, solo se está ejecutando una sola instrucción a la vez en Python."
   ]
  },
  {
   "cell_type": "markdown",
   "id": "a2263159",
   "metadata": {},
   "source": [
    "## El uso de múltiples threads"
   ]
  },
  {
   "cell_type": "markdown",
   "id": "84215719",
   "metadata": {},
   "source": [
    "`threading` puede brindar muchos beneficios si se está esperando a recursos externos."
   ]
  },
  {
   "cell_type": "markdown",
   "id": "9e1d61b7",
   "metadata": {},
   "source": [
    "## ¿Por qué se necesita el GIL?"
   ]
  },
  {
   "cell_type": "markdown",
   "id": "a52461d1",
   "metadata": {},
   "source": [
    "El GIL, es actualmente una parte esencial del intérprete de CPython porque se asegura de que el manejo de memoria es siempre consistente. Como el GIL se asegura de que una sola instrucción de Python se puede ejecutar simultáneamente, nunca hay problemas donde múltiples bits de código manipulan memoria la mismo tiempo, o donde memoria está siendo liberada al sistema que actualmente no está disponible."
   ]
  },
  {
   "cell_type": "markdown",
   "id": "19e682da",
   "metadata": {},
   "source": [
    "## Múltiples threads y procesos"
   ]
  },
  {
   "cell_type": "markdown",
   "id": "36846b01",
   "metadata": {},
   "source": [
    "El módulo `multiprocessing` ha hecho bastante fácil el trabajar alrededor de las limitaciones del GIL porque cada proceso tiene su propio GIL.\n",
    "\n",
    "El uso del módulo `multiprocessing` es bastante similar al del módulo `threading` pero tiene muchas características muy útiles que hacen mucho más sentido con múltiples procesos.\n",
    "\n",
    "**IMPORTANTE: Debe ser consciente de que es crítico el poner en el código `if __name__ == '__main__'` cuando use `multiprocessing`. Cuando este módulo lanza los procesos extra de Python, va a ejecutar el mismo script de Python, así que sin este bloque de código usted va a terminar en un loop infinito de procesos que inician.**"
   ]
  },
  {
   "cell_type": "markdown",
   "id": "e6946185",
   "metadata": {},
   "source": [
    "## Ejemplos básicos"
   ]
  },
  {
   "cell_type": "markdown",
   "id": "9bfa2556",
   "metadata": {},
   "source": [
    "Para crear threads y prcoesos, se tienen diversas opciones:\n",
    "- `concurrent.futures`: Una interfaz fácil de usar para correr funciones ya sea en threads o procesos, similar a `asyncio`.\n",
    "- `threading`: Una interfaz para crear threads de forma directa.\n",
    "- `multiprocessing`: Una interfaz con mucha utilidad y funciones convenientes para crear y manejar múltiples procesos de Python."
   ]
  },
  {
   "cell_type": "markdown",
   "id": "0d711e27",
   "metadata": {},
   "source": [
    "## concurrent.futures"
   ]
  },
  {
   "cell_type": "code",
   "execution_count": 1,
   "id": "c122b3a3",
   "metadata": {},
   "outputs": [
    {
     "name": "stdout",
     "output_type": "stream",
     "text": [
      "a 0\n",
      "a 1\n",
      "b 0\n",
      "b 1\n",
      "a 2\n",
      "b 2\n"
     ]
    }
   ],
   "source": [
    "import time\n",
    "import concurrent.futures\n",
    "\n",
    "def timer(name, steps, interval = 0.1):\n",
    "    '''funcion timer que duerme steps * interval'''\n",
    "    for step in range(steps):\n",
    "        print(name, step)\n",
    "        time.sleep(interval)\n",
    "        \n",
    "\n",
    "if __name__ == '__main__':\n",
    "    #Reemplazar con concurrent.futures.ProcessPoolExecutor para\n",
    "    #múltiples procesos en vez de threads\n",
    "    \n",
    "    with concurrent.futures.ThreadPoolExecutor() as executor:\n",
    "        #Entregar la función a executor con algunos argumentos\n",
    "        executor.submit(timer, steps = 3, name = 'a')\n",
    "        \n",
    "        #Dormir un poquito, para mantener el orden del output consistente\n",
    "        time.sleep(0.1)\n",
    "        executor.submit(timer, steps = 3, name = \"b\")"
   ]
  },
  {
   "cell_type": "markdown",
   "id": "f8652b1a",
   "metadata": {},
   "source": [
    "Primero se creó una función timer que corre time.sleep(interval) y lo hace steps veces. Antes de dormir, printea el nombre y el step actual así podemos ver fácilmente que es lo que está pasando. Luego, creamos executor usando `concurrent.futures.ThreadPoolExecutor` para ejecutar las funciones. Finalmente, entregamos las funciones que queremos ejecutar con sus respectivos argumentos para empezar ambos threads. Entre medio, dormimos por un pequeño intervalo de tiempo, así el output es consistente."
   ]
  },
  {
   "cell_type": "markdown",
   "id": "6d4f5ea2",
   "metadata": {},
   "source": [
    "## threading"
   ]
  },
  {
   "cell_type": "code",
   "execution_count": 2,
   "id": "14e4d201",
   "metadata": {},
   "outputs": [
    {
     "name": "stdout",
     "output_type": "stream",
     "text": [
      "a 0\n",
      "a 1\n",
      "b 0\n",
      "ab 1\n",
      " 2\n",
      "b 2\n"
     ]
    }
   ],
   "source": [
    "import time\n",
    "import threading\n",
    "\n",
    "def timer(name, steps, interval = 0.1):\n",
    "    '''funcion timer que duerme steps * interval'''\n",
    "    for step in range(steps):\n",
    "        print(name, step)\n",
    "        time.sleep(interval)\n",
    "        \n",
    "# Se crean los threads de forma declarativa\n",
    "a = threading.Thread(target = timer, kwargs = dict(name = \"a\", steps = 3))\n",
    "b = threading.Thread(target = timer, kwargs = dict(name = \"b\", steps = 3))\n",
    "\n",
    "#Se empiezan los threads\n",
    "a.start()\n",
    "\n",
    "#Se duerme un poquito\n",
    "time.sleep(0.1)\n",
    "b.start()"
   ]
  },
  {
   "cell_type": "markdown",
   "id": "b09e045b",
   "metadata": {},
   "source": [
    "La función timer es idéntica. En este caso creamos los threads instanciando `threading.Thread()` directamente, pero heredar de `threading.Thread` es también una opción. Los argumentos a la función objetivo pueden ser dados, pasando args/kwargs argumentos, pero estoy son opcionales si no se tiene necesidad de usarlos o si se han prellenado usando `functools.partial`.\n",
    "\n",
    "Aquí estamos creando explícitamente los threads para correr una sola funcion y salir tan pronto como su tarea haya terminado. Esto es útil para threads que corren durante largos períodos, dado que este método requiere setear el thread para cada función."
   ]
  },
  {
   "cell_type": "code",
   "execution_count": 4,
   "id": "4670c0d4",
   "metadata": {},
   "outputs": [
    {
     "name": "stdout",
     "output_type": "stream",
     "text": [
      "a 0\n",
      "a 1\n",
      "b 0\n",
      "b 1\n",
      "a 2\n",
      "b 2\n"
     ]
    }
   ],
   "source": [
    "import time\n",
    "import threading\n",
    "\n",
    "class Timer(threading.Thread):\n",
    "    def __init__(self, name, steps, interval = 0.1):\n",
    "        self.steps = steps\n",
    "        self.interval = interval\n",
    "        #threading.Thread tiene un nombre built- in\n",
    "        #Be careful not to manually override it\n",
    "        super().__init__(name = name)\n",
    "        \n",
    "        \n",
    "    def run(self):\n",
    "        '''funcion timer que duerme steps * interval'''\n",
    "        for step in range(self.steps):\n",
    "            print(self.name, step)\n",
    "            time.sleep(self.interval)\n",
    "a = Timer(name = \"a\", steps = 3)\n",
    "b = Timer(name = \"b\", steps = 3)\n",
    "\n",
    "a.start()\n",
    "\n",
    "time.sleep(0.1)\n",
    "b.start()"
   ]
  },
  {
   "cell_type": "markdown",
   "id": "f61bfccd",
   "metadata": {},
   "source": [
    "Diferencias críticas a tener en consideración:"
   ]
  }
 ],
 "metadata": {
  "kernelspec": {
   "display_name": "Python 3 (ipykernel)",
   "language": "python",
   "name": "python3"
  },
  "language_info": {
   "codemirror_mode": {
    "name": "ipython",
    "version": 3
   },
   "file_extension": ".py",
   "mimetype": "text/x-python",
   "name": "python",
   "nbconvert_exporter": "python",
   "pygments_lexer": "ipython3",
   "version": "3.9.10"
  }
 },
 "nbformat": 4,
 "nbformat_minor": 5
}
