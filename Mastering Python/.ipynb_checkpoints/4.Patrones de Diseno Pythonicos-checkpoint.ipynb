{
 "cells": [
  {
   "cell_type": "markdown",
   "id": "c789af16",
   "metadata": {},
   "source": [
    "# Patrones de Diseño Pythonicos (Pythonic Design Patterns)"
   ]
  },
  {
   "cell_type": "markdown",
   "id": "5d5294f5",
   "metadata": {},
   "source": [
    "## Tabla de contenidos\n",
    "***\n",
    "\n",
    "\n",
    "\n",
    "***"
   ]
  },
  {
   "cell_type": "markdown",
   "id": "93130ebe",
   "metadata": {},
   "source": [
    "Los *design patterns* dependen en gran medida de almacenar datos."
   ]
  }
 ],
 "metadata": {
  "kernelspec": {
   "display_name": "Python 3 (ipykernel)",
   "language": "python",
   "name": "python3"
  },
  "language_info": {
   "codemirror_mode": {
    "name": "ipython",
    "version": 3
   },
   "file_extension": ".py",
   "mimetype": "text/x-python",
   "name": "python",
   "nbconvert_exporter": "python",
   "pygments_lexer": "ipython3",
   "version": "3.9.10"
  }
 },
 "nbformat": 4,
 "nbformat_minor": 5
}
