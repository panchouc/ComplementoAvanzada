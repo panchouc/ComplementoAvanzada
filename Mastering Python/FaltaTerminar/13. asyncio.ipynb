{
 "cells": [
  {
   "cell_type": "markdown",
   "id": "b25e3a47",
   "metadata": {},
   "source": [
    "# asyncio"
   ]
  },
  {
   "cell_type": "markdown",
   "id": "40b86892",
   "metadata": {},
   "source": [
    "## Tabla de contenidos\n",
    "***\n",
    "\n",
    "\n",
    "\n",
    "***"
   ]
  },
  {
   "cell_type": "markdown",
   "id": "c63dc630",
   "metadata": {},
   "source": [
    "Se puede utilizar la programación asíncrona para cambiar entre distintas funciones cuando sea que esperamos por operaciones de  **input/output**. Esto \"fakea\" los efectos de múltiples threads o procesos sin introducir los \"costos\" de esas soluciones.\n",
    "\n",
    "Cuando sea que se encuentre lidiando con recursos externos como leer/escribir sobre archivos, interactuando con APIs o bases de datos, entre otras operaciones de I/O, se pueden lograr grandes beneficios al utilizar `asyncio`.\n",
    "\n",
    "Una riesgo potencial, es que existe la posibilidad de que el código se ejecute en un orden inesperado."
   ]
  },
  {
   "cell_type": "markdown",
   "id": "1e1d62e4",
   "metadata": {},
   "source": [
    "## Introducción a asyncio"
   ]
  },
  {
   "cell_type": "markdown",
   "id": "f6211905",
   "metadata": {},
   "source": [
    "Lo que hace en resumen la librería `asyncio`, es que te permite intercambiar a la ejecución de una función completamente distinta cuando sea que se esté esperado por operaciones de tipo I/O.\n",
    "\n",
    "\n",
    "## Ejemplo básico de ejecución paralela\n",
    "En términos de performance, normalmente se encuentra uno de los siguientes tipos de cuello de botella:\n",
    "- Experar I/O externos\n",
    "- CPU, en caso de heavy calculations\n",
    "\n",
    "Si el cuello de botella es producido por la CPU, debido a heavy calculations, deberá considerar ocupar un algoritmo más rápido, más o procesadores más rápidos, ocupar hardware dedicado. En estos casos, la librería `asyncio` no ayudará de mucho.\n",
    "\n",
    "Si el código pasa gran parte del tiempo esperando al usuario, kernel, archivos del sistema, o servidores externos, `asyncio` puede ayudar de sobremanera mientras es una solución relativamente simple con pocos efectos colaterales."
   ]
  },
  {
   "cell_type": "code",
   "execution_count": 16,
   "id": "dba05fe6",
   "metadata": {},
   "outputs": [],
   "source": [
    "import time\n",
    "import asyncio\n",
    "\n",
    "def normal_sleep():\n",
    "    print(\"Antes de dormir\")\n",
    "    time.sleep(1)\n",
    "    print(\"Luego de dormir\")\n",
    "    \n",
    "def normal_sleeps(n):\n",
    "    for _ in range(n):\n",
    "        normal_sleep()"
   ]
  },
  {
   "cell_type": "code",
   "execution_count": 17,
   "id": "bbd88ae0",
   "metadata": {},
   "outputs": [
    {
     "name": "stdout",
     "output_type": "stream",
     "text": [
      "Antes de dormir\n",
      "Luego de dormir\n",
      "Antes de dormir\n",
      "Luego de dormir\n",
      "Duración: 2\n"
     ]
    }
   ],
   "source": [
    "start = time.time()\n",
    "normal_sleeps(2)\n",
    "print(f\"Duración: {time.time() - start:.0f}\")"
   ]
  },
  {
   "cell_type": "markdown",
   "id": "1566727e",
   "metadata": {},
   "source": [
    "A continuación se implementa la versión con `asyncio`"
   ]
  },
  {
   "cell_type": "code",
   "execution_count": null,
   "id": "1a10f3f9",
   "metadata": {},
   "outputs": [],
   "source": [
    "import time\n",
    "import asyncio\n",
    "\n",
    "async def asyncio_sleep():\n",
    "    print('before sleep')\n",
    "    await asyncio.sleep(1)\n",
    "    print('after sleep')\n",
    "async def asyncio_sleeps(n):\n",
    "    coroutines = []\n",
    "    for _ in range(n):\n",
    "        coroutines.append(asyncio_sleep())\n",
    "    await asyncio.gather(*coroutines)\n",
    "start = time.time()\n",
    "asyncio.run(asyncio_sleeps(2))\n",
    "print(f'duration: {time.time() - start:.0f}')"
   ]
  },
  {
   "cell_type": "markdown",
   "id": "0bb20f6a",
   "metadata": {},
   "source": [
    "**Si se intenta ejecutar en el notebook, probablemente no funcione, ejecútelo dentro de un archivo .py**"
   ]
  },
  {
   "cell_type": "code",
   "execution_count": null,
   "id": "3b1d393f",
   "metadata": {},
   "outputs": [],
   "source": []
  }
 ],
 "metadata": {
  "kernelspec": {
   "display_name": "Python 3 (ipykernel)",
   "language": "python",
   "name": "python3"
  },
  "language_info": {
   "codemirror_mode": {
    "name": "ipython",
    "version": 3
   },
   "file_extension": ".py",
   "mimetype": "text/x-python",
   "name": "python",
   "nbconvert_exporter": "python",
   "pygments_lexer": "ipython3",
   "version": "3.9.10"
  }
 },
 "nbformat": 4,
 "nbformat_minor": 5
}
