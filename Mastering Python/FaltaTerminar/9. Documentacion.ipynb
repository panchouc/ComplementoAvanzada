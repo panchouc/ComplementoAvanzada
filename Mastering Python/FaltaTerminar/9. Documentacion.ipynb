{
 "cells": [
  {
   "cell_type": "markdown",
   "id": "5c0747e4",
   "metadata": {},
   "source": [
    "# Documentación - Como usar Sphinx y reStructuredText"
   ]
  },
  {
   "cell_type": "markdown",
   "id": "20bfc8d1",
   "metadata": {},
   "source": [
    "Escribir la documentación puede ser un trabajo aburrido y tradicionalmente solo otros recogen los beneficios de ese esfuerzo. Las herramientas disponibles para Python, hace casi trivial para generar documentación útil y al día con pequeño o nada de esfuerzo.\n",
    "\n",
    "Además de simple documentación explicando lo que hace una función, también es posible añadir metadata, como type hints. Estos type hints pueden ser utilizados para hacer los argumentos y return types de una función o clase clickeable en la documentación.\n",
    "\n",
    "## Type hinting\n",
    "El type hinting te permite especificar los types de las variables y los return values, lo que significa que tu editor va a ser capaz de entregar autocompletado inteligente.\n",
    "\n",
    "Como el Zen de Python nos dice, explícito es mejor que implícito. En el caso de return types, este es a menudo el caso y puede ser implementado con poco esfuerzo:"
   ]
  },
  {
   "cell_type": "code",
   "execution_count": 1,
   "id": "6a929e7c",
   "metadata": {},
   "outputs": [],
   "source": [
    "def pow(base: int, exponent: int) -> int:\n",
    "    return base ** exponent"
   ]
  },
  {
   "cell_type": "code",
   "execution_count": 2,
   "id": "e3be5eea",
   "metadata": {},
   "outputs": [
    {
     "name": "stdout",
     "output_type": "stream",
     "text": [
      "Help on function pow in module __main__:\n",
      "\n",
      "pow(base: int, exponent: int) -> int\n",
      "\n"
     ]
    }
   ],
   "source": [
    "help(pow)"
   ]
  },
  {
   "cell_type": "code",
   "execution_count": 3,
   "id": "857321e9",
   "metadata": {},
   "outputs": [
    {
     "data": {
      "text/plain": [
       "{'base': int, 'exponent': int, 'return': int}"
      ]
     },
     "execution_count": 3,
     "metadata": {},
     "output_type": "execute_result"
    }
   ],
   "source": [
    "pow.__annotations__"
   ]
  },
  {
   "cell_type": "markdown",
   "id": "e9bf960a",
   "metadata": {},
   "source": [
    "Con un simple `-> type`, se puede especificar el return type de la función, lo que es automáticamente reflejado en `__annotations__` y visible en `help()`.\n",
    "\n",
    "Si bien basic types como `int, float, str, dict, list y set` pueden ser especificados con `variable: int`, para types más avanzados, necesitamos el módulo `typing`.\n",
    "\n",
    "El módulo `typing` contiene types como `typing.Any` que permite lo que sea, `typing.Optional` permite `None` y `typing.Union` para especificar múltiples types permitidos."
   ]
  },
  {
   "cell_type": "code",
   "execution_count": 4,
   "id": "1dccd572",
   "metadata": {},
   "outputs": [
    {
     "name": "stdout",
     "output_type": "stream",
     "text": [
      "Help on function pow in module __main__:\n",
      "\n",
      "pow(base: int, exponent: int) -> Union[int, float]\n",
      "\n"
     ]
    }
   ],
   "source": [
    "import typing\n",
    "\n",
    "int_or_float = typing.Union[int, float]\n",
    "\n",
    "def pow(base: int, exponent: int) -> int_or_float:\n",
    "    return base ** exponent\n",
    "\n",
    "help(pow)"
   ]
  },
  {
   "cell_type": "markdown",
   "id": "251fb5ee",
   "metadata": {},
   "source": [
    "Con `typing.Union` podemos especificar una lista de types que aplican. Similarmente, un type opcional puede ser especificado usando `typing.Optional[int]` para indicar que el type puede ser ya sea `int` o `None`.\n",
    "\n",
    "## Custom types"
   ]
  },
  {
   "cell_type": "code",
   "execution_count": null,
   "id": "a84de7d5",
   "metadata": {},
   "outputs": [],
   "source": [
    "class Sandwich:\n",
    "    pass\n",
    "\n",
    "def get_sandwich() -> Sandwich:\n",
    "    return Sandwich()"
   ]
  },
  {
   "cell_type": "markdown",
   "id": "9de549a9",
   "metadata": {},
   "source": [
    "Para type checking adecuado, podemos ocupar herramientas como *mypy*.\n",
    "\n",
    "Si queremos crear un custom type de un built-in existente es posible con `typing.NewType`, que crea un nuevo type que actúa como el base type, pero puede ser chequeado por *static type checkers*."
   ]
  },
  {
   "cell_type": "code",
   "execution_count": 5,
   "id": "d3a9cf62",
   "metadata": {},
   "outputs": [
    {
     "data": {
      "text/plain": [
       "str"
      ]
     },
     "execution_count": 5,
     "metadata": {},
     "output_type": "execute_result"
    }
   ],
   "source": [
    "import typing\n",
    "\n",
    "Username = typing.NewType('Username', str)\n",
    "\n",
    "rick = Username('Rick')\n",
    "type(rick)"
   ]
  },
  {
   "cell_type": "markdown",
   "id": "69b41ec4",
   "metadata": {},
   "source": [
    "## Type checking\n",
    "La implementación para type checking es mypy. Puede checkear minuciosamente el código y alertar acerca de potenciales problemas.\n",
    "\n",
    "Primero necesitamos instalar mypy, para esto usamos pip:\n",
    "\n",
    "```sh\n",
    "$ pip install -U mypy\n",
    "\n",
    "```"
   ]
  },
  {
   "cell_type": "markdown",
   "id": "ac299339",
   "metadata": {},
   "source": [
    "```python \n",
    "\n",
    "import typing\n",
    "def pow(base: int, exponent: int) -> int:\n",
    "    return base ** exponent\n",
    "\n",
    "pow(2.5, 10)\n",
    "```\n",
    "\n",
    "```sh\n",
    "$ mypy pythonfile.py\n",
    "\n",
    "```\n"
   ]
  },
  {
   "cell_type": "markdown",
   "id": "b60fcd25",
   "metadata": {},
   "source": [
    "## Conclusión type hinting"
   ]
  },
  {
   "cell_type": "markdown",
   "id": "7af5fc3f",
   "metadata": {},
   "source": [
    "El módulo `typing` sigue siendo mejorado y mypy tiene una documentación bastante extensa que puede ser útil si se está aplicando esto al propio código. Asegúrese de mirar la documentación si tiene algún problema en específico; es de alta calidad y muy útil.\n",
    "\n",
    "Una sugerencia es usar type hinting donde sea que mejore el *workflow*. Cuando se tienen clases más avanzadas y uno se tiende a olvidar de los métodos disponibles para esa clase, se convierte en una herramienta muy útil."
   ]
  },
  {
   "cell_type": "markdown",
   "id": "ede742f4",
   "metadata": {},
   "source": [
    "## reStructuredText y Markdown"
   ]
  },
  {
   "cell_type": "markdown",
   "id": "2322c40b",
   "metadata": {},
   "source": [
    "El formato reStructuredText (reST) implementa suficiente Markdown para ser utilizable, pero es lo suficientemente simple para ser leído como texto plano. Estas dos características lo hacen suficientemente legible para usar en el código, y sigue siendo lo suficientemente versátil para generar documentación bonita y útil.\n",
    "\n",
    "El formato Markdown ha ganado mayor popularidad debido a que es un poco más simple y menos *Python-focused*. Ambos standards son excelentes para escribir texto que es legible y puede ser fácilmente convertido en otros formatos como HTML o PDF.\n",
    "\n",
    "Las principales ventajas de reST son:\n",
    "\n",
    "- Un amplio set de features\n",
    "- Un estándar estrictamente definido\n",
    "- Fácilmente extensible\n",
    "\n",
    "Las principales ventajas de Markdown son:\n",
    "- Menos Python-centric\n",
    "- Un parser menos estricto y más indulgente, lo que lo hace más fácil de escribir\n",
    "\n",
    "Para la documentación en Python, reST es el estándar más conveniente dado que está bien soportado por herramientas como `Sphinx` y `docutils`. Para archivos readme en sitios como Github y el *Python package index*, el estándar de Markdown está generalmente mejor soportado.\n",
    "\n",
    "Para convertir fácilmente entre formatos como reST y markdown, use Pandoc.\n",
    "\n",
    "Un archivo simple de reST es:\n",
    "\n",
    "```text\n",
    "Documentation, how to use Sphinx and reStructuredText\n",
    "##################################################################\n",
    "\n",
    "Documenting code can be both fun and useful! ...\n",
    "\n",
    "Additionally, adding ...\n",
    "\n",
    "... So that typing `Spam.eggs.` will automatically ...\n",
    "\n",
    "Topics covered in this chapter are as follows:\n",
    "\n",
    " - The reStructuredText syntax\n",
    " - Setting up documentation using Sphinx\n",
    " - Sphinx style docstrings\n",
    " - Google style docstrings\n",
    " - NumPy style docstrings\n",
    "\n",
    "The reStructuredText syntax\n",
    "******************************************************************\n",
    "\n",
    "The reStructuredText format (also known as ...]\n",
    "```"
   ]
  },
  {
   "cell_type": "markdown",
   "id": "39e8383a",
   "metadata": {},
   "source": [
    "Para el archivo Markdown el archivo se ve similar, solo que debemos modificar ligeramente los headers:"
   ]
  },
  {
   "cell_type": "markdown",
   "id": "23edc66f",
   "metadata": {},
   "source": [
    "```text\n",
    "# Documentation, how to use Sphinx and reStructuredText\n",
    "...\n",
    "## The reStructuredText syntax\n",
    "...\n",
    "```"
   ]
  },
  {
   "cell_type": "markdown",
   "id": "f05dd58b",
   "metadata": {},
   "source": [
    "## Empezando con reStructuredText"
   ]
  },
  {
   "cell_type": "markdown",
   "id": "f5660bf8",
   "metadata": {},
   "source": [
    "Para convertir rápidamente un archivo reST a HTML, podemos utilizar la librería `docutils`. Para esto debemos instalarla\n",
    "\n",
    "```sh\n",
    "$ pip install docutils\n",
    "\n",
    "```\n",
    "\n",
    "Luego de esto podemos convertir fácilmente el archivo reST a PDF, LaTeX, HTML, entre otros formatos. Para convertirlo a HTML utilizamos\n",
    "\n",
    "```sh\n",
    "$ rst2html.py file.rst file.html\n",
    "\n",
    "```\n",
    "\n",
    "El lenguaje reST tiene dos componentes básicas:\n",
    "\n",
    "- Roles que permiten modificaciones *inline* del output, como :code:, :math:, :emphasis:, y :literal: .\n",
    "- Directivas que generan bloques markup, como ejemplos de código con múltiples líneas. Estos se ven como:\n",
    "\n",
    "```text\n",
    ".. code:: python\n",
    "\n",
    "  print('Hello world')\n",
    "```"
   ]
  },
  {
   "cell_type": "markdown",
   "id": "70c9536b",
   "metadata": {},
   "source": [
    "## Empezando con Markdown"
   ]
  },
  {
   "cell_type": "markdown",
   "id": "96f40d56",
   "metadata": {},
   "source": [
    "Para convertir rápidamente un archivo Markdown a HTML, podemos utilizar el paquete `markdown`:\n",
    "\n",
    "```sh\n",
    "$ pip install markdown\n",
    "\n",
    "```\n",
    "\n",
    "Ahora podemos convertir nuestro archivo a HTML con el siguiente comando:\n",
    "\n",
    "```sh\n",
    "$ markdown_py file.md -f file.html\n",
    "```\n",
    "\n",
    "Notar que este convertidor solo soporta Markdown plano, no el de Github, el cual soporta syntax highlighting."
   ]
  },
  {
   "cell_type": "markdown",
   "id": "7c45f62c",
   "metadata": {},
   "source": [
    "## Inline markup\n",
    "\n",
    "Inline markup es el markup utilizado dentro de una línea regultar de texto. Ejemplos de esto son: emphasis, inline code examples, links, imágenes y bullet lists.\n",
    "\n",
    "Una lista completa puede ser encontrada en el home page de reStructuredText y Markdown. (Revisar el libro para ver los usos más comunes).\n",
    "\n",
    "## Headers\n",
    "\n",
    "Los headers son utilizados para indicar el inicio de un documento, section, capítulo o párrafo. Es por tanto la primer estructura que se necesita en el documento. Si bien no es estrictamente necesario, su uso es altamente recomendado dado que sirve para diversos propósitos.\n",
    "\n",
    "- Los headers son consistentemente formateados de acuerdo a su nivel\n",
    "- Una tabla de contenidos puede ser generada de los headers\n",
    "- Todos los headers automáticamente funcionan como labels, lo que significa que se pueden crear links hacia ellos\n",
    "\n",
    "## Headers con reST\n",
    "Cuando se crean headers, consistencia es una de las pocas restricciones; el número de carácteres y niveles es bastante arbitrario.\n",
    "\n",
    "```text\n",
    "Part\n",
    "################################################################\n",
    "Chapter\n",
    "****************************************************************\n",
    "Section\n",
    "================================================================\n",
    "Subsection\n",
    "----------------------------------------------------------------\n",
    "Subsubsection\n",
    "^^^^^^^^^^^^^^^^^^^^^^^^^^^^^^^^^^^^^^^^^^^^^^^^^^^^^^^^^^^^^^^^\n",
    "Paragraph\n",
    "\"\"\"\"\"\"\"\"\"\"\"\"\"\"\"\"\"\"\"\"\"\"\"\"\"\"\"\"\"\"\"\"\"\"\"\"\"\"\"\"\"\"\"\"\"\"\"\"\"\"\"\"\"\"\"\"\"\"\"\"\"\"\"\"\n",
    "Content\n",
    "```\n",
    "\n",
    "Este es el uso más comun de los headers, pero la idea principal de reST es que puedes ocupar lo que sea que te sienta más natural.\n",
    "\n",
    "## Headers con Markdown\n",
    "\n",
    "```text\n",
    "# Part\n",
    "## Chapter\n",
    "### Section\n",
    "#### Subsection\n",
    "##### Subsubsection\n",
    "###### Paragraph\n",
    "Content\n",
    "###### Paragraph with suffix ######\n",
    "Content\n",
    "```\n",
    "\n",
    "## Listas\n",
    "El formato reST tiene distintos estilos de listas\n",
    "- Enumerado\n",
    "- Bulleted\n",
    "- Options\n",
    "- Definiciones\n",
    "\n",
    "### Listas enumeradas\n",
    "Las listas enumeradas son convenientes para todo tipo de enumeraciones. La premisa básica para las listas enumeradas es un caracter alfanumérico seguido de un *period*, un paréntesis a la derecha, o paréntesis en ambos lados. El caracter # funciona como enumeración automática\n",
    "\n",
    "```text\n",
    "1. With\n",
    "2. Numbers\n",
    "a. With\n",
    "#. letters\n",
    "i. Roman\n",
    "#. numerals\n",
    "(1) With\n",
    "(2) Parenthesis\n",
    "```\n",
    "\n",
    "Markdown solo soporta listas enumeradas normalmente.\n",
    "\n",
    "### Bulleted lists\n",
    "Algunos ejemplos son\n",
    "\n",
    "```text\n",
    "- dashes\n",
    "- and more dashes\n",
    "* asterisk\n",
    "* stars\n",
    "+ plus\n",
    "+ and plus\n",
    "```\n",
    "\n",
    "### Option lists\n",
    "La *option list* está pensada específicamente para documentar los argumentos *command-line* de un programa\n",
    "\n",
    "```text\n",
    "-s, --spam This is the spam option\n",
    "--eggs This is the eggs option\n",
    "```\n",
    "\n",
    "En Markdown no hay soporte para listas, pero se pueden lograr resultados similares creando una tabla\n",
    "\n",
    "```text\n",
    "| Argument     | Help                    |\n",
    "|--------------|-------------------------|\n",
    "| '-s, --spam' | This is the spam option |\n",
    "| '--eggs'     | This is the eggs option |\n",
    "```\n",
    "\n",
    "### Definition lists (reST only)\n",
    "La estructura consiste solo de whitespaces\n",
    "\n",
    "```text\n",
    "spam\n",
    "    Spam is a canned pork meat product\n",
    "eggs\n",
    "    Is, similar to spam, also food\n",
    "```\n",
    "La definition list es especialmente útil para explicar el significado de ciertos keywords en la documentación\n",
    "\n",
    "## Links, referencias y labels\n",
    "El syntax para los links es distinto entre Markdown y reST\n",
    "\n",
    "```text\n",
    "• reStructuredText: 'Python <http://python.org>'_\n",
    "• Markdown: [Python](http://python.org)\n",
    "\n",
    "```\n",
    "Ambos son links bastante simples que no se van a repetir muy a menudo, generalmente, es más conveniente *attach labels* a links así pueden ser reutilizados.\n",
    "\n",
    "Compare los siguientes dos ejemplos para reST\n",
    "```text\n",
    "The switch to reStructuredText and Sphinx was made with the\n",
    "`Python 2.6 <https://docs.python.org/whatsnew/2.6.html>`_\n",
    "release.\n",
    "\n",
    "------------------------------------------------------------------------------\n",
    "\n",
    "The switch to reStructuredText and Sphinx was made with the \n",
    "`python 2.6`_ release.\n",
    "\n",
    ".. _`Python 2.6`: https://docs.python.org/whatsnew/2.6.html\n",
    "```\n",
    "y el equivalente en Markdown\n",
    "\n",
    "```text\n",
    "The switch to reStructuredText and Sphinx was made with the [Python 2.6]\n",
    "(https://docs.python.org/whatsnew/2.6.html) release.\n",
    "\n",
    "The switch to reStructuredText and Sphinx was made with the [Python 2.6]\n",
    "release.\n",
    "\n",
    "[Python 2.6]: https://docs.python.org/whatsnew/2.6.html\n",
    "```\n",
    "Usando labels, fácilmente se puede tener una lista de referencias en un lugar designado sin hacer el texto más difícil de leer.\n",
    "\n",
    "En reST se pueden crear labels y referirse a ellos desde otras partes\n",
    "\n",
    "```text\n",
    ".. _label:\n",
    "```\n",
    "Crear un link clickeable a un label es tan simple como tener label_ en el texto.\n",
    "\n",
    "El uso de referencias en conjunto con los headers funcionan de forma muy natural; se puede referir a ellos como normalmente se haría y añadir un underscore para hacerlo un link\n",
    "\n",
    "```text\n",
    "The introduction section\n",
    "================================================================\n",
    "\n",
    "This section contains:\n",
    "\n",
    "- `chapter 1`_\n",
    "- :ref:`chapter2`\n",
    "\n",
    "  1. my_label_\n",
    "\n",
    "  2. `And a label link with a custom title <my_label>`_\n",
    "\n",
    "Chapter 1\n",
    "----------------------------------------------------------------\n",
    "\n",
    "Jumping back to the beginning of `chapter 1`_ is also possible.\n",
    "Or jumping to :ref:`Chapter 2 <chapter2>`\n",
    "\n",
    ".. _chapter2:\n",
    "\n",
    "Chapter 2 With a longer title\n",
    "----------------------------------------------------------------\n",
    " \n",
    "The next chapter.\n",
    "\n",
    ".. _my_label:\n",
    "\n",
    "The label points here.\n",
    "\n",
    "Back to `the introduction section`_\n",
    "```\n",
    "\n",
    "## Imágenes\n",
    "### Imágenes con reST\n",
    "\n",
    "Las directivas empiezan con dos *periods* seguidos de un espacio, el nombre de la directiva y dos *colons*:\n",
    "\n",
    "```text\n",
    ".. name_of_directive::\n",
    "```\n",
    "En el caso de una imagen, es\n",
    "```text\n",
    ".. image:: python.png\n",
    "```\n",
    "\n",
    "La directiva de imagen tiene otras opciones que pueden ser utilizadas. Por ejemplo, para especificar width y height en la imagen\n",
    "\n",
    "```text\n",
    ".. image:: python.png\n",
    "    :width: 150\n",
    "    :height: 100\n",
    "\n",
    ".. image:: python.png\n",
    "    :scale: 10\n",
    "```\n",
    "\n",
    "Para añadir un caption a la imagen:\n",
    "\n",
    "```text\n",
    ".. figure:: python.png\n",
    "    :scale: 10\n",
    "    \n",
    "    The Python logo\n",
    "```\n",
    "\n",
    "### Imágenes con Markdown\n",
    "\n",
    "```text\n",
    "![python](python.png)\n",
    "```\n",
    "\n",
    "También se pueden usar referencias\n",
    "\n",
    "```text\n",
    "![python]\n",
    "\n",
    "[python]: python.png\n",
    "```\n",
    "Cambiar el tamaño no está soportado por la mayoría de las implementaciones de Markdown.\n",
    "\n",
    "## Sustituciones"
   ]
  },
  {
   "cell_type": "markdown",
   "id": "3377a00e",
   "metadata": {},
   "source": [
    "## Bloques, código, math, comments y quotes"
   ]
  },
  {
   "cell_type": "markdown",
   "id": "9a264308",
   "metadata": {},
   "source": [
    "## El generador de documentación Sphinx\n",
    "\n",
    "Es un generador que hace casi trivial el generar documentación para proyectos de programación. La ventaja más importante de Sphinx es que casi todo puede ser generado automáticamente del source code. El resultado es que la documentación está siempre al día.\n",
    "\n",
    "## Empezando con Sphinx\n",
    "Para instalar\n",
    "\n",
    "```sh\n",
    "$ pip install sphinx\n",
    "\n",
    "```\n",
    "\n",
    "Luego de instalar Sphinx, hay dos maneras de empezar un proyecto, con el script `sphinx-quickstart` o `sphinx-apidoc`\n",
    "\n",
    "Si se quiere crear y customizar completamente un proyecto de Sphinx, el autor recomienda el comando `sphinx-quickstart`, dado que te asiste en la configuración de un proyecto completo de Sphinx.\n",
    "\n",
    "Si quiere empezar rápido y generar documentación API para un proyecto existente de Python, puede que sea mejor utilizar `sphinx-apidoc` dado que toma un solo comando y no input adicional. Luego de correrlo, va a tener una documentación completamente funcional basado en su código de Python.\n",
    "\n",
    "El comando `sphinx-apidoc` no sobreescribe ningún archivo por defecto, haciéndolo una operación segura de ejecutar de forma repetida."
   ]
  },
  {
   "cell_type": "markdown",
   "id": "730c1594",
   "metadata": {},
   "source": [
    "## Usando sphinx-quickstart\n",
    "Este script te pregunta de forma interactiva acerca de las decisiones más importantes de tú proyecto de Sphinx.\n",
    "\n",
    "Por defecto se recomienda crear la documentación en un directorio separado llamado docs, dado que es la convención para muchos proyectos\n",
    "\n",
    "```sh\n",
    "$ sphinx-quickstart docs\n",
    "```\n",
    "\n",
    "Ahora debería *populate* su master file, `docs/index.rst` y crear documentación para otros source files. use Makefile para construir los docs\n",
    "\n",
    "```sh\n",
    "$ make <builder>\n",
    "```\n",
    "Donde <builder>, es uno de los builders soportados, por ejemplo, html, latex o linkcheck. Luego de correr esto, deberíamos tener un directorio docs que contiene el proyecto Sphinx.\n",
    "    \n",
    "Los directorios _build, _static y _templates están inicialmente vacíos. El directorio _build es utilizado para el output de la documentación generada, mientras que _static puede ser utilizado para incluir fácilmente archivos CSS personalizados. El directorio _template hace posible *stylear* el output de HTML como a usted le guste."
   ]
  },
  {
   "cell_type": "markdown",
   "id": "ce7b0d83",
   "metadata": {},
   "source": []
  }
 ],
 "metadata": {
  "kernelspec": {
   "display_name": "Python 3 (ipykernel)",
   "language": "python",
   "name": "python3"
  },
  "language_info": {
   "codemirror_mode": {
    "name": "ipython",
    "version": 3
   },
   "file_extension": ".py",
   "mimetype": "text/x-python",
   "name": "python",
   "nbconvert_exporter": "python",
   "pygments_lexer": "ipython3",
   "version": "3.9.10"
  }
 },
 "nbformat": 4,
 "nbformat_minor": 5
}
