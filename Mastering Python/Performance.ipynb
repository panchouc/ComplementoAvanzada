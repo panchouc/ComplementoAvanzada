{
 "cells": [
  {
   "cell_type": "markdown",
   "id": "eff1344c",
   "metadata": {},
   "source": [
    "# Performance\n"
   ]
  },
  {
   "cell_type": "markdown",
   "id": "d2fa6a1c",
   "metadata": {},
   "source": [
    "## Tabla de contenidos\n",
    "***\n",
    "\n",
    "\n",
    "\n",
    "\n",
    "***"
   ]
  },
  {
   "cell_type": "markdown",
   "id": "78538eab",
   "metadata": {},
   "source": [
    "Si logras elegir las estructuras de datos correctas, con los algoritmos correctos, performance no debería ser algo por lo que preocuparse. Lo cual no significa que debas ignorar el performance completamente.\n",
    "\n",
    "## ¿Qué es performance?\n",
    "A lo largo de este notebook, se intentará medir y mejorar el performance en términos de uso de uso/tiempo de CPU y uso de memoria.\n",
    "\n",
    "Notar que un algoritmo rápido usando un core de una sola CPU puede ser outperformed en términos de ejecución por un algoritmo más lento que es fácilmente paralelizable dados suficientes cores de CPU."
   ]
  },
  {
   "cell_type": "markdown",
   "id": "1ac71a33",
   "metadata": {},
   "source": [
    "## Midiendo el performance de la CPU y tiempo de ejecución"
   ]
  },
  {
   "cell_type": "markdown",
   "id": "4fb09225",
   "metadata": {},
   "source": [
    "Cuando se habla de performance de la CPU, se puede medir\n",
    "- \"Wall time\" (el tiempo absoluto en el reloj)\n",
    "- Tiempo relativo (cuando se comparan múltiples ejecuciones o múltiples funciones)\n",
    "- Tiempo de CPU usado.\n",
    "- Inspeccionado ciclos de CPU y contadores de loops\n",
    "Dependiendo de como se esté midiendo el performance, el impacto puede ser gigantesco."
   ]
  },
  {
   "cell_type": "markdown",
   "id": "5cbcdecc",
   "metadata": {},
   "source": [
    "## Timeit - comparando el rendimiento de fracciones de código\n",
    "Antes de empezar a mejorar la ejecución de la CPU, se debe contar con un método confiable para medir. Python tiene un módulo llamado `timeit` con el propósito específico de medir el tiempo de ejecución de bits de código. Ejecuta un bit de código muchas veces para asegurar que existe la menor variación posible. Es muy útil si se quiere comparar fragmentos de código."
   ]
  },
  {
   "cell_type": "code",
   "execution_count": 5,
   "id": "1f8d410c",
   "metadata": {},
   "outputs": [
    {
     "name": "stdout",
     "output_type": "stream",
     "text": [
      "20 loops, best of 5: 15 msec per loop\n"
     ]
    }
   ],
   "source": [
    "!python -m timeit x=[]; [x.insert(0, i) for i in range(10000)]"
   ]
  },
  {
   "cell_type": "code",
   "execution_count": 6,
   "id": "8d15259b",
   "metadata": {},
   "outputs": [
    {
     "name": "stdout",
     "output_type": "stream",
     "text": [
      "500 loops, best of 5: 461 usec per loop\n"
     ]
    }
   ],
   "source": [
    "!python -m timeit x=[]; [x.append(i) for i in range(10000)]"
   ]
  },
  {
   "cell_type": "code",
   "execution_count": 7,
   "id": "37de0ca5",
   "metadata": {},
   "outputs": [
    {
     "name": "stdout",
     "output_type": "stream",
     "text": [
      "500 loops, best of 5: 219 usec per loop\n"
     ]
    }
   ],
   "source": [
    "!python -m timeit x=[i for i in range(10000)]"
   ]
  },
  {
   "cell_type": "markdown",
   "id": "bdd44a4e",
   "metadata": {},
   "source": [
    "Lo anterior también se puede implementar como un script"
   ]
  },
  {
   "cell_type": "code",
   "execution_count": 10,
   "id": "7704ee63",
   "metadata": {},
   "outputs": [
    {
     "name": "stdout",
     "output_type": "stream",
     "text": [
      "100 loops, best of 10:  0.000092s :: test_list\n",
      "100 loops, best of 10:  0.000221s :: test_list_comprehension\n",
      "100 loops, best of 10:  0.000426s :: test_append\n",
      "100 loops, best of 10:  0.015036s :: test_insert\n"
     ]
    }
   ],
   "source": [
    "import timeit\n",
    "\n",
    "def test_list():\n",
    "    return(list(range(10000)))\n",
    "\n",
    "def test_list_comprehension():\n",
    "    return [i for i in range(10000)]\n",
    "\n",
    "def test_append():\n",
    "    x = []\n",
    "    for i in range(10000):\n",
    "        x.append(i)\n",
    "        \n",
    "    return x\n",
    "\n",
    "def test_insert():\n",
    "    x = []\n",
    "    for i in range(10000):\n",
    "        x.insert(0, i)\n",
    "        \n",
    "    return x\n",
    "\n",
    "\n",
    "def benchmark(function, number = 100, repeat= 10):\n",
    "    times = timeit.repeat(function, number=number, globals=globals())\n",
    "    \n",
    "    time = min(times) / number\n",
    "    print(f\"{number} loops, best of {repeat}: {time:9.6f}s :: {function.__name__}\")\n",
    "    \n",
    "if __name__ == \"__main__\":\n",
    "    benchmark(test_list)\n",
    "    benchmark(test_list_comprehension)\n",
    "    benchmark(test_append)\n",
    "    benchmark(test_insert)"
   ]
  },
  {
   "cell_type": "markdown",
   "id": "cebe3141",
   "metadata": {},
   "source": [
    "## cProfile - Encontrando los componentes más lentos"
   ]
  },
  {
   "cell_type": "code",
   "execution_count": null,
   "id": "7b10a22c",
   "metadata": {},
   "outputs": [],
   "source": []
  }
 ],
 "metadata": {
  "kernelspec": {
   "display_name": "Python 3 (ipykernel)",
   "language": "python",
   "name": "python3"
  },
  "language_info": {
   "codemirror_mode": {
    "name": "ipython",
    "version": 3
   },
   "file_extension": ".py",
   "mimetype": "text/x-python",
   "name": "python",
   "nbconvert_exporter": "python",
   "pygments_lexer": "ipython3",
   "version": "3.9.10"
  }
 },
 "nbformat": 4,
 "nbformat_minor": 5
}
